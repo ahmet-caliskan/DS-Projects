{
 "cells": [
  {
   "cell_type": "code",
   "execution_count": 1,
   "metadata": {},
   "outputs": [],
   "source": [
    "import numpy as np\n",
    "import pandas as pd\n",
    "import matplotlib.pyplot as plt\n",
    "import re"
   ]
  },
  {
   "cell_type": "code",
   "execution_count": 2,
   "metadata": {},
   "outputs": [],
   "source": [
    "pd.options.mode.chained_assignment = None"
   ]
  },
  {
   "cell_type": "code",
   "execution_count": 3,
   "metadata": {},
   "outputs": [],
   "source": [
    "df = pd.read_json(\"scout_car.json\", lines = True)"
   ]
  },
  {
   "cell_type": "code",
   "execution_count": 4,
   "metadata": {},
   "outputs": [],
   "source": [
    "pd.set_option('display.max_columns', 500)\n",
    "pd.set_option('display.max_colwidth', 500)\n",
    "pd.set_option('display.max_info_columns', 500)\n",
    "pd.set_option('display.max_info_rows', 500)\n",
    "pd.set_option('display.expand_frame_repr', True)\n",
    "pd.set_option('display.width', 2000)"
   ]
  },
  {
   "cell_type": "code",
   "execution_count": 5,
   "metadata": {
    "scrolled": true
   },
   "outputs": [
    {
     "name": "stdout",
     "output_type": "stream",
     "text": [
      "<class 'pandas.core.frame.DataFrame'>\n",
      "RangeIndex: 15919 entries, 0 to 15918\n",
      "Data columns (total 54 columns):\n",
      " #   Column                         Dtype  \n",
      "---  ------                         -----  \n",
      " 0   url                            object \n",
      " 1   make_model                     object \n",
      " 2   short_description              object \n",
      " 3   body_type                      object \n",
      " 4   price                          int64  \n",
      " 5   vat                            object \n",
      " 6   km                             object \n",
      " 7   registration                   object \n",
      " 8   prev_owner                     object \n",
      " 9   kW                             float64\n",
      " 10  hp                             object \n",
      " 11  Type                           object \n",
      " 12  Previous Owners                object \n",
      " 13  Next Inspection                object \n",
      " 14  Inspection new                 object \n",
      " 15  Warranty                       object \n",
      " 16  Full Service                   object \n",
      " 17  Non-smoking Vehicle            object \n",
      " 18  null                           object \n",
      " 19  Make                           object \n",
      " 20  Model                          object \n",
      " 21  Offer Number                   object \n",
      " 22  First Registration             object \n",
      " 23  Body Color                     object \n",
      " 24  Paint Type                     object \n",
      " 25  Body Color Original            object \n",
      " 26  Upholstery                     object \n",
      " 27  Body                           object \n",
      " 28  Nr. of Doors                   object \n",
      " 29  Nr. of Seats                   object \n",
      " 30  Model Code                     object \n",
      " 31  Gearing Type                   object \n",
      " 32  Displacement                   object \n",
      " 33  Cylinders                      object \n",
      " 34  Weight                         object \n",
      " 35  Drive chain                    object \n",
      " 36  Fuel                           object \n",
      " 37  Consumption                    object \n",
      " 38  CO2 Emission                   object \n",
      " 39  Emission Class                 object \n",
      " 40  \n",
      "Comfort & Convenience\n",
      "        object \n",
      " 41  \n",
      "Entertainment & Media\n",
      "        object \n",
      " 42  \n",
      "Extras\n",
      "                       object \n",
      " 43  \n",
      "Safety & Security\n",
      "            object \n",
      " 44  description                    object \n",
      " 45  Emission Label                 object \n",
      " 46  Gears                          object \n",
      " 47  Country version                object \n",
      " 48  Electricity consumption        object \n",
      " 49  Last Service Date              object \n",
      " 50  Other Fuel Types               object \n",
      " 51  Availability                   object \n",
      " 52  Last Timing Belt Service Date  object \n",
      " 53  Available from                 object \n",
      "dtypes: float64(1), int64(1), object(52)\n",
      "memory usage: 6.6+ MB\n"
     ]
    }
   ],
   "source": [
    "df.info()"
   ]
  },
  {
   "cell_type": "code",
   "execution_count": 6,
   "metadata": {
    "scrolled": true
   },
   "outputs": [
    {
     "data": {
      "text/plain": [
       "url                                0.000000\n",
       "make_model                         0.000000\n",
       "short_description                  0.288963\n",
       "body_type                          0.376908\n",
       "price                              0.000000\n",
       "vat                               28.349771\n",
       "km                                 0.000000\n",
       "registration                       0.000000\n",
       "prev_owner                        42.892141\n",
       "kW                               100.000000\n",
       "hp                                 0.000000\n",
       "Type                               0.012564\n",
       "Previous Owners                   41.711163\n",
       "Next Inspection                   77.793831\n",
       "Inspection new                    75.299956\n",
       "Warranty                          34.047365\n",
       "Full Service                      48.395000\n",
       "Non-smoking Vehicle               54.915510\n",
       "null                               0.000000\n",
       "Make                               0.000000\n",
       "Model                              0.000000\n",
       "Offer Number                      19.944720\n",
       "First Registration                10.032037\n",
       "Body Color                         3.750236\n",
       "Paint Type                        36.258559\n",
       "Body Color Original               23.613292\n",
       "Upholstery                        23.368302\n",
       "Body                               0.376908\n",
       "Nr. of Doors                       1.331742\n",
       "Nr. of Seats                       6.137320\n",
       "Model Code                        68.729192\n",
       "Gearing Type                       0.000000\n",
       "Displacement                       3.115774\n",
       "Cylinders                         35.680633\n",
       "Weight                            43.809285\n",
       "Drive chain                       43.080596\n",
       "Fuel                               0.000000\n",
       "Consumption                       11.973114\n",
       "CO2 Emission                      11.357497\n",
       "Emission Class                    18.977323\n",
       "\\nComfort & Convenience\\n          5.779257\n",
       "\\nEntertainment & Media\\n          8.631195\n",
       "\\nExtras\\n                        18.606696\n",
       "\\nSafety & Security\\n              6.168729\n",
       "description                        0.000000\n",
       "Emission Label                    74.967021\n",
       "Gears                             29.599849\n",
       "Country version                   52.346253\n",
       "Electricity consumption           99.139393\n",
       "Last Service Date                 96.444500\n",
       "Other Fuel Types                  94.472015\n",
       "Availability                      96.011056\n",
       "Last Timing Belt Service Date     99.899491\n",
       "Available from                    98.291350\n",
       "dtype: float64"
      ]
     },
     "execution_count": 6,
     "metadata": {},
     "output_type": "execute_result"
    }
   ],
   "source": [
    "missing_vals = (df.isnull().sum()/df.shape[0])*100\n",
    "missing_vals"
   ]
  },
  {
   "cell_type": "code",
   "execution_count": 7,
   "metadata": {},
   "outputs": [],
   "source": [
    "def show_nan(dataframe, limit):\n",
    "    miss = (df.isnull().sum()/df.shape[0])*100\n",
    "    return miss[miss>limit]"
   ]
  },
  {
   "cell_type": "code",
   "execution_count": 8,
   "metadata": {},
   "outputs": [
    {
     "data": {
      "text/plain": [
       "prev_owner                        42.892141\n",
       "kW                               100.000000\n",
       "Previous Owners                   41.711163\n",
       "Next Inspection                   77.793831\n",
       "Inspection new                    75.299956\n",
       "Full Service                      48.395000\n",
       "Non-smoking Vehicle               54.915510\n",
       "Paint Type                        36.258559\n",
       "Model Code                        68.729192\n",
       "Cylinders                         35.680633\n",
       "Weight                            43.809285\n",
       "Drive chain                       43.080596\n",
       "Emission Label                    74.967021\n",
       "Country version                   52.346253\n",
       "Electricity consumption           99.139393\n",
       "Last Service Date                 96.444500\n",
       "Other Fuel Types                  94.472015\n",
       "Availability                      96.011056\n",
       "Last Timing Belt Service Date     99.899491\n",
       "Available from                    98.291350\n",
       "dtype: float64"
      ]
     },
     "execution_count": 8,
     "metadata": {},
     "output_type": "execute_result"
    }
   ],
   "source": [
    "show_nan(df, 35)"
   ]
  },
  {
   "cell_type": "code",
   "execution_count": 9,
   "metadata": {},
   "outputs": [
    {
     "data": {
      "text/plain": [
       "Index(['url', 'make_model', 'short_description', 'body_type', 'price', 'vat', 'km', 'registration', 'prev_owner', 'kW', 'hp', 'Type', 'Previous Owners', 'Next Inspection', 'Inspection new', 'Warranty', 'Full Service', 'Non-smoking Vehicle', 'null', 'Make', 'Model', 'Offer Number', 'First Registration', 'Body Color', 'Paint Type', 'Body Color Original', 'Upholstery', 'Body', 'Nr. of Doors', 'Nr. of Seats', 'Model Code', 'Gearing Type', 'Displacement', 'Cylinders', 'Weight', 'Drive chain', 'Fuel', 'Consumption', 'CO2 Emission', 'Emission Class', '\\nComfort & Convenience\\n', '\\nEntertainment & Media\\n', '\\nExtras\\n', '\\nSafety & Security\\n', 'description', 'Emission Label', 'Gears', 'Country version', 'Electricity consumption', 'Last Service Date', 'Other Fuel Types', 'Availability', 'Last Timing Belt Service Date', 'Available from'], dtype='object')"
      ]
     },
     "execution_count": 9,
     "metadata": {},
     "output_type": "execute_result"
    }
   ],
   "source": [
    "df.columns"
   ]
  },
  {
   "cell_type": "code",
   "execution_count": 10,
   "metadata": {},
   "outputs": [],
   "source": [
    "col_nm = ['url',\n",
    " 'make_model',\n",
    " 'short_description',\n",
    " 'body_type',\n",
    " 'price',\n",
    " 'vat',\n",
    " 'km',\n",
    " 'registration',\n",
    " 'prev_owner',\n",
    " 'kw',\n",
    " 'hp',\n",
    " 'type',\n",
    " 'previous_owners',\n",
    " 'next_inspection',\n",
    " 'inspection_new',\n",
    " 'warranty',\n",
    " 'full_service',\n",
    " 'non-smoking_vehicle',\n",
    " 'null',\n",
    " 'make',\n",
    " 'model',\n",
    " 'offer_number',\n",
    " 'first_registration',\n",
    " 'body_color',\n",
    " 'paint_type',\n",
    " 'body_color_original',\n",
    " 'upholstery',\n",
    " 'body',\n",
    " 'nr_of_doors',\n",
    " 'nr_of_seats',\n",
    " 'model_code',\n",
    " 'gearing_type',\n",
    " 'displacement',\n",
    " 'cylinders',\n",
    " 'weight',\n",
    " 'drive_chain',\n",
    " 'fuel',\n",
    " 'consumption',\n",
    " 'co2_emission',\n",
    " 'emission_class',\n",
    " 'comfort&convenience',\n",
    " 'entertainment&media',\n",
    " 'extras',\n",
    " 'safety&security',\n",
    " 'description',\n",
    " 'emission_label',\n",
    " 'gears',\n",
    " 'country_version',\n",
    " 'electricity_consumption',\n",
    " 'last_service_date',\n",
    " 'other_fuel_types',\n",
    " 'availability',\n",
    " 'last_timing_belt_service_date',\n",
    " 'available_from']"
   ]
  },
  {
   "cell_type": "code",
   "execution_count": 11,
   "metadata": {},
   "outputs": [
    {
     "data": {
      "text/plain": [
       "54"
      ]
     },
     "execution_count": 11,
     "metadata": {},
     "output_type": "execute_result"
    }
   ],
   "source": [
    "len(list(df.columns))"
   ]
  },
  {
   "cell_type": "code",
   "execution_count": 12,
   "metadata": {},
   "outputs": [],
   "source": [
    "df.set_axis(col_nm, axis = 1, inplace = True)"
   ]
  },
  {
   "cell_type": "code",
   "execution_count": 13,
   "metadata": {},
   "outputs": [
    {
     "data": {
      "text/plain": [
       "Index(['url', 'make_model', 'short_description', 'body_type', 'price', 'vat', 'km', 'registration', 'prev_owner', 'kw', 'hp', 'type', 'previous_owners', 'next_inspection', 'inspection_new', 'warranty', 'full_service', 'non-smoking_vehicle', 'null', 'make', 'model', 'offer_number', 'first_registration', 'body_color', 'paint_type', 'body_color_original', 'upholstery', 'body', 'nr_of_doors', 'nr_of_seats', 'model_code', 'gearing_type', 'displacement', 'cylinders', 'weight', 'drive_chain', 'fuel', 'consumption', 'co2_emission', 'emission_class', 'comfort&convenience', 'entertainment&media', 'extras', 'safety&security', 'description', 'emission_label', 'gears', 'country_version', 'electricity_consumption', 'last_service_date', 'other_fuel_types', 'availability', 'last_timing_belt_service_date', 'available_from'], dtype='object')"
      ]
     },
     "execution_count": 13,
     "metadata": {},
     "output_type": "execute_result"
    }
   ],
   "source": [
    "df.columns"
   ]
  },
  {
   "cell_type": "code",
   "execution_count": 14,
   "metadata": {},
   "outputs": [],
   "source": [
    "drop_cols = ['availability', 'available_from', 'electricity_consumption', 'last_service_date', \n",
    "             'last_timing_belt_service_date', 'other_fuel_types', 'kw']"
   ]
  },
  {
   "cell_type": "code",
   "execution_count": 15,
   "metadata": {},
   "outputs": [],
   "source": [
    "df.drop(drop_cols, axis = 1, inplace = True)"
   ]
  },
  {
   "cell_type": "code",
   "execution_count": 16,
   "metadata": {
    "scrolled": true
   },
   "outputs": [],
   "source": [
    "def fill_most(df, group_col, col_name):\n",
    "    for group in list(df[group_col].unique()):\n",
    "        grp_inx = list(df[df[group_col] == group][col_name].index)\n",
    "        df[col_name].iloc[grp_inx] = df[col_name].iloc[grp_inx].fillna(df[df[group_col] == group][col_name].mode()[0])"
   ]
  },
  {
   "cell_type": "code",
   "execution_count": 17,
   "metadata": {},
   "outputs": [],
   "source": [
    "def list_extractor(lst):\n",
    "    return ','.join([i.strip() if type(lst)==list else i.strip() for i in lst])"
   ]
  },
  {
   "cell_type": "code",
   "execution_count": 18,
   "metadata": {},
   "outputs": [],
   "source": [
    "pd.pandas.set_option('display.max_columns', None)"
   ]
  },
  {
   "cell_type": "code",
   "execution_count": 19,
   "metadata": {},
   "outputs": [],
   "source": [
    "df.drop(\"url\", axis = 1, inplace = True)"
   ]
  },
  {
   "cell_type": "code",
   "execution_count": 20,
   "metadata": {},
   "outputs": [],
   "source": [
    "def name_splitter(name):\n",
    "    return name.split()[0] if len(name.split())>1 else name"
   ]
  },
  {
   "cell_type": "code",
   "execution_count": 21,
   "metadata": {},
   "outputs": [],
   "source": [
    "df[\"make\"] = df[\"make_model\"].apply(name_splitter)"
   ]
  },
  {
   "cell_type": "code",
   "execution_count": 22,
   "metadata": {
    "scrolled": false
   },
   "outputs": [],
   "source": [
    "df.drop(\"null\", axis = 1, inplace = True)"
   ]
  },
  {
   "cell_type": "code",
   "execution_count": 23,
   "metadata": {},
   "outputs": [],
   "source": [
    "def model_extractor(model_list):\n",
    "    try:\n",
    "        return model_list[1]\n",
    "    except TypeError:\n",
    "        return model_list"
   ]
  },
  {
   "cell_type": "code",
   "execution_count": 24,
   "metadata": {},
   "outputs": [],
   "source": [
    "df[\"model\"] = df[\"model\"].apply(model_extractor)"
   ]
  },
  {
   "cell_type": "code",
   "execution_count": 25,
   "metadata": {},
   "outputs": [],
   "source": [
    "df[\"body_color\"] = df[\"body_color\"].apply(model_extractor)"
   ]
  },
  {
   "cell_type": "code",
   "execution_count": 26,
   "metadata": {
    "scrolled": false
   },
   "outputs": [
    {
     "ename": "TypeError",
     "evalue": "unhashable type: 'list'",
     "output_type": "error",
     "traceback": [
      "\u001b[1;31m---------------------------------------------------------------------------\u001b[0m",
      "\u001b[1;31mTypeError\u001b[0m                                 Traceback (most recent call last)",
      "\u001b[1;32mpandas\\_libs\\hashtable_class_helper.pxi\u001b[0m in \u001b[0;36mpandas._libs.hashtable.PyObjectHashTable.map_locations\u001b[1;34m()\u001b[0m\n",
      "\u001b[1;31mTypeError\u001b[0m: unhashable type: 'list'"
     ]
    },
    {
     "name": "stderr",
     "output_type": "stream",
     "text": [
      "Exception ignored in: 'pandas._libs.index.IndexEngine._call_map_locations'\n",
      "Traceback (most recent call last):\n",
      "  File \"pandas\\_libs\\hashtable_class_helper.pxi\", line 1709, in pandas._libs.hashtable.PyObjectHashTable.map_locations\n",
      "TypeError: unhashable type: 'list'\n"
     ]
    },
    {
     "data": {
      "text/plain": [
       "\\n1\\n                                                                                        8101\n",
       "NaN                                                                                          6640\n",
       "\\n2\\n                                                                                         766\n",
       "\\n0\\n                                                                                         163\n",
       "\\n3\\n                                                                                          17\n",
       "                                                                                             ... \n",
       "[\\n1\\n, \\n96 g CO2/km (comb)\\n]                                                                 1\n",
       "[\\n1\\n, \\n181 g CO2/km (comb)\\n]                                                                1\n",
       "[\\n1\\n, \\n, 6.6 l/100 km (comb), \\n, 8.2 l/100 km (city), \\n, 5.6 l/100 km (country), \\n]       1\n",
       "[\\n1\\n, \\n, 6.7 l/100 km (comb), \\n, 8.6 l/100 km (city), \\n, 5.6 l/100 km (country), \\n]       1\n",
       "[\\n1\\n, \\n102 g CO2/km (comb)\\n]                                                                1\n",
       "Name: previous_owners, Length: 103, dtype: int64"
      ]
     },
     "execution_count": 26,
     "metadata": {},
     "output_type": "execute_result"
    }
   ],
   "source": [
    "df.previous_owners.value_counts(dropna = False)"
   ]
  },
  {
   "cell_type": "code",
   "execution_count": 27,
   "metadata": {},
   "outputs": [],
   "source": [
    "def prev_ext(item):\n",
    "    return item[0].strip(\"\\n\") if type(item) == list else item[1]"
   ]
  },
  {
   "cell_type": "code",
   "execution_count": 28,
   "metadata": {},
   "outputs": [
    {
     "data": {
      "text/plain": [
       "1 previous owner     8294\n",
       "NaN                  6828\n",
       "2 previous owners     778\n",
       "3 previous owners      17\n",
       "4 previous owners       2\n",
       "Name: prev_owner, dtype: int64"
      ]
     },
     "execution_count": 28,
     "metadata": {},
     "output_type": "execute_result"
    }
   ],
   "source": [
    "df.prev_owner.value_counts(dropna = False)"
   ]
  },
  {
   "cell_type": "code",
   "execution_count": 29,
   "metadata": {},
   "outputs": [],
   "source": [
    "def owner_extractor(data):\n",
    "    return data[0][1] if type(data) == list else data[1]"
   ]
  },
  {
   "cell_type": "code",
   "execution_count": 30,
   "metadata": {},
   "outputs": [],
   "source": [
    "df[\"previous_owners\"] = df.previous_owners[df.previous_owners.notnull()].apply(owner_extractor)"
   ]
  },
  {
   "cell_type": "code",
   "execution_count": 31,
   "metadata": {},
   "outputs": [
    {
     "data": {
      "text/plain": [
       "1      8294\n",
       "NaN    6640\n",
       "2       778\n",
       "0       188\n",
       "3        17\n",
       "4         2\n",
       "Name: previous_owners, dtype: int64"
      ]
     },
     "execution_count": 31,
     "metadata": {},
     "output_type": "execute_result"
    }
   ],
   "source": [
    "df.previous_owners.value_counts(dropna = False)"
   ]
  },
  {
   "cell_type": "code",
   "execution_count": 32,
   "metadata": {},
   "outputs": [],
   "source": [
    "df[\"previous_owners\"] = df[\"previous_owners\"].astype('float')"
   ]
  },
  {
   "cell_type": "code",
   "execution_count": 33,
   "metadata": {},
   "outputs": [
    {
     "data": {
      "text/plain": [
       "1.0    8294\n",
       "NaN    6640\n",
       "2.0     778\n",
       "0.0     188\n",
       "3.0      17\n",
       "4.0       2\n",
       "Name: previous_owners, dtype: int64"
      ]
     },
     "execution_count": 33,
     "metadata": {},
     "output_type": "execute_result"
    }
   ],
   "source": [
    "df.previous_owners.value_counts(dropna = False)"
   ]
  },
  {
   "cell_type": "code",
   "execution_count": 34,
   "metadata": {
    "scrolled": true
   },
   "outputs": [
    {
     "ename": "TypeError",
     "evalue": "unhashable type: 'list'",
     "output_type": "error",
     "traceback": [
      "\u001b[1;31m---------------------------------------------------------------------------\u001b[0m",
      "\u001b[1;31mTypeError\u001b[0m                                 Traceback (most recent call last)",
      "\u001b[1;32mpandas\\_libs\\hashtable_class_helper.pxi\u001b[0m in \u001b[0;36mpandas._libs.hashtable.PyObjectHashTable.map_locations\u001b[1;34m()\u001b[0m\n",
      "\u001b[1;31mTypeError\u001b[0m: unhashable type: 'list'"
     ]
    },
    {
     "name": "stderr",
     "output_type": "stream",
     "text": [
      "Exception ignored in: 'pandas._libs.index.IndexEngine._call_map_locations'\n",
      "Traceback (most recent call last):\n",
      "  File \"pandas\\_libs\\hashtable_class_helper.pxi\", line 1709, in pandas._libs.hashtable.PyObjectHashTable.map_locations\n",
      "TypeError: unhashable type: 'list'\n"
     ]
    },
    {
     "data": {
      "text/plain": [
       "[\\nCloth, Black\\n]           5821\n",
       "NaN                          3720\n",
       "[\\nPart leather, Black\\n]    1121\n",
       "[\\nCloth\\n]                  1005\n",
       "[\\nCloth, Grey\\n]             891\n",
       "[\\nCloth, Other\\n]            639\n",
       "[\\nFull leather, Black\\n]     575\n",
       "[\\nBlack\\n]                   491\n",
       "[\\nGrey\\n]                    273\n",
       "[\\nOther, Other\\n]            182\n",
       "[\\nPart leather\\n]            140\n",
       "[\\nFull leather\\n]            139\n",
       "[\\nFull leather, Brown\\n]     116\n",
       "[\\nPart leather, Grey\\n]      116\n",
       "[\\nOther, Black\\n]            110\n",
       "[\\nFull leather, Other\\n]      72\n",
       "[\\nFull leather, Grey\\n]       67\n",
       "[\\nPart leather, Other\\n]      65\n",
       "[\\nOther\\n]                    56\n",
       "[\\nPart leather, Brown\\n]      50\n",
       "[\\nalcantara, Black\\n]         47\n",
       "[\\nVelour, Black\\n]            36\n",
       "[\\nFull leather, Beige\\n]      36\n",
       "[\\nCloth, Brown\\n]             28\n",
       "[\\nVelour\\n]                   16\n",
       "[\\nOther, Grey\\n]              15\n",
       "[\\nCloth, Beige\\n]             13\n",
       "[\\nCloth, Blue\\n]              12\n",
       "[\\nBrown\\n]                    12\n",
       "[\\nVelour, Grey\\n]              8\n",
       "[\\nCloth, White\\n]              8\n",
       "[\\nalcantara, Grey\\n]           6\n",
       "[\\nCloth, Red\\n]                5\n",
       "[\\nOther, Yellow\\n]             4\n",
       "[\\nBeige\\n]                     3\n",
       "[\\nPart leather, Red\\n]         3\n",
       "[\\nPart leather, Beige\\n]       2\n",
       "[\\nFull leather, Blue\\n]        2\n",
       "[\\nalcantara\\n]                 2\n",
       "[\\nWhite\\n]                     2\n",
       "[\\nPart leather, White\\n]       2\n",
       "[\\nalcantara, Other\\n]          2\n",
       "[\\nBlue\\n]                      2\n",
       "[\\nOther, Brown\\n]              1\n",
       "[\\nFull leather, Red\\n]         1\n",
       "[\\nFull leather, White\\n]       1\n",
       "[\\nCloth, Orange\\n]             1\n",
       "Name: upholstery, dtype: int64"
      ]
     },
     "execution_count": 34,
     "metadata": {},
     "output_type": "execute_result"
    }
   ],
   "source": [
    "df.upholstery.value_counts(dropna = False)"
   ]
  },
  {
   "cell_type": "code",
   "execution_count": 35,
   "metadata": {
    "scrolled": true
   },
   "outputs": [
    {
     "ename": "TypeError",
     "evalue": "unhashable type: 'list'",
     "output_type": "error",
     "traceback": [
      "\u001b[1;31m---------------------------------------------------------------------------\u001b[0m",
      "\u001b[1;31mTypeError\u001b[0m                                 Traceback (most recent call last)",
      "\u001b[1;32mpandas\\_libs\\hashtable_class_helper.pxi\u001b[0m in \u001b[0;36mpandas._libs.hashtable.PyObjectHashTable.map_locations\u001b[1;34m()\u001b[0m\n",
      "\u001b[1;31mTypeError\u001b[0m: unhashable type: 'list'"
     ]
    },
    {
     "name": "stderr",
     "output_type": "stream",
     "text": [
      "Exception ignored in: 'pandas._libs.index.IndexEngine._call_map_locations'\n",
      "Traceback (most recent call last):\n",
      "  File \"pandas\\_libs\\hashtable_class_helper.pxi\", line 1709, in pandas._libs.hashtable.PyObjectHashTable.map_locations\n",
      "TypeError: unhashable type: 'list'\n"
     ]
    },
    {
     "data": {
      "text/plain": [
       "[, Used, , Diesel (Particulate Filter)]                                                                                  3475\n",
       "[, Used, , Diesel]                                                                                                       2516\n",
       "[, Used, , Gasoline]                                                                                                     2367\n",
       "[, Used, , Super 95]                                                                                                     1818\n",
       "[, Pre-registered, , Super 95]                                                                                            500\n",
       "                                                                                                                         ... \n",
       "[, Used, , Regular/Benzine E10 91 / Super E10 95 / Super Plus E10 98 / Super Plus 98 / Super 95 / Regular/Benzine 91]       1\n",
       "[, Used, , Regular/Benzine E10 91 / Regular/Benzine 91 / Super 95 / Super Plus 98 / Super E10 95 / Super Plus E10 98]       1\n",
       "[, Employee's car, , Regular/Benzine 91 / Super 95 / Super E10 95]                                                          1\n",
       "[, Pre-registered, , Biogas]                                                                                                1\n",
       "[, Used, , Regular/Benzine 91 / Super 95 / Super Plus 98]                                                                   1\n",
       "Name: type, Length: 170, dtype: int64"
      ]
     },
     "execution_count": 35,
     "metadata": {},
     "output_type": "execute_result"
    }
   ],
   "source": [
    "df.type.value_counts(dropna = False)"
   ]
  },
  {
   "cell_type": "code",
   "execution_count": 36,
   "metadata": {},
   "outputs": [],
   "source": [
    "def type_extractor(data):\n",
    "    new_lst = []\n",
    "    for i in data:\n",
    "        if i != '':\n",
    "            new_lst.append(i.strip().strip(\"\\n\"))\n",
    "    return \",\".join(new_lst)"
   ]
  },
  {
   "cell_type": "code",
   "execution_count": 37,
   "metadata": {},
   "outputs": [
    {
     "ename": "TypeError",
     "evalue": "unhashable type: 'list'",
     "output_type": "error",
     "traceback": [
      "\u001b[1;31m---------------------------------------------------------------------------\u001b[0m",
      "\u001b[1;31mTypeError\u001b[0m                                 Traceback (most recent call last)",
      "\u001b[1;32mpandas\\_libs\\hashtable_class_helper.pxi\u001b[0m in \u001b[0;36mpandas._libs.hashtable.PyObjectHashTable.map_locations\u001b[1;34m()\u001b[0m\n",
      "\u001b[1;31mTypeError\u001b[0m: unhashable type: 'list'"
     ]
    },
    {
     "name": "stderr",
     "output_type": "stream",
     "text": [
      "Exception ignored in: 'pandas._libs.index.IndexEngine._call_map_locations'\n",
      "Traceback (most recent call last):\n",
      "  File \"pandas\\_libs\\hashtable_class_helper.pxi\", line 1709, in pandas._libs.hashtable.PyObjectHashTable.map_locations\n",
      "TypeError: unhashable type: 'list'\n"
     ]
    },
    {
     "data": {
      "text/plain": [
       "[, Used, , Diesel (Particulate Filter)]                                                                                  3475\n",
       "[, Used, , Diesel]                                                                                                       2516\n",
       "[, Used, , Gasoline]                                                                                                     2367\n",
       "[, Used, , Super 95]                                                                                                     1818\n",
       "[, Pre-registered, , Super 95]                                                                                            500\n",
       "                                                                                                                         ... \n",
       "[, Used, , Regular/Benzine E10 91 / Super E10 95 / Super Plus E10 98 / Super Plus 98 / Super 95 / Regular/Benzine 91]       1\n",
       "[, Used, , Regular/Benzine E10 91 / Regular/Benzine 91 / Super 95 / Super Plus 98 / Super E10 95 / Super Plus E10 98]       1\n",
       "[, Employee's car, , Regular/Benzine 91 / Super 95 / Super E10 95]                                                          1\n",
       "[, Pre-registered, , Biogas]                                                                                                1\n",
       "[, Used, , Regular/Benzine 91 / Super 95 / Super Plus 98]                                                                   1\n",
       "Name: type, Length: 170, dtype: int64"
      ]
     },
     "execution_count": 37,
     "metadata": {},
     "output_type": "execute_result"
    }
   ],
   "source": [
    "df.type.value_counts(dropna = False)"
   ]
  },
  {
   "cell_type": "code",
   "execution_count": 38,
   "metadata": {},
   "outputs": [
    {
     "data": {
      "text/plain": [
       "0        2.0\n",
       "1        NaN\n",
       "2        1.0\n",
       "3        1.0\n",
       "4        1.0\n",
       "        ... \n",
       "15914    NaN\n",
       "15915    1.0\n",
       "15916    1.0\n",
       "15917    NaN\n",
       "15918    1.0\n",
       "Name: previous_owners, Length: 15919, dtype: float64"
      ]
     },
     "execution_count": 38,
     "metadata": {},
     "output_type": "execute_result"
    }
   ],
   "source": [
    "df.previous_owners"
   ]
  },
  {
   "cell_type": "code",
   "execution_count": 39,
   "metadata": {},
   "outputs": [],
   "source": [
    "df.prev_owner = df.prev_owner.str[0]"
   ]
  },
  {
   "cell_type": "code",
   "execution_count": 40,
   "metadata": {},
   "outputs": [
    {
     "data": {
      "text/plain": [
       "1    14692\n",
       "2     1187\n",
       "3       38\n",
       "4        2\n",
       "Name: prev_owner, dtype: int64"
      ]
     },
     "execution_count": 40,
     "metadata": {},
     "output_type": "execute_result"
    }
   ],
   "source": [
    "df.prev_owner.fillna(method = 'bfill').value_counts(dropna = False)"
   ]
  },
  {
   "cell_type": "code",
   "execution_count": 41,
   "metadata": {},
   "outputs": [
    {
     "data": {
      "text/plain": [
       "1.0    14169\n",
       "2.0     1179\n",
       "0.0      531\n",
       "3.0       38\n",
       "4.0        2\n",
       "Name: previous_owners, dtype: int64"
      ]
     },
     "execution_count": 41,
     "metadata": {},
     "output_type": "execute_result"
    }
   ],
   "source": [
    "df.previous_owners.fillna(method = 'bfill').value_counts(dropna = False)"
   ]
  },
  {
   "cell_type": "code",
   "execution_count": 42,
   "metadata": {},
   "outputs": [],
   "source": [
    "df.previous_owners.fillna(method = 'bfill', inplace = True)"
   ]
  },
  {
   "cell_type": "code",
   "execution_count": 43,
   "metadata": {},
   "outputs": [],
   "source": [
    "df.drop(columns=['prev_owner', 'weight', 'non-smoking_vehicle'], inplace = True)"
   ]
  },
  {
   "cell_type": "code",
   "execution_count": 44,
   "metadata": {},
   "outputs": [
    {
     "data": {
      "text/plain": [
       "Sedans           7903\n",
       "Station wagon    3553\n",
       "Compact          3153\n",
       "Van               783\n",
       "Other             290\n",
       "Transporter        88\n",
       "NaN                60\n",
       "Off-Road           56\n",
       "Coupe              25\n",
       "Convertible         8\n",
       "Name: body_type, dtype: int64"
      ]
     },
     "execution_count": 44,
     "metadata": {},
     "output_type": "execute_result"
    }
   ],
   "source": [
    "df.body_type.value_counts(dropna = False)"
   ]
  },
  {
   "cell_type": "code",
   "execution_count": 45,
   "metadata": {},
   "outputs": [
    {
     "ename": "TypeError",
     "evalue": "unhashable type: 'list'",
     "output_type": "error",
     "traceback": [
      "\u001b[1;31m---------------------------------------------------------------------------\u001b[0m",
      "\u001b[1;31mTypeError\u001b[0m                                 Traceback (most recent call last)",
      "\u001b[1;32mpandas\\_libs\\hashtable_class_helper.pxi\u001b[0m in \u001b[0;36mpandas._libs.hashtable.PyObjectHashTable.map_locations\u001b[1;34m()\u001b[0m\n",
      "\u001b[1;31mTypeError\u001b[0m: unhashable type: 'list'"
     ]
    },
    {
     "name": "stderr",
     "output_type": "stream",
     "text": [
      "Exception ignored in: 'pandas._libs.index.IndexEngine._call_map_locations'\n",
      "Traceback (most recent call last):\n",
      "  File \"pandas\\_libs\\hashtable_class_helper.pxi\", line 1709, in pandas._libs.hashtable.PyObjectHashTable.map_locations\n",
      "TypeError: unhashable type: 'list'\n"
     ]
    },
    {
     "data": {
      "text/plain": [
       "[\\n, Sedans, \\n]           7903\n",
       "[\\n, Station wagon, \\n]    3553\n",
       "[\\n, Compact, \\n]          3153\n",
       "[\\n, Van, \\n]               783\n",
       "[\\n, Other, \\n]             290\n",
       "[\\n, Transporter, \\n]        88\n",
       "NaN                          60\n",
       "[\\n, Off-Road, \\n]           56\n",
       "[\\n, Coupe, \\n]              25\n",
       "[\\n, Convertible, \\n]         8\n",
       "Name: body, dtype: int64"
      ]
     },
     "execution_count": 45,
     "metadata": {},
     "output_type": "execute_result"
    }
   ],
   "source": [
    "df.body.value_counts(dropna = False)"
   ]
  },
  {
   "cell_type": "code",
   "execution_count": 46,
   "metadata": {
    "scrolled": true
   },
   "outputs": [
    {
     "data": {
      "text/plain": [
       "make_model      body_type    \n",
       "Audi A1         Sedans           1538\n",
       "                Compact          1039\n",
       "                Station wagon      21\n",
       "                Other              13\n",
       "                Coupe               2\n",
       "                Van                 1\n",
       "Audi A2         Off-Road            1\n",
       "Audi A3         Sedans           2598\n",
       "                Station wagon     282\n",
       "                Compact           182\n",
       "                Other              16\n",
       "                Convertible         8\n",
       "                NaN                 7\n",
       "                Coupe               4\n",
       "Opel Astra      Station wagon    1211\n",
       "                Sedans           1053\n",
       "                Compact           185\n",
       "                Other              67\n",
       "                NaN                 7\n",
       "                Coupe               2\n",
       "                Off-Road            1\n",
       "Opel Corsa      Compact          1230\n",
       "                Sedans            875\n",
       "                Other              87\n",
       "                Coupe              13\n",
       "                Transporter         7\n",
       "                Off-Road            3\n",
       "                NaN                 2\n",
       "                Van                 2\n",
       "Opel Insignia   Station wagon    1611\n",
       "                Sedans            900\n",
       "                Other              48\n",
       "                Compact            27\n",
       "                Off-Road            7\n",
       "                NaN                 3\n",
       "                Coupe               1\n",
       "                Van                 1\n",
       "Renault Clio    Sedans            918\n",
       "                Compact           484\n",
       "                Station wagon     337\n",
       "                Other              51\n",
       "                Transporter        29\n",
       "                NaN                15\n",
       "                Off-Road            2\n",
       "                Van                 2\n",
       "                Coupe               1\n",
       "Renault Duster  Off-Road           34\n",
       "Renault Espace  Van               777\n",
       "                Station wagon      91\n",
       "                Transporter        52\n",
       "                NaN                26\n",
       "                Sedans             21\n",
       "                Off-Road            8\n",
       "                Other               8\n",
       "                Compact             6\n",
       "                Coupe               2\n",
       "Name: body_type, dtype: int64"
      ]
     },
     "execution_count": 46,
     "metadata": {},
     "output_type": "execute_result"
    }
   ],
   "source": [
    "df.groupby('make_model')[\"body_type\"].value_counts(dropna = False)"
   ]
  },
  {
   "cell_type": "code",
   "execution_count": 47,
   "metadata": {},
   "outputs": [],
   "source": [
    "fill_most(df, \"make_model\", \"body_type\")"
   ]
  },
  {
   "cell_type": "code",
   "execution_count": 48,
   "metadata": {},
   "outputs": [
    {
     "data": {
      "text/plain": [
       "Sedans           7925\n",
       "Station wagon    3563\n",
       "Compact          3155\n",
       "Van               809\n",
       "Other             290\n",
       "Transporter        88\n",
       "Off-Road           56\n",
       "Coupe              25\n",
       "Convertible         8\n",
       "Name: body_type, dtype: int64"
      ]
     },
     "execution_count": 48,
     "metadata": {},
     "output_type": "execute_result"
    }
   ],
   "source": [
    "df.body_type.value_counts(dropna = False)"
   ]
  },
  {
   "cell_type": "code",
   "execution_count": 49,
   "metadata": {},
   "outputs": [],
   "source": [
    "df.drop(columns='body', inplace = True)"
   ]
  },
  {
   "cell_type": "code",
   "execution_count": 50,
   "metadata": {},
   "outputs": [
    {
     "ename": "TypeError",
     "evalue": "unhashable type: 'list'",
     "output_type": "error",
     "traceback": [
      "\u001b[1;31m---------------------------------------------------------------------------\u001b[0m",
      "\u001b[1;31mTypeError\u001b[0m                                 Traceback (most recent call last)",
      "\u001b[1;32mpandas\\_libs\\hashtable_class_helper.pxi\u001b[0m in \u001b[0;36mpandas._libs.hashtable.PyObjectHashTable.map_locations\u001b[1;34m()\u001b[0m\n",
      "\u001b[1;31mTypeError\u001b[0m: unhashable type: 'list'"
     ]
    },
    {
     "name": "stderr",
     "output_type": "stream",
     "text": [
      "Exception ignored in: 'pandas._libs.index.IndexEngine._call_map_locations'\n",
      "Traceback (most recent call last):\n",
      "  File \"pandas\\_libs\\hashtable_class_helper.pxi\", line 1709, in pandas._libs.hashtable.PyObjectHashTable.map_locations\n",
      "TypeError: unhashable type: 'list'\n"
     ]
    },
    {
     "data": {
      "text/plain": [
       "NaN                                                                                            11987\n",
       "[\\nYes\\n, \\nEuro 6\\n]                                                                            523\n",
       "\\nYes\\n                                                                                          362\n",
       "[\\nYes\\n, \\n102 g CO2/km (comb)\\n]                                                               174\n",
       "[\\nYes\\n, \\n4 (Green)\\n]                                                                         166\n",
       "                                                                                               ...  \n",
       "[\\nYes\\n, \\n, 6 l/100 km (comb), \\n, 7.5 l/100 km (city), \\n, 5.2 l/100 km (country), \\n]          1\n",
       "[\\nYes\\n, \\n, 7 l/100 km (comb), \\n, 9.5 l/100 km (city), \\n, 5.5 l/100 km (country), \\n]          1\n",
       "[\\nYes\\n, \\n, 5.4 l/100 km (comb), \\n, \\n, \\n]                                                     1\n",
       "[\\nYes\\n, \\n, 5.9 l/100 km (comb), \\n, 7.5 l/100 km (city), \\n, 4.9 l/100 km (country), \\n]        1\n",
       "[\\nYes\\n, \\n, 4.4 l/100 km (comb), \\n, 5.5 l/100 km (city), \\n, 3.8 l/100 km (country), \\n]        1\n",
       "Name: inspection_new, Length: 203, dtype: int64"
      ]
     },
     "execution_count": 50,
     "metadata": {},
     "output_type": "execute_result"
    }
   ],
   "source": [
    "df.inspection_new.value_counts(dropna = False)"
   ]
  },
  {
   "cell_type": "code",
   "execution_count": 51,
   "metadata": {},
   "outputs": [
    {
     "data": {
      "text/plain": [
       "'\\nYes\\n'"
      ]
     },
     "execution_count": 51,
     "metadata": {},
     "output_type": "execute_result"
    }
   ],
   "source": [
    "df.inspection_new[15900]"
   ]
  },
  {
   "cell_type": "code",
   "execution_count": 52,
   "metadata": {},
   "outputs": [],
   "source": [
    "def inspec_ext(item):\n",
    "    return item[0].strip(\"\\n\") if type(item) == list else item.strip().strip('\\n')"
   ]
  },
  {
   "cell_type": "code",
   "execution_count": 53,
   "metadata": {},
   "outputs": [],
   "source": [
    "df[\"inspection_new\"] = df.inspection_new[df.inspection_new.notnull()].apply(inspec_ext)"
   ]
  },
  {
   "cell_type": "code",
   "execution_count": 54,
   "metadata": {},
   "outputs": [
    {
     "data": {
      "text/plain": [
       "NaN    11987\n",
       "Yes     3932\n",
       "Name: inspection_new, dtype: int64"
      ]
     },
     "execution_count": 54,
     "metadata": {},
     "output_type": "execute_result"
    }
   ],
   "source": [
    "df.inspection_new.value_counts(dropna = False)"
   ]
  },
  {
   "cell_type": "code",
   "execution_count": 55,
   "metadata": {},
   "outputs": [],
   "source": [
    "df.inspection_new.fillna(value = \"No\", inplace = True)"
   ]
  },
  {
   "cell_type": "code",
   "execution_count": 56,
   "metadata": {},
   "outputs": [],
   "source": [
    "df['inspection_new'] = df.inspection_new.map({'Yes':1, 'No':'0'})"
   ]
  },
  {
   "cell_type": "code",
   "execution_count": 57,
   "metadata": {},
   "outputs": [
    {
     "data": {
      "text/plain": [
       "0    11987\n",
       "1     3932\n",
       "Name: inspection_new, dtype: int64"
      ]
     },
     "execution_count": 57,
     "metadata": {},
     "output_type": "execute_result"
    }
   ],
   "source": [
    "df.inspection_new.value_counts(dropna = False)"
   ]
  },
  {
   "cell_type": "code",
   "execution_count": 58,
   "metadata": {},
   "outputs": [
    {
     "ename": "TypeError",
     "evalue": "unhashable type: 'list'",
     "output_type": "error",
     "traceback": [
      "\u001b[1;31m---------------------------------------------------------------------------\u001b[0m",
      "\u001b[1;31mTypeError\u001b[0m                                 Traceback (most recent call last)",
      "\u001b[1;32mpandas\\_libs\\hashtable_class_helper.pxi\u001b[0m in \u001b[0;36mpandas._libs.hashtable.PyObjectHashTable.map_locations\u001b[1;34m()\u001b[0m\n",
      "\u001b[1;31mTypeError\u001b[0m: unhashable type: 'list'"
     ]
    },
    {
     "name": "stderr",
     "output_type": "stream",
     "text": [
      "Exception ignored in: 'pandas._libs.index.IndexEngine._call_map_locations'\n",
      "Traceback (most recent call last):\n",
      "  File \"pandas\\_libs\\hashtable_class_helper.pxi\", line 1709, in pandas._libs.hashtable.PyObjectHashTable.map_locations\n",
      "TypeError: unhashable type: 'list'\n"
     ]
    },
    {
     "data": {
      "text/plain": [
       "NaN                                                                                                12384\n",
       "\\n04/2022\\n                                                                                           62\n",
       "\\n03/2021\\n                                                                                           38\n",
       "\\n03/2022\\n                                                                                           36\n",
       "\\n06/2021\\n                                                                                           34\n",
       "                                                                                                   ...  \n",
       "[\\n11/2019\\n, \\n149 g CO2/km (comb)\\n]                                                                 1\n",
       "[\\n07/2021\\n, \\n116 g CO2/km (comb)\\n]                                                                 1\n",
       "[\\n04/2021\\n, \\n123 g CO2/km (comb)\\n]                                                                 1\n",
       "[\\n02/2021\\n, \\n149 g CO2/km (comb)\\n]                                                                 1\n",
       "[\\n03/2021\\n, \\n, 4.6 l/100 km (comb), \\n, 5.5 l/100 km (city), \\n, 4.1 l/100 km (country), \\n]        1\n",
       "Name: next_inspection, Length: 1400, dtype: int64"
      ]
     },
     "execution_count": 58,
     "metadata": {},
     "output_type": "execute_result"
    }
   ],
   "source": [
    "df.next_inspection.value_counts(dropna = False)"
   ]
  },
  {
   "cell_type": "code",
   "execution_count": 59,
   "metadata": {},
   "outputs": [],
   "source": [
    "def lst_to_str(data):\n",
    "    new_lst = []\n",
    "    if type(data) == list:\n",
    "        for i in data:\n",
    "            new_lst.append(i.strip())\n",
    "        return \",\".join(new_lst)\n",
    "    else:\n",
    "        return data"
   ]
  },
  {
   "cell_type": "code",
   "execution_count": 60,
   "metadata": {},
   "outputs": [],
   "source": [
    "df.next_inspection = df.next_inspection[df.next_inspection.notnull()].apply(lst_to_str)"
   ]
  },
  {
   "cell_type": "code",
   "execution_count": 61,
   "metadata": {},
   "outputs": [
    {
     "data": {
      "text/plain": [
       "NaN                                                                           12384\n",
       "\\n04/2022\\n                                                                      62\n",
       "\\n03/2021\\n                                                                      38\n",
       "\\n03/2022\\n                                                                      36\n",
       "\\n06/2021\\n                                                                      34\n",
       "                                                                              ...  \n",
       "11/2020,115 g CO2/km (comb)                                                       1\n",
       "08/2020,0 kWh/100 km (comb)                                                       1\n",
       "06/2019,,5.4 l/100 km (comb),,7.1 l/100 km (city),,4.4 l/100 km (country),        1\n",
       "01/2020,149 g CO2/km (comb)                                                       1\n",
       "11/2019,149 g CO2/km (comb)                                                       1\n",
       "Name: next_inspection, Length: 1400, dtype: int64"
      ]
     },
     "execution_count": 61,
     "metadata": {},
     "output_type": "execute_result"
    }
   ],
   "source": [
    "df.next_inspection.value_counts(dropna = False)"
   ]
  },
  {
   "cell_type": "code",
   "execution_count": 62,
   "metadata": {},
   "outputs": [],
   "source": [
    "df['next_inspection'] = df.next_inspection.str.extract(\"(\\d\\d/\\d\\d\\d\\d)\")"
   ]
  },
  {
   "cell_type": "code",
   "execution_count": 63,
   "metadata": {},
   "outputs": [
    {
     "data": {
      "text/plain": [
       "NaN        12384\n",
       "06/2021      471\n",
       "03/2021      210\n",
       "05/2021      180\n",
       "04/2021      171\n",
       "           ...  \n",
       "01/1921        1\n",
       "05/2017        1\n",
       "05/2016        1\n",
       "01/2018        1\n",
       "05/2014        1\n",
       "Name: next_inspection, Length: 78, dtype: int64"
      ]
     },
     "execution_count": 63,
     "metadata": {},
     "output_type": "execute_result"
    }
   ],
   "source": [
    "df.next_inspection.value_counts(dropna = False)"
   ]
  },
  {
   "cell_type": "code",
   "execution_count": 64,
   "metadata": {},
   "outputs": [],
   "source": [
    "df.next_inspection = pd.to_datetime(df.next_inspection, format = '%m/%Y')"
   ]
  },
  {
   "cell_type": "code",
   "execution_count": 65,
   "metadata": {},
   "outputs": [
    {
     "data": {
      "text/plain": [
       "36.25855895470821"
      ]
     },
     "execution_count": 65,
     "metadata": {},
     "output_type": "execute_result"
    }
   ],
   "source": [
    "(df.paint_type.isnull().sum()/len(df.paint_type))*100"
   ]
  },
  {
   "cell_type": "code",
   "execution_count": 66,
   "metadata": {},
   "outputs": [
    {
     "ename": "TypeError",
     "evalue": "unhashable type: 'list'",
     "output_type": "error",
     "traceback": [
      "\u001b[1;31m---------------------------------------------------------------------------\u001b[0m",
      "\u001b[1;31mTypeError\u001b[0m                                 Traceback (most recent call last)",
      "\u001b[1;32mpandas\\_libs\\hashtable_class_helper.pxi\u001b[0m in \u001b[0;36mpandas._libs.hashtable.PyObjectHashTable.map_locations\u001b[1;34m()\u001b[0m\n",
      "\u001b[1;31mTypeError\u001b[0m: unhashable type: 'list'"
     ]
    },
    {
     "name": "stderr",
     "output_type": "stream",
     "text": [
      "Exception ignored in: 'pandas._libs.index.IndexEngine._call_map_locations'\n",
      "Traceback (most recent call last):\n",
      "  File \"pandas\\_libs\\hashtable_class_helper.pxi\", line 1709, in pandas._libs.hashtable.PyObjectHashTable.map_locations\n",
      "TypeError: unhashable type: 'list'\n"
     ]
    },
    {
     "data": {
      "text/plain": [
       "[\\nMetallic\\n]       9794\n",
       "NaN                  5772\n",
       "[\\nUni/basic\\n]       347\n",
       "[\\nPerl effect\\n]       6\n",
       "Name: paint_type, dtype: int64"
      ]
     },
     "execution_count": 66,
     "metadata": {},
     "output_type": "execute_result"
    }
   ],
   "source": [
    "df.paint_type.value_counts(dropna = False)"
   ]
  },
  {
   "cell_type": "code",
   "execution_count": 67,
   "metadata": {},
   "outputs": [
    {
     "data": {
      "text/plain": [
       "Metallic       9794\n",
       "NaN            5772\n",
       "Uni/basic       347\n",
       "Perl effect       6\n",
       "Name: paint_type, dtype: int64"
      ]
     },
     "execution_count": 67,
     "metadata": {},
     "output_type": "execute_result"
    }
   ],
   "source": [
    "df.paint_type.str[0].str.strip('\\n').value_counts(dropna = False)"
   ]
  },
  {
   "cell_type": "code",
   "execution_count": 68,
   "metadata": {},
   "outputs": [],
   "source": [
    "df.paint_type = df.paint_type.str[0].str.strip('\\n')"
   ]
  },
  {
   "cell_type": "code",
   "execution_count": 69,
   "metadata": {},
   "outputs": [
    {
     "data": {
      "text/plain": [
       "Metallic       9794\n",
       "NaN            5772\n",
       "Uni/basic       347\n",
       "Perl effect       6\n",
       "Name: paint_type, dtype: int64"
      ]
     },
     "execution_count": 69,
     "metadata": {},
     "output_type": "execute_result"
    }
   ],
   "source": [
    "df.paint_type.value_counts(dropna = False)"
   ]
  },
  {
   "cell_type": "code",
   "execution_count": 70,
   "metadata": {},
   "outputs": [
    {
     "data": {
      "text/plain": [
       "52.346252905333245"
      ]
     },
     "execution_count": 70,
     "metadata": {},
     "output_type": "execute_result"
    }
   ],
   "source": [
    "(df.country_version.isnull().sum()/len(df.country_version))*100"
   ]
  },
  {
   "cell_type": "code",
   "execution_count": 71,
   "metadata": {},
   "outputs": [
    {
     "ename": "TypeError",
     "evalue": "unhashable type: 'list'",
     "output_type": "error",
     "traceback": [
      "\u001b[1;31m---------------------------------------------------------------------------\u001b[0m",
      "\u001b[1;31mTypeError\u001b[0m                                 Traceback (most recent call last)",
      "\u001b[1;32mpandas\\_libs\\hashtable_class_helper.pxi\u001b[0m in \u001b[0;36mpandas._libs.hashtable.PyObjectHashTable.map_locations\u001b[1;34m()\u001b[0m\n",
      "\u001b[1;31mTypeError\u001b[0m: unhashable type: 'list'"
     ]
    },
    {
     "name": "stderr",
     "output_type": "stream",
     "text": [
      "Exception ignored in: 'pandas._libs.index.IndexEngine._call_map_locations'\n",
      "Traceback (most recent call last):\n",
      "  File \"pandas\\_libs\\hashtable_class_helper.pxi\", line 1709, in pandas._libs.hashtable.PyObjectHashTable.map_locations\n",
      "TypeError: unhashable type: 'list'\n"
     ]
    },
    {
     "data": {
      "text/plain": [
       "NaN                     8333\n",
       "[\\nGermany\\n]           4502\n",
       "[\\nItaly\\n]             1038\n",
       "[\\nEuropean Union\\n]     507\n",
       "[\\nNetherlands\\n]        464\n",
       "[\\nSpain\\n]              325\n",
       "[\\nBelgium\\n]            314\n",
       "[\\nAustria\\n]            208\n",
       "[\\nCzech Republic\\n]      52\n",
       "[\\nPoland\\n]              49\n",
       "[\\nFrance\\n]              38\n",
       "[\\nDenmark\\n]             33\n",
       "[\\nHungary\\n]             28\n",
       "[\\nJapan\\n]                8\n",
       "[\\nSlovakia\\n]             4\n",
       "[\\nCroatia\\n]              4\n",
       "[\\nSweden\\n]               3\n",
       "[\\nRomania\\n]              2\n",
       "[\\nBulgaria\\n]             2\n",
       "[\\nSerbia\\n]               1\n",
       "[\\nLuxembourg\\n]           1\n",
       "[\\nSwitzerland\\n]          1\n",
       "[\\nSlovenia\\n]             1\n",
       "[\\nEgypt\\n]                1\n",
       "Name: country_version, dtype: int64"
      ]
     },
     "execution_count": 71,
     "metadata": {},
     "output_type": "execute_result"
    }
   ],
   "source": [
    "df.country_version.value_counts(dropna = False)"
   ]
  },
  {
   "cell_type": "code",
   "execution_count": 72,
   "metadata": {},
   "outputs": [],
   "source": [
    "df.country_version = df.country_version.str[0].str.strip('\\n')"
   ]
  },
  {
   "cell_type": "code",
   "execution_count": 73,
   "metadata": {},
   "outputs": [
    {
     "data": {
      "text/plain": [
       "NaN               8333\n",
       "Germany           4502\n",
       "Italy             1038\n",
       "European Union     507\n",
       "Netherlands        464\n",
       "Spain              325\n",
       "Belgium            314\n",
       "Austria            208\n",
       "Czech Republic      52\n",
       "Poland              49\n",
       "France              38\n",
       "Denmark             33\n",
       "Hungary             28\n",
       "Japan                8\n",
       "Slovakia             4\n",
       "Croatia              4\n",
       "Sweden               3\n",
       "Romania              2\n",
       "Bulgaria             2\n",
       "Egypt                1\n",
       "Slovenia             1\n",
       "Serbia               1\n",
       "Luxembourg           1\n",
       "Switzerland          1\n",
       "Name: country_version, dtype: int64"
      ]
     },
     "execution_count": 73,
     "metadata": {},
     "output_type": "execute_result"
    }
   ],
   "source": [
    "df.country_version.value_counts(dropna = False)"
   ]
  },
  {
   "cell_type": "code",
   "execution_count": 74,
   "metadata": {},
   "outputs": [
    {
     "data": {
      "text/plain": [
       "35.68063320560337"
      ]
     },
     "execution_count": 74,
     "metadata": {},
     "output_type": "execute_result"
    }
   ],
   "source": [
    "(df.cylinders.isnull().sum()/len(df.cylinders))*100"
   ]
  },
  {
   "cell_type": "code",
   "execution_count": 75,
   "metadata": {},
   "outputs": [
    {
     "ename": "TypeError",
     "evalue": "unhashable type: 'list'",
     "output_type": "error",
     "traceback": [
      "\u001b[1;31m---------------------------------------------------------------------------\u001b[0m",
      "\u001b[1;31mTypeError\u001b[0m                                 Traceback (most recent call last)",
      "\u001b[1;32mpandas\\_libs\\hashtable_class_helper.pxi\u001b[0m in \u001b[0;36mpandas._libs.hashtable.PyObjectHashTable.map_locations\u001b[1;34m()\u001b[0m\n",
      "\u001b[1;31mTypeError\u001b[0m: unhashable type: 'list'"
     ]
    },
    {
     "name": "stderr",
     "output_type": "stream",
     "text": [
      "Exception ignored in: 'pandas._libs.index.IndexEngine._call_map_locations'\n",
      "Traceback (most recent call last):\n",
      "  File \"pandas\\_libs\\hashtable_class_helper.pxi\", line 1709, in pandas._libs.hashtable.PyObjectHashTable.map_locations\n",
      "TypeError: unhashable type: 'list'\n"
     ]
    },
    {
     "data": {
      "text/plain": [
       "[\\n4\\n]    8105\n",
       "NaN        5680\n",
       "[\\n3\\n]    2104\n",
       "[\\n5\\n]      22\n",
       "[\\n6\\n]       3\n",
       "[\\n2\\n]       2\n",
       "[\\n8\\n]       2\n",
       "[\\n1\\n]       1\n",
       "Name: cylinders, dtype: int64"
      ]
     },
     "execution_count": 75,
     "metadata": {},
     "output_type": "execute_result"
    }
   ],
   "source": [
    "df.cylinders.value_counts(dropna = False)"
   ]
  },
  {
   "cell_type": "code",
   "execution_count": 76,
   "metadata": {},
   "outputs": [
    {
     "data": {
      "text/plain": [
       "4      8105\n",
       "NaN    5680\n",
       "3      2104\n",
       "5        22\n",
       "6         3\n",
       "8         2\n",
       "2         2\n",
       "1         1\n",
       "Name: cylinders, dtype: int64"
      ]
     },
     "execution_count": 76,
     "metadata": {},
     "output_type": "execute_result"
    }
   ],
   "source": [
    "df.cylinders.str[0].str.strip('\\n').value_counts(dropna = False)"
   ]
  },
  {
   "cell_type": "code",
   "execution_count": 77,
   "metadata": {},
   "outputs": [],
   "source": [
    "df.cylinders = df.cylinders.str[0].str.strip('\\n')"
   ]
  },
  {
   "cell_type": "code",
   "execution_count": 78,
   "metadata": {},
   "outputs": [
    {
     "data": {
      "text/plain": [
       "4      8105\n",
       "NaN    5680\n",
       "3      2104\n",
       "5        22\n",
       "6         3\n",
       "8         2\n",
       "2         2\n",
       "1         1\n",
       "Name: cylinders, dtype: int64"
      ]
     },
     "execution_count": 78,
     "metadata": {},
     "output_type": "execute_result"
    }
   ],
   "source": [
    "df.cylinders.value_counts(dropna = False)"
   ]
  },
  {
   "cell_type": "code",
   "execution_count": 79,
   "metadata": {},
   "outputs": [
    {
     "data": {
      "text/plain": [
       "0.749670205414913"
      ]
     },
     "execution_count": 79,
     "metadata": {},
     "output_type": "execute_result"
    }
   ],
   "source": [
    "df.emission_label.isnull().sum()/df.shape[0]"
   ]
  },
  {
   "cell_type": "code",
   "execution_count": 80,
   "metadata": {},
   "outputs": [
    {
     "ename": "TypeError",
     "evalue": "unhashable type: 'list'",
     "output_type": "error",
     "traceback": [
      "\u001b[1;31m---------------------------------------------------------------------------\u001b[0m",
      "\u001b[1;31mTypeError\u001b[0m                                 Traceback (most recent call last)",
      "\u001b[1;32mpandas\\_libs\\hashtable_class_helper.pxi\u001b[0m in \u001b[0;36mpandas._libs.hashtable.PyObjectHashTable.map_locations\u001b[1;34m()\u001b[0m\n",
      "\u001b[1;31mTypeError\u001b[0m: unhashable type: 'list'"
     ]
    },
    {
     "name": "stderr",
     "output_type": "stream",
     "text": [
      "Exception ignored in: 'pandas._libs.index.IndexEngine._call_map_locations'\n",
      "Traceback (most recent call last):\n",
      "  File \"pandas\\_libs\\hashtable_class_helper.pxi\", line 1709, in pandas._libs.hashtable.PyObjectHashTable.map_locations\n",
      "TypeError: unhashable type: 'list'\n"
     ]
    },
    {
     "data": {
      "text/plain": [
       "NaN                     11934\n",
       "[\\n4 (Green)\\n]          3553\n",
       "[\\n1 (No sticker)\\n]      381\n",
       "[[], [], []]               40\n",
       "[\\n5 (Blue)\\n]              8\n",
       "[\\n3 (Yellow)\\n]            2\n",
       "[\\n2 (Red)\\n]               1\n",
       "Name: emission_label, dtype: int64"
      ]
     },
     "execution_count": 80,
     "metadata": {},
     "output_type": "execute_result"
    }
   ],
   "source": [
    "df.emission_label.value_counts(dropna = False)"
   ]
  },
  {
   "cell_type": "code",
   "execution_count": 81,
   "metadata": {},
   "outputs": [
    {
     "data": {
      "text/plain": [
       "NaN               11974\n",
       "4 (Green)          3553\n",
       "1 (No sticker)      381\n",
       "5 (Blue)              8\n",
       "3 (Yellow)            2\n",
       "2 (Red)               1\n",
       "Name: emission_label, dtype: int64"
      ]
     },
     "execution_count": 81,
     "metadata": {},
     "output_type": "execute_result"
    }
   ],
   "source": [
    "df.emission_label.str[0].str.strip('\\n').value_counts(dropna = False)"
   ]
  },
  {
   "cell_type": "code",
   "execution_count": 82,
   "metadata": {},
   "outputs": [],
   "source": [
    "df.emission_label = df.emission_label.str[0].str.strip('\\n')"
   ]
  },
  {
   "cell_type": "code",
   "execution_count": 83,
   "metadata": {},
   "outputs": [
    {
     "data": {
      "text/plain": [
       "NaN               11974\n",
       "4 (Green)          3553\n",
       "1 (No sticker)      381\n",
       "5 (Blue)              8\n",
       "3 (Yellow)            2\n",
       "2 (Red)               1\n",
       "Name: emission_label, dtype: int64"
      ]
     },
     "execution_count": 83,
     "metadata": {},
     "output_type": "execute_result"
    }
   ],
   "source": [
    "df.emission_label.value_counts(dropna = False)"
   ]
  },
  {
   "cell_type": "code",
   "execution_count": 84,
   "metadata": {},
   "outputs": [
    {
     "data": {
      "text/plain": [
       "0.4839499968590992"
      ]
     },
     "execution_count": 84,
     "metadata": {},
     "output_type": "execute_result"
    }
   ],
   "source": [
    "df.full_service.isnull().sum()/df.shape[0]"
   ]
  },
  {
   "cell_type": "code",
   "execution_count": 85,
   "metadata": {},
   "outputs": [
    {
     "ename": "TypeError",
     "evalue": "unhashable type: 'list'",
     "output_type": "error",
     "traceback": [
      "\u001b[1;31m---------------------------------------------------------------------------\u001b[0m",
      "\u001b[1;31mTypeError\u001b[0m                                 Traceback (most recent call last)",
      "\u001b[1;32mpandas\\_libs\\hashtable_class_helper.pxi\u001b[0m in \u001b[0;36mpandas._libs.hashtable.PyObjectHashTable.map_locations\u001b[1;34m()\u001b[0m\n",
      "\u001b[1;31mTypeError\u001b[0m: unhashable type: 'list'"
     ]
    },
    {
     "name": "stderr",
     "output_type": "stream",
     "text": [
      "Exception ignored in: 'pandas._libs.index.IndexEngine._call_map_locations'\n",
      "Traceback (most recent call last):\n",
      "  File \"pandas\\_libs\\hashtable_class_helper.pxi\", line 1709, in pandas._libs.hashtable.PyObjectHashTable.map_locations\n",
      "TypeError: unhashable type: 'list'\n"
     ]
    },
    {
     "data": {
      "text/plain": [
       "NaN                                                                                           7704\n",
       "[\\n, \\n, \\n4 (Green)\\n]                                                                       2235\n",
       "[\\n, \\n, \\nEuro 6\\n]                                                                          2097\n",
       "[\\n, \\n]                                                                                      1702\n",
       "[\\n, \\n, \\nEuro 6d-TEMP\\n]                                                                     399\n",
       "                                                                                              ... \n",
       "[\\n, \\n, \\n, 6 l/100 km (comb), \\n, 7.5 l/100 km (city), \\n, 5.2 l/100 km (country), \\n]         1\n",
       "[\\n, \\n, \\n, 5.5 l/100 km (comb), \\n, 7.2 l/100 km (city), \\n, 4.5 l/100 km (country), \\n]       1\n",
       "[\\n, \\n, \\n, 5.8 l/100 km (comb), \\n, 7.4 l/100 km (city), \\n, 4.9 l/100 km (country), \\n]       1\n",
       "[\\n, \\n, \\n, 5.4 l/100 km (comb), \\n, 7 l/100 km (city), \\n, 4.5 l/100 km (country), \\n]         1\n",
       "[\\n, \\n, \\n, 5.4 l/100 km (comb), \\n, 7.3 l/100 km (city), \\n, 4.2 l/100 km (country), \\n]       1\n",
       "Name: full_service, Length: 123, dtype: int64"
      ]
     },
     "execution_count": 85,
     "metadata": {},
     "output_type": "execute_result"
    }
   ],
   "source": [
    "df.full_service.value_counts(dropna = False)"
   ]
  },
  {
   "cell_type": "code",
   "execution_count": 86,
   "metadata": {},
   "outputs": [],
   "source": [
    "df.drop(columns = 'full_service', inplace = True)"
   ]
  },
  {
   "cell_type": "code",
   "execution_count": 87,
   "metadata": {
    "scrolled": true
   },
   "outputs": [
    {
     "ename": "TypeError",
     "evalue": "unhashable type: 'list'",
     "output_type": "error",
     "traceback": [
      "\u001b[1;31m---------------------------------------------------------------------------\u001b[0m",
      "\u001b[1;31mTypeError\u001b[0m                                 Traceback (most recent call last)",
      "\u001b[1;32mpandas\\_libs\\hashtable_class_helper.pxi\u001b[0m in \u001b[0;36mpandas._libs.hashtable.PyObjectHashTable.map_locations\u001b[1;34m()\u001b[0m\n",
      "\u001b[1;31mTypeError\u001b[0m: unhashable type: 'list'"
     ]
    },
    {
     "name": "stderr",
     "output_type": "stream",
     "text": [
      "Exception ignored in: 'pandas._libs.index.IndexEngine._call_map_locations'\n",
      "Traceback (most recent call last):\n",
      "  File \"pandas\\_libs\\hashtable_class_helper.pxi\", line 1709, in pandas._libs.hashtable.PyObjectHashTable.map_locations\n",
      "TypeError: unhashable type: 'list'\n"
     ]
    },
    {
     "data": {
      "text/plain": [
       "NaN                                                                                                                                                                                                                                                                                                                                                                     920\n",
       "[Air conditioning, Electrical side mirrors, Hill Holder, Power windows]                                                                                                                                                                                                                                                                                                 216\n",
       "[Air conditioning, Electrical side mirrors, Power windows]                                                                                                                                                                                                                                                                                                              134\n",
       "[Air conditioning, Power windows]                                                                                                                                                                                                                                                                                                                                       130\n",
       "[Air conditioning, Armrest, Automatic climate control, Cruise control, Electrical side mirrors, Leather steering wheel, Light sensor, Lumbar support, Multi-function steering wheel, Navigation system, Park Distance Control, Parking assist system sensors front, Parking assist system sensors rear, Power windows, Rain sensor, Seat heating, Start-stop system]    105\n",
       "                                                                                                                                                                                                                                                                                                                                                                       ... \n",
       "[Air conditioning, Armrest, Automatic climate control, Cruise control, Leather steering wheel, Lumbar support, Multi-function steering wheel, Navigation system, Park Distance Control, Parking assist system sensors front, Parking assist system sensors rear, Power windows, Rain sensor]                                                                              1\n",
       "[Air conditioning, Armrest, Automatic climate control, Electrical side mirrors, Hill Holder, Keyless central door lock, Leather steering wheel, Light sensor, Park Distance Control, Parking assist system sensors rear, Power windows, Rain sensor]                                                                                                                      1\n",
       "[Air conditioning, Automatic climate control, Cruise control, Electrical side mirrors, Leather steering wheel, Light sensor, Multi-function steering wheel, Navigation system, Park Distance Control, Parking assist system sensors rear, Power windows, Rain sensor, Start-stop system]                                                                                  1\n",
       "[Air conditioning, Armrest, Cruise control, Electrical side mirrors, Leather steering wheel, Light sensor, Multi-function steering wheel, Park Distance Control, Parking assist system camera, Parking assist system sensors front, Parking assist system sensors rear, Power windows, Rain sensor, Seat heating, Start-stop system]                                      1\n",
       "[Air conditioning, Armrest, Automatic climate control, Auxiliary heating, Electrical side mirrors, Leather steering wheel, Light sensor, Multi-function steering wheel, Navigation system, Park Distance Control, Parking assist system sensors front, Parking assist system sensors rear, Power windows, Seat heating]                                                   1\n",
       "Name: comfort&convenience, Length: 6199, dtype: int64"
      ]
     },
     "execution_count": 87,
     "metadata": {},
     "output_type": "execute_result"
    }
   ],
   "source": [
    "df[\"comfort&convenience\"].value_counts(dropna = False)"
   ]
  },
  {
   "cell_type": "code",
   "execution_count": 88,
   "metadata": {},
   "outputs": [],
   "source": [
    "def unique_values(data, column_name):\n",
    "    unique_vals = set()\n",
    "    for rows in data[column_name]:\n",
    "        unique_vals.update(rows)\n",
    "    return list(unique_vals)"
   ]
  },
  {
   "cell_type": "code",
   "execution_count": 89,
   "metadata": {},
   "outputs": [
    {
     "data": {
      "text/plain": [
       "9        []\n",
       "30       []\n",
       "53       []\n",
       "168      []\n",
       "191      []\n",
       "         ..\n",
       "15791    []\n",
       "15804    []\n",
       "15805    []\n",
       "15854    []\n",
       "15864    []\n",
       "Name: comfort&convenience, Length: 920, dtype: object"
      ]
     },
     "execution_count": 89,
     "metadata": {},
     "output_type": "execute_result"
    }
   ],
   "source": [
    "df[df['comfort&convenience'].isnull()]['comfort&convenience'].map({np.nan:[]})"
   ]
  },
  {
   "cell_type": "code",
   "execution_count": 90,
   "metadata": {},
   "outputs": [],
   "source": [
    "def NaN_to_list(data, column_name):\n",
    "    NaN_rows = data[column_name].isnull()\n",
    "    data.loc[NaN_rows, column_name] = data.loc[NaN_rows, column_name].apply(lambda x: [])"
   ]
  },
  {
   "cell_type": "code",
   "execution_count": 91,
   "metadata": {
    "scrolled": true
   },
   "outputs": [
    {
     "data": {
      "text/plain": [
       "['Electrically adjustable seats',\n",
       " 'Armrest',\n",
       " 'Light sensor',\n",
       " 'Power windows',\n",
       " 'Tinted windows',\n",
       " 'Air suspension',\n",
       " 'Electric tailgate',\n",
       " 'Panorama roof',\n",
       " 'Electrical side mirrors',\n",
       " 'Parking assist system sensors front',\n",
       " 'Heated steering wheel',\n",
       " 'Parking assist system camera',\n",
       " 'Split rear seats',\n",
       " 'Park Distance Control',\n",
       " 'Lumbar support',\n",
       " 'Multi-function steering wheel',\n",
       " 'Air conditioning',\n",
       " 'Heads-up display',\n",
       " 'Electrically heated windshield',\n",
       " 'Sunroof',\n",
       " 'Automatic climate control',\n",
       " 'Windshield',\n",
       " 'Massage seats',\n",
       " 'Rain sensor',\n",
       " 'Seat heating',\n",
       " 'Wind deflector',\n",
       " 'Cruise control',\n",
       " 'Parking assist system self-steering',\n",
       " 'Keyless central door lock',\n",
       " 'Navigation system',\n",
       " 'Start-stop system',\n",
       " 'Leather seats',\n",
       " 'Auxiliary heating',\n",
       " 'Leather steering wheel',\n",
       " 'Seat ventilation',\n",
       " 'Hill Holder',\n",
       " 'Parking assist system sensors rear',\n",
       " 'Electric Starter']"
      ]
     },
     "execution_count": 91,
     "metadata": {},
     "output_type": "execute_result"
    }
   ],
   "source": [
    "NaN_to_list(df, 'comfort&convenience')\n",
    "unique_values(df, 'comfort&convenience')"
   ]
  },
  {
   "cell_type": "code",
   "execution_count": 92,
   "metadata": {},
   "outputs": [],
   "source": [
    "nxtins_list = [\",\".join(item).strip() if type(item) == list else item for item in df['comfort&convenience']]"
   ]
  },
  {
   "cell_type": "code",
   "execution_count": 93,
   "metadata": {},
   "outputs": [],
   "source": [
    "df['comfort&convenience'] = nxtins_list"
   ]
  },
  {
   "cell_type": "code",
   "execution_count": 94,
   "metadata": {
    "scrolled": true
   },
   "outputs": [
    {
     "data": {
      "text/plain": [
       "                                                                                                                                                                                                                                                                                                                                                      920\n",
       "Air conditioning,Electrical side mirrors,Hill Holder,Power windows                                                                                                                                                                                                                                                                                    216\n",
       "Air conditioning,Electrical side mirrors,Power windows                                                                                                                                                                                                                                                                                                134\n",
       "Air conditioning,Power windows                                                                                                                                                                                                                                                                                                                        130\n",
       "Air conditioning,Armrest,Automatic climate control,Cruise control,Electrical side mirrors,Leather steering wheel,Light sensor,Lumbar support,Multi-function steering wheel,Navigation system,Park Distance Control,Parking assist system sensors front,Parking assist system sensors rear,Power windows,Rain sensor,Seat heating,Start-stop system    105\n",
       "                                                                                                                                                                                                                                                                                                                                                     ... \n",
       "Air conditioning,Cruise control,Navigation system,Power windows,Tinted windows                                                                                                                                                                                                                                                                          1\n",
       "Air conditioning,Armrest,Automatic climate control,Cruise control,Electrical side mirrors,Leather steering wheel,Multi-function steering wheel,Navigation system,Park Distance Control,Parking assist system sensors front,Parking assist system sensors rear,Power windows,Split rear seats,Tinted windows                                             1\n",
       "Air conditioning,Armrest,Cruise control,Electrical side mirrors,Hill Holder,Leather steering wheel,Light sensor,Park Distance Control,Parking assist system sensors front,Parking assist system sensors rear,Power windows,Start-stop system                                                                                                            1\n",
       "Air conditioning,Cruise control,Electrical side mirrors,Leather steering wheel,Light sensor,Multi-function steering wheel,Navigation system,Park Distance Control,Parking assist system sensors rear,Power windows,Split rear seats                                                                                                                     1\n",
       "Air conditioning,Cruise control,Electrical side mirrors,Hill Holder,Multi-function steering wheel,Navigation system,Park Distance Control,Parking assist system sensors rear,Power windows,Split rear seats                                                                                                                                             1\n",
       "Name: comfort&convenience, Length: 6199, dtype: int64"
      ]
     },
     "execution_count": 94,
     "metadata": {},
     "output_type": "execute_result"
    }
   ],
   "source": [
    "df['comfort&convenience'].value_counts(dropna = False)"
   ]
  },
  {
   "cell_type": "code",
   "execution_count": 95,
   "metadata": {},
   "outputs": [],
   "source": [
    "df['comfort&convenience'] = df['comfort&convenience'].mask(df['comfort&convenience'] == '')"
   ]
  },
  {
   "cell_type": "code",
   "execution_count": 96,
   "metadata": {},
   "outputs": [
    {
     "data": {
      "text/plain": [
       "920"
      ]
     },
     "execution_count": 96,
     "metadata": {},
     "output_type": "execute_result"
    }
   ],
   "source": [
    "df['comfort&convenience'].isnull().sum()"
   ]
  },
  {
   "cell_type": "code",
   "execution_count": 97,
   "metadata": {
    "scrolled": true
   },
   "outputs": [
    {
     "data": {
      "text/plain": [
       "NaN                                                                                                                                                                                                                                                                                                                                                                                                             920\n",
       "Air conditioning,Electrical side mirrors,Hill Holder,Power windows                                                                                                                                                                                                                                                                                                                                              216\n",
       "Air conditioning,Electrical side mirrors,Power windows                                                                                                                                                                                                                                                                                                                                                          134\n",
       "Air conditioning,Power windows                                                                                                                                                                                                                                                                                                                                                                                  130\n",
       "Air conditioning,Armrest,Automatic climate control,Cruise control,Electrical side mirrors,Leather steering wheel,Light sensor,Lumbar support,Multi-function steering wheel,Navigation system,Park Distance Control,Parking assist system sensors front,Parking assist system sensors rear,Power windows,Rain sensor,Seat heating,Start-stop system                                                              105\n",
       "                                                                                                                                                                                                                                                                                                                                                                                                               ... \n",
       "Air conditioning,Automatic climate control,Cruise control,Electrically adjustable seats,Electrical side mirrors,Leather steering wheel,Navigation system,Park Distance Control,Parking assist system self-steering,Parking assist system sensors front,Parking assist system sensors rear,Power windows,Seat heating                                                                                              1\n",
       "Air conditioning,Armrest,Automatic climate control,Cruise control,Electrical side mirrors,Electric tailgate,Hill Holder,Keyless central door lock,Leather steering wheel,Light sensor,Navigation system,Park Distance Control,Parking assist system camera,Parking assist system self-steering,Parking assist system sensors front,Parking assist system sensors rear,Power windows,Rain sensor,Seat heating      1\n",
       "Air conditioning,Automatic climate control,Cruise control,Electrical side mirrors,Hill Holder,Leather steering wheel,Panorama roof,Park Distance Control,Parking assist system sensors front,Parking assist system sensors rear,Power windows,Seat heating,Sunroof                                                                                                                                                1\n",
       "Air conditioning,Automatic climate control,Electrically heated windshield,Electrical side mirrors,Leather steering wheel,Multi-function steering wheel,Navigation system,Park Distance Control,Parking assist system sensors front,Parking assist system sensors rear,Power windows,Rain sensor,Seat ventilation,Split rear seats                                                                                 1\n",
       "Air conditioning,Automatic climate control,Electrical side mirrors,Leather steering wheel,Light sensor,Multi-function steering wheel,Park Distance Control,Parking assist system sensors rear,Power windows,Rain sensor,Start-stop system,Tinted windows                                                                                                                                                          1\n",
       "Name: comfort&convenience, Length: 6199, dtype: int64"
      ]
     },
     "execution_count": 97,
     "metadata": {},
     "output_type": "execute_result"
    }
   ],
   "source": [
    "df['comfort&convenience'].value_counts(dropna = False)"
   ]
  },
  {
   "cell_type": "code",
   "execution_count": 98,
   "metadata": {},
   "outputs": [],
   "source": [
    "fill_most(df, 'make_model', 'comfort&convenience')"
   ]
  },
  {
   "cell_type": "code",
   "execution_count": 99,
   "metadata": {},
   "outputs": [
    {
     "data": {
      "text/plain": [
       "0"
      ]
     },
     "execution_count": 99,
     "metadata": {},
     "output_type": "execute_result"
    }
   ],
   "source": [
    "df['comfort&convenience'].isnull().sum()"
   ]
  },
  {
   "cell_type": "code",
   "execution_count": 100,
   "metadata": {},
   "outputs": [
    {
     "data": {
      "text/html": [
       "<div>\n",
       "<style scoped>\n",
       "    .dataframe tbody tr th:only-of-type {\n",
       "        vertical-align: middle;\n",
       "    }\n",
       "\n",
       "    .dataframe tbody tr th {\n",
       "        vertical-align: top;\n",
       "    }\n",
       "\n",
       "    .dataframe thead th {\n",
       "        text-align: right;\n",
       "    }\n",
       "</style>\n",
       "<table border=\"1\" class=\"dataframe\">\n",
       "  <thead>\n",
       "    <tr style=\"text-align: right;\">\n",
       "      <th></th>\n",
       "      <th>Air conditioning</th>\n",
       "      <th>Air suspension</th>\n",
       "      <th>Armrest</th>\n",
       "      <th>Automatic climate control</th>\n",
       "      <th>Auxiliary heating</th>\n",
       "      <th>Cruise control</th>\n",
       "      <th>Electric Starter</th>\n",
       "      <th>Electric tailgate</th>\n",
       "      <th>Electrical side mirrors</th>\n",
       "      <th>Electrically adjustable seats</th>\n",
       "      <th>Electrically heated windshield</th>\n",
       "      <th>Heads-up display</th>\n",
       "      <th>Heated steering wheel</th>\n",
       "      <th>Hill Holder</th>\n",
       "      <th>Keyless central door lock</th>\n",
       "      <th>Leather seats</th>\n",
       "      <th>Leather steering wheel</th>\n",
       "      <th>Light sensor</th>\n",
       "      <th>Lumbar support</th>\n",
       "      <th>Massage seats</th>\n",
       "      <th>Multi-function steering wheel</th>\n",
       "      <th>Navigation system</th>\n",
       "      <th>Panorama roof</th>\n",
       "      <th>Park Distance Control</th>\n",
       "      <th>Parking assist system camera</th>\n",
       "      <th>Parking assist system self-steering</th>\n",
       "      <th>Parking assist system sensors front</th>\n",
       "      <th>Parking assist system sensors rear</th>\n",
       "      <th>Power windows</th>\n",
       "      <th>Rain sensor</th>\n",
       "      <th>Seat heating</th>\n",
       "      <th>Seat ventilation</th>\n",
       "      <th>Split rear seats</th>\n",
       "      <th>Start-stop system</th>\n",
       "      <th>Sunroof</th>\n",
       "      <th>Tinted windows</th>\n",
       "      <th>Wind deflector</th>\n",
       "      <th>Windshield</th>\n",
       "    </tr>\n",
       "  </thead>\n",
       "  <tbody>\n",
       "    <tr>\n",
       "      <th>0</th>\n",
       "      <td>1</td>\n",
       "      <td>0</td>\n",
       "      <td>1</td>\n",
       "      <td>1</td>\n",
       "      <td>0</td>\n",
       "      <td>1</td>\n",
       "      <td>0</td>\n",
       "      <td>0</td>\n",
       "      <td>1</td>\n",
       "      <td>0</td>\n",
       "      <td>0</td>\n",
       "      <td>0</td>\n",
       "      <td>0</td>\n",
       "      <td>1</td>\n",
       "      <td>0</td>\n",
       "      <td>0</td>\n",
       "      <td>1</td>\n",
       "      <td>1</td>\n",
       "      <td>0</td>\n",
       "      <td>0</td>\n",
       "      <td>1</td>\n",
       "      <td>1</td>\n",
       "      <td>0</td>\n",
       "      <td>1</td>\n",
       "      <td>0</td>\n",
       "      <td>0</td>\n",
       "      <td>0</td>\n",
       "      <td>1</td>\n",
       "      <td>1</td>\n",
       "      <td>1</td>\n",
       "      <td>1</td>\n",
       "      <td>0</td>\n",
       "      <td>0</td>\n",
       "      <td>1</td>\n",
       "      <td>0</td>\n",
       "      <td>0</td>\n",
       "      <td>0</td>\n",
       "      <td>0</td>\n",
       "    </tr>\n",
       "    <tr>\n",
       "      <th>1</th>\n",
       "      <td>1</td>\n",
       "      <td>0</td>\n",
       "      <td>0</td>\n",
       "      <td>1</td>\n",
       "      <td>0</td>\n",
       "      <td>0</td>\n",
       "      <td>0</td>\n",
       "      <td>0</td>\n",
       "      <td>0</td>\n",
       "      <td>0</td>\n",
       "      <td>0</td>\n",
       "      <td>0</td>\n",
       "      <td>0</td>\n",
       "      <td>1</td>\n",
       "      <td>0</td>\n",
       "      <td>0</td>\n",
       "      <td>1</td>\n",
       "      <td>0</td>\n",
       "      <td>1</td>\n",
       "      <td>0</td>\n",
       "      <td>0</td>\n",
       "      <td>0</td>\n",
       "      <td>0</td>\n",
       "      <td>0</td>\n",
       "      <td>0</td>\n",
       "      <td>0</td>\n",
       "      <td>0</td>\n",
       "      <td>1</td>\n",
       "      <td>1</td>\n",
       "      <td>0</td>\n",
       "      <td>0</td>\n",
       "      <td>0</td>\n",
       "      <td>0</td>\n",
       "      <td>1</td>\n",
       "      <td>0</td>\n",
       "      <td>1</td>\n",
       "      <td>0</td>\n",
       "      <td>0</td>\n",
       "    </tr>\n",
       "    <tr>\n",
       "      <th>2</th>\n",
       "      <td>1</td>\n",
       "      <td>0</td>\n",
       "      <td>0</td>\n",
       "      <td>0</td>\n",
       "      <td>0</td>\n",
       "      <td>1</td>\n",
       "      <td>0</td>\n",
       "      <td>0</td>\n",
       "      <td>1</td>\n",
       "      <td>0</td>\n",
       "      <td>0</td>\n",
       "      <td>0</td>\n",
       "      <td>0</td>\n",
       "      <td>1</td>\n",
       "      <td>0</td>\n",
       "      <td>0</td>\n",
       "      <td>1</td>\n",
       "      <td>0</td>\n",
       "      <td>0</td>\n",
       "      <td>0</td>\n",
       "      <td>1</td>\n",
       "      <td>1</td>\n",
       "      <td>0</td>\n",
       "      <td>1</td>\n",
       "      <td>0</td>\n",
       "      <td>0</td>\n",
       "      <td>1</td>\n",
       "      <td>1</td>\n",
       "      <td>1</td>\n",
       "      <td>0</td>\n",
       "      <td>1</td>\n",
       "      <td>0</td>\n",
       "      <td>0</td>\n",
       "      <td>1</td>\n",
       "      <td>0</td>\n",
       "      <td>0</td>\n",
       "      <td>0</td>\n",
       "      <td>0</td>\n",
       "    </tr>\n",
       "    <tr>\n",
       "      <th>3</th>\n",
       "      <td>0</td>\n",
       "      <td>1</td>\n",
       "      <td>1</td>\n",
       "      <td>0</td>\n",
       "      <td>1</td>\n",
       "      <td>0</td>\n",
       "      <td>0</td>\n",
       "      <td>0</td>\n",
       "      <td>1</td>\n",
       "      <td>0</td>\n",
       "      <td>0</td>\n",
       "      <td>1</td>\n",
       "      <td>0</td>\n",
       "      <td>1</td>\n",
       "      <td>0</td>\n",
       "      <td>0</td>\n",
       "      <td>1</td>\n",
       "      <td>1</td>\n",
       "      <td>1</td>\n",
       "      <td>0</td>\n",
       "      <td>1</td>\n",
       "      <td>1</td>\n",
       "      <td>0</td>\n",
       "      <td>0</td>\n",
       "      <td>0</td>\n",
       "      <td>0</td>\n",
       "      <td>0</td>\n",
       "      <td>0</td>\n",
       "      <td>1</td>\n",
       "      <td>1</td>\n",
       "      <td>1</td>\n",
       "      <td>0</td>\n",
       "      <td>1</td>\n",
       "      <td>1</td>\n",
       "      <td>0</td>\n",
       "      <td>0</td>\n",
       "      <td>0</td>\n",
       "      <td>0</td>\n",
       "    </tr>\n",
       "    <tr>\n",
       "      <th>4</th>\n",
       "      <td>1</td>\n",
       "      <td>0</td>\n",
       "      <td>1</td>\n",
       "      <td>1</td>\n",
       "      <td>0</td>\n",
       "      <td>0</td>\n",
       "      <td>0</td>\n",
       "      <td>0</td>\n",
       "      <td>1</td>\n",
       "      <td>0</td>\n",
       "      <td>0</td>\n",
       "      <td>0</td>\n",
       "      <td>0</td>\n",
       "      <td>1</td>\n",
       "      <td>0</td>\n",
       "      <td>0</td>\n",
       "      <td>1</td>\n",
       "      <td>1</td>\n",
       "      <td>0</td>\n",
       "      <td>0</td>\n",
       "      <td>1</td>\n",
       "      <td>0</td>\n",
       "      <td>0</td>\n",
       "      <td>1</td>\n",
       "      <td>0</td>\n",
       "      <td>0</td>\n",
       "      <td>0</td>\n",
       "      <td>1</td>\n",
       "      <td>1</td>\n",
       "      <td>1</td>\n",
       "      <td>0</td>\n",
       "      <td>0</td>\n",
       "      <td>0</td>\n",
       "      <td>1</td>\n",
       "      <td>0</td>\n",
       "      <td>0</td>\n",
       "      <td>0</td>\n",
       "      <td>0</td>\n",
       "    </tr>\n",
       "    <tr>\n",
       "      <th>...</th>\n",
       "      <td>...</td>\n",
       "      <td>...</td>\n",
       "      <td>...</td>\n",
       "      <td>...</td>\n",
       "      <td>...</td>\n",
       "      <td>...</td>\n",
       "      <td>...</td>\n",
       "      <td>...</td>\n",
       "      <td>...</td>\n",
       "      <td>...</td>\n",
       "      <td>...</td>\n",
       "      <td>...</td>\n",
       "      <td>...</td>\n",
       "      <td>...</td>\n",
       "      <td>...</td>\n",
       "      <td>...</td>\n",
       "      <td>...</td>\n",
       "      <td>...</td>\n",
       "      <td>...</td>\n",
       "      <td>...</td>\n",
       "      <td>...</td>\n",
       "      <td>...</td>\n",
       "      <td>...</td>\n",
       "      <td>...</td>\n",
       "      <td>...</td>\n",
       "      <td>...</td>\n",
       "      <td>...</td>\n",
       "      <td>...</td>\n",
       "      <td>...</td>\n",
       "      <td>...</td>\n",
       "      <td>...</td>\n",
       "      <td>...</td>\n",
       "      <td>...</td>\n",
       "      <td>...</td>\n",
       "      <td>...</td>\n",
       "      <td>...</td>\n",
       "      <td>...</td>\n",
       "      <td>...</td>\n",
       "    </tr>\n",
       "    <tr>\n",
       "      <th>15914</th>\n",
       "      <td>1</td>\n",
       "      <td>0</td>\n",
       "      <td>0</td>\n",
       "      <td>1</td>\n",
       "      <td>0</td>\n",
       "      <td>1</td>\n",
       "      <td>0</td>\n",
       "      <td>0</td>\n",
       "      <td>1</td>\n",
       "      <td>1</td>\n",
       "      <td>0</td>\n",
       "      <td>0</td>\n",
       "      <td>0</td>\n",
       "      <td>1</td>\n",
       "      <td>1</td>\n",
       "      <td>0</td>\n",
       "      <td>1</td>\n",
       "      <td>1</td>\n",
       "      <td>0</td>\n",
       "      <td>1</td>\n",
       "      <td>1</td>\n",
       "      <td>1</td>\n",
       "      <td>0</td>\n",
       "      <td>1</td>\n",
       "      <td>0</td>\n",
       "      <td>0</td>\n",
       "      <td>1</td>\n",
       "      <td>1</td>\n",
       "      <td>1</td>\n",
       "      <td>1</td>\n",
       "      <td>0</td>\n",
       "      <td>0</td>\n",
       "      <td>1</td>\n",
       "      <td>1</td>\n",
       "      <td>0</td>\n",
       "      <td>1</td>\n",
       "      <td>0</td>\n",
       "      <td>0</td>\n",
       "    </tr>\n",
       "    <tr>\n",
       "      <th>15915</th>\n",
       "      <td>1</td>\n",
       "      <td>0</td>\n",
       "      <td>0</td>\n",
       "      <td>1</td>\n",
       "      <td>0</td>\n",
       "      <td>1</td>\n",
       "      <td>0</td>\n",
       "      <td>1</td>\n",
       "      <td>1</td>\n",
       "      <td>0</td>\n",
       "      <td>1</td>\n",
       "      <td>1</td>\n",
       "      <td>1</td>\n",
       "      <td>1</td>\n",
       "      <td>1</td>\n",
       "      <td>0</td>\n",
       "      <td>1</td>\n",
       "      <td>1</td>\n",
       "      <td>1</td>\n",
       "      <td>0</td>\n",
       "      <td>0</td>\n",
       "      <td>1</td>\n",
       "      <td>0</td>\n",
       "      <td>1</td>\n",
       "      <td>1</td>\n",
       "      <td>1</td>\n",
       "      <td>1</td>\n",
       "      <td>1</td>\n",
       "      <td>1</td>\n",
       "      <td>1</td>\n",
       "      <td>1</td>\n",
       "      <td>0</td>\n",
       "      <td>0</td>\n",
       "      <td>0</td>\n",
       "      <td>1</td>\n",
       "      <td>0</td>\n",
       "      <td>0</td>\n",
       "      <td>0</td>\n",
       "    </tr>\n",
       "    <tr>\n",
       "      <th>15916</th>\n",
       "      <td>1</td>\n",
       "      <td>0</td>\n",
       "      <td>1</td>\n",
       "      <td>1</td>\n",
       "      <td>0</td>\n",
       "      <td>1</td>\n",
       "      <td>0</td>\n",
       "      <td>1</td>\n",
       "      <td>1</td>\n",
       "      <td>0</td>\n",
       "      <td>1</td>\n",
       "      <td>1</td>\n",
       "      <td>1</td>\n",
       "      <td>0</td>\n",
       "      <td>0</td>\n",
       "      <td>0</td>\n",
       "      <td>1</td>\n",
       "      <td>1</td>\n",
       "      <td>0</td>\n",
       "      <td>1</td>\n",
       "      <td>1</td>\n",
       "      <td>1</td>\n",
       "      <td>1</td>\n",
       "      <td>1</td>\n",
       "      <td>1</td>\n",
       "      <td>0</td>\n",
       "      <td>1</td>\n",
       "      <td>1</td>\n",
       "      <td>1</td>\n",
       "      <td>1</td>\n",
       "      <td>1</td>\n",
       "      <td>1</td>\n",
       "      <td>0</td>\n",
       "      <td>0</td>\n",
       "      <td>1</td>\n",
       "      <td>0</td>\n",
       "      <td>0</td>\n",
       "      <td>0</td>\n",
       "    </tr>\n",
       "    <tr>\n",
       "      <th>15917</th>\n",
       "      <td>1</td>\n",
       "      <td>0</td>\n",
       "      <td>0</td>\n",
       "      <td>1</td>\n",
       "      <td>0</td>\n",
       "      <td>1</td>\n",
       "      <td>0</td>\n",
       "      <td>0</td>\n",
       "      <td>1</td>\n",
       "      <td>1</td>\n",
       "      <td>0</td>\n",
       "      <td>0</td>\n",
       "      <td>0</td>\n",
       "      <td>0</td>\n",
       "      <td>0</td>\n",
       "      <td>0</td>\n",
       "      <td>1</td>\n",
       "      <td>1</td>\n",
       "      <td>0</td>\n",
       "      <td>0</td>\n",
       "      <td>0</td>\n",
       "      <td>0</td>\n",
       "      <td>0</td>\n",
       "      <td>1</td>\n",
       "      <td>0</td>\n",
       "      <td>0</td>\n",
       "      <td>0</td>\n",
       "      <td>0</td>\n",
       "      <td>1</td>\n",
       "      <td>0</td>\n",
       "      <td>0</td>\n",
       "      <td>0</td>\n",
       "      <td>0</td>\n",
       "      <td>1</td>\n",
       "      <td>0</td>\n",
       "      <td>0</td>\n",
       "      <td>0</td>\n",
       "      <td>0</td>\n",
       "    </tr>\n",
       "    <tr>\n",
       "      <th>15918</th>\n",
       "      <td>1</td>\n",
       "      <td>0</td>\n",
       "      <td>0</td>\n",
       "      <td>1</td>\n",
       "      <td>0</td>\n",
       "      <td>1</td>\n",
       "      <td>0</td>\n",
       "      <td>1</td>\n",
       "      <td>1</td>\n",
       "      <td>1</td>\n",
       "      <td>0</td>\n",
       "      <td>0</td>\n",
       "      <td>0</td>\n",
       "      <td>1</td>\n",
       "      <td>0</td>\n",
       "      <td>0</td>\n",
       "      <td>1</td>\n",
       "      <td>0</td>\n",
       "      <td>0</td>\n",
       "      <td>0</td>\n",
       "      <td>0</td>\n",
       "      <td>1</td>\n",
       "      <td>0</td>\n",
       "      <td>0</td>\n",
       "      <td>0</td>\n",
       "      <td>0</td>\n",
       "      <td>0</td>\n",
       "      <td>0</td>\n",
       "      <td>1</td>\n",
       "      <td>0</td>\n",
       "      <td>1</td>\n",
       "      <td>0</td>\n",
       "      <td>0</td>\n",
       "      <td>0</td>\n",
       "      <td>0</td>\n",
       "      <td>0</td>\n",
       "      <td>0</td>\n",
       "      <td>0</td>\n",
       "    </tr>\n",
       "  </tbody>\n",
       "</table>\n",
       "<p>15919 rows × 38 columns</p>\n",
       "</div>"
      ],
      "text/plain": [
       "       Air conditioning  Air suspension  Armrest  Automatic climate control  Auxiliary heating  Cruise control  Electric Starter  Electric tailgate  Electrical side mirrors  Electrically adjustable seats  Electrically heated windshield  Heads-up display  Heated steering wheel  Hill Holder  Keyless central door lock  Leather seats  Leather steering wheel  Light sensor  Lumbar support  Massage seats  Multi-function steering wheel  Navigation system  Panorama roof  Park Distance Control  Parking assist system camera  Parking assist system self-steering  Parking assist system sensors front  Parking assist system sensors rear  Power windows  Rain sensor  Seat heating  Seat ventilation  Split rear seats  Start-stop system  Sunroof  Tinted windows  Wind deflector  Windshield\n",
       "0                     1               0        1                          1                  0               1                 0                  0                        1                              0                               0                 0                      0            1                          0              0                       1             1               0              0                              1                  1              0                      1                             0                                    0                                    0                                   1              1            1             1                 0                 0                  1        0               0               0           0\n",
       "1                     1               0        0                          1                  0               0                 0                  0                        0                              0                               0                 0                      0            1                          0              0                       1             0               1              0                              0                  0              0                      0                             0                                    0                                    0                                   1              1            0             0                 0                 0                  1        0               1               0           0\n",
       "2                     1               0        0                          0                  0               1                 0                  0                        1                              0                               0                 0                      0            1                          0              0                       1             0               0              0                              1                  1              0                      1                             0                                    0                                    1                                   1              1            0             1                 0                 0                  1        0               0               0           0\n",
       "3                     0               1        1                          0                  1               0                 0                  0                        1                              0                               0                 1                      0            1                          0              0                       1             1               1              0                              1                  1              0                      0                             0                                    0                                    0                                   0              1            1             1                 0                 1                  1        0               0               0           0\n",
       "4                     1               0        1                          1                  0               0                 0                  0                        1                              0                               0                 0                      0            1                          0              0                       1             1               0              0                              1                  0              0                      1                             0                                    0                                    0                                   1              1            1             0                 0                 0                  1        0               0               0           0\n",
       "...                 ...             ...      ...                        ...                ...             ...               ...                ...                      ...                            ...                             ...               ...                    ...          ...                        ...            ...                     ...           ...             ...            ...                            ...                ...            ...                    ...                           ...                                  ...                                  ...                                 ...            ...          ...           ...               ...               ...                ...      ...             ...             ...         ...\n",
       "15914                 1               0        0                          1                  0               1                 0                  0                        1                              1                               0                 0                      0            1                          1              0                       1             1               0              1                              1                  1              0                      1                             0                                    0                                    1                                   1              1            1             0                 0                 1                  1        0               1               0           0\n",
       "15915                 1               0        0                          1                  0               1                 0                  1                        1                              0                               1                 1                      1            1                          1              0                       1             1               1              0                              0                  1              0                      1                             1                                    1                                    1                                   1              1            1             1                 0                 0                  0        1               0               0           0\n",
       "15916                 1               0        1                          1                  0               1                 0                  1                        1                              0                               1                 1                      1            0                          0              0                       1             1               0              1                              1                  1              1                      1                             1                                    0                                    1                                   1              1            1             1                 1                 0                  0        1               0               0           0\n",
       "15917                 1               0        0                          1                  0               1                 0                  0                        1                              1                               0                 0                      0            0                          0              0                       1             1               0              0                              0                  0              0                      1                             0                                    0                                    0                                   0              1            0             0                 0                 0                  1        0               0               0           0\n",
       "15918                 1               0        0                          1                  0               1                 0                  1                        1                              1                               0                 0                      0            1                          0              0                       1             0               0              0                              0                  1              0                      0                             0                                    0                                    0                                   0              1            0             1                 0                 0                  0        0               0               0           0\n",
       "\n",
       "[15919 rows x 38 columns]"
      ]
     },
     "execution_count": 100,
     "metadata": {},
     "output_type": "execute_result"
    }
   ],
   "source": [
    "df['comfort&convenience'].str.get_dummies(sep=',')"
   ]
  },
  {
   "cell_type": "code",
   "execution_count": 101,
   "metadata": {},
   "outputs": [],
   "source": [
    "df = df.join(df['comfort&convenience'].str.get_dummies(sep=',').add_prefix('cc_') )"
   ]
  },
  {
   "cell_type": "code",
   "execution_count": 102,
   "metadata": {
    "scrolled": true
   },
   "outputs": [
    {
     "data": {
      "text/plain": [
       "(15919, 78)"
      ]
     },
     "execution_count": 102,
     "metadata": {},
     "output_type": "execute_result"
    }
   ],
   "source": [
    "df.shape"
   ]
  },
  {
   "cell_type": "code",
   "execution_count": 103,
   "metadata": {},
   "outputs": [
    {
     "data": {
      "text/plain": [
       "0.0863119542684842"
      ]
     },
     "execution_count": 103,
     "metadata": {},
     "output_type": "execute_result"
    }
   ],
   "source": [
    "df['entertainment&media'].isnull().sum()/df.shape[0]"
   ]
  },
  {
   "cell_type": "code",
   "execution_count": 104,
   "metadata": {},
   "outputs": [
    {
     "ename": "TypeError",
     "evalue": "unhashable type: 'list'",
     "output_type": "error",
     "traceback": [
      "\u001b[1;31m---------------------------------------------------------------------------\u001b[0m",
      "\u001b[1;31mTypeError\u001b[0m                                 Traceback (most recent call last)",
      "\u001b[1;32mpandas\\_libs\\hashtable_class_helper.pxi\u001b[0m in \u001b[0;36mpandas._libs.hashtable.PyObjectHashTable.map_locations\u001b[1;34m()\u001b[0m\n",
      "\u001b[1;31mTypeError\u001b[0m: unhashable type: 'list'"
     ]
    },
    {
     "name": "stderr",
     "output_type": "stream",
     "text": [
      "Exception ignored in: 'pandas._libs.index.IndexEngine._call_map_locations'\n",
      "Traceback (most recent call last):\n",
      "  File \"pandas\\_libs\\hashtable_class_helper.pxi\", line 1709, in pandas._libs.hashtable.PyObjectHashTable.map_locations\n",
      "TypeError: unhashable type: 'list'\n"
     ]
    },
    {
     "data": {
      "text/plain": [
       "NaN                                                                                      1374\n",
       "[Bluetooth, Hands-free equipment, On-board computer, Radio, USB]                         1282\n",
       "[Bluetooth, Hands-free equipment, MP3, On-board computer, Radio, USB]                     982\n",
       "[Bluetooth, CD player, Hands-free equipment, MP3, On-board computer, Radio, USB]          783\n",
       "[On-board computer, Radio]                                                                487\n",
       "                                                                                         ... \n",
       "[Bluetooth, MP3, On-board computer, Sound system, USB]                                      1\n",
       "[CD player, Hands-free equipment, On-board computer, Radio, Sound system, Television]       1\n",
       "[Bluetooth, Digital radio, On-board computer, Sound system, USB]                            1\n",
       "[CD player, Hands-free equipment, MP3, Radio, USB]                                          1\n",
       "[CD player, Digital radio, Radio]                                                           1\n",
       "Name: entertainment&media, Length: 347, dtype: int64"
      ]
     },
     "execution_count": 104,
     "metadata": {},
     "output_type": "execute_result"
    }
   ],
   "source": [
    "df['entertainment&media'].value_counts(dropna = False)"
   ]
  },
  {
   "cell_type": "code",
   "execution_count": 105,
   "metadata": {},
   "outputs": [],
   "source": [
    "NaN_to_list(df, 'entertainment&media')"
   ]
  },
  {
   "cell_type": "code",
   "execution_count": 106,
   "metadata": {},
   "outputs": [
    {
     "data": {
      "text/plain": [
       "['On-board computer',\n",
       " 'Sound system',\n",
       " 'Hands-free equipment',\n",
       " 'CD player',\n",
       " 'Radio',\n",
       " 'Television',\n",
       " 'Bluetooth',\n",
       " 'USB',\n",
       " 'MP3',\n",
       " 'Digital radio']"
      ]
     },
     "execution_count": 106,
     "metadata": {},
     "output_type": "execute_result"
    }
   ],
   "source": [
    "unique_values(df, 'entertainment&media')"
   ]
  },
  {
   "cell_type": "code",
   "execution_count": 107,
   "metadata": {},
   "outputs": [],
   "source": [
    "ent_med_list = [\",\".join(item).strip() if type(item) == list else item for item in df['entertainment&media']]"
   ]
  },
  {
   "cell_type": "code",
   "execution_count": 108,
   "metadata": {},
   "outputs": [],
   "source": [
    "df['entertainment&media'] = pd.DataFrame(ent_med_list)"
   ]
  },
  {
   "cell_type": "code",
   "execution_count": 109,
   "metadata": {},
   "outputs": [
    {
     "data": {
      "text/plain": [
       "                                                                            1374\n",
       "Bluetooth,Hands-free equipment,On-board computer,Radio,USB                  1282\n",
       "Bluetooth,Hands-free equipment,MP3,On-board computer,Radio,USB               982\n",
       "Bluetooth,CD player,Hands-free equipment,MP3,On-board computer,Radio,USB     783\n",
       "On-board computer,Radio                                                      487\n",
       "                                                                            ... \n",
       "CD player,Hands-free equipment,MP3,Radio                                       1\n",
       "Bluetooth,Digital radio,MP3,On-board computer,Radio,Sound system               1\n",
       "Bluetooth,CD player,Digital radio,On-board computer,Radio                      1\n",
       "Bluetooth,Digital radio,On-board computer,Radio,Sound system                   1\n",
       "MP3,Radio,USB                                                                  1\n",
       "Name: entertainment&media, Length: 347, dtype: int64"
      ]
     },
     "execution_count": 109,
     "metadata": {},
     "output_type": "execute_result"
    }
   ],
   "source": [
    "df['entertainment&media'].value_counts(dropna = False)"
   ]
  },
  {
   "cell_type": "code",
   "execution_count": 110,
   "metadata": {},
   "outputs": [],
   "source": [
    "df['entertainment&media'] = df['entertainment&media'].mask(df['entertainment&media'] == '')"
   ]
  },
  {
   "cell_type": "code",
   "execution_count": 111,
   "metadata": {},
   "outputs": [
    {
     "data": {
      "text/plain": [
       "NaN                                                                         1374\n",
       "Bluetooth,Hands-free equipment,On-board computer,Radio,USB                  1282\n",
       "Bluetooth,Hands-free equipment,MP3,On-board computer,Radio,USB               982\n",
       "Bluetooth,CD player,Hands-free equipment,MP3,On-board computer,Radio,USB     783\n",
       "On-board computer,Radio                                                      487\n",
       "                                                                            ... \n",
       "CD player,Hands-free equipment,MP3,Radio                                       1\n",
       "Bluetooth,Digital radio,MP3,On-board computer,Radio,Sound system               1\n",
       "Bluetooth,CD player,Digital radio,On-board computer,Radio                      1\n",
       "Bluetooth,Digital radio,On-board computer,Radio,Sound system                   1\n",
       "MP3,Radio,USB                                                                  1\n",
       "Name: entertainment&media, Length: 347, dtype: int64"
      ]
     },
     "execution_count": 111,
     "metadata": {},
     "output_type": "execute_result"
    }
   ],
   "source": [
    "df['entertainment&media'].value_counts(dropna = False)"
   ]
  },
  {
   "cell_type": "code",
   "execution_count": 112,
   "metadata": {},
   "outputs": [],
   "source": [
    "fill_most(df, 'make_model', 'entertainment&media')"
   ]
  },
  {
   "cell_type": "code",
   "execution_count": 113,
   "metadata": {},
   "outputs": [
    {
     "data": {
      "text/plain": [
       "Bluetooth,Hands-free equipment,On-board computer,Radio,USB                                                  2015\n",
       "Bluetooth,Hands-free equipment,MP3,On-board computer,Radio,USB                                              1206\n",
       "Bluetooth,CD player,Hands-free equipment,MP3,On-board computer,Radio,USB                                    1049\n",
       "Bluetooth,Hands-free equipment,On-board computer,Radio                                                       529\n",
       "On-board computer,Radio                                                                                      487\n",
       "                                                                                                            ... \n",
       "Hands-free equipment,On-board computer,Sound system                                                            1\n",
       "Bluetooth,CD player,Digital radio,Hands-free equipment,MP3,On-board computer,Sound system,Television,USB       1\n",
       "Bluetooth,Digital radio,On-board computer,Sound system,USB                                                     1\n",
       "Bluetooth,CD player,Digital radio,MP3,Radio,USB                                                                1\n",
       "Bluetooth,CD player,Digital radio,Hands-free equipment,Radio                                                   1\n",
       "Name: entertainment&media, Length: 346, dtype: int64"
      ]
     },
     "execution_count": 113,
     "metadata": {},
     "output_type": "execute_result"
    }
   ],
   "source": [
    "df['entertainment&media'].value_counts(dropna = False)"
   ]
  },
  {
   "cell_type": "code",
   "execution_count": 114,
   "metadata": {},
   "outputs": [
    {
     "data": {
      "text/html": [
       "<div>\n",
       "<style scoped>\n",
       "    .dataframe tbody tr th:only-of-type {\n",
       "        vertical-align: middle;\n",
       "    }\n",
       "\n",
       "    .dataframe tbody tr th {\n",
       "        vertical-align: top;\n",
       "    }\n",
       "\n",
       "    .dataframe thead th {\n",
       "        text-align: right;\n",
       "    }\n",
       "</style>\n",
       "<table border=\"1\" class=\"dataframe\">\n",
       "  <thead>\n",
       "    <tr style=\"text-align: right;\">\n",
       "      <th></th>\n",
       "      <th>Bluetooth</th>\n",
       "      <th>CD player</th>\n",
       "      <th>Digital radio</th>\n",
       "      <th>Hands-free equipment</th>\n",
       "      <th>MP3</th>\n",
       "      <th>On-board computer</th>\n",
       "      <th>Radio</th>\n",
       "      <th>Sound system</th>\n",
       "      <th>Television</th>\n",
       "      <th>USB</th>\n",
       "    </tr>\n",
       "  </thead>\n",
       "  <tbody>\n",
       "    <tr>\n",
       "      <th>0</th>\n",
       "      <td>1</td>\n",
       "      <td>0</td>\n",
       "      <td>0</td>\n",
       "      <td>1</td>\n",
       "      <td>0</td>\n",
       "      <td>1</td>\n",
       "      <td>1</td>\n",
       "      <td>0</td>\n",
       "      <td>0</td>\n",
       "      <td>0</td>\n",
       "    </tr>\n",
       "    <tr>\n",
       "      <th>1</th>\n",
       "      <td>1</td>\n",
       "      <td>0</td>\n",
       "      <td>0</td>\n",
       "      <td>1</td>\n",
       "      <td>0</td>\n",
       "      <td>1</td>\n",
       "      <td>1</td>\n",
       "      <td>1</td>\n",
       "      <td>0</td>\n",
       "      <td>0</td>\n",
       "    </tr>\n",
       "    <tr>\n",
       "      <th>2</th>\n",
       "      <td>0</td>\n",
       "      <td>0</td>\n",
       "      <td>0</td>\n",
       "      <td>0</td>\n",
       "      <td>1</td>\n",
       "      <td>1</td>\n",
       "      <td>0</td>\n",
       "      <td>0</td>\n",
       "      <td>0</td>\n",
       "      <td>0</td>\n",
       "    </tr>\n",
       "    <tr>\n",
       "      <th>3</th>\n",
       "      <td>1</td>\n",
       "      <td>1</td>\n",
       "      <td>0</td>\n",
       "      <td>1</td>\n",
       "      <td>1</td>\n",
       "      <td>1</td>\n",
       "      <td>1</td>\n",
       "      <td>1</td>\n",
       "      <td>0</td>\n",
       "      <td>1</td>\n",
       "    </tr>\n",
       "    <tr>\n",
       "      <th>4</th>\n",
       "      <td>1</td>\n",
       "      <td>1</td>\n",
       "      <td>0</td>\n",
       "      <td>1</td>\n",
       "      <td>1</td>\n",
       "      <td>1</td>\n",
       "      <td>1</td>\n",
       "      <td>0</td>\n",
       "      <td>0</td>\n",
       "      <td>1</td>\n",
       "    </tr>\n",
       "    <tr>\n",
       "      <th>...</th>\n",
       "      <td>...</td>\n",
       "      <td>...</td>\n",
       "      <td>...</td>\n",
       "      <td>...</td>\n",
       "      <td>...</td>\n",
       "      <td>...</td>\n",
       "      <td>...</td>\n",
       "      <td>...</td>\n",
       "      <td>...</td>\n",
       "      <td>...</td>\n",
       "    </tr>\n",
       "    <tr>\n",
       "      <th>15914</th>\n",
       "      <td>1</td>\n",
       "      <td>0</td>\n",
       "      <td>1</td>\n",
       "      <td>1</td>\n",
       "      <td>0</td>\n",
       "      <td>1</td>\n",
       "      <td>1</td>\n",
       "      <td>0</td>\n",
       "      <td>0</td>\n",
       "      <td>1</td>\n",
       "    </tr>\n",
       "    <tr>\n",
       "      <th>15915</th>\n",
       "      <td>1</td>\n",
       "      <td>0</td>\n",
       "      <td>1</td>\n",
       "      <td>1</td>\n",
       "      <td>0</td>\n",
       "      <td>0</td>\n",
       "      <td>1</td>\n",
       "      <td>0</td>\n",
       "      <td>0</td>\n",
       "      <td>1</td>\n",
       "    </tr>\n",
       "    <tr>\n",
       "      <th>15916</th>\n",
       "      <td>1</td>\n",
       "      <td>0</td>\n",
       "      <td>0</td>\n",
       "      <td>1</td>\n",
       "      <td>0</td>\n",
       "      <td>1</td>\n",
       "      <td>1</td>\n",
       "      <td>0</td>\n",
       "      <td>0</td>\n",
       "      <td>0</td>\n",
       "    </tr>\n",
       "    <tr>\n",
       "      <th>15917</th>\n",
       "      <td>1</td>\n",
       "      <td>0</td>\n",
       "      <td>1</td>\n",
       "      <td>0</td>\n",
       "      <td>0</td>\n",
       "      <td>0</td>\n",
       "      <td>1</td>\n",
       "      <td>0</td>\n",
       "      <td>0</td>\n",
       "      <td>1</td>\n",
       "    </tr>\n",
       "    <tr>\n",
       "      <th>15918</th>\n",
       "      <td>0</td>\n",
       "      <td>0</td>\n",
       "      <td>0</td>\n",
       "      <td>0</td>\n",
       "      <td>0</td>\n",
       "      <td>0</td>\n",
       "      <td>0</td>\n",
       "      <td>0</td>\n",
       "      <td>0</td>\n",
       "      <td>1</td>\n",
       "    </tr>\n",
       "  </tbody>\n",
       "</table>\n",
       "<p>15919 rows × 10 columns</p>\n",
       "</div>"
      ],
      "text/plain": [
       "       Bluetooth  CD player  Digital radio  Hands-free equipment  MP3  On-board computer  Radio  Sound system  Television  USB\n",
       "0              1          0              0                     1    0                  1      1             0           0    0\n",
       "1              1          0              0                     1    0                  1      1             1           0    0\n",
       "2              0          0              0                     0    1                  1      0             0           0    0\n",
       "3              1          1              0                     1    1                  1      1             1           0    1\n",
       "4              1          1              0                     1    1                  1      1             0           0    1\n",
       "...          ...        ...            ...                   ...  ...                ...    ...           ...         ...  ...\n",
       "15914          1          0              1                     1    0                  1      1             0           0    1\n",
       "15915          1          0              1                     1    0                  0      1             0           0    1\n",
       "15916          1          0              0                     1    0                  1      1             0           0    0\n",
       "15917          1          0              1                     0    0                  0      1             0           0    1\n",
       "15918          0          0              0                     0    0                  0      0             0           0    1\n",
       "\n",
       "[15919 rows x 10 columns]"
      ]
     },
     "execution_count": 114,
     "metadata": {},
     "output_type": "execute_result"
    }
   ],
   "source": [
    "df['entertainment&media'].str.get_dummies(sep = ',')"
   ]
  },
  {
   "cell_type": "code",
   "execution_count": 115,
   "metadata": {},
   "outputs": [],
   "source": [
    "df = df.join(df['entertainment&media'].str.get_dummies(sep = ',').add_prefix('em_'))"
   ]
  },
  {
   "cell_type": "code",
   "execution_count": 116,
   "metadata": {
    "scrolled": true
   },
   "outputs": [
    {
     "data": {
      "text/html": [
       "<div>\n",
       "<style scoped>\n",
       "    .dataframe tbody tr th:only-of-type {\n",
       "        vertical-align: middle;\n",
       "    }\n",
       "\n",
       "    .dataframe tbody tr th {\n",
       "        vertical-align: top;\n",
       "    }\n",
       "\n",
       "    .dataframe thead th {\n",
       "        text-align: right;\n",
       "    }\n",
       "</style>\n",
       "<table border=\"1\" class=\"dataframe\">\n",
       "  <thead>\n",
       "    <tr style=\"text-align: right;\">\n",
       "      <th></th>\n",
       "      <th>make_model</th>\n",
       "      <th>short_description</th>\n",
       "      <th>body_type</th>\n",
       "      <th>price</th>\n",
       "      <th>vat</th>\n",
       "      <th>km</th>\n",
       "      <th>registration</th>\n",
       "      <th>hp</th>\n",
       "      <th>type</th>\n",
       "      <th>previous_owners</th>\n",
       "      <th>next_inspection</th>\n",
       "      <th>inspection_new</th>\n",
       "      <th>warranty</th>\n",
       "      <th>make</th>\n",
       "      <th>model</th>\n",
       "      <th>offer_number</th>\n",
       "      <th>first_registration</th>\n",
       "      <th>body_color</th>\n",
       "      <th>paint_type</th>\n",
       "      <th>body_color_original</th>\n",
       "      <th>upholstery</th>\n",
       "      <th>nr_of_doors</th>\n",
       "      <th>nr_of_seats</th>\n",
       "      <th>model_code</th>\n",
       "      <th>gearing_type</th>\n",
       "      <th>displacement</th>\n",
       "      <th>cylinders</th>\n",
       "      <th>drive_chain</th>\n",
       "      <th>fuel</th>\n",
       "      <th>consumption</th>\n",
       "      <th>co2_emission</th>\n",
       "      <th>emission_class</th>\n",
       "      <th>comfort&amp;convenience</th>\n",
       "      <th>entertainment&amp;media</th>\n",
       "      <th>extras</th>\n",
       "      <th>safety&amp;security</th>\n",
       "      <th>description</th>\n",
       "      <th>emission_label</th>\n",
       "      <th>gears</th>\n",
       "      <th>country_version</th>\n",
       "      <th>cc_Air conditioning</th>\n",
       "      <th>cc_Air suspension</th>\n",
       "      <th>cc_Armrest</th>\n",
       "      <th>cc_Automatic climate control</th>\n",
       "      <th>cc_Auxiliary heating</th>\n",
       "      <th>cc_Cruise control</th>\n",
       "      <th>cc_Electric Starter</th>\n",
       "      <th>cc_Electric tailgate</th>\n",
       "      <th>cc_Electrical side mirrors</th>\n",
       "      <th>cc_Electrically adjustable seats</th>\n",
       "      <th>cc_Electrically heated windshield</th>\n",
       "      <th>cc_Heads-up display</th>\n",
       "      <th>cc_Heated steering wheel</th>\n",
       "      <th>cc_Hill Holder</th>\n",
       "      <th>cc_Keyless central door lock</th>\n",
       "      <th>cc_Leather seats</th>\n",
       "      <th>cc_Leather steering wheel</th>\n",
       "      <th>cc_Light sensor</th>\n",
       "      <th>cc_Lumbar support</th>\n",
       "      <th>cc_Massage seats</th>\n",
       "      <th>cc_Multi-function steering wheel</th>\n",
       "      <th>cc_Navigation system</th>\n",
       "      <th>cc_Panorama roof</th>\n",
       "      <th>cc_Park Distance Control</th>\n",
       "      <th>cc_Parking assist system camera</th>\n",
       "      <th>cc_Parking assist system self-steering</th>\n",
       "      <th>cc_Parking assist system sensors front</th>\n",
       "      <th>cc_Parking assist system sensors rear</th>\n",
       "      <th>cc_Power windows</th>\n",
       "      <th>cc_Rain sensor</th>\n",
       "      <th>cc_Seat heating</th>\n",
       "      <th>cc_Seat ventilation</th>\n",
       "      <th>cc_Split rear seats</th>\n",
       "      <th>cc_Start-stop system</th>\n",
       "      <th>cc_Sunroof</th>\n",
       "      <th>cc_Tinted windows</th>\n",
       "      <th>cc_Wind deflector</th>\n",
       "      <th>cc_Windshield</th>\n",
       "      <th>em_Bluetooth</th>\n",
       "      <th>em_CD player</th>\n",
       "      <th>em_Digital radio</th>\n",
       "      <th>em_Hands-free equipment</th>\n",
       "      <th>em_MP3</th>\n",
       "      <th>em_On-board computer</th>\n",
       "      <th>em_Radio</th>\n",
       "      <th>em_Sound system</th>\n",
       "      <th>em_Television</th>\n",
       "      <th>em_USB</th>\n",
       "    </tr>\n",
       "  </thead>\n",
       "  <tbody>\n",
       "    <tr>\n",
       "      <th>0</th>\n",
       "      <td>Audi A1</td>\n",
       "      <td>Sportback 1.4 TDI S-tronic Xenon Navi Klima</td>\n",
       "      <td>Sedans</td>\n",
       "      <td>15770</td>\n",
       "      <td>VAT deductible</td>\n",
       "      <td>56,013 km</td>\n",
       "      <td>01/2016</td>\n",
       "      <td>66 kW</td>\n",
       "      <td>[, Used, , Diesel (Particulate Filter)]</td>\n",
       "      <td>2.0</td>\n",
       "      <td>2021-06-01</td>\n",
       "      <td>1</td>\n",
       "      <td>[\\n, \\n, \\n4 (Green)\\n]</td>\n",
       "      <td>Audi</td>\n",
       "      <td>A1</td>\n",
       "      <td>[\\nLR-062483\\n]</td>\n",
       "      <td>[\\n, 2016, \\n]</td>\n",
       "      <td>Black</td>\n",
       "      <td>Metallic</td>\n",
       "      <td>[\\nMythosschwarz\\n]</td>\n",
       "      <td>[\\nCloth, Black\\n]</td>\n",
       "      <td>[\\n5\\n]</td>\n",
       "      <td>[\\n5\\n]</td>\n",
       "      <td>[\\n0588/BDF\\n]</td>\n",
       "      <td>[\\n, Automatic, \\n]</td>\n",
       "      <td>[\\n1,422 cc\\n]</td>\n",
       "      <td>3</td>\n",
       "      <td>[\\nfront\\n]</td>\n",
       "      <td>[\\n, Diesel (Particulate Filter), \\n]</td>\n",
       "      <td>[[3.8 l/100 km (comb)], [4.3 l/100 km (city)], [3.5 l/100 km (country)]]</td>\n",
       "      <td>[\\n99 g CO2/km (comb)\\n]</td>\n",
       "      <td>[\\nEuro 6\\n]</td>\n",
       "      <td>Air conditioning,Armrest,Automatic climate control,Cruise control,Electrical side mirrors,Hill Holder,Leather steering wheel,Light sensor,Multi-function steering wheel,Navigation system,Park Distance Control,Parking assist system sensors rear,Power windows,Rain sensor,Seat heating,Start-stop system</td>\n",
       "      <td>Bluetooth,Hands-free equipment,On-board computer,Radio</td>\n",
       "      <td>[Alloy wheels, Catalytic Converter, Voice Control]</td>\n",
       "      <td>[ABS, Central door lock, Daytime running lights, Driver-side airbag, Electronic stability control, Fog lights, Immobilizer, Isofix, Passenger-side airbag, Power steering, Side airbag, Tire pressure monitoring system, Traction control, Xenon headlights]</td>\n",
       "      <td>[\\n, Sicherheit:,  , Deaktivierung für Beifahrer-Airbag,  , ESC mit elektronischer Quersperre,  , Tagfahrlicht,  , Reifendruck-Kontrollanzeige,  , Kopfairbag-System mit Seiten-Airbags vorn,  , Sicherheitslenksäule, Assistenzsysteme:,  , Berganfahrassistent, Komfort:,  , Scheinwerferreinigung,  , Xenon plus inklusive Scheinwerfer-Reinigungsanlage,  , Scheinwerfer-Reinigungsanlage,  , Einparkhilfe hinten,  , Licht-/Regensensor,  , Funkfernbedienung,  , Elektrische Luftzusatzheizung, Interieur:...</td>\n",
       "      <td>NaN</td>\n",
       "      <td>NaN</td>\n",
       "      <td>NaN</td>\n",
       "      <td>1</td>\n",
       "      <td>0</td>\n",
       "      <td>1</td>\n",
       "      <td>1</td>\n",
       "      <td>0</td>\n",
       "      <td>1</td>\n",
       "      <td>0</td>\n",
       "      <td>0</td>\n",
       "      <td>1</td>\n",
       "      <td>0</td>\n",
       "      <td>0</td>\n",
       "      <td>0</td>\n",
       "      <td>0</td>\n",
       "      <td>1</td>\n",
       "      <td>0</td>\n",
       "      <td>0</td>\n",
       "      <td>1</td>\n",
       "      <td>1</td>\n",
       "      <td>0</td>\n",
       "      <td>0</td>\n",
       "      <td>1</td>\n",
       "      <td>1</td>\n",
       "      <td>0</td>\n",
       "      <td>1</td>\n",
       "      <td>0</td>\n",
       "      <td>0</td>\n",
       "      <td>0</td>\n",
       "      <td>1</td>\n",
       "      <td>1</td>\n",
       "      <td>1</td>\n",
       "      <td>1</td>\n",
       "      <td>0</td>\n",
       "      <td>0</td>\n",
       "      <td>1</td>\n",
       "      <td>0</td>\n",
       "      <td>0</td>\n",
       "      <td>0</td>\n",
       "      <td>0</td>\n",
       "      <td>1</td>\n",
       "      <td>0</td>\n",
       "      <td>0</td>\n",
       "      <td>1</td>\n",
       "      <td>0</td>\n",
       "      <td>1</td>\n",
       "      <td>1</td>\n",
       "      <td>0</td>\n",
       "      <td>0</td>\n",
       "      <td>0</td>\n",
       "    </tr>\n",
       "    <tr>\n",
       "      <th>1</th>\n",
       "      <td>Audi A1</td>\n",
       "      <td>1.8 TFSI sport</td>\n",
       "      <td>Sedans</td>\n",
       "      <td>14500</td>\n",
       "      <td>Price negotiable</td>\n",
       "      <td>80,000 km</td>\n",
       "      <td>03/2017</td>\n",
       "      <td>141 kW</td>\n",
       "      <td>[, Used, , Gasoline]</td>\n",
       "      <td>1.0</td>\n",
       "      <td>NaT</td>\n",
       "      <td>0</td>\n",
       "      <td>NaN</td>\n",
       "      <td>Audi</td>\n",
       "      <td>A1</td>\n",
       "      <td>NaN</td>\n",
       "      <td>[\\n, 2017, \\n]</td>\n",
       "      <td>Red</td>\n",
       "      <td>NaN</td>\n",
       "      <td>NaN</td>\n",
       "      <td>[\\nCloth, Grey\\n]</td>\n",
       "      <td>[\\n3\\n]</td>\n",
       "      <td>[\\n4\\n]</td>\n",
       "      <td>[\\n0588/BCY\\n]</td>\n",
       "      <td>[\\n, Automatic, \\n]</td>\n",
       "      <td>[\\n1,798 cc\\n]</td>\n",
       "      <td>4</td>\n",
       "      <td>[\\nfront\\n]</td>\n",
       "      <td>[\\n, Gasoline, \\n]</td>\n",
       "      <td>[[5.6 l/100 km (comb)], [7.1 l/100 km (city)], [4.7 l/100 km (country)]]</td>\n",
       "      <td>[\\n129 g CO2/km (comb)\\n]</td>\n",
       "      <td>[\\nEuro 6\\n]</td>\n",
       "      <td>Air conditioning,Automatic climate control,Hill Holder,Leather steering wheel,Lumbar support,Parking assist system sensors rear,Power windows,Start-stop system,Tinted windows</td>\n",
       "      <td>Bluetooth,Hands-free equipment,On-board computer,Radio,Sound system</td>\n",
       "      <td>[Alloy wheels, Sport seats, Sport suspension, Voice Control]</td>\n",
       "      <td>[ABS, Central door lock, Central door lock with remote control, Daytime running lights, Driver-side airbag, Electronic stability control, Head airbag, Immobilizer, Isofix, Passenger-side airbag, Power steering, Side airbag, Tire pressure monitoring system, Traction control, Xenon headlights]</td>\n",
       "      <td>[\\nLangstreckenfahrzeug daher die hohe Kilometerleistung. , Bremsen neu bei 62000 km. , Gut gepflegter A1\\n]</td>\n",
       "      <td>4 (Green)</td>\n",
       "      <td>[\\n7\\n]</td>\n",
       "      <td>NaN</td>\n",
       "      <td>1</td>\n",
       "      <td>0</td>\n",
       "      <td>0</td>\n",
       "      <td>1</td>\n",
       "      <td>0</td>\n",
       "      <td>0</td>\n",
       "      <td>0</td>\n",
       "      <td>0</td>\n",
       "      <td>0</td>\n",
       "      <td>0</td>\n",
       "      <td>0</td>\n",
       "      <td>0</td>\n",
       "      <td>0</td>\n",
       "      <td>1</td>\n",
       "      <td>0</td>\n",
       "      <td>0</td>\n",
       "      <td>1</td>\n",
       "      <td>0</td>\n",
       "      <td>1</td>\n",
       "      <td>0</td>\n",
       "      <td>0</td>\n",
       "      <td>0</td>\n",
       "      <td>0</td>\n",
       "      <td>0</td>\n",
       "      <td>0</td>\n",
       "      <td>0</td>\n",
       "      <td>0</td>\n",
       "      <td>1</td>\n",
       "      <td>1</td>\n",
       "      <td>0</td>\n",
       "      <td>0</td>\n",
       "      <td>0</td>\n",
       "      <td>0</td>\n",
       "      <td>1</td>\n",
       "      <td>0</td>\n",
       "      <td>1</td>\n",
       "      <td>0</td>\n",
       "      <td>0</td>\n",
       "      <td>1</td>\n",
       "      <td>0</td>\n",
       "      <td>0</td>\n",
       "      <td>1</td>\n",
       "      <td>0</td>\n",
       "      <td>1</td>\n",
       "      <td>1</td>\n",
       "      <td>1</td>\n",
       "      <td>0</td>\n",
       "      <td>0</td>\n",
       "    </tr>\n",
       "    <tr>\n",
       "      <th>2</th>\n",
       "      <td>Audi A1</td>\n",
       "      <td>Sportback 1.6 TDI S tronic Einparkhilfe plus+music</td>\n",
       "      <td>Sedans</td>\n",
       "      <td>14640</td>\n",
       "      <td>VAT deductible</td>\n",
       "      <td>83,450 km</td>\n",
       "      <td>02/2016</td>\n",
       "      <td>85 kW</td>\n",
       "      <td>[, Used, , Diesel (Particulate Filter)]</td>\n",
       "      <td>1.0</td>\n",
       "      <td>NaT</td>\n",
       "      <td>0</td>\n",
       "      <td>[\\n, \\n, \\n99 g CO2/km (comb)\\n]</td>\n",
       "      <td>Audi</td>\n",
       "      <td>A1</td>\n",
       "      <td>[\\nAM-95365\\n]</td>\n",
       "      <td>[\\n, 2016, \\n]</td>\n",
       "      <td>Black</td>\n",
       "      <td>Metallic</td>\n",
       "      <td>[\\nmythosschwarz metallic\\n]</td>\n",
       "      <td>[\\nCloth, Black\\n]</td>\n",
       "      <td>[\\n4\\n]</td>\n",
       "      <td>[\\n4\\n]</td>\n",
       "      <td>NaN</td>\n",
       "      <td>[\\n, Automatic, \\n]</td>\n",
       "      <td>[\\n1,598 cc\\n]</td>\n",
       "      <td>NaN</td>\n",
       "      <td>[\\nfront\\n]</td>\n",
       "      <td>[\\n, Diesel (Particulate Filter), \\n]</td>\n",
       "      <td>[[3.8 l/100 km (comb)], [4.4 l/100 km (city)], [3.4 l/100 km (country)]]</td>\n",
       "      <td>[\\n99 g CO2/km (comb)\\n]</td>\n",
       "      <td>[\\nEuro 6\\n]</td>\n",
       "      <td>Air conditioning,Cruise control,Electrical side mirrors,Hill Holder,Leather steering wheel,Multi-function steering wheel,Navigation system,Park Distance Control,Parking assist system sensors front,Parking assist system sensors rear,Power windows,Seat heating,Start-stop system</td>\n",
       "      <td>MP3,On-board computer</td>\n",
       "      <td>[Alloy wheels, Voice Control]</td>\n",
       "      <td>[ABS, Central door lock, Daytime running lights, Driver-side airbag, Electronic stability control, Immobilizer, Isofix, Passenger-side airbag, Power steering, Side airbag, Tire pressure monitoring system, Traction control]</td>\n",
       "      <td>[\\n, Fahrzeug-Nummer: AM-95365,  , Ehem. UPE 24.640 EUR,  , Komfort,  , Klimaanlage,  , Elektrische Fensterheber,  , Sitzheizung,  , Tempomat,  , Zentralverriegelung,  , Leder-Lenkrad,  , Elektrische Spiegel,  , Wärmedämmendes Glas,  , Anfahrassistent,  , Sicherheit,  , Window/Kopfairbags,  , ESP (el. Stabilitäts Programm),  , Elektronische Wegfahrsperre,  , Reifendruckkontrolle,  , Tagfahrlicht,  , Exterieur,  , Alufelgen 16 Zoll,  , Einparkhilfe vo + hi,  , Interieur,  , Stoff Zeitgeist,  ...</td>\n",
       "      <td>4 (Green)</td>\n",
       "      <td>NaN</td>\n",
       "      <td>NaN</td>\n",
       "      <td>1</td>\n",
       "      <td>0</td>\n",
       "      <td>0</td>\n",
       "      <td>0</td>\n",
       "      <td>0</td>\n",
       "      <td>1</td>\n",
       "      <td>0</td>\n",
       "      <td>0</td>\n",
       "      <td>1</td>\n",
       "      <td>0</td>\n",
       "      <td>0</td>\n",
       "      <td>0</td>\n",
       "      <td>0</td>\n",
       "      <td>1</td>\n",
       "      <td>0</td>\n",
       "      <td>0</td>\n",
       "      <td>1</td>\n",
       "      <td>0</td>\n",
       "      <td>0</td>\n",
       "      <td>0</td>\n",
       "      <td>1</td>\n",
       "      <td>1</td>\n",
       "      <td>0</td>\n",
       "      <td>1</td>\n",
       "      <td>0</td>\n",
       "      <td>0</td>\n",
       "      <td>1</td>\n",
       "      <td>1</td>\n",
       "      <td>1</td>\n",
       "      <td>0</td>\n",
       "      <td>1</td>\n",
       "      <td>0</td>\n",
       "      <td>0</td>\n",
       "      <td>1</td>\n",
       "      <td>0</td>\n",
       "      <td>0</td>\n",
       "      <td>0</td>\n",
       "      <td>0</td>\n",
       "      <td>0</td>\n",
       "      <td>0</td>\n",
       "      <td>0</td>\n",
       "      <td>0</td>\n",
       "      <td>1</td>\n",
       "      <td>1</td>\n",
       "      <td>0</td>\n",
       "      <td>0</td>\n",
       "      <td>0</td>\n",
       "      <td>0</td>\n",
       "    </tr>\n",
       "    <tr>\n",
       "      <th>3</th>\n",
       "      <td>Audi A1</td>\n",
       "      <td>1.4 TDi Design S tronic</td>\n",
       "      <td>Sedans</td>\n",
       "      <td>14500</td>\n",
       "      <td>None</td>\n",
       "      <td>73,000 km</td>\n",
       "      <td>08/2016</td>\n",
       "      <td>66 kW</td>\n",
       "      <td>[, Used, , Diesel (Particulate Filter)]</td>\n",
       "      <td>1.0</td>\n",
       "      <td>NaT</td>\n",
       "      <td>0</td>\n",
       "      <td>NaN</td>\n",
       "      <td>Audi</td>\n",
       "      <td>A1</td>\n",
       "      <td>NaN</td>\n",
       "      <td>[\\n, 2016, \\n]</td>\n",
       "      <td>Brown</td>\n",
       "      <td>Metallic</td>\n",
       "      <td>NaN</td>\n",
       "      <td>NaN</td>\n",
       "      <td>[\\n3\\n]</td>\n",
       "      <td>[\\n4\\n]</td>\n",
       "      <td>NaN</td>\n",
       "      <td>[\\n, Automatic, \\n]</td>\n",
       "      <td>[\\n1,422 cc\\n]</td>\n",
       "      <td>3</td>\n",
       "      <td>NaN</td>\n",
       "      <td>[\\n, Diesel (Particulate Filter), \\n]</td>\n",
       "      <td>[[3.8 l/100 km (comb)], [4.3 l/100 km (city)], [3.5 l/100 km (country)]]</td>\n",
       "      <td>[\\n99 g CO2/km (comb)\\n]</td>\n",
       "      <td>[\\nEuro 6\\n]</td>\n",
       "      <td>Air suspension,Armrest,Auxiliary heating,Electrical side mirrors,Heads-up display,Hill Holder,Leather steering wheel,Light sensor,Lumbar support,Multi-function steering wheel,Navigation system,Power windows,Rain sensor,Seat heating,Split rear seats,Start-stop system</td>\n",
       "      <td>Bluetooth,CD player,Hands-free equipment,MP3,On-board computer,Radio,Sound system,USB</td>\n",
       "      <td>[Alloy wheels, Sport seats, Voice Control]</td>\n",
       "      <td>[ABS, Alarm system, Central door lock with remote control, Driver drowsiness detection, Driver-side airbag, Electronic stability control, Emergency system, Head airbag, Immobilizer, Isofix, Passenger-side airbag, Power steering, Side airbag, Tire pressure monitoring system]</td>\n",
       "      <td>[\\nAudi A1: , - 1e eigenaar , - Perfecte staat: schade/ongevalvrij , - Onderhoudsboekje Audi garage , - Full option!, - S-line opties, - Automaat, lederen bekleding, navi-pro, Xenon lampen, zetelverwarming, automatische airco,...\\n]</td>\n",
       "      <td>NaN</td>\n",
       "      <td>[\\n6\\n]</td>\n",
       "      <td>NaN</td>\n",
       "      <td>0</td>\n",
       "      <td>1</td>\n",
       "      <td>1</td>\n",
       "      <td>0</td>\n",
       "      <td>1</td>\n",
       "      <td>0</td>\n",
       "      <td>0</td>\n",
       "      <td>0</td>\n",
       "      <td>1</td>\n",
       "      <td>0</td>\n",
       "      <td>0</td>\n",
       "      <td>1</td>\n",
       "      <td>0</td>\n",
       "      <td>1</td>\n",
       "      <td>0</td>\n",
       "      <td>0</td>\n",
       "      <td>1</td>\n",
       "      <td>1</td>\n",
       "      <td>1</td>\n",
       "      <td>0</td>\n",
       "      <td>1</td>\n",
       "      <td>1</td>\n",
       "      <td>0</td>\n",
       "      <td>0</td>\n",
       "      <td>0</td>\n",
       "      <td>0</td>\n",
       "      <td>0</td>\n",
       "      <td>0</td>\n",
       "      <td>1</td>\n",
       "      <td>1</td>\n",
       "      <td>1</td>\n",
       "      <td>0</td>\n",
       "      <td>1</td>\n",
       "      <td>1</td>\n",
       "      <td>0</td>\n",
       "      <td>0</td>\n",
       "      <td>0</td>\n",
       "      <td>0</td>\n",
       "      <td>1</td>\n",
       "      <td>1</td>\n",
       "      <td>0</td>\n",
       "      <td>1</td>\n",
       "      <td>1</td>\n",
       "      <td>1</td>\n",
       "      <td>1</td>\n",
       "      <td>1</td>\n",
       "      <td>0</td>\n",
       "      <td>1</td>\n",
       "    </tr>\n",
       "    <tr>\n",
       "      <th>4</th>\n",
       "      <td>Audi A1</td>\n",
       "      <td>Sportback 1.4 TDI S-Tronic S-Line Ext. admired, Xe</td>\n",
       "      <td>Sedans</td>\n",
       "      <td>16790</td>\n",
       "      <td>None</td>\n",
       "      <td>16,200 km</td>\n",
       "      <td>05/2016</td>\n",
       "      <td>66 kW</td>\n",
       "      <td>[, Used, , Diesel (Particulate Filter)]</td>\n",
       "      <td>1.0</td>\n",
       "      <td>NaT</td>\n",
       "      <td>1</td>\n",
       "      <td>[\\n, \\n, \\nEuro 6\\n]</td>\n",
       "      <td>Audi</td>\n",
       "      <td>A1</td>\n",
       "      <td>[\\nC1626\\n]</td>\n",
       "      <td>[\\n, 2016, \\n]</td>\n",
       "      <td>Black</td>\n",
       "      <td>Metallic</td>\n",
       "      <td>[\\nMythosschwarz Metallic\\n]</td>\n",
       "      <td>[\\nCloth, Black\\n]</td>\n",
       "      <td>[\\n5\\n]</td>\n",
       "      <td>[\\n5\\n]</td>\n",
       "      <td>[\\n0588/BDF\\n]</td>\n",
       "      <td>[\\n, Automatic, \\n]</td>\n",
       "      <td>[\\n1,422 cc\\n]</td>\n",
       "      <td>3</td>\n",
       "      <td>[\\nfront\\n]</td>\n",
       "      <td>[\\n, Diesel (Particulate Filter), \\n]</td>\n",
       "      <td>[[4.1 l/100 km (comb)], [4.6 l/100 km (city)], [3.8 l/100 km (country)]]</td>\n",
       "      <td>[\\n109 g CO2/km (comb)\\n]</td>\n",
       "      <td>[\\nEuro 6\\n]</td>\n",
       "      <td>Air conditioning,Armrest,Automatic climate control,Electrical side mirrors,Hill Holder,Leather steering wheel,Light sensor,Multi-function steering wheel,Park Distance Control,Parking assist system sensors rear,Power windows,Rain sensor,Start-stop system</td>\n",
       "      <td>Bluetooth,CD player,Hands-free equipment,MP3,On-board computer,Radio,USB</td>\n",
       "      <td>[Alloy wheels, Sport package, Sport suspension, Voice Control]</td>\n",
       "      <td>[ABS, Central door lock, Driver-side airbag, Electronic stability control, Fog lights, Immobilizer, Isofix, Passenger-side airbag, Power steering, Side airbag, Tire pressure monitoring system, Traction control, Xenon headlights]</td>\n",
       "      <td>[\\n, Technik &amp; Sicherheit:, Xenon plus, Klimaautomatik, Einparkhilfe hinten, Scheinwerferreinigungsanlage, Nebelscheinwerfer, Zentralverriegelung mit Fernbedienung, Außenspiegel elek. einstellbar, Fensterheber elek, Start/Stop Anlage, 6 Airbag inkl. Kopfairbag, Euro 6, Multimedia:, Radio CD Concert, audi music interface, Handyvorbereitung (Bluetooth), Sprachsteuerung, USB Anschluss, Assistenzsysteme:, Lichtsensor, Regensensor, Berganfahrassistent, Reifendruckkontrolle, ESP inkl. ABS, Interie...</td>\n",
       "      <td>NaN</td>\n",
       "      <td>NaN</td>\n",
       "      <td>Germany</td>\n",
       "      <td>1</td>\n",
       "      <td>0</td>\n",
       "      <td>1</td>\n",
       "      <td>1</td>\n",
       "      <td>0</td>\n",
       "      <td>0</td>\n",
       "      <td>0</td>\n",
       "      <td>0</td>\n",
       "      <td>1</td>\n",
       "      <td>0</td>\n",
       "      <td>0</td>\n",
       "      <td>0</td>\n",
       "      <td>0</td>\n",
       "      <td>1</td>\n",
       "      <td>0</td>\n",
       "      <td>0</td>\n",
       "      <td>1</td>\n",
       "      <td>1</td>\n",
       "      <td>0</td>\n",
       "      <td>0</td>\n",
       "      <td>1</td>\n",
       "      <td>0</td>\n",
       "      <td>0</td>\n",
       "      <td>1</td>\n",
       "      <td>0</td>\n",
       "      <td>0</td>\n",
       "      <td>0</td>\n",
       "      <td>1</td>\n",
       "      <td>1</td>\n",
       "      <td>1</td>\n",
       "      <td>0</td>\n",
       "      <td>0</td>\n",
       "      <td>0</td>\n",
       "      <td>1</td>\n",
       "      <td>0</td>\n",
       "      <td>0</td>\n",
       "      <td>0</td>\n",
       "      <td>0</td>\n",
       "      <td>1</td>\n",
       "      <td>1</td>\n",
       "      <td>0</td>\n",
       "      <td>1</td>\n",
       "      <td>1</td>\n",
       "      <td>1</td>\n",
       "      <td>1</td>\n",
       "      <td>0</td>\n",
       "      <td>0</td>\n",
       "      <td>1</td>\n",
       "    </tr>\n",
       "  </tbody>\n",
       "</table>\n",
       "</div>"
      ],
      "text/plain": [
       "  make_model                                   short_description body_type  price               vat         km registration      hp                                     type  previous_owners next_inspection inspection_new                          warranty  make model     offer_number first_registration body_color paint_type           body_color_original          upholstery nr_of_doors nr_of_seats      model_code         gearing_type    displacement cylinders  drive_chain                                   fuel                                                               consumption               co2_emission emission_class                                                                                                                                                                                                                                                                                          comfort&convenience                                                                    entertainment&media                                                          extras                                                                                                                                                                                                                                                                                       safety&security                                                                                                                                                                                                                                                                                                                                                                                                                                                                                                          description emission_label    gears country_version  cc_Air conditioning  cc_Air suspension  cc_Armrest  \\\n",
       "0    Audi A1         Sportback 1.4 TDI S-tronic Xenon Navi Klima    Sedans  15770    VAT deductible  56,013 km      01/2016   66 kW  [, Used, , Diesel (Particulate Filter)]              2.0      2021-06-01              1           [\\n, \\n, \\n4 (Green)\\n]  Audi    A1  [\\nLR-062483\\n]     [\\n, 2016, \\n]      Black   Metallic           [\\nMythosschwarz\\n]  [\\nCloth, Black\\n]     [\\n5\\n]     [\\n5\\n]  [\\n0588/BDF\\n]  [\\n, Automatic, \\n]  [\\n1,422 cc\\n]         3  [\\nfront\\n]  [\\n, Diesel (Particulate Filter), \\n]  [[3.8 l/100 km (comb)], [4.3 l/100 km (city)], [3.5 l/100 km (country)]]   [\\n99 g CO2/km (comb)\\n]   [\\nEuro 6\\n]  Air conditioning,Armrest,Automatic climate control,Cruise control,Electrical side mirrors,Hill Holder,Leather steering wheel,Light sensor,Multi-function steering wheel,Navigation system,Park Distance Control,Parking assist system sensors rear,Power windows,Rain sensor,Seat heating,Start-stop system                                 Bluetooth,Hands-free equipment,On-board computer,Radio              [Alloy wheels, Catalytic Converter, Voice Control]                                          [ABS, Central door lock, Daytime running lights, Driver-side airbag, Electronic stability control, Fog lights, Immobilizer, Isofix, Passenger-side airbag, Power steering, Side airbag, Tire pressure monitoring system, Traction control, Xenon headlights]  [\\n, Sicherheit:,  , Deaktivierung für Beifahrer-Airbag,  , ESC mit elektronischer Quersperre,  , Tagfahrlicht,  , Reifendruck-Kontrollanzeige,  , Kopfairbag-System mit Seiten-Airbags vorn,  , Sicherheitslenksäule, Assistenzsysteme:,  , Berganfahrassistent, Komfort:,  , Scheinwerferreinigung,  , Xenon plus inklusive Scheinwerfer-Reinigungsanlage,  , Scheinwerfer-Reinigungsanlage,  , Einparkhilfe hinten,  , Licht-/Regensensor,  , Funkfernbedienung,  , Elektrische Luftzusatzheizung, Interieur:...            NaN      NaN             NaN                    1                  0           1   \n",
       "1    Audi A1                                      1.8 TFSI sport    Sedans  14500  Price negotiable  80,000 km      03/2017  141 kW                     [, Used, , Gasoline]              1.0             NaT              0                               NaN  Audi    A1              NaN     [\\n, 2017, \\n]        Red        NaN                           NaN   [\\nCloth, Grey\\n]     [\\n3\\n]     [\\n4\\n]  [\\n0588/BCY\\n]  [\\n, Automatic, \\n]  [\\n1,798 cc\\n]         4  [\\nfront\\n]                     [\\n, Gasoline, \\n]  [[5.6 l/100 km (comb)], [7.1 l/100 km (city)], [4.7 l/100 km (country)]]  [\\n129 g CO2/km (comb)\\n]   [\\nEuro 6\\n]                                                                                                                               Air conditioning,Automatic climate control,Hill Holder,Leather steering wheel,Lumbar support,Parking assist system sensors rear,Power windows,Start-stop system,Tinted windows                    Bluetooth,Hands-free equipment,On-board computer,Radio,Sound system    [Alloy wheels, Sport seats, Sport suspension, Voice Control]  [ABS, Central door lock, Central door lock with remote control, Daytime running lights, Driver-side airbag, Electronic stability control, Head airbag, Immobilizer, Isofix, Passenger-side airbag, Power steering, Side airbag, Tire pressure monitoring system, Traction control, Xenon headlights]                                                                                                                                                                                                                                                                                                                                                                                                         [\\nLangstreckenfahrzeug daher die hohe Kilometerleistung. , Bremsen neu bei 62000 km. , Gut gepflegter A1\\n]      4 (Green)  [\\n7\\n]             NaN                    1                  0           0   \n",
       "2    Audi A1  Sportback 1.6 TDI S tronic Einparkhilfe plus+music    Sedans  14640    VAT deductible  83,450 km      02/2016   85 kW  [, Used, , Diesel (Particulate Filter)]              1.0             NaT              0  [\\n, \\n, \\n99 g CO2/km (comb)\\n]  Audi    A1   [\\nAM-95365\\n]     [\\n, 2016, \\n]      Black   Metallic  [\\nmythosschwarz metallic\\n]  [\\nCloth, Black\\n]     [\\n4\\n]     [\\n4\\n]             NaN  [\\n, Automatic, \\n]  [\\n1,598 cc\\n]       NaN  [\\nfront\\n]  [\\n, Diesel (Particulate Filter), \\n]  [[3.8 l/100 km (comb)], [4.4 l/100 km (city)], [3.4 l/100 km (country)]]   [\\n99 g CO2/km (comb)\\n]   [\\nEuro 6\\n]                         Air conditioning,Cruise control,Electrical side mirrors,Hill Holder,Leather steering wheel,Multi-function steering wheel,Navigation system,Park Distance Control,Parking assist system sensors front,Parking assist system sensors rear,Power windows,Seat heating,Start-stop system                                                                  MP3,On-board computer                                   [Alloy wheels, Voice Control]                                                                        [ABS, Central door lock, Daytime running lights, Driver-side airbag, Electronic stability control, Immobilizer, Isofix, Passenger-side airbag, Power steering, Side airbag, Tire pressure monitoring system, Traction control]  [\\n, Fahrzeug-Nummer: AM-95365,  , Ehem. UPE 24.640 EUR,  , Komfort,  , Klimaanlage,  , Elektrische Fensterheber,  , Sitzheizung,  , Tempomat,  , Zentralverriegelung,  , Leder-Lenkrad,  , Elektrische Spiegel,  , Wärmedämmendes Glas,  , Anfahrassistent,  , Sicherheit,  , Window/Kopfairbags,  , ESP (el. Stabilitäts Programm),  , Elektronische Wegfahrsperre,  , Reifendruckkontrolle,  , Tagfahrlicht,  , Exterieur,  , Alufelgen 16 Zoll,  , Einparkhilfe vo + hi,  , Interieur,  , Stoff Zeitgeist,  ...      4 (Green)      NaN             NaN                    1                  0           0   \n",
       "3    Audi A1                             1.4 TDi Design S tronic    Sedans  14500              None  73,000 km      08/2016   66 kW  [, Used, , Diesel (Particulate Filter)]              1.0             NaT              0                               NaN  Audi    A1              NaN     [\\n, 2016, \\n]      Brown   Metallic                           NaN                 NaN     [\\n3\\n]     [\\n4\\n]             NaN  [\\n, Automatic, \\n]  [\\n1,422 cc\\n]         3          NaN  [\\n, Diesel (Particulate Filter), \\n]  [[3.8 l/100 km (comb)], [4.3 l/100 km (city)], [3.5 l/100 km (country)]]   [\\n99 g CO2/km (comb)\\n]   [\\nEuro 6\\n]                                   Air suspension,Armrest,Auxiliary heating,Electrical side mirrors,Heads-up display,Hill Holder,Leather steering wheel,Light sensor,Lumbar support,Multi-function steering wheel,Navigation system,Power windows,Rain sensor,Seat heating,Split rear seats,Start-stop system  Bluetooth,CD player,Hands-free equipment,MP3,On-board computer,Radio,Sound system,USB                      [Alloy wheels, Sport seats, Voice Control]                    [ABS, Alarm system, Central door lock with remote control, Driver drowsiness detection, Driver-side airbag, Electronic stability control, Emergency system, Head airbag, Immobilizer, Isofix, Passenger-side airbag, Power steering, Side airbag, Tire pressure monitoring system]                                                                                                                                                                                                                                                                             [\\nAudi A1: , - 1e eigenaar , - Perfecte staat: schade/ongevalvrij , - Onderhoudsboekje Audi garage , - Full option!, - S-line opties, - Automaat, lederen bekleding, navi-pro, Xenon lampen, zetelverwarming, automatische airco,...\\n]            NaN  [\\n6\\n]             NaN                    0                  1           1   \n",
       "4    Audi A1  Sportback 1.4 TDI S-Tronic S-Line Ext. admired, Xe    Sedans  16790              None  16,200 km      05/2016   66 kW  [, Used, , Diesel (Particulate Filter)]              1.0             NaT              1              [\\n, \\n, \\nEuro 6\\n]  Audi    A1      [\\nC1626\\n]     [\\n, 2016, \\n]      Black   Metallic  [\\nMythosschwarz Metallic\\n]  [\\nCloth, Black\\n]     [\\n5\\n]     [\\n5\\n]  [\\n0588/BDF\\n]  [\\n, Automatic, \\n]  [\\n1,422 cc\\n]         3  [\\nfront\\n]  [\\n, Diesel (Particulate Filter), \\n]  [[4.1 l/100 km (comb)], [4.6 l/100 km (city)], [3.8 l/100 km (country)]]  [\\n109 g CO2/km (comb)\\n]   [\\nEuro 6\\n]                                                Air conditioning,Armrest,Automatic climate control,Electrical side mirrors,Hill Holder,Leather steering wheel,Light sensor,Multi-function steering wheel,Park Distance Control,Parking assist system sensors rear,Power windows,Rain sensor,Start-stop system               Bluetooth,CD player,Hands-free equipment,MP3,On-board computer,Radio,USB  [Alloy wheels, Sport package, Sport suspension, Voice Control]                                                                  [ABS, Central door lock, Driver-side airbag, Electronic stability control, Fog lights, Immobilizer, Isofix, Passenger-side airbag, Power steering, Side airbag, Tire pressure monitoring system, Traction control, Xenon headlights]  [\\n, Technik & Sicherheit:, Xenon plus, Klimaautomatik, Einparkhilfe hinten, Scheinwerferreinigungsanlage, Nebelscheinwerfer, Zentralverriegelung mit Fernbedienung, Außenspiegel elek. einstellbar, Fensterheber elek, Start/Stop Anlage, 6 Airbag inkl. Kopfairbag, Euro 6, Multimedia:, Radio CD Concert, audi music interface, Handyvorbereitung (Bluetooth), Sprachsteuerung, USB Anschluss, Assistenzsysteme:, Lichtsensor, Regensensor, Berganfahrassistent, Reifendruckkontrolle, ESP inkl. ABS, Interie...            NaN      NaN         Germany                    1                  0           1   \n",
       "\n",
       "   cc_Automatic climate control  cc_Auxiliary heating  cc_Cruise control  cc_Electric Starter  cc_Electric tailgate  cc_Electrical side mirrors  cc_Electrically adjustable seats  cc_Electrically heated windshield  cc_Heads-up display  cc_Heated steering wheel  cc_Hill Holder  cc_Keyless central door lock  cc_Leather seats  cc_Leather steering wheel  cc_Light sensor  cc_Lumbar support  cc_Massage seats  cc_Multi-function steering wheel  cc_Navigation system  cc_Panorama roof  cc_Park Distance Control  cc_Parking assist system camera  cc_Parking assist system self-steering  cc_Parking assist system sensors front  cc_Parking assist system sensors rear  cc_Power windows  cc_Rain sensor  cc_Seat heating  cc_Seat ventilation  cc_Split rear seats  cc_Start-stop system  cc_Sunroof  cc_Tinted windows  cc_Wind deflector  cc_Windshield  em_Bluetooth  em_CD player  em_Digital radio  em_Hands-free equipment  em_MP3  em_On-board computer  em_Radio  em_Sound system  em_Television  em_USB  \n",
       "0                             1                     0                  1                    0                     0                           1                                 0                                  0                    0                         0               1                             0                 0                          1                1                  0                 0                                 1                     1                 0                         1                                0                                       0                                       0                                      1                 1               1                1                    0                    0                     1           0                  0                  0              0             1             0                 0                        1       0                     1         1                0              0       0  \n",
       "1                             1                     0                  0                    0                     0                           0                                 0                                  0                    0                         0               1                             0                 0                          1                0                  1                 0                                 0                     0                 0                         0                                0                                       0                                       0                                      1                 1               0                0                    0                    0                     1           0                  1                  0              0             1             0                 0                        1       0                     1         1                1              0       0  \n",
       "2                             0                     0                  1                    0                     0                           1                                 0                                  0                    0                         0               1                             0                 0                          1                0                  0                 0                                 1                     1                 0                         1                                0                                       0                                       1                                      1                 1               0                1                    0                    0                     1           0                  0                  0              0             0             0                 0                        0       1                     1         0                0              0       0  \n",
       "3                             0                     1                  0                    0                     0                           1                                 0                                  0                    1                         0               1                             0                 0                          1                1                  1                 0                                 1                     1                 0                         0                                0                                       0                                       0                                      0                 1               1                1                    0                    1                     1           0                  0                  0              0             1             1                 0                        1       1                     1         1                1              0       1  \n",
       "4                             1                     0                  0                    0                     0                           1                                 0                                  0                    0                         0               1                             0                 0                          1                1                  0                 0                                 1                     0                 0                         1                                0                                       0                                       0                                      1                 1               1                0                    0                    0                     1           0                  0                  0              0             1             1                 0                        1       1                     1         1                0              0       1  "
      ]
     },
     "execution_count": 116,
     "metadata": {},
     "output_type": "execute_result"
    }
   ],
   "source": [
    "df.head()"
   ]
  },
  {
   "cell_type": "code",
   "execution_count": 117,
   "metadata": {},
   "outputs": [
    {
     "data": {
      "text/plain": [
       "0.18606696400527672"
      ]
     },
     "execution_count": 117,
     "metadata": {},
     "output_type": "execute_result"
    }
   ],
   "source": [
    "df['extras'].isnull().sum()/df.shape[0]"
   ]
  },
  {
   "cell_type": "code",
   "execution_count": 118,
   "metadata": {},
   "outputs": [],
   "source": [
    "df[\"extras\"] = df[df[\"extras\"].notnull()][\"extras\"].apply(list_extractor)"
   ]
  },
  {
   "cell_type": "code",
   "execution_count": 119,
   "metadata": {},
   "outputs": [
    {
     "data": {
      "text/plain": [
       "Alloy wheels                                                               3245\n",
       "NaN                                                                        2962\n",
       "Alloy wheels,Touch screen                                                   697\n",
       "Alloy wheels,Voice Control                                                  577\n",
       "Alloy wheels,Touch screen,Voice Control                                     541\n",
       "                                                                           ... \n",
       "Alloy wheels,Catalytic Converter,Sport seats,Voice Control,Winter tyres       1\n",
       "Shift paddles,Voice Control                                                   1\n",
       "Alloy wheels,Catalytic Converter,Handicapped enabled,Trailer hitch            1\n",
       "Roof rack,Sport seats,Touch screen,Winter tyres                               1\n",
       "Alloy wheels,Roof rack,Touch screen,Winter tyres                              1\n",
       "Name: extras, Length: 660, dtype: int64"
      ]
     },
     "execution_count": 119,
     "metadata": {},
     "output_type": "execute_result"
    }
   ],
   "source": [
    "df['extras'].value_counts(dropna = False)"
   ]
  },
  {
   "cell_type": "code",
   "execution_count": 120,
   "metadata": {},
   "outputs": [],
   "source": [
    "fill_most(df, 'make_model', 'extras')"
   ]
  },
  {
   "cell_type": "code",
   "execution_count": 121,
   "metadata": {},
   "outputs": [
    {
     "data": {
      "text/plain": [
       "Alloy wheels                                                                                      6174\n",
       "Alloy wheels,Touch screen                                                                          697\n",
       "Alloy wheels,Voice Control                                                                         577\n",
       "Alloy wheels,Touch screen,Voice Control                                                            541\n",
       "Alloy wheels,Roof rack                                                                             385\n",
       "                                                                                                  ... \n",
       "Alloy wheels,Catalytic Converter,Roof rack,Sport seats,Trailer hitch                                 1\n",
       "Cab or rented Car,Voice Control                                                                      1\n",
       "Alloy wheels,Catalytic Converter,Sport package,Sport seats,Trailer hitch,Winter tyres                1\n",
       "Alloy wheels,Catalytic Converter,Roof rack,Shift paddles,Voice Control                               1\n",
       "Alloy wheels,Catalytic Converter,Roof rack,Sport package,Sport seats,Touch screen,Winter tyres       1\n",
       "Name: extras, Length: 659, dtype: int64"
      ]
     },
     "execution_count": 121,
     "metadata": {},
     "output_type": "execute_result"
    }
   ],
   "source": [
    "df.extras.value_counts(dropna = False)"
   ]
  },
  {
   "cell_type": "code",
   "execution_count": 122,
   "metadata": {},
   "outputs": [],
   "source": [
    "df = df.join(df['extras'].str.get_dummies(sep = ',').add_prefix('ex_'))"
   ]
  },
  {
   "cell_type": "code",
   "execution_count": 123,
   "metadata": {
    "scrolled": true
   },
   "outputs": [
    {
     "data": {
      "text/html": [
       "<div>\n",
       "<style scoped>\n",
       "    .dataframe tbody tr th:only-of-type {\n",
       "        vertical-align: middle;\n",
       "    }\n",
       "\n",
       "    .dataframe tbody tr th {\n",
       "        vertical-align: top;\n",
       "    }\n",
       "\n",
       "    .dataframe thead th {\n",
       "        text-align: right;\n",
       "    }\n",
       "</style>\n",
       "<table border=\"1\" class=\"dataframe\">\n",
       "  <thead>\n",
       "    <tr style=\"text-align: right;\">\n",
       "      <th></th>\n",
       "      <th>make_model</th>\n",
       "      <th>short_description</th>\n",
       "      <th>body_type</th>\n",
       "      <th>price</th>\n",
       "      <th>vat</th>\n",
       "      <th>km</th>\n",
       "      <th>registration</th>\n",
       "      <th>hp</th>\n",
       "      <th>type</th>\n",
       "      <th>previous_owners</th>\n",
       "      <th>next_inspection</th>\n",
       "      <th>inspection_new</th>\n",
       "      <th>warranty</th>\n",
       "      <th>make</th>\n",
       "      <th>model</th>\n",
       "      <th>offer_number</th>\n",
       "      <th>first_registration</th>\n",
       "      <th>body_color</th>\n",
       "      <th>paint_type</th>\n",
       "      <th>body_color_original</th>\n",
       "      <th>upholstery</th>\n",
       "      <th>nr_of_doors</th>\n",
       "      <th>nr_of_seats</th>\n",
       "      <th>model_code</th>\n",
       "      <th>gearing_type</th>\n",
       "      <th>displacement</th>\n",
       "      <th>cylinders</th>\n",
       "      <th>drive_chain</th>\n",
       "      <th>fuel</th>\n",
       "      <th>consumption</th>\n",
       "      <th>co2_emission</th>\n",
       "      <th>emission_class</th>\n",
       "      <th>comfort&amp;convenience</th>\n",
       "      <th>entertainment&amp;media</th>\n",
       "      <th>extras</th>\n",
       "      <th>safety&amp;security</th>\n",
       "      <th>description</th>\n",
       "      <th>emission_label</th>\n",
       "      <th>gears</th>\n",
       "      <th>country_version</th>\n",
       "      <th>cc_Air conditioning</th>\n",
       "      <th>cc_Air suspension</th>\n",
       "      <th>cc_Armrest</th>\n",
       "      <th>cc_Automatic climate control</th>\n",
       "      <th>cc_Auxiliary heating</th>\n",
       "      <th>cc_Cruise control</th>\n",
       "      <th>cc_Electric Starter</th>\n",
       "      <th>cc_Electric tailgate</th>\n",
       "      <th>cc_Electrical side mirrors</th>\n",
       "      <th>cc_Electrically adjustable seats</th>\n",
       "      <th>cc_Electrically heated windshield</th>\n",
       "      <th>cc_Heads-up display</th>\n",
       "      <th>cc_Heated steering wheel</th>\n",
       "      <th>cc_Hill Holder</th>\n",
       "      <th>cc_Keyless central door lock</th>\n",
       "      <th>cc_Leather seats</th>\n",
       "      <th>cc_Leather steering wheel</th>\n",
       "      <th>cc_Light sensor</th>\n",
       "      <th>cc_Lumbar support</th>\n",
       "      <th>cc_Massage seats</th>\n",
       "      <th>cc_Multi-function steering wheel</th>\n",
       "      <th>cc_Navigation system</th>\n",
       "      <th>cc_Panorama roof</th>\n",
       "      <th>cc_Park Distance Control</th>\n",
       "      <th>cc_Parking assist system camera</th>\n",
       "      <th>cc_Parking assist system self-steering</th>\n",
       "      <th>cc_Parking assist system sensors front</th>\n",
       "      <th>cc_Parking assist system sensors rear</th>\n",
       "      <th>cc_Power windows</th>\n",
       "      <th>cc_Rain sensor</th>\n",
       "      <th>cc_Seat heating</th>\n",
       "      <th>cc_Seat ventilation</th>\n",
       "      <th>cc_Split rear seats</th>\n",
       "      <th>cc_Start-stop system</th>\n",
       "      <th>cc_Sunroof</th>\n",
       "      <th>cc_Tinted windows</th>\n",
       "      <th>cc_Wind deflector</th>\n",
       "      <th>cc_Windshield</th>\n",
       "      <th>em_Bluetooth</th>\n",
       "      <th>em_CD player</th>\n",
       "      <th>em_Digital radio</th>\n",
       "      <th>em_Hands-free equipment</th>\n",
       "      <th>em_MP3</th>\n",
       "      <th>em_On-board computer</th>\n",
       "      <th>em_Radio</th>\n",
       "      <th>em_Sound system</th>\n",
       "      <th>em_Television</th>\n",
       "      <th>em_USB</th>\n",
       "      <th>ex_Alloy wheels</th>\n",
       "      <th>ex_Cab or rented Car</th>\n",
       "      <th>ex_Catalytic Converter</th>\n",
       "      <th>ex_Handicapped enabled</th>\n",
       "      <th>ex_Right hand drive</th>\n",
       "      <th>ex_Roof rack</th>\n",
       "      <th>ex_Shift paddles</th>\n",
       "      <th>ex_Ski bag</th>\n",
       "      <th>ex_Sliding door</th>\n",
       "      <th>ex_Sport package</th>\n",
       "      <th>ex_Sport seats</th>\n",
       "      <th>ex_Sport suspension</th>\n",
       "      <th>ex_Touch screen</th>\n",
       "      <th>ex_Trailer hitch</th>\n",
       "      <th>ex_Tuned car</th>\n",
       "      <th>ex_Voice Control</th>\n",
       "      <th>ex_Winter tyres</th>\n",
       "    </tr>\n",
       "  </thead>\n",
       "  <tbody>\n",
       "    <tr>\n",
       "      <th>0</th>\n",
       "      <td>Audi A1</td>\n",
       "      <td>Sportback 1.4 TDI S-tronic Xenon Navi Klima</td>\n",
       "      <td>Sedans</td>\n",
       "      <td>15770</td>\n",
       "      <td>VAT deductible</td>\n",
       "      <td>56,013 km</td>\n",
       "      <td>01/2016</td>\n",
       "      <td>66 kW</td>\n",
       "      <td>[, Used, , Diesel (Particulate Filter)]</td>\n",
       "      <td>2.0</td>\n",
       "      <td>2021-06-01</td>\n",
       "      <td>1</td>\n",
       "      <td>[\\n, \\n, \\n4 (Green)\\n]</td>\n",
       "      <td>Audi</td>\n",
       "      <td>A1</td>\n",
       "      <td>[\\nLR-062483\\n]</td>\n",
       "      <td>[\\n, 2016, \\n]</td>\n",
       "      <td>Black</td>\n",
       "      <td>Metallic</td>\n",
       "      <td>[\\nMythosschwarz\\n]</td>\n",
       "      <td>[\\nCloth, Black\\n]</td>\n",
       "      <td>[\\n5\\n]</td>\n",
       "      <td>[\\n5\\n]</td>\n",
       "      <td>[\\n0588/BDF\\n]</td>\n",
       "      <td>[\\n, Automatic, \\n]</td>\n",
       "      <td>[\\n1,422 cc\\n]</td>\n",
       "      <td>3</td>\n",
       "      <td>[\\nfront\\n]</td>\n",
       "      <td>[\\n, Diesel (Particulate Filter), \\n]</td>\n",
       "      <td>[[3.8 l/100 km (comb)], [4.3 l/100 km (city)], [3.5 l/100 km (country)]]</td>\n",
       "      <td>[\\n99 g CO2/km (comb)\\n]</td>\n",
       "      <td>[\\nEuro 6\\n]</td>\n",
       "      <td>Air conditioning,Armrest,Automatic climate control,Cruise control,Electrical side mirrors,Hill Holder,Leather steering wheel,Light sensor,Multi-function steering wheel,Navigation system,Park Distance Control,Parking assist system sensors rear,Power windows,Rain sensor,Seat heating,Start-stop system</td>\n",
       "      <td>Bluetooth,Hands-free equipment,On-board computer,Radio</td>\n",
       "      <td>Alloy wheels,Catalytic Converter,Voice Control</td>\n",
       "      <td>[ABS, Central door lock, Daytime running lights, Driver-side airbag, Electronic stability control, Fog lights, Immobilizer, Isofix, Passenger-side airbag, Power steering, Side airbag, Tire pressure monitoring system, Traction control, Xenon headlights]</td>\n",
       "      <td>[\\n, Sicherheit:,  , Deaktivierung für Beifahrer-Airbag,  , ESC mit elektronischer Quersperre,  , Tagfahrlicht,  , Reifendruck-Kontrollanzeige,  , Kopfairbag-System mit Seiten-Airbags vorn,  , Sicherheitslenksäule, Assistenzsysteme:,  , Berganfahrassistent, Komfort:,  , Scheinwerferreinigung,  , Xenon plus inklusive Scheinwerfer-Reinigungsanlage,  , Scheinwerfer-Reinigungsanlage,  , Einparkhilfe hinten,  , Licht-/Regensensor,  , Funkfernbedienung,  , Elektrische Luftzusatzheizung, Interieur:...</td>\n",
       "      <td>NaN</td>\n",
       "      <td>NaN</td>\n",
       "      <td>NaN</td>\n",
       "      <td>1</td>\n",
       "      <td>0</td>\n",
       "      <td>1</td>\n",
       "      <td>1</td>\n",
       "      <td>0</td>\n",
       "      <td>1</td>\n",
       "      <td>0</td>\n",
       "      <td>0</td>\n",
       "      <td>1</td>\n",
       "      <td>0</td>\n",
       "      <td>0</td>\n",
       "      <td>0</td>\n",
       "      <td>0</td>\n",
       "      <td>1</td>\n",
       "      <td>0</td>\n",
       "      <td>0</td>\n",
       "      <td>1</td>\n",
       "      <td>1</td>\n",
       "      <td>0</td>\n",
       "      <td>0</td>\n",
       "      <td>1</td>\n",
       "      <td>1</td>\n",
       "      <td>0</td>\n",
       "      <td>1</td>\n",
       "      <td>0</td>\n",
       "      <td>0</td>\n",
       "      <td>0</td>\n",
       "      <td>1</td>\n",
       "      <td>1</td>\n",
       "      <td>1</td>\n",
       "      <td>1</td>\n",
       "      <td>0</td>\n",
       "      <td>0</td>\n",
       "      <td>1</td>\n",
       "      <td>0</td>\n",
       "      <td>0</td>\n",
       "      <td>0</td>\n",
       "      <td>0</td>\n",
       "      <td>1</td>\n",
       "      <td>0</td>\n",
       "      <td>0</td>\n",
       "      <td>1</td>\n",
       "      <td>0</td>\n",
       "      <td>1</td>\n",
       "      <td>1</td>\n",
       "      <td>0</td>\n",
       "      <td>0</td>\n",
       "      <td>0</td>\n",
       "      <td>1</td>\n",
       "      <td>0</td>\n",
       "      <td>1</td>\n",
       "      <td>0</td>\n",
       "      <td>0</td>\n",
       "      <td>0</td>\n",
       "      <td>0</td>\n",
       "      <td>0</td>\n",
       "      <td>0</td>\n",
       "      <td>0</td>\n",
       "      <td>0</td>\n",
       "      <td>0</td>\n",
       "      <td>0</td>\n",
       "      <td>0</td>\n",
       "      <td>0</td>\n",
       "      <td>1</td>\n",
       "      <td>0</td>\n",
       "    </tr>\n",
       "    <tr>\n",
       "      <th>1</th>\n",
       "      <td>Audi A1</td>\n",
       "      <td>1.8 TFSI sport</td>\n",
       "      <td>Sedans</td>\n",
       "      <td>14500</td>\n",
       "      <td>Price negotiable</td>\n",
       "      <td>80,000 km</td>\n",
       "      <td>03/2017</td>\n",
       "      <td>141 kW</td>\n",
       "      <td>[, Used, , Gasoline]</td>\n",
       "      <td>1.0</td>\n",
       "      <td>NaT</td>\n",
       "      <td>0</td>\n",
       "      <td>NaN</td>\n",
       "      <td>Audi</td>\n",
       "      <td>A1</td>\n",
       "      <td>NaN</td>\n",
       "      <td>[\\n, 2017, \\n]</td>\n",
       "      <td>Red</td>\n",
       "      <td>NaN</td>\n",
       "      <td>NaN</td>\n",
       "      <td>[\\nCloth, Grey\\n]</td>\n",
       "      <td>[\\n3\\n]</td>\n",
       "      <td>[\\n4\\n]</td>\n",
       "      <td>[\\n0588/BCY\\n]</td>\n",
       "      <td>[\\n, Automatic, \\n]</td>\n",
       "      <td>[\\n1,798 cc\\n]</td>\n",
       "      <td>4</td>\n",
       "      <td>[\\nfront\\n]</td>\n",
       "      <td>[\\n, Gasoline, \\n]</td>\n",
       "      <td>[[5.6 l/100 km (comb)], [7.1 l/100 km (city)], [4.7 l/100 km (country)]]</td>\n",
       "      <td>[\\n129 g CO2/km (comb)\\n]</td>\n",
       "      <td>[\\nEuro 6\\n]</td>\n",
       "      <td>Air conditioning,Automatic climate control,Hill Holder,Leather steering wheel,Lumbar support,Parking assist system sensors rear,Power windows,Start-stop system,Tinted windows</td>\n",
       "      <td>Bluetooth,Hands-free equipment,On-board computer,Radio,Sound system</td>\n",
       "      <td>Alloy wheels,Sport seats,Sport suspension,Voice Control</td>\n",
       "      <td>[ABS, Central door lock, Central door lock with remote control, Daytime running lights, Driver-side airbag, Electronic stability control, Head airbag, Immobilizer, Isofix, Passenger-side airbag, Power steering, Side airbag, Tire pressure monitoring system, Traction control, Xenon headlights]</td>\n",
       "      <td>[\\nLangstreckenfahrzeug daher die hohe Kilometerleistung. , Bremsen neu bei 62000 km. , Gut gepflegter A1\\n]</td>\n",
       "      <td>4 (Green)</td>\n",
       "      <td>[\\n7\\n]</td>\n",
       "      <td>NaN</td>\n",
       "      <td>1</td>\n",
       "      <td>0</td>\n",
       "      <td>0</td>\n",
       "      <td>1</td>\n",
       "      <td>0</td>\n",
       "      <td>0</td>\n",
       "      <td>0</td>\n",
       "      <td>0</td>\n",
       "      <td>0</td>\n",
       "      <td>0</td>\n",
       "      <td>0</td>\n",
       "      <td>0</td>\n",
       "      <td>0</td>\n",
       "      <td>1</td>\n",
       "      <td>0</td>\n",
       "      <td>0</td>\n",
       "      <td>1</td>\n",
       "      <td>0</td>\n",
       "      <td>1</td>\n",
       "      <td>0</td>\n",
       "      <td>0</td>\n",
       "      <td>0</td>\n",
       "      <td>0</td>\n",
       "      <td>0</td>\n",
       "      <td>0</td>\n",
       "      <td>0</td>\n",
       "      <td>0</td>\n",
       "      <td>1</td>\n",
       "      <td>1</td>\n",
       "      <td>0</td>\n",
       "      <td>0</td>\n",
       "      <td>0</td>\n",
       "      <td>0</td>\n",
       "      <td>1</td>\n",
       "      <td>0</td>\n",
       "      <td>1</td>\n",
       "      <td>0</td>\n",
       "      <td>0</td>\n",
       "      <td>1</td>\n",
       "      <td>0</td>\n",
       "      <td>0</td>\n",
       "      <td>1</td>\n",
       "      <td>0</td>\n",
       "      <td>1</td>\n",
       "      <td>1</td>\n",
       "      <td>1</td>\n",
       "      <td>0</td>\n",
       "      <td>0</td>\n",
       "      <td>1</td>\n",
       "      <td>0</td>\n",
       "      <td>0</td>\n",
       "      <td>0</td>\n",
       "      <td>0</td>\n",
       "      <td>0</td>\n",
       "      <td>0</td>\n",
       "      <td>0</td>\n",
       "      <td>0</td>\n",
       "      <td>0</td>\n",
       "      <td>1</td>\n",
       "      <td>1</td>\n",
       "      <td>0</td>\n",
       "      <td>0</td>\n",
       "      <td>0</td>\n",
       "      <td>1</td>\n",
       "      <td>0</td>\n",
       "    </tr>\n",
       "    <tr>\n",
       "      <th>2</th>\n",
       "      <td>Audi A1</td>\n",
       "      <td>Sportback 1.6 TDI S tronic Einparkhilfe plus+music</td>\n",
       "      <td>Sedans</td>\n",
       "      <td>14640</td>\n",
       "      <td>VAT deductible</td>\n",
       "      <td>83,450 km</td>\n",
       "      <td>02/2016</td>\n",
       "      <td>85 kW</td>\n",
       "      <td>[, Used, , Diesel (Particulate Filter)]</td>\n",
       "      <td>1.0</td>\n",
       "      <td>NaT</td>\n",
       "      <td>0</td>\n",
       "      <td>[\\n, \\n, \\n99 g CO2/km (comb)\\n]</td>\n",
       "      <td>Audi</td>\n",
       "      <td>A1</td>\n",
       "      <td>[\\nAM-95365\\n]</td>\n",
       "      <td>[\\n, 2016, \\n]</td>\n",
       "      <td>Black</td>\n",
       "      <td>Metallic</td>\n",
       "      <td>[\\nmythosschwarz metallic\\n]</td>\n",
       "      <td>[\\nCloth, Black\\n]</td>\n",
       "      <td>[\\n4\\n]</td>\n",
       "      <td>[\\n4\\n]</td>\n",
       "      <td>NaN</td>\n",
       "      <td>[\\n, Automatic, \\n]</td>\n",
       "      <td>[\\n1,598 cc\\n]</td>\n",
       "      <td>NaN</td>\n",
       "      <td>[\\nfront\\n]</td>\n",
       "      <td>[\\n, Diesel (Particulate Filter), \\n]</td>\n",
       "      <td>[[3.8 l/100 km (comb)], [4.4 l/100 km (city)], [3.4 l/100 km (country)]]</td>\n",
       "      <td>[\\n99 g CO2/km (comb)\\n]</td>\n",
       "      <td>[\\nEuro 6\\n]</td>\n",
       "      <td>Air conditioning,Cruise control,Electrical side mirrors,Hill Holder,Leather steering wheel,Multi-function steering wheel,Navigation system,Park Distance Control,Parking assist system sensors front,Parking assist system sensors rear,Power windows,Seat heating,Start-stop system</td>\n",
       "      <td>MP3,On-board computer</td>\n",
       "      <td>Alloy wheels,Voice Control</td>\n",
       "      <td>[ABS, Central door lock, Daytime running lights, Driver-side airbag, Electronic stability control, Immobilizer, Isofix, Passenger-side airbag, Power steering, Side airbag, Tire pressure monitoring system, Traction control]</td>\n",
       "      <td>[\\n, Fahrzeug-Nummer: AM-95365,  , Ehem. UPE 24.640 EUR,  , Komfort,  , Klimaanlage,  , Elektrische Fensterheber,  , Sitzheizung,  , Tempomat,  , Zentralverriegelung,  , Leder-Lenkrad,  , Elektrische Spiegel,  , Wärmedämmendes Glas,  , Anfahrassistent,  , Sicherheit,  , Window/Kopfairbags,  , ESP (el. Stabilitäts Programm),  , Elektronische Wegfahrsperre,  , Reifendruckkontrolle,  , Tagfahrlicht,  , Exterieur,  , Alufelgen 16 Zoll,  , Einparkhilfe vo + hi,  , Interieur,  , Stoff Zeitgeist,  ...</td>\n",
       "      <td>4 (Green)</td>\n",
       "      <td>NaN</td>\n",
       "      <td>NaN</td>\n",
       "      <td>1</td>\n",
       "      <td>0</td>\n",
       "      <td>0</td>\n",
       "      <td>0</td>\n",
       "      <td>0</td>\n",
       "      <td>1</td>\n",
       "      <td>0</td>\n",
       "      <td>0</td>\n",
       "      <td>1</td>\n",
       "      <td>0</td>\n",
       "      <td>0</td>\n",
       "      <td>0</td>\n",
       "      <td>0</td>\n",
       "      <td>1</td>\n",
       "      <td>0</td>\n",
       "      <td>0</td>\n",
       "      <td>1</td>\n",
       "      <td>0</td>\n",
       "      <td>0</td>\n",
       "      <td>0</td>\n",
       "      <td>1</td>\n",
       "      <td>1</td>\n",
       "      <td>0</td>\n",
       "      <td>1</td>\n",
       "      <td>0</td>\n",
       "      <td>0</td>\n",
       "      <td>1</td>\n",
       "      <td>1</td>\n",
       "      <td>1</td>\n",
       "      <td>0</td>\n",
       "      <td>1</td>\n",
       "      <td>0</td>\n",
       "      <td>0</td>\n",
       "      <td>1</td>\n",
       "      <td>0</td>\n",
       "      <td>0</td>\n",
       "      <td>0</td>\n",
       "      <td>0</td>\n",
       "      <td>0</td>\n",
       "      <td>0</td>\n",
       "      <td>0</td>\n",
       "      <td>0</td>\n",
       "      <td>1</td>\n",
       "      <td>1</td>\n",
       "      <td>0</td>\n",
       "      <td>0</td>\n",
       "      <td>0</td>\n",
       "      <td>0</td>\n",
       "      <td>1</td>\n",
       "      <td>0</td>\n",
       "      <td>0</td>\n",
       "      <td>0</td>\n",
       "      <td>0</td>\n",
       "      <td>0</td>\n",
       "      <td>0</td>\n",
       "      <td>0</td>\n",
       "      <td>0</td>\n",
       "      <td>0</td>\n",
       "      <td>0</td>\n",
       "      <td>0</td>\n",
       "      <td>0</td>\n",
       "      <td>0</td>\n",
       "      <td>0</td>\n",
       "      <td>1</td>\n",
       "      <td>0</td>\n",
       "    </tr>\n",
       "    <tr>\n",
       "      <th>3</th>\n",
       "      <td>Audi A1</td>\n",
       "      <td>1.4 TDi Design S tronic</td>\n",
       "      <td>Sedans</td>\n",
       "      <td>14500</td>\n",
       "      <td>None</td>\n",
       "      <td>73,000 km</td>\n",
       "      <td>08/2016</td>\n",
       "      <td>66 kW</td>\n",
       "      <td>[, Used, , Diesel (Particulate Filter)]</td>\n",
       "      <td>1.0</td>\n",
       "      <td>NaT</td>\n",
       "      <td>0</td>\n",
       "      <td>NaN</td>\n",
       "      <td>Audi</td>\n",
       "      <td>A1</td>\n",
       "      <td>NaN</td>\n",
       "      <td>[\\n, 2016, \\n]</td>\n",
       "      <td>Brown</td>\n",
       "      <td>Metallic</td>\n",
       "      <td>NaN</td>\n",
       "      <td>NaN</td>\n",
       "      <td>[\\n3\\n]</td>\n",
       "      <td>[\\n4\\n]</td>\n",
       "      <td>NaN</td>\n",
       "      <td>[\\n, Automatic, \\n]</td>\n",
       "      <td>[\\n1,422 cc\\n]</td>\n",
       "      <td>3</td>\n",
       "      <td>NaN</td>\n",
       "      <td>[\\n, Diesel (Particulate Filter), \\n]</td>\n",
       "      <td>[[3.8 l/100 km (comb)], [4.3 l/100 km (city)], [3.5 l/100 km (country)]]</td>\n",
       "      <td>[\\n99 g CO2/km (comb)\\n]</td>\n",
       "      <td>[\\nEuro 6\\n]</td>\n",
       "      <td>Air suspension,Armrest,Auxiliary heating,Electrical side mirrors,Heads-up display,Hill Holder,Leather steering wheel,Light sensor,Lumbar support,Multi-function steering wheel,Navigation system,Power windows,Rain sensor,Seat heating,Split rear seats,Start-stop system</td>\n",
       "      <td>Bluetooth,CD player,Hands-free equipment,MP3,On-board computer,Radio,Sound system,USB</td>\n",
       "      <td>Alloy wheels,Sport seats,Voice Control</td>\n",
       "      <td>[ABS, Alarm system, Central door lock with remote control, Driver drowsiness detection, Driver-side airbag, Electronic stability control, Emergency system, Head airbag, Immobilizer, Isofix, Passenger-side airbag, Power steering, Side airbag, Tire pressure monitoring system]</td>\n",
       "      <td>[\\nAudi A1: , - 1e eigenaar , - Perfecte staat: schade/ongevalvrij , - Onderhoudsboekje Audi garage , - Full option!, - S-line opties, - Automaat, lederen bekleding, navi-pro, Xenon lampen, zetelverwarming, automatische airco,...\\n]</td>\n",
       "      <td>NaN</td>\n",
       "      <td>[\\n6\\n]</td>\n",
       "      <td>NaN</td>\n",
       "      <td>0</td>\n",
       "      <td>1</td>\n",
       "      <td>1</td>\n",
       "      <td>0</td>\n",
       "      <td>1</td>\n",
       "      <td>0</td>\n",
       "      <td>0</td>\n",
       "      <td>0</td>\n",
       "      <td>1</td>\n",
       "      <td>0</td>\n",
       "      <td>0</td>\n",
       "      <td>1</td>\n",
       "      <td>0</td>\n",
       "      <td>1</td>\n",
       "      <td>0</td>\n",
       "      <td>0</td>\n",
       "      <td>1</td>\n",
       "      <td>1</td>\n",
       "      <td>1</td>\n",
       "      <td>0</td>\n",
       "      <td>1</td>\n",
       "      <td>1</td>\n",
       "      <td>0</td>\n",
       "      <td>0</td>\n",
       "      <td>0</td>\n",
       "      <td>0</td>\n",
       "      <td>0</td>\n",
       "      <td>0</td>\n",
       "      <td>1</td>\n",
       "      <td>1</td>\n",
       "      <td>1</td>\n",
       "      <td>0</td>\n",
       "      <td>1</td>\n",
       "      <td>1</td>\n",
       "      <td>0</td>\n",
       "      <td>0</td>\n",
       "      <td>0</td>\n",
       "      <td>0</td>\n",
       "      <td>1</td>\n",
       "      <td>1</td>\n",
       "      <td>0</td>\n",
       "      <td>1</td>\n",
       "      <td>1</td>\n",
       "      <td>1</td>\n",
       "      <td>1</td>\n",
       "      <td>1</td>\n",
       "      <td>0</td>\n",
       "      <td>1</td>\n",
       "      <td>1</td>\n",
       "      <td>0</td>\n",
       "      <td>0</td>\n",
       "      <td>0</td>\n",
       "      <td>0</td>\n",
       "      <td>0</td>\n",
       "      <td>0</td>\n",
       "      <td>0</td>\n",
       "      <td>0</td>\n",
       "      <td>0</td>\n",
       "      <td>1</td>\n",
       "      <td>0</td>\n",
       "      <td>0</td>\n",
       "      <td>0</td>\n",
       "      <td>0</td>\n",
       "      <td>1</td>\n",
       "      <td>0</td>\n",
       "    </tr>\n",
       "    <tr>\n",
       "      <th>4</th>\n",
       "      <td>Audi A1</td>\n",
       "      <td>Sportback 1.4 TDI S-Tronic S-Line Ext. admired, Xe</td>\n",
       "      <td>Sedans</td>\n",
       "      <td>16790</td>\n",
       "      <td>None</td>\n",
       "      <td>16,200 km</td>\n",
       "      <td>05/2016</td>\n",
       "      <td>66 kW</td>\n",
       "      <td>[, Used, , Diesel (Particulate Filter)]</td>\n",
       "      <td>1.0</td>\n",
       "      <td>NaT</td>\n",
       "      <td>1</td>\n",
       "      <td>[\\n, \\n, \\nEuro 6\\n]</td>\n",
       "      <td>Audi</td>\n",
       "      <td>A1</td>\n",
       "      <td>[\\nC1626\\n]</td>\n",
       "      <td>[\\n, 2016, \\n]</td>\n",
       "      <td>Black</td>\n",
       "      <td>Metallic</td>\n",
       "      <td>[\\nMythosschwarz Metallic\\n]</td>\n",
       "      <td>[\\nCloth, Black\\n]</td>\n",
       "      <td>[\\n5\\n]</td>\n",
       "      <td>[\\n5\\n]</td>\n",
       "      <td>[\\n0588/BDF\\n]</td>\n",
       "      <td>[\\n, Automatic, \\n]</td>\n",
       "      <td>[\\n1,422 cc\\n]</td>\n",
       "      <td>3</td>\n",
       "      <td>[\\nfront\\n]</td>\n",
       "      <td>[\\n, Diesel (Particulate Filter), \\n]</td>\n",
       "      <td>[[4.1 l/100 km (comb)], [4.6 l/100 km (city)], [3.8 l/100 km (country)]]</td>\n",
       "      <td>[\\n109 g CO2/km (comb)\\n]</td>\n",
       "      <td>[\\nEuro 6\\n]</td>\n",
       "      <td>Air conditioning,Armrest,Automatic climate control,Electrical side mirrors,Hill Holder,Leather steering wheel,Light sensor,Multi-function steering wheel,Park Distance Control,Parking assist system sensors rear,Power windows,Rain sensor,Start-stop system</td>\n",
       "      <td>Bluetooth,CD player,Hands-free equipment,MP3,On-board computer,Radio,USB</td>\n",
       "      <td>Alloy wheels,Sport package,Sport suspension,Voice Control</td>\n",
       "      <td>[ABS, Central door lock, Driver-side airbag, Electronic stability control, Fog lights, Immobilizer, Isofix, Passenger-side airbag, Power steering, Side airbag, Tire pressure monitoring system, Traction control, Xenon headlights]</td>\n",
       "      <td>[\\n, Technik &amp; Sicherheit:, Xenon plus, Klimaautomatik, Einparkhilfe hinten, Scheinwerferreinigungsanlage, Nebelscheinwerfer, Zentralverriegelung mit Fernbedienung, Außenspiegel elek. einstellbar, Fensterheber elek, Start/Stop Anlage, 6 Airbag inkl. Kopfairbag, Euro 6, Multimedia:, Radio CD Concert, audi music interface, Handyvorbereitung (Bluetooth), Sprachsteuerung, USB Anschluss, Assistenzsysteme:, Lichtsensor, Regensensor, Berganfahrassistent, Reifendruckkontrolle, ESP inkl. ABS, Interie...</td>\n",
       "      <td>NaN</td>\n",
       "      <td>NaN</td>\n",
       "      <td>Germany</td>\n",
       "      <td>1</td>\n",
       "      <td>0</td>\n",
       "      <td>1</td>\n",
       "      <td>1</td>\n",
       "      <td>0</td>\n",
       "      <td>0</td>\n",
       "      <td>0</td>\n",
       "      <td>0</td>\n",
       "      <td>1</td>\n",
       "      <td>0</td>\n",
       "      <td>0</td>\n",
       "      <td>0</td>\n",
       "      <td>0</td>\n",
       "      <td>1</td>\n",
       "      <td>0</td>\n",
       "      <td>0</td>\n",
       "      <td>1</td>\n",
       "      <td>1</td>\n",
       "      <td>0</td>\n",
       "      <td>0</td>\n",
       "      <td>1</td>\n",
       "      <td>0</td>\n",
       "      <td>0</td>\n",
       "      <td>1</td>\n",
       "      <td>0</td>\n",
       "      <td>0</td>\n",
       "      <td>0</td>\n",
       "      <td>1</td>\n",
       "      <td>1</td>\n",
       "      <td>1</td>\n",
       "      <td>0</td>\n",
       "      <td>0</td>\n",
       "      <td>0</td>\n",
       "      <td>1</td>\n",
       "      <td>0</td>\n",
       "      <td>0</td>\n",
       "      <td>0</td>\n",
       "      <td>0</td>\n",
       "      <td>1</td>\n",
       "      <td>1</td>\n",
       "      <td>0</td>\n",
       "      <td>1</td>\n",
       "      <td>1</td>\n",
       "      <td>1</td>\n",
       "      <td>1</td>\n",
       "      <td>0</td>\n",
       "      <td>0</td>\n",
       "      <td>1</td>\n",
       "      <td>1</td>\n",
       "      <td>0</td>\n",
       "      <td>0</td>\n",
       "      <td>0</td>\n",
       "      <td>0</td>\n",
       "      <td>0</td>\n",
       "      <td>0</td>\n",
       "      <td>0</td>\n",
       "      <td>0</td>\n",
       "      <td>1</td>\n",
       "      <td>0</td>\n",
       "      <td>1</td>\n",
       "      <td>0</td>\n",
       "      <td>0</td>\n",
       "      <td>0</td>\n",
       "      <td>1</td>\n",
       "      <td>0</td>\n",
       "    </tr>\n",
       "  </tbody>\n",
       "</table>\n",
       "</div>"
      ],
      "text/plain": [
       "  make_model                                   short_description body_type  price               vat         km registration      hp                                     type  previous_owners next_inspection inspection_new                          warranty  make model     offer_number first_registration body_color paint_type           body_color_original          upholstery nr_of_doors nr_of_seats      model_code         gearing_type    displacement cylinders  drive_chain                                   fuel                                                               consumption               co2_emission emission_class                                                                                                                                                                                                                                                                                          comfort&convenience                                                                    entertainment&media                                                     extras                                                                                                                                                                                                                                                                                       safety&security                                                                                                                                                                                                                                                                                                                                                                                                                                                                                                          description emission_label    gears country_version  cc_Air conditioning  cc_Air suspension  cc_Armrest  cc_Automatic climate control  \\\n",
       "0    Audi A1         Sportback 1.4 TDI S-tronic Xenon Navi Klima    Sedans  15770    VAT deductible  56,013 km      01/2016   66 kW  [, Used, , Diesel (Particulate Filter)]              2.0      2021-06-01              1           [\\n, \\n, \\n4 (Green)\\n]  Audi    A1  [\\nLR-062483\\n]     [\\n, 2016, \\n]      Black   Metallic           [\\nMythosschwarz\\n]  [\\nCloth, Black\\n]     [\\n5\\n]     [\\n5\\n]  [\\n0588/BDF\\n]  [\\n, Automatic, \\n]  [\\n1,422 cc\\n]         3  [\\nfront\\n]  [\\n, Diesel (Particulate Filter), \\n]  [[3.8 l/100 km (comb)], [4.3 l/100 km (city)], [3.5 l/100 km (country)]]   [\\n99 g CO2/km (comb)\\n]   [\\nEuro 6\\n]  Air conditioning,Armrest,Automatic climate control,Cruise control,Electrical side mirrors,Hill Holder,Leather steering wheel,Light sensor,Multi-function steering wheel,Navigation system,Park Distance Control,Parking assist system sensors rear,Power windows,Rain sensor,Seat heating,Start-stop system                                 Bluetooth,Hands-free equipment,On-board computer,Radio             Alloy wheels,Catalytic Converter,Voice Control                                          [ABS, Central door lock, Daytime running lights, Driver-side airbag, Electronic stability control, Fog lights, Immobilizer, Isofix, Passenger-side airbag, Power steering, Side airbag, Tire pressure monitoring system, Traction control, Xenon headlights]  [\\n, Sicherheit:,  , Deaktivierung für Beifahrer-Airbag,  , ESC mit elektronischer Quersperre,  , Tagfahrlicht,  , Reifendruck-Kontrollanzeige,  , Kopfairbag-System mit Seiten-Airbags vorn,  , Sicherheitslenksäule, Assistenzsysteme:,  , Berganfahrassistent, Komfort:,  , Scheinwerferreinigung,  , Xenon plus inklusive Scheinwerfer-Reinigungsanlage,  , Scheinwerfer-Reinigungsanlage,  , Einparkhilfe hinten,  , Licht-/Regensensor,  , Funkfernbedienung,  , Elektrische Luftzusatzheizung, Interieur:...            NaN      NaN             NaN                    1                  0           1                             1   \n",
       "1    Audi A1                                      1.8 TFSI sport    Sedans  14500  Price negotiable  80,000 km      03/2017  141 kW                     [, Used, , Gasoline]              1.0             NaT              0                               NaN  Audi    A1              NaN     [\\n, 2017, \\n]        Red        NaN                           NaN   [\\nCloth, Grey\\n]     [\\n3\\n]     [\\n4\\n]  [\\n0588/BCY\\n]  [\\n, Automatic, \\n]  [\\n1,798 cc\\n]         4  [\\nfront\\n]                     [\\n, Gasoline, \\n]  [[5.6 l/100 km (comb)], [7.1 l/100 km (city)], [4.7 l/100 km (country)]]  [\\n129 g CO2/km (comb)\\n]   [\\nEuro 6\\n]                                                                                                                               Air conditioning,Automatic climate control,Hill Holder,Leather steering wheel,Lumbar support,Parking assist system sensors rear,Power windows,Start-stop system,Tinted windows                    Bluetooth,Hands-free equipment,On-board computer,Radio,Sound system    Alloy wheels,Sport seats,Sport suspension,Voice Control  [ABS, Central door lock, Central door lock with remote control, Daytime running lights, Driver-side airbag, Electronic stability control, Head airbag, Immobilizer, Isofix, Passenger-side airbag, Power steering, Side airbag, Tire pressure monitoring system, Traction control, Xenon headlights]                                                                                                                                                                                                                                                                                                                                                                                                         [\\nLangstreckenfahrzeug daher die hohe Kilometerleistung. , Bremsen neu bei 62000 km. , Gut gepflegter A1\\n]      4 (Green)  [\\n7\\n]             NaN                    1                  0           0                             1   \n",
       "2    Audi A1  Sportback 1.6 TDI S tronic Einparkhilfe plus+music    Sedans  14640    VAT deductible  83,450 km      02/2016   85 kW  [, Used, , Diesel (Particulate Filter)]              1.0             NaT              0  [\\n, \\n, \\n99 g CO2/km (comb)\\n]  Audi    A1   [\\nAM-95365\\n]     [\\n, 2016, \\n]      Black   Metallic  [\\nmythosschwarz metallic\\n]  [\\nCloth, Black\\n]     [\\n4\\n]     [\\n4\\n]             NaN  [\\n, Automatic, \\n]  [\\n1,598 cc\\n]       NaN  [\\nfront\\n]  [\\n, Diesel (Particulate Filter), \\n]  [[3.8 l/100 km (comb)], [4.4 l/100 km (city)], [3.4 l/100 km (country)]]   [\\n99 g CO2/km (comb)\\n]   [\\nEuro 6\\n]                         Air conditioning,Cruise control,Electrical side mirrors,Hill Holder,Leather steering wheel,Multi-function steering wheel,Navigation system,Park Distance Control,Parking assist system sensors front,Parking assist system sensors rear,Power windows,Seat heating,Start-stop system                                                                  MP3,On-board computer                                 Alloy wheels,Voice Control                                                                        [ABS, Central door lock, Daytime running lights, Driver-side airbag, Electronic stability control, Immobilizer, Isofix, Passenger-side airbag, Power steering, Side airbag, Tire pressure monitoring system, Traction control]  [\\n, Fahrzeug-Nummer: AM-95365,  , Ehem. UPE 24.640 EUR,  , Komfort,  , Klimaanlage,  , Elektrische Fensterheber,  , Sitzheizung,  , Tempomat,  , Zentralverriegelung,  , Leder-Lenkrad,  , Elektrische Spiegel,  , Wärmedämmendes Glas,  , Anfahrassistent,  , Sicherheit,  , Window/Kopfairbags,  , ESP (el. Stabilitäts Programm),  , Elektronische Wegfahrsperre,  , Reifendruckkontrolle,  , Tagfahrlicht,  , Exterieur,  , Alufelgen 16 Zoll,  , Einparkhilfe vo + hi,  , Interieur,  , Stoff Zeitgeist,  ...      4 (Green)      NaN             NaN                    1                  0           0                             0   \n",
       "3    Audi A1                             1.4 TDi Design S tronic    Sedans  14500              None  73,000 km      08/2016   66 kW  [, Used, , Diesel (Particulate Filter)]              1.0             NaT              0                               NaN  Audi    A1              NaN     [\\n, 2016, \\n]      Brown   Metallic                           NaN                 NaN     [\\n3\\n]     [\\n4\\n]             NaN  [\\n, Automatic, \\n]  [\\n1,422 cc\\n]         3          NaN  [\\n, Diesel (Particulate Filter), \\n]  [[3.8 l/100 km (comb)], [4.3 l/100 km (city)], [3.5 l/100 km (country)]]   [\\n99 g CO2/km (comb)\\n]   [\\nEuro 6\\n]                                   Air suspension,Armrest,Auxiliary heating,Electrical side mirrors,Heads-up display,Hill Holder,Leather steering wheel,Light sensor,Lumbar support,Multi-function steering wheel,Navigation system,Power windows,Rain sensor,Seat heating,Split rear seats,Start-stop system  Bluetooth,CD player,Hands-free equipment,MP3,On-board computer,Radio,Sound system,USB                     Alloy wheels,Sport seats,Voice Control                    [ABS, Alarm system, Central door lock with remote control, Driver drowsiness detection, Driver-side airbag, Electronic stability control, Emergency system, Head airbag, Immobilizer, Isofix, Passenger-side airbag, Power steering, Side airbag, Tire pressure monitoring system]                                                                                                                                                                                                                                                                             [\\nAudi A1: , - 1e eigenaar , - Perfecte staat: schade/ongevalvrij , - Onderhoudsboekje Audi garage , - Full option!, - S-line opties, - Automaat, lederen bekleding, navi-pro, Xenon lampen, zetelverwarming, automatische airco,...\\n]            NaN  [\\n6\\n]             NaN                    0                  1           1                             0   \n",
       "4    Audi A1  Sportback 1.4 TDI S-Tronic S-Line Ext. admired, Xe    Sedans  16790              None  16,200 km      05/2016   66 kW  [, Used, , Diesel (Particulate Filter)]              1.0             NaT              1              [\\n, \\n, \\nEuro 6\\n]  Audi    A1      [\\nC1626\\n]     [\\n, 2016, \\n]      Black   Metallic  [\\nMythosschwarz Metallic\\n]  [\\nCloth, Black\\n]     [\\n5\\n]     [\\n5\\n]  [\\n0588/BDF\\n]  [\\n, Automatic, \\n]  [\\n1,422 cc\\n]         3  [\\nfront\\n]  [\\n, Diesel (Particulate Filter), \\n]  [[4.1 l/100 km (comb)], [4.6 l/100 km (city)], [3.8 l/100 km (country)]]  [\\n109 g CO2/km (comb)\\n]   [\\nEuro 6\\n]                                                Air conditioning,Armrest,Automatic climate control,Electrical side mirrors,Hill Holder,Leather steering wheel,Light sensor,Multi-function steering wheel,Park Distance Control,Parking assist system sensors rear,Power windows,Rain sensor,Start-stop system               Bluetooth,CD player,Hands-free equipment,MP3,On-board computer,Radio,USB  Alloy wheels,Sport package,Sport suspension,Voice Control                                                                  [ABS, Central door lock, Driver-side airbag, Electronic stability control, Fog lights, Immobilizer, Isofix, Passenger-side airbag, Power steering, Side airbag, Tire pressure monitoring system, Traction control, Xenon headlights]  [\\n, Technik & Sicherheit:, Xenon plus, Klimaautomatik, Einparkhilfe hinten, Scheinwerferreinigungsanlage, Nebelscheinwerfer, Zentralverriegelung mit Fernbedienung, Außenspiegel elek. einstellbar, Fensterheber elek, Start/Stop Anlage, 6 Airbag inkl. Kopfairbag, Euro 6, Multimedia:, Radio CD Concert, audi music interface, Handyvorbereitung (Bluetooth), Sprachsteuerung, USB Anschluss, Assistenzsysteme:, Lichtsensor, Regensensor, Berganfahrassistent, Reifendruckkontrolle, ESP inkl. ABS, Interie...            NaN      NaN         Germany                    1                  0           1                             1   \n",
       "\n",
       "   cc_Auxiliary heating  cc_Cruise control  cc_Electric Starter  cc_Electric tailgate  cc_Electrical side mirrors  cc_Electrically adjustable seats  cc_Electrically heated windshield  cc_Heads-up display  cc_Heated steering wheel  cc_Hill Holder  cc_Keyless central door lock  cc_Leather seats  cc_Leather steering wheel  cc_Light sensor  cc_Lumbar support  cc_Massage seats  cc_Multi-function steering wheel  cc_Navigation system  cc_Panorama roof  cc_Park Distance Control  cc_Parking assist system camera  cc_Parking assist system self-steering  cc_Parking assist system sensors front  cc_Parking assist system sensors rear  cc_Power windows  cc_Rain sensor  cc_Seat heating  cc_Seat ventilation  cc_Split rear seats  cc_Start-stop system  cc_Sunroof  cc_Tinted windows  cc_Wind deflector  cc_Windshield  em_Bluetooth  em_CD player  em_Digital radio  em_Hands-free equipment  em_MP3  em_On-board computer  em_Radio  em_Sound system  em_Television  em_USB  ex_Alloy wheels  ex_Cab or rented Car  ex_Catalytic Converter  ex_Handicapped enabled  ex_Right hand drive  ex_Roof rack  ex_Shift paddles  ex_Ski bag  ex_Sliding door  ex_Sport package  ex_Sport seats  ex_Sport suspension  ex_Touch screen  ex_Trailer hitch  ex_Tuned car  ex_Voice Control  ex_Winter tyres  \n",
       "0                     0                  1                    0                     0                           1                                 0                                  0                    0                         0               1                             0                 0                          1                1                  0                 0                                 1                     1                 0                         1                                0                                       0                                       0                                      1                 1               1                1                    0                    0                     1           0                  0                  0              0             1             0                 0                        1       0                     1         1                0              0       0                1                     0                       1                       0                    0             0                 0           0                0                 0               0                    0                0                 0             0                 1                0  \n",
       "1                     0                  0                    0                     0                           0                                 0                                  0                    0                         0               1                             0                 0                          1                0                  1                 0                                 0                     0                 0                         0                                0                                       0                                       0                                      1                 1               0                0                    0                    0                     1           0                  1                  0              0             1             0                 0                        1       0                     1         1                1              0       0                1                     0                       0                       0                    0             0                 0           0                0                 0               1                    1                0                 0             0                 1                0  \n",
       "2                     0                  1                    0                     0                           1                                 0                                  0                    0                         0               1                             0                 0                          1                0                  0                 0                                 1                     1                 0                         1                                0                                       0                                       1                                      1                 1               0                1                    0                    0                     1           0                  0                  0              0             0             0                 0                        0       1                     1         0                0              0       0                1                     0                       0                       0                    0             0                 0           0                0                 0               0                    0                0                 0             0                 1                0  \n",
       "3                     1                  0                    0                     0                           1                                 0                                  0                    1                         0               1                             0                 0                          1                1                  1                 0                                 1                     1                 0                         0                                0                                       0                                       0                                      0                 1               1                1                    0                    1                     1           0                  0                  0              0             1             1                 0                        1       1                     1         1                1              0       1                1                     0                       0                       0                    0             0                 0           0                0                 0               1                    0                0                 0             0                 1                0  \n",
       "4                     0                  0                    0                     0                           1                                 0                                  0                    0                         0               1                             0                 0                          1                1                  0                 0                                 1                     0                 0                         1                                0                                       0                                       0                                      1                 1               1                0                    0                    0                     1           0                  0                  0              0             1             1                 0                        1       1                     1         1                0              0       1                1                     0                       0                       0                    0             0                 0           0                0                 1               0                    1                0                 0             0                 1                0  "
      ]
     },
     "execution_count": 123,
     "metadata": {},
     "output_type": "execute_result"
    }
   ],
   "source": [
    "df.head()"
   ]
  },
  {
   "cell_type": "code",
   "execution_count": 124,
   "metadata": {},
   "outputs": [
    {
     "data": {
      "text/plain": [
       "0.06168729191532132"
      ]
     },
     "execution_count": 124,
     "metadata": {},
     "output_type": "execute_result"
    }
   ],
   "source": [
    "df['safety&security'].isnull().sum()/df.shape[0]"
   ]
  },
  {
   "cell_type": "code",
   "execution_count": 125,
   "metadata": {
    "scrolled": true
   },
   "outputs": [
    {
     "ename": "TypeError",
     "evalue": "unhashable type: 'list'",
     "output_type": "error",
     "traceback": [
      "\u001b[1;31m---------------------------------------------------------------------------\u001b[0m",
      "\u001b[1;31mTypeError\u001b[0m                                 Traceback (most recent call last)",
      "\u001b[1;32mpandas\\_libs\\hashtable_class_helper.pxi\u001b[0m in \u001b[0;36mpandas._libs.hashtable.PyObjectHashTable.map_locations\u001b[1;34m()\u001b[0m\n",
      "\u001b[1;31mTypeError\u001b[0m: unhashable type: 'list'"
     ]
    },
    {
     "name": "stderr",
     "output_type": "stream",
     "text": [
      "Exception ignored in: 'pandas._libs.index.IndexEngine._call_map_locations'\n",
      "Traceback (most recent call last):\n",
      "  File \"pandas\\_libs\\hashtable_class_helper.pxi\", line 1709, in pandas._libs.hashtable.PyObjectHashTable.map_locations\n",
      "TypeError: unhashable type: 'list'\n"
     ]
    },
    {
     "data": {
      "text/plain": [
       "NaN                                                                                                                                                                                                                                                                                                                                                                                        982\n",
       "[ABS, Central door lock, Daytime running lights, Driver-side airbag, Electronic stability control, Fog lights, Immobilizer, Isofix, Passenger-side airbag, Power steering, Side airbag, Tire pressure monitoring system, Traction control]                                                                                                                                                 538\n",
       "[ABS, Central door lock, Daytime running lights, Driver-side airbag, Electronic stability control, Immobilizer, Isofix, Passenger-side airbag, Power steering, Side airbag, Tire pressure monitoring system, Traction control]                                                                                                                                                             480\n",
       "[ABS, Central door lock, Daytime running lights, Driver-side airbag, Electronic stability control, Immobilizer, Isofix, Passenger-side airbag, Power steering, Side airbag, Tire pressure monitoring system, Traction control, Xenon headlights]                                                                                                                                           275\n",
       "[ABS, Central door lock, Daytime running lights, Driver-side airbag, Electronic stability control, Fog lights, Immobilizer, Isofix, LED Daytime Running Lights, Passenger-side airbag, Power steering, Side airbag, Tire pressure monitoring system, Traction control]                                                                                                                     272\n",
       "                                                                                                                                                                                                                                                                                                                                                                                          ... \n",
       "[ABS, Adaptive Cruise Control, Central door lock, Driver-side airbag, Electronic stability control, Emergency brake assistant, Isofix, Lane departure warning system, Passenger-side airbag, Side airbag, Tire pressure monitoring system, Traction control]                                                                                                                                 1\n",
       "[ABS, Adaptive headlights, Central door lock, Daytime running lights, Driver-side airbag, Electronic stability control, Emergency brake assistant, Fog lights, Immobilizer, Isofix, Lane departure warning system, LED Daytime Running Lights, LED Headlights, Passenger-side airbag, Power steering, Side airbag, Tire pressure monitoring system]                                          1\n",
       "[ABS, Alarm system, Central door lock, Driver drowsiness detection, Driver-side airbag, Electronic stability control, Isofix, LED Daytime Running Lights, Passenger-side airbag, Power steering, Side airbag, Tire pressure monitoring system, Traction control, Xenon headlights]                                                                                                           1\n",
       "[ABS, Central door lock, Central door lock with remote control, Daytime running lights, Driver-side airbag, Electronic stability control, Emergency brake assistant, Emergency system, Fog lights, Head airbag, Immobilizer, Isofix, Lane departure warning system, Passenger-side airbag, Power steering, Rear airbag, Side airbag, Tire pressure monitoring system, Traction control]      1\n",
       "[ABS, Central door lock with remote control, Daytime running lights, Driver drowsiness detection, Driver-side airbag, Electronic stability control, Emergency brake assistant, Emergency system, Head airbag, Immobilizer, Isofix, LED Daytime Running Lights, Passenger-side airbag, Power steering, Side airbag, Tire pressure monitoring system, Traction control]                        1\n",
       "Name: safety&security, Length: 4444, dtype: int64"
      ]
     },
     "execution_count": 125,
     "metadata": {},
     "output_type": "execute_result"
    }
   ],
   "source": [
    "df['safety&security'].value_counts(dropna = False)"
   ]
  },
  {
   "cell_type": "code",
   "execution_count": 126,
   "metadata": {
    "scrolled": true
   },
   "outputs": [],
   "source": [
    "df['safety&security'] = df[df['safety&security'].notnull()]['safety&security'].apply(list_extractor)"
   ]
  },
  {
   "cell_type": "code",
   "execution_count": 127,
   "metadata": {
    "scrolled": true
   },
   "outputs": [
    {
     "data": {
      "text/plain": [
       "NaN                                                                                                                                                                                                                                                                                                                                                                                                                982\n",
       "ABS,Central door lock,Daytime running lights,Driver-side airbag,Electronic stability control,Fog lights,Immobilizer,Isofix,Passenger-side airbag,Power steering,Side airbag,Tire pressure monitoring system,Traction control                                                                                                                                                                                       538\n",
       "ABS,Central door lock,Daytime running lights,Driver-side airbag,Electronic stability control,Immobilizer,Isofix,Passenger-side airbag,Power steering,Side airbag,Tire pressure monitoring system,Traction control                                                                                                                                                                                                  480\n",
       "ABS,Central door lock,Daytime running lights,Driver-side airbag,Electronic stability control,Immobilizer,Isofix,Passenger-side airbag,Power steering,Side airbag,Tire pressure monitoring system,Traction control,Xenon headlights                                                                                                                                                                                 275\n",
       "ABS,Central door lock,Daytime running lights,Driver-side airbag,Electronic stability control,Fog lights,Immobilizer,Isofix,LED Daytime Running Lights,Passenger-side airbag,Power steering,Side airbag,Tire pressure monitoring system,Traction control                                                                                                                                                            272\n",
       "                                                                                                                                                                                                                                                                                                                                                                                                                  ... \n",
       "ABS,Adaptive Cruise Control,Alarm system,Central door lock,Daytime running lights,Driver-side airbag,Fog lights,LED Daytime Running Lights,LED Headlights,Power steering,Side airbag,Traction control,Xenon headlights                                                                                                                                                                                               1\n",
       "ABS,Central door lock with remote control,Daytime running lights,Driver-side airbag,Electronic stability control,Head airbag,Immobilizer,Isofix,Passenger-side airbag,Power steering,Side airbag,Tire pressure monitoring system,Xenon headlights                                                                                                                                                                    1\n",
       "ABS,Alarm system,Central door lock,Central door lock with remote control,Driver-side airbag,Electronic stability control,Fog lights,Head airbag,Immobilizer,Passenger-side airbag,Power steering,Side airbag,Traction control,Xenon headlights                                                                                                                                                                       1\n",
       "ABS,Blind spot monitor,Central door lock with remote control,Daytime running lights,Driver-side airbag,Electronic stability control,Emergency brake assistant,Emergency system,Fog lights,Immobilizer,Isofix,Lane departure warning system,LED Daytime Running Lights,LED Headlights,Passenger-side airbag,Power steering,Side airbag,Tire pressure monitoring system,Traction control,Traffic sign recognition      1\n",
       "ABS,Adaptive Cruise Control,Blind spot monitor,Central door lock,Daytime running lights,Driver-side airbag,Electronic stability control,Emergency brake assistant,Immobilizer,Isofix,Lane departure warning system,LED Daytime Running Lights,LED Headlights,Passenger-side airbag,Side airbag,Tire pressure monitoring system,Traction control,Traffic sign recognition,Xenon headlights                            1\n",
       "Name: safety&security, Length: 4444, dtype: int64"
      ]
     },
     "execution_count": 127,
     "metadata": {},
     "output_type": "execute_result"
    }
   ],
   "source": [
    "df['safety&security'].value_counts(dropna = False)"
   ]
  },
  {
   "cell_type": "code",
   "execution_count": 128,
   "metadata": {},
   "outputs": [],
   "source": [
    "fill_most(df, 'make_model', 'safety&security')"
   ]
  },
  {
   "cell_type": "code",
   "execution_count": 129,
   "metadata": {
    "scrolled": true
   },
   "outputs": [
    {
     "data": {
      "text/plain": [
       "ABS,Central door lock,Daytime running lights,Driver-side airbag,Electronic stability control,Fog lights,Immobilizer,Isofix,Passenger-side airbag,Power steering,Side airbag,Tire pressure monitoring system,Traction control                                                                                                                                                                                       825\n",
       "ABS,Central door lock,Daytime running lights,Driver-side airbag,Electronic stability control,Immobilizer,Isofix,Passenger-side airbag,Power steering,Side airbag,Tire pressure monitoring system,Traction control                                                                                                                                                                                                  480\n",
       "ABS,Central door lock,Daytime running lights,Driver-side airbag,Electronic stability control,Fog lights,Immobilizer,Isofix,LED Daytime Running Lights,Passenger-side airbag,Power steering,Side airbag,Tire pressure monitoring system,Traction control                                                                                                                                                            452\n",
       "ABS,Central door lock,Daytime running lights,Driver-side airbag,Electronic stability control,Immobilizer,Isofix,Passenger-side airbag,Power steering,Side airbag,Tire pressure monitoring system,Traction control,Xenon headlights                                                                                                                                                                                 382\n",
       "ABS,Central door lock,Daytime running lights,Driver-side airbag,Electronic stability control,Immobilizer,Isofix,LED Daytime Running Lights,Passenger-side airbag,Power steering,Side airbag,Tire pressure monitoring system,Traction control                                                                                                                                                                       345\n",
       "                                                                                                                                                                                                                                                                                                                                                                                                                  ... \n",
       "ABS,Adaptive Cruise Control,Alarm system,Central door lock,Daytime running lights,Driver-side airbag,Fog lights,LED Daytime Running Lights,LED Headlights,Power steering,Side airbag,Traction control,Xenon headlights                                                                                                                                                                                               1\n",
       "ABS,Central door lock with remote control,Daytime running lights,Driver-side airbag,Electronic stability control,Head airbag,Immobilizer,Isofix,Passenger-side airbag,Power steering,Side airbag,Tire pressure monitoring system,Xenon headlights                                                                                                                                                                    1\n",
       "ABS,Alarm system,Central door lock,Central door lock with remote control,Driver-side airbag,Electronic stability control,Fog lights,Head airbag,Immobilizer,Passenger-side airbag,Power steering,Side airbag,Traction control,Xenon headlights                                                                                                                                                                       1\n",
       "ABS,Blind spot monitor,Central door lock with remote control,Daytime running lights,Driver-side airbag,Electronic stability control,Emergency brake assistant,Emergency system,Fog lights,Immobilizer,Isofix,Lane departure warning system,LED Daytime Running Lights,LED Headlights,Passenger-side airbag,Power steering,Side airbag,Tire pressure monitoring system,Traction control,Traffic sign recognition      1\n",
       "ABS,Adaptive Cruise Control,Adaptive headlights,Blind spot monitor,Central door lock,Daytime running lights,Driver drowsiness detection,Driver-side airbag,Electronic stability control,Emergency brake assistant,Fog lights,Immobilizer,Isofix,Lane departure warning system,LED Daytime Running Lights,LED Headlights,Passenger-side airbag,Power steering,Side airbag,Tire pressure monitoring system             1\n",
       "Name: safety&security, Length: 4443, dtype: int64"
      ]
     },
     "execution_count": 129,
     "metadata": {},
     "output_type": "execute_result"
    }
   ],
   "source": [
    "df['safety&security'].value_counts(dropna = False)"
   ]
  },
  {
   "cell_type": "code",
   "execution_count": 130,
   "metadata": {
    "scrolled": true
   },
   "outputs": [
    {
     "data": {
      "text/html": [
       "<div>\n",
       "<style scoped>\n",
       "    .dataframe tbody tr th:only-of-type {\n",
       "        vertical-align: middle;\n",
       "    }\n",
       "\n",
       "    .dataframe tbody tr th {\n",
       "        vertical-align: top;\n",
       "    }\n",
       "\n",
       "    .dataframe thead th {\n",
       "        text-align: right;\n",
       "    }\n",
       "</style>\n",
       "<table border=\"1\" class=\"dataframe\">\n",
       "  <thead>\n",
       "    <tr style=\"text-align: right;\">\n",
       "      <th></th>\n",
       "      <th>ABS</th>\n",
       "      <th>Adaptive Cruise Control</th>\n",
       "      <th>Adaptive headlights</th>\n",
       "      <th>Alarm system</th>\n",
       "      <th>Blind spot monitor</th>\n",
       "      <th>Central door lock</th>\n",
       "      <th>Central door lock with remote control</th>\n",
       "      <th>Daytime running lights</th>\n",
       "      <th>Driver drowsiness detection</th>\n",
       "      <th>Driver-side airbag</th>\n",
       "      <th>Electronic stability control</th>\n",
       "      <th>Emergency brake assistant</th>\n",
       "      <th>Emergency system</th>\n",
       "      <th>Fog lights</th>\n",
       "      <th>Head airbag</th>\n",
       "      <th>Immobilizer</th>\n",
       "      <th>Isofix</th>\n",
       "      <th>LED Daytime Running Lights</th>\n",
       "      <th>LED Headlights</th>\n",
       "      <th>Lane departure warning system</th>\n",
       "      <th>Night view assist</th>\n",
       "      <th>Passenger-side airbag</th>\n",
       "      <th>Power steering</th>\n",
       "      <th>Rear airbag</th>\n",
       "      <th>Side airbag</th>\n",
       "      <th>Tire pressure monitoring system</th>\n",
       "      <th>Traction control</th>\n",
       "      <th>Traffic sign recognition</th>\n",
       "      <th>Xenon headlights</th>\n",
       "    </tr>\n",
       "  </thead>\n",
       "  <tbody>\n",
       "    <tr>\n",
       "      <th>0</th>\n",
       "      <td>1</td>\n",
       "      <td>0</td>\n",
       "      <td>0</td>\n",
       "      <td>0</td>\n",
       "      <td>0</td>\n",
       "      <td>1</td>\n",
       "      <td>0</td>\n",
       "      <td>1</td>\n",
       "      <td>0</td>\n",
       "      <td>1</td>\n",
       "      <td>1</td>\n",
       "      <td>0</td>\n",
       "      <td>0</td>\n",
       "      <td>1</td>\n",
       "      <td>0</td>\n",
       "      <td>1</td>\n",
       "      <td>1</td>\n",
       "      <td>0</td>\n",
       "      <td>0</td>\n",
       "      <td>0</td>\n",
       "      <td>0</td>\n",
       "      <td>1</td>\n",
       "      <td>1</td>\n",
       "      <td>0</td>\n",
       "      <td>1</td>\n",
       "      <td>1</td>\n",
       "      <td>1</td>\n",
       "      <td>0</td>\n",
       "      <td>1</td>\n",
       "    </tr>\n",
       "    <tr>\n",
       "      <th>1</th>\n",
       "      <td>1</td>\n",
       "      <td>0</td>\n",
       "      <td>0</td>\n",
       "      <td>0</td>\n",
       "      <td>0</td>\n",
       "      <td>1</td>\n",
       "      <td>1</td>\n",
       "      <td>1</td>\n",
       "      <td>0</td>\n",
       "      <td>1</td>\n",
       "      <td>1</td>\n",
       "      <td>0</td>\n",
       "      <td>0</td>\n",
       "      <td>0</td>\n",
       "      <td>1</td>\n",
       "      <td>1</td>\n",
       "      <td>1</td>\n",
       "      <td>0</td>\n",
       "      <td>0</td>\n",
       "      <td>0</td>\n",
       "      <td>0</td>\n",
       "      <td>1</td>\n",
       "      <td>1</td>\n",
       "      <td>0</td>\n",
       "      <td>1</td>\n",
       "      <td>1</td>\n",
       "      <td>1</td>\n",
       "      <td>0</td>\n",
       "      <td>1</td>\n",
       "    </tr>\n",
       "    <tr>\n",
       "      <th>2</th>\n",
       "      <td>1</td>\n",
       "      <td>0</td>\n",
       "      <td>0</td>\n",
       "      <td>0</td>\n",
       "      <td>0</td>\n",
       "      <td>1</td>\n",
       "      <td>0</td>\n",
       "      <td>1</td>\n",
       "      <td>0</td>\n",
       "      <td>1</td>\n",
       "      <td>1</td>\n",
       "      <td>0</td>\n",
       "      <td>0</td>\n",
       "      <td>0</td>\n",
       "      <td>0</td>\n",
       "      <td>1</td>\n",
       "      <td>1</td>\n",
       "      <td>0</td>\n",
       "      <td>0</td>\n",
       "      <td>0</td>\n",
       "      <td>0</td>\n",
       "      <td>1</td>\n",
       "      <td>1</td>\n",
       "      <td>0</td>\n",
       "      <td>1</td>\n",
       "      <td>1</td>\n",
       "      <td>1</td>\n",
       "      <td>0</td>\n",
       "      <td>0</td>\n",
       "    </tr>\n",
       "    <tr>\n",
       "      <th>3</th>\n",
       "      <td>1</td>\n",
       "      <td>0</td>\n",
       "      <td>0</td>\n",
       "      <td>1</td>\n",
       "      <td>0</td>\n",
       "      <td>0</td>\n",
       "      <td>1</td>\n",
       "      <td>0</td>\n",
       "      <td>1</td>\n",
       "      <td>1</td>\n",
       "      <td>1</td>\n",
       "      <td>0</td>\n",
       "      <td>1</td>\n",
       "      <td>0</td>\n",
       "      <td>1</td>\n",
       "      <td>1</td>\n",
       "      <td>1</td>\n",
       "      <td>0</td>\n",
       "      <td>0</td>\n",
       "      <td>0</td>\n",
       "      <td>0</td>\n",
       "      <td>1</td>\n",
       "      <td>1</td>\n",
       "      <td>0</td>\n",
       "      <td>1</td>\n",
       "      <td>1</td>\n",
       "      <td>0</td>\n",
       "      <td>0</td>\n",
       "      <td>0</td>\n",
       "    </tr>\n",
       "    <tr>\n",
       "      <th>4</th>\n",
       "      <td>1</td>\n",
       "      <td>0</td>\n",
       "      <td>0</td>\n",
       "      <td>0</td>\n",
       "      <td>0</td>\n",
       "      <td>1</td>\n",
       "      <td>0</td>\n",
       "      <td>0</td>\n",
       "      <td>0</td>\n",
       "      <td>1</td>\n",
       "      <td>1</td>\n",
       "      <td>0</td>\n",
       "      <td>0</td>\n",
       "      <td>1</td>\n",
       "      <td>0</td>\n",
       "      <td>1</td>\n",
       "      <td>1</td>\n",
       "      <td>0</td>\n",
       "      <td>0</td>\n",
       "      <td>0</td>\n",
       "      <td>0</td>\n",
       "      <td>1</td>\n",
       "      <td>1</td>\n",
       "      <td>0</td>\n",
       "      <td>1</td>\n",
       "      <td>1</td>\n",
       "      <td>1</td>\n",
       "      <td>0</td>\n",
       "      <td>1</td>\n",
       "    </tr>\n",
       "    <tr>\n",
       "      <th>...</th>\n",
       "      <td>...</td>\n",
       "      <td>...</td>\n",
       "      <td>...</td>\n",
       "      <td>...</td>\n",
       "      <td>...</td>\n",
       "      <td>...</td>\n",
       "      <td>...</td>\n",
       "      <td>...</td>\n",
       "      <td>...</td>\n",
       "      <td>...</td>\n",
       "      <td>...</td>\n",
       "      <td>...</td>\n",
       "      <td>...</td>\n",
       "      <td>...</td>\n",
       "      <td>...</td>\n",
       "      <td>...</td>\n",
       "      <td>...</td>\n",
       "      <td>...</td>\n",
       "      <td>...</td>\n",
       "      <td>...</td>\n",
       "      <td>...</td>\n",
       "      <td>...</td>\n",
       "      <td>...</td>\n",
       "      <td>...</td>\n",
       "      <td>...</td>\n",
       "      <td>...</td>\n",
       "      <td>...</td>\n",
       "      <td>...</td>\n",
       "      <td>...</td>\n",
       "    </tr>\n",
       "    <tr>\n",
       "      <th>15914</th>\n",
       "      <td>1</td>\n",
       "      <td>0</td>\n",
       "      <td>0</td>\n",
       "      <td>0</td>\n",
       "      <td>0</td>\n",
       "      <td>1</td>\n",
       "      <td>1</td>\n",
       "      <td>0</td>\n",
       "      <td>0</td>\n",
       "      <td>1</td>\n",
       "      <td>1</td>\n",
       "      <td>1</td>\n",
       "      <td>0</td>\n",
       "      <td>0</td>\n",
       "      <td>1</td>\n",
       "      <td>1</td>\n",
       "      <td>1</td>\n",
       "      <td>1</td>\n",
       "      <td>1</td>\n",
       "      <td>1</td>\n",
       "      <td>0</td>\n",
       "      <td>1</td>\n",
       "      <td>1</td>\n",
       "      <td>1</td>\n",
       "      <td>1</td>\n",
       "      <td>1</td>\n",
       "      <td>1</td>\n",
       "      <td>1</td>\n",
       "      <td>0</td>\n",
       "    </tr>\n",
       "    <tr>\n",
       "      <th>15915</th>\n",
       "      <td>1</td>\n",
       "      <td>1</td>\n",
       "      <td>0</td>\n",
       "      <td>0</td>\n",
       "      <td>1</td>\n",
       "      <td>1</td>\n",
       "      <td>0</td>\n",
       "      <td>1</td>\n",
       "      <td>0</td>\n",
       "      <td>1</td>\n",
       "      <td>1</td>\n",
       "      <td>1</td>\n",
       "      <td>0</td>\n",
       "      <td>0</td>\n",
       "      <td>0</td>\n",
       "      <td>1</td>\n",
       "      <td>1</td>\n",
       "      <td>1</td>\n",
       "      <td>1</td>\n",
       "      <td>1</td>\n",
       "      <td>0</td>\n",
       "      <td>1</td>\n",
       "      <td>1</td>\n",
       "      <td>0</td>\n",
       "      <td>1</td>\n",
       "      <td>1</td>\n",
       "      <td>1</td>\n",
       "      <td>1</td>\n",
       "      <td>0</td>\n",
       "    </tr>\n",
       "    <tr>\n",
       "      <th>15916</th>\n",
       "      <td>1</td>\n",
       "      <td>1</td>\n",
       "      <td>0</td>\n",
       "      <td>0</td>\n",
       "      <td>1</td>\n",
       "      <td>1</td>\n",
       "      <td>0</td>\n",
       "      <td>1</td>\n",
       "      <td>0</td>\n",
       "      <td>1</td>\n",
       "      <td>1</td>\n",
       "      <td>1</td>\n",
       "      <td>0</td>\n",
       "      <td>0</td>\n",
       "      <td>0</td>\n",
       "      <td>1</td>\n",
       "      <td>1</td>\n",
       "      <td>1</td>\n",
       "      <td>1</td>\n",
       "      <td>1</td>\n",
       "      <td>0</td>\n",
       "      <td>1</td>\n",
       "      <td>1</td>\n",
       "      <td>0</td>\n",
       "      <td>1</td>\n",
       "      <td>0</td>\n",
       "      <td>1</td>\n",
       "      <td>1</td>\n",
       "      <td>0</td>\n",
       "    </tr>\n",
       "    <tr>\n",
       "      <th>15917</th>\n",
       "      <td>1</td>\n",
       "      <td>0</td>\n",
       "      <td>0</td>\n",
       "      <td>0</td>\n",
       "      <td>1</td>\n",
       "      <td>0</td>\n",
       "      <td>0</td>\n",
       "      <td>0</td>\n",
       "      <td>0</td>\n",
       "      <td>1</td>\n",
       "      <td>1</td>\n",
       "      <td>1</td>\n",
       "      <td>0</td>\n",
       "      <td>0</td>\n",
       "      <td>0</td>\n",
       "      <td>0</td>\n",
       "      <td>1</td>\n",
       "      <td>0</td>\n",
       "      <td>1</td>\n",
       "      <td>0</td>\n",
       "      <td>0</td>\n",
       "      <td>1</td>\n",
       "      <td>1</td>\n",
       "      <td>0</td>\n",
       "      <td>1</td>\n",
       "      <td>1</td>\n",
       "      <td>0</td>\n",
       "      <td>1</td>\n",
       "      <td>0</td>\n",
       "    </tr>\n",
       "    <tr>\n",
       "      <th>15918</th>\n",
       "      <td>1</td>\n",
       "      <td>0</td>\n",
       "      <td>0</td>\n",
       "      <td>0</td>\n",
       "      <td>1</td>\n",
       "      <td>0</td>\n",
       "      <td>0</td>\n",
       "      <td>1</td>\n",
       "      <td>0</td>\n",
       "      <td>1</td>\n",
       "      <td>1</td>\n",
       "      <td>1</td>\n",
       "      <td>0</td>\n",
       "      <td>0</td>\n",
       "      <td>0</td>\n",
       "      <td>1</td>\n",
       "      <td>1</td>\n",
       "      <td>1</td>\n",
       "      <td>0</td>\n",
       "      <td>0</td>\n",
       "      <td>0</td>\n",
       "      <td>1</td>\n",
       "      <td>1</td>\n",
       "      <td>0</td>\n",
       "      <td>1</td>\n",
       "      <td>1</td>\n",
       "      <td>0</td>\n",
       "      <td>1</td>\n",
       "      <td>0</td>\n",
       "    </tr>\n",
       "  </tbody>\n",
       "</table>\n",
       "<p>15919 rows × 29 columns</p>\n",
       "</div>"
      ],
      "text/plain": [
       "       ABS  Adaptive Cruise Control  Adaptive headlights  Alarm system  Blind spot monitor  Central door lock  Central door lock with remote control  Daytime running lights  Driver drowsiness detection  Driver-side airbag  Electronic stability control  Emergency brake assistant  Emergency system  Fog lights  Head airbag  Immobilizer  Isofix  LED Daytime Running Lights  LED Headlights  Lane departure warning system  Night view assist  Passenger-side airbag  Power steering  Rear airbag  Side airbag  Tire pressure monitoring system  Traction control  Traffic sign recognition  Xenon headlights\n",
       "0        1                        0                    0             0                   0                  1                                      0                       1                            0                   1                             1                          0                 0           1            0            1       1                           0               0                              0                  0                      1               1            0            1                                1                 1                         0                 1\n",
       "1        1                        0                    0             0                   0                  1                                      1                       1                            0                   1                             1                          0                 0           0            1            1       1                           0               0                              0                  0                      1               1            0            1                                1                 1                         0                 1\n",
       "2        1                        0                    0             0                   0                  1                                      0                       1                            0                   1                             1                          0                 0           0            0            1       1                           0               0                              0                  0                      1               1            0            1                                1                 1                         0                 0\n",
       "3        1                        0                    0             1                   0                  0                                      1                       0                            1                   1                             1                          0                 1           0            1            1       1                           0               0                              0                  0                      1               1            0            1                                1                 0                         0                 0\n",
       "4        1                        0                    0             0                   0                  1                                      0                       0                            0                   1                             1                          0                 0           1            0            1       1                           0               0                              0                  0                      1               1            0            1                                1                 1                         0                 1\n",
       "...    ...                      ...                  ...           ...                 ...                ...                                    ...                     ...                          ...                 ...                           ...                        ...               ...         ...          ...          ...     ...                         ...             ...                            ...                ...                    ...             ...          ...          ...                              ...               ...                       ...               ...\n",
       "15914    1                        0                    0             0                   0                  1                                      1                       0                            0                   1                             1                          1                 0           0            1            1       1                           1               1                              1                  0                      1               1            1            1                                1                 1                         1                 0\n",
       "15915    1                        1                    0             0                   1                  1                                      0                       1                            0                   1                             1                          1                 0           0            0            1       1                           1               1                              1                  0                      1               1            0            1                                1                 1                         1                 0\n",
       "15916    1                        1                    0             0                   1                  1                                      0                       1                            0                   1                             1                          1                 0           0            0            1       1                           1               1                              1                  0                      1               1            0            1                                0                 1                         1                 0\n",
       "15917    1                        0                    0             0                   1                  0                                      0                       0                            0                   1                             1                          1                 0           0            0            0       1                           0               1                              0                  0                      1               1            0            1                                1                 0                         1                 0\n",
       "15918    1                        0                    0             0                   1                  0                                      0                       1                            0                   1                             1                          1                 0           0            0            1       1                           1               0                              0                  0                      1               1            0            1                                1                 0                         1                 0\n",
       "\n",
       "[15919 rows x 29 columns]"
      ]
     },
     "execution_count": 130,
     "metadata": {},
     "output_type": "execute_result"
    }
   ],
   "source": [
    "df['safety&security'].str.get_dummies(sep = ',')"
   ]
  },
  {
   "cell_type": "code",
   "execution_count": 131,
   "metadata": {},
   "outputs": [],
   "source": [
    "df = df.join(df['safety&security'].str.get_dummies(sep = ',').add_prefix('ss_'))"
   ]
  },
  {
   "cell_type": "code",
   "execution_count": 132,
   "metadata": {
    "scrolled": true
   },
   "outputs": [
    {
     "data": {
      "text/html": [
       "<div>\n",
       "<style scoped>\n",
       "    .dataframe tbody tr th:only-of-type {\n",
       "        vertical-align: middle;\n",
       "    }\n",
       "\n",
       "    .dataframe tbody tr th {\n",
       "        vertical-align: top;\n",
       "    }\n",
       "\n",
       "    .dataframe thead th {\n",
       "        text-align: right;\n",
       "    }\n",
       "</style>\n",
       "<table border=\"1\" class=\"dataframe\">\n",
       "  <thead>\n",
       "    <tr style=\"text-align: right;\">\n",
       "      <th></th>\n",
       "      <th>make_model</th>\n",
       "      <th>short_description</th>\n",
       "      <th>body_type</th>\n",
       "      <th>price</th>\n",
       "      <th>vat</th>\n",
       "      <th>km</th>\n",
       "      <th>registration</th>\n",
       "      <th>hp</th>\n",
       "      <th>type</th>\n",
       "      <th>previous_owners</th>\n",
       "      <th>next_inspection</th>\n",
       "      <th>inspection_new</th>\n",
       "      <th>warranty</th>\n",
       "      <th>make</th>\n",
       "      <th>model</th>\n",
       "      <th>offer_number</th>\n",
       "      <th>first_registration</th>\n",
       "      <th>body_color</th>\n",
       "      <th>paint_type</th>\n",
       "      <th>body_color_original</th>\n",
       "      <th>upholstery</th>\n",
       "      <th>nr_of_doors</th>\n",
       "      <th>nr_of_seats</th>\n",
       "      <th>model_code</th>\n",
       "      <th>gearing_type</th>\n",
       "      <th>displacement</th>\n",
       "      <th>cylinders</th>\n",
       "      <th>drive_chain</th>\n",
       "      <th>fuel</th>\n",
       "      <th>consumption</th>\n",
       "      <th>co2_emission</th>\n",
       "      <th>emission_class</th>\n",
       "      <th>comfort&amp;convenience</th>\n",
       "      <th>entertainment&amp;media</th>\n",
       "      <th>extras</th>\n",
       "      <th>safety&amp;security</th>\n",
       "      <th>description</th>\n",
       "      <th>emission_label</th>\n",
       "      <th>gears</th>\n",
       "      <th>country_version</th>\n",
       "      <th>cc_Air conditioning</th>\n",
       "      <th>cc_Air suspension</th>\n",
       "      <th>cc_Armrest</th>\n",
       "      <th>cc_Automatic climate control</th>\n",
       "      <th>cc_Auxiliary heating</th>\n",
       "      <th>cc_Cruise control</th>\n",
       "      <th>cc_Electric Starter</th>\n",
       "      <th>cc_Electric tailgate</th>\n",
       "      <th>cc_Electrical side mirrors</th>\n",
       "      <th>cc_Electrically adjustable seats</th>\n",
       "      <th>cc_Electrically heated windshield</th>\n",
       "      <th>cc_Heads-up display</th>\n",
       "      <th>cc_Heated steering wheel</th>\n",
       "      <th>cc_Hill Holder</th>\n",
       "      <th>cc_Keyless central door lock</th>\n",
       "      <th>cc_Leather seats</th>\n",
       "      <th>cc_Leather steering wheel</th>\n",
       "      <th>cc_Light sensor</th>\n",
       "      <th>cc_Lumbar support</th>\n",
       "      <th>cc_Massage seats</th>\n",
       "      <th>cc_Multi-function steering wheel</th>\n",
       "      <th>cc_Navigation system</th>\n",
       "      <th>cc_Panorama roof</th>\n",
       "      <th>cc_Park Distance Control</th>\n",
       "      <th>cc_Parking assist system camera</th>\n",
       "      <th>cc_Parking assist system self-steering</th>\n",
       "      <th>cc_Parking assist system sensors front</th>\n",
       "      <th>cc_Parking assist system sensors rear</th>\n",
       "      <th>cc_Power windows</th>\n",
       "      <th>cc_Rain sensor</th>\n",
       "      <th>cc_Seat heating</th>\n",
       "      <th>cc_Seat ventilation</th>\n",
       "      <th>cc_Split rear seats</th>\n",
       "      <th>cc_Start-stop system</th>\n",
       "      <th>cc_Sunroof</th>\n",
       "      <th>cc_Tinted windows</th>\n",
       "      <th>cc_Wind deflector</th>\n",
       "      <th>cc_Windshield</th>\n",
       "      <th>em_Bluetooth</th>\n",
       "      <th>em_CD player</th>\n",
       "      <th>em_Digital radio</th>\n",
       "      <th>em_Hands-free equipment</th>\n",
       "      <th>em_MP3</th>\n",
       "      <th>em_On-board computer</th>\n",
       "      <th>em_Radio</th>\n",
       "      <th>em_Sound system</th>\n",
       "      <th>em_Television</th>\n",
       "      <th>em_USB</th>\n",
       "      <th>ex_Alloy wheels</th>\n",
       "      <th>ex_Cab or rented Car</th>\n",
       "      <th>ex_Catalytic Converter</th>\n",
       "      <th>ex_Handicapped enabled</th>\n",
       "      <th>ex_Right hand drive</th>\n",
       "      <th>ex_Roof rack</th>\n",
       "      <th>ex_Shift paddles</th>\n",
       "      <th>ex_Ski bag</th>\n",
       "      <th>ex_Sliding door</th>\n",
       "      <th>ex_Sport package</th>\n",
       "      <th>ex_Sport seats</th>\n",
       "      <th>ex_Sport suspension</th>\n",
       "      <th>ex_Touch screen</th>\n",
       "      <th>ex_Trailer hitch</th>\n",
       "      <th>ex_Tuned car</th>\n",
       "      <th>ex_Voice Control</th>\n",
       "      <th>ex_Winter tyres</th>\n",
       "      <th>ss_ABS</th>\n",
       "      <th>ss_Adaptive Cruise Control</th>\n",
       "      <th>ss_Adaptive headlights</th>\n",
       "      <th>ss_Alarm system</th>\n",
       "      <th>ss_Blind spot monitor</th>\n",
       "      <th>ss_Central door lock</th>\n",
       "      <th>ss_Central door lock with remote control</th>\n",
       "      <th>ss_Daytime running lights</th>\n",
       "      <th>ss_Driver drowsiness detection</th>\n",
       "      <th>ss_Driver-side airbag</th>\n",
       "      <th>ss_Electronic stability control</th>\n",
       "      <th>ss_Emergency brake assistant</th>\n",
       "      <th>ss_Emergency system</th>\n",
       "      <th>ss_Fog lights</th>\n",
       "      <th>ss_Head airbag</th>\n",
       "      <th>ss_Immobilizer</th>\n",
       "      <th>ss_Isofix</th>\n",
       "      <th>ss_LED Daytime Running Lights</th>\n",
       "      <th>ss_LED Headlights</th>\n",
       "      <th>ss_Lane departure warning system</th>\n",
       "      <th>ss_Night view assist</th>\n",
       "      <th>ss_Passenger-side airbag</th>\n",
       "      <th>ss_Power steering</th>\n",
       "      <th>ss_Rear airbag</th>\n",
       "      <th>ss_Side airbag</th>\n",
       "      <th>ss_Tire pressure monitoring system</th>\n",
       "      <th>ss_Traction control</th>\n",
       "      <th>ss_Traffic sign recognition</th>\n",
       "      <th>ss_Xenon headlights</th>\n",
       "    </tr>\n",
       "  </thead>\n",
       "  <tbody>\n",
       "    <tr>\n",
       "      <th>0</th>\n",
       "      <td>Audi A1</td>\n",
       "      <td>Sportback 1.4 TDI S-tronic Xenon Navi Klima</td>\n",
       "      <td>Sedans</td>\n",
       "      <td>15770</td>\n",
       "      <td>VAT deductible</td>\n",
       "      <td>56,013 km</td>\n",
       "      <td>01/2016</td>\n",
       "      <td>66 kW</td>\n",
       "      <td>[, Used, , Diesel (Particulate Filter)]</td>\n",
       "      <td>2.0</td>\n",
       "      <td>2021-06-01</td>\n",
       "      <td>1</td>\n",
       "      <td>[\\n, \\n, \\n4 (Green)\\n]</td>\n",
       "      <td>Audi</td>\n",
       "      <td>A1</td>\n",
       "      <td>[\\nLR-062483\\n]</td>\n",
       "      <td>[\\n, 2016, \\n]</td>\n",
       "      <td>Black</td>\n",
       "      <td>Metallic</td>\n",
       "      <td>[\\nMythosschwarz\\n]</td>\n",
       "      <td>[\\nCloth, Black\\n]</td>\n",
       "      <td>[\\n5\\n]</td>\n",
       "      <td>[\\n5\\n]</td>\n",
       "      <td>[\\n0588/BDF\\n]</td>\n",
       "      <td>[\\n, Automatic, \\n]</td>\n",
       "      <td>[\\n1,422 cc\\n]</td>\n",
       "      <td>3</td>\n",
       "      <td>[\\nfront\\n]</td>\n",
       "      <td>[\\n, Diesel (Particulate Filter), \\n]</td>\n",
       "      <td>[[3.8 l/100 km (comb)], [4.3 l/100 km (city)], [3.5 l/100 km (country)]]</td>\n",
       "      <td>[\\n99 g CO2/km (comb)\\n]</td>\n",
       "      <td>[\\nEuro 6\\n]</td>\n",
       "      <td>Air conditioning,Armrest,Automatic climate control,Cruise control,Electrical side mirrors,Hill Holder,Leather steering wheel,Light sensor,Multi-function steering wheel,Navigation system,Park Distance Control,Parking assist system sensors rear,Power windows,Rain sensor,Seat heating,Start-stop system</td>\n",
       "      <td>Bluetooth,Hands-free equipment,On-board computer,Radio</td>\n",
       "      <td>Alloy wheels,Catalytic Converter,Voice Control</td>\n",
       "      <td>ABS,Central door lock,Daytime running lights,Driver-side airbag,Electronic stability control,Fog lights,Immobilizer,Isofix,Passenger-side airbag,Power steering,Side airbag,Tire pressure monitoring system,Traction control,Xenon headlights</td>\n",
       "      <td>[\\n, Sicherheit:,  , Deaktivierung für Beifahrer-Airbag,  , ESC mit elektronischer Quersperre,  , Tagfahrlicht,  , Reifendruck-Kontrollanzeige,  , Kopfairbag-System mit Seiten-Airbags vorn,  , Sicherheitslenksäule, Assistenzsysteme:,  , Berganfahrassistent, Komfort:,  , Scheinwerferreinigung,  , Xenon plus inklusive Scheinwerfer-Reinigungsanlage,  , Scheinwerfer-Reinigungsanlage,  , Einparkhilfe hinten,  , Licht-/Regensensor,  , Funkfernbedienung,  , Elektrische Luftzusatzheizung, Interieur:...</td>\n",
       "      <td>NaN</td>\n",
       "      <td>NaN</td>\n",
       "      <td>NaN</td>\n",
       "      <td>1</td>\n",
       "      <td>0</td>\n",
       "      <td>1</td>\n",
       "      <td>1</td>\n",
       "      <td>0</td>\n",
       "      <td>1</td>\n",
       "      <td>0</td>\n",
       "      <td>0</td>\n",
       "      <td>1</td>\n",
       "      <td>0</td>\n",
       "      <td>0</td>\n",
       "      <td>0</td>\n",
       "      <td>0</td>\n",
       "      <td>1</td>\n",
       "      <td>0</td>\n",
       "      <td>0</td>\n",
       "      <td>1</td>\n",
       "      <td>1</td>\n",
       "      <td>0</td>\n",
       "      <td>0</td>\n",
       "      <td>1</td>\n",
       "      <td>1</td>\n",
       "      <td>0</td>\n",
       "      <td>1</td>\n",
       "      <td>0</td>\n",
       "      <td>0</td>\n",
       "      <td>0</td>\n",
       "      <td>1</td>\n",
       "      <td>1</td>\n",
       "      <td>1</td>\n",
       "      <td>1</td>\n",
       "      <td>0</td>\n",
       "      <td>0</td>\n",
       "      <td>1</td>\n",
       "      <td>0</td>\n",
       "      <td>0</td>\n",
       "      <td>0</td>\n",
       "      <td>0</td>\n",
       "      <td>1</td>\n",
       "      <td>0</td>\n",
       "      <td>0</td>\n",
       "      <td>1</td>\n",
       "      <td>0</td>\n",
       "      <td>1</td>\n",
       "      <td>1</td>\n",
       "      <td>0</td>\n",
       "      <td>0</td>\n",
       "      <td>0</td>\n",
       "      <td>1</td>\n",
       "      <td>0</td>\n",
       "      <td>1</td>\n",
       "      <td>0</td>\n",
       "      <td>0</td>\n",
       "      <td>0</td>\n",
       "      <td>0</td>\n",
       "      <td>0</td>\n",
       "      <td>0</td>\n",
       "      <td>0</td>\n",
       "      <td>0</td>\n",
       "      <td>0</td>\n",
       "      <td>0</td>\n",
       "      <td>0</td>\n",
       "      <td>0</td>\n",
       "      <td>1</td>\n",
       "      <td>0</td>\n",
       "      <td>1</td>\n",
       "      <td>0</td>\n",
       "      <td>0</td>\n",
       "      <td>0</td>\n",
       "      <td>0</td>\n",
       "      <td>1</td>\n",
       "      <td>0</td>\n",
       "      <td>1</td>\n",
       "      <td>0</td>\n",
       "      <td>1</td>\n",
       "      <td>1</td>\n",
       "      <td>0</td>\n",
       "      <td>0</td>\n",
       "      <td>1</td>\n",
       "      <td>0</td>\n",
       "      <td>1</td>\n",
       "      <td>1</td>\n",
       "      <td>0</td>\n",
       "      <td>0</td>\n",
       "      <td>0</td>\n",
       "      <td>0</td>\n",
       "      <td>1</td>\n",
       "      <td>1</td>\n",
       "      <td>0</td>\n",
       "      <td>1</td>\n",
       "      <td>1</td>\n",
       "      <td>1</td>\n",
       "      <td>0</td>\n",
       "      <td>1</td>\n",
       "    </tr>\n",
       "    <tr>\n",
       "      <th>1</th>\n",
       "      <td>Audi A1</td>\n",
       "      <td>1.8 TFSI sport</td>\n",
       "      <td>Sedans</td>\n",
       "      <td>14500</td>\n",
       "      <td>Price negotiable</td>\n",
       "      <td>80,000 km</td>\n",
       "      <td>03/2017</td>\n",
       "      <td>141 kW</td>\n",
       "      <td>[, Used, , Gasoline]</td>\n",
       "      <td>1.0</td>\n",
       "      <td>NaT</td>\n",
       "      <td>0</td>\n",
       "      <td>NaN</td>\n",
       "      <td>Audi</td>\n",
       "      <td>A1</td>\n",
       "      <td>NaN</td>\n",
       "      <td>[\\n, 2017, \\n]</td>\n",
       "      <td>Red</td>\n",
       "      <td>NaN</td>\n",
       "      <td>NaN</td>\n",
       "      <td>[\\nCloth, Grey\\n]</td>\n",
       "      <td>[\\n3\\n]</td>\n",
       "      <td>[\\n4\\n]</td>\n",
       "      <td>[\\n0588/BCY\\n]</td>\n",
       "      <td>[\\n, Automatic, \\n]</td>\n",
       "      <td>[\\n1,798 cc\\n]</td>\n",
       "      <td>4</td>\n",
       "      <td>[\\nfront\\n]</td>\n",
       "      <td>[\\n, Gasoline, \\n]</td>\n",
       "      <td>[[5.6 l/100 km (comb)], [7.1 l/100 km (city)], [4.7 l/100 km (country)]]</td>\n",
       "      <td>[\\n129 g CO2/km (comb)\\n]</td>\n",
       "      <td>[\\nEuro 6\\n]</td>\n",
       "      <td>Air conditioning,Automatic climate control,Hill Holder,Leather steering wheel,Lumbar support,Parking assist system sensors rear,Power windows,Start-stop system,Tinted windows</td>\n",
       "      <td>Bluetooth,Hands-free equipment,On-board computer,Radio,Sound system</td>\n",
       "      <td>Alloy wheels,Sport seats,Sport suspension,Voice Control</td>\n",
       "      <td>ABS,Central door lock,Central door lock with remote control,Daytime running lights,Driver-side airbag,Electronic stability control,Head airbag,Immobilizer,Isofix,Passenger-side airbag,Power steering,Side airbag,Tire pressure monitoring system,Traction control,Xenon headlights</td>\n",
       "      <td>[\\nLangstreckenfahrzeug daher die hohe Kilometerleistung. , Bremsen neu bei 62000 km. , Gut gepflegter A1\\n]</td>\n",
       "      <td>4 (Green)</td>\n",
       "      <td>[\\n7\\n]</td>\n",
       "      <td>NaN</td>\n",
       "      <td>1</td>\n",
       "      <td>0</td>\n",
       "      <td>0</td>\n",
       "      <td>1</td>\n",
       "      <td>0</td>\n",
       "      <td>0</td>\n",
       "      <td>0</td>\n",
       "      <td>0</td>\n",
       "      <td>0</td>\n",
       "      <td>0</td>\n",
       "      <td>0</td>\n",
       "      <td>0</td>\n",
       "      <td>0</td>\n",
       "      <td>1</td>\n",
       "      <td>0</td>\n",
       "      <td>0</td>\n",
       "      <td>1</td>\n",
       "      <td>0</td>\n",
       "      <td>1</td>\n",
       "      <td>0</td>\n",
       "      <td>0</td>\n",
       "      <td>0</td>\n",
       "      <td>0</td>\n",
       "      <td>0</td>\n",
       "      <td>0</td>\n",
       "      <td>0</td>\n",
       "      <td>0</td>\n",
       "      <td>1</td>\n",
       "      <td>1</td>\n",
       "      <td>0</td>\n",
       "      <td>0</td>\n",
       "      <td>0</td>\n",
       "      <td>0</td>\n",
       "      <td>1</td>\n",
       "      <td>0</td>\n",
       "      <td>1</td>\n",
       "      <td>0</td>\n",
       "      <td>0</td>\n",
       "      <td>1</td>\n",
       "      <td>0</td>\n",
       "      <td>0</td>\n",
       "      <td>1</td>\n",
       "      <td>0</td>\n",
       "      <td>1</td>\n",
       "      <td>1</td>\n",
       "      <td>1</td>\n",
       "      <td>0</td>\n",
       "      <td>0</td>\n",
       "      <td>1</td>\n",
       "      <td>0</td>\n",
       "      <td>0</td>\n",
       "      <td>0</td>\n",
       "      <td>0</td>\n",
       "      <td>0</td>\n",
       "      <td>0</td>\n",
       "      <td>0</td>\n",
       "      <td>0</td>\n",
       "      <td>0</td>\n",
       "      <td>1</td>\n",
       "      <td>1</td>\n",
       "      <td>0</td>\n",
       "      <td>0</td>\n",
       "      <td>0</td>\n",
       "      <td>1</td>\n",
       "      <td>0</td>\n",
       "      <td>1</td>\n",
       "      <td>0</td>\n",
       "      <td>0</td>\n",
       "      <td>0</td>\n",
       "      <td>0</td>\n",
       "      <td>1</td>\n",
       "      <td>1</td>\n",
       "      <td>1</td>\n",
       "      <td>0</td>\n",
       "      <td>1</td>\n",
       "      <td>1</td>\n",
       "      <td>0</td>\n",
       "      <td>0</td>\n",
       "      <td>0</td>\n",
       "      <td>1</td>\n",
       "      <td>1</td>\n",
       "      <td>1</td>\n",
       "      <td>0</td>\n",
       "      <td>0</td>\n",
       "      <td>0</td>\n",
       "      <td>0</td>\n",
       "      <td>1</td>\n",
       "      <td>1</td>\n",
       "      <td>0</td>\n",
       "      <td>1</td>\n",
       "      <td>1</td>\n",
       "      <td>1</td>\n",
       "      <td>0</td>\n",
       "      <td>1</td>\n",
       "    </tr>\n",
       "    <tr>\n",
       "      <th>2</th>\n",
       "      <td>Audi A1</td>\n",
       "      <td>Sportback 1.6 TDI S tronic Einparkhilfe plus+music</td>\n",
       "      <td>Sedans</td>\n",
       "      <td>14640</td>\n",
       "      <td>VAT deductible</td>\n",
       "      <td>83,450 km</td>\n",
       "      <td>02/2016</td>\n",
       "      <td>85 kW</td>\n",
       "      <td>[, Used, , Diesel (Particulate Filter)]</td>\n",
       "      <td>1.0</td>\n",
       "      <td>NaT</td>\n",
       "      <td>0</td>\n",
       "      <td>[\\n, \\n, \\n99 g CO2/km (comb)\\n]</td>\n",
       "      <td>Audi</td>\n",
       "      <td>A1</td>\n",
       "      <td>[\\nAM-95365\\n]</td>\n",
       "      <td>[\\n, 2016, \\n]</td>\n",
       "      <td>Black</td>\n",
       "      <td>Metallic</td>\n",
       "      <td>[\\nmythosschwarz metallic\\n]</td>\n",
       "      <td>[\\nCloth, Black\\n]</td>\n",
       "      <td>[\\n4\\n]</td>\n",
       "      <td>[\\n4\\n]</td>\n",
       "      <td>NaN</td>\n",
       "      <td>[\\n, Automatic, \\n]</td>\n",
       "      <td>[\\n1,598 cc\\n]</td>\n",
       "      <td>NaN</td>\n",
       "      <td>[\\nfront\\n]</td>\n",
       "      <td>[\\n, Diesel (Particulate Filter), \\n]</td>\n",
       "      <td>[[3.8 l/100 km (comb)], [4.4 l/100 km (city)], [3.4 l/100 km (country)]]</td>\n",
       "      <td>[\\n99 g CO2/km (comb)\\n]</td>\n",
       "      <td>[\\nEuro 6\\n]</td>\n",
       "      <td>Air conditioning,Cruise control,Electrical side mirrors,Hill Holder,Leather steering wheel,Multi-function steering wheel,Navigation system,Park Distance Control,Parking assist system sensors front,Parking assist system sensors rear,Power windows,Seat heating,Start-stop system</td>\n",
       "      <td>MP3,On-board computer</td>\n",
       "      <td>Alloy wheels,Voice Control</td>\n",
       "      <td>ABS,Central door lock,Daytime running lights,Driver-side airbag,Electronic stability control,Immobilizer,Isofix,Passenger-side airbag,Power steering,Side airbag,Tire pressure monitoring system,Traction control</td>\n",
       "      <td>[\\n, Fahrzeug-Nummer: AM-95365,  , Ehem. UPE 24.640 EUR,  , Komfort,  , Klimaanlage,  , Elektrische Fensterheber,  , Sitzheizung,  , Tempomat,  , Zentralverriegelung,  , Leder-Lenkrad,  , Elektrische Spiegel,  , Wärmedämmendes Glas,  , Anfahrassistent,  , Sicherheit,  , Window/Kopfairbags,  , ESP (el. Stabilitäts Programm),  , Elektronische Wegfahrsperre,  , Reifendruckkontrolle,  , Tagfahrlicht,  , Exterieur,  , Alufelgen 16 Zoll,  , Einparkhilfe vo + hi,  , Interieur,  , Stoff Zeitgeist,  ...</td>\n",
       "      <td>4 (Green)</td>\n",
       "      <td>NaN</td>\n",
       "      <td>NaN</td>\n",
       "      <td>1</td>\n",
       "      <td>0</td>\n",
       "      <td>0</td>\n",
       "      <td>0</td>\n",
       "      <td>0</td>\n",
       "      <td>1</td>\n",
       "      <td>0</td>\n",
       "      <td>0</td>\n",
       "      <td>1</td>\n",
       "      <td>0</td>\n",
       "      <td>0</td>\n",
       "      <td>0</td>\n",
       "      <td>0</td>\n",
       "      <td>1</td>\n",
       "      <td>0</td>\n",
       "      <td>0</td>\n",
       "      <td>1</td>\n",
       "      <td>0</td>\n",
       "      <td>0</td>\n",
       "      <td>0</td>\n",
       "      <td>1</td>\n",
       "      <td>1</td>\n",
       "      <td>0</td>\n",
       "      <td>1</td>\n",
       "      <td>0</td>\n",
       "      <td>0</td>\n",
       "      <td>1</td>\n",
       "      <td>1</td>\n",
       "      <td>1</td>\n",
       "      <td>0</td>\n",
       "      <td>1</td>\n",
       "      <td>0</td>\n",
       "      <td>0</td>\n",
       "      <td>1</td>\n",
       "      <td>0</td>\n",
       "      <td>0</td>\n",
       "      <td>0</td>\n",
       "      <td>0</td>\n",
       "      <td>0</td>\n",
       "      <td>0</td>\n",
       "      <td>0</td>\n",
       "      <td>0</td>\n",
       "      <td>1</td>\n",
       "      <td>1</td>\n",
       "      <td>0</td>\n",
       "      <td>0</td>\n",
       "      <td>0</td>\n",
       "      <td>0</td>\n",
       "      <td>1</td>\n",
       "      <td>0</td>\n",
       "      <td>0</td>\n",
       "      <td>0</td>\n",
       "      <td>0</td>\n",
       "      <td>0</td>\n",
       "      <td>0</td>\n",
       "      <td>0</td>\n",
       "      <td>0</td>\n",
       "      <td>0</td>\n",
       "      <td>0</td>\n",
       "      <td>0</td>\n",
       "      <td>0</td>\n",
       "      <td>0</td>\n",
       "      <td>0</td>\n",
       "      <td>1</td>\n",
       "      <td>0</td>\n",
       "      <td>1</td>\n",
       "      <td>0</td>\n",
       "      <td>0</td>\n",
       "      <td>0</td>\n",
       "      <td>0</td>\n",
       "      <td>1</td>\n",
       "      <td>0</td>\n",
       "      <td>1</td>\n",
       "      <td>0</td>\n",
       "      <td>1</td>\n",
       "      <td>1</td>\n",
       "      <td>0</td>\n",
       "      <td>0</td>\n",
       "      <td>0</td>\n",
       "      <td>0</td>\n",
       "      <td>1</td>\n",
       "      <td>1</td>\n",
       "      <td>0</td>\n",
       "      <td>0</td>\n",
       "      <td>0</td>\n",
       "      <td>0</td>\n",
       "      <td>1</td>\n",
       "      <td>1</td>\n",
       "      <td>0</td>\n",
       "      <td>1</td>\n",
       "      <td>1</td>\n",
       "      <td>1</td>\n",
       "      <td>0</td>\n",
       "      <td>0</td>\n",
       "    </tr>\n",
       "    <tr>\n",
       "      <th>3</th>\n",
       "      <td>Audi A1</td>\n",
       "      <td>1.4 TDi Design S tronic</td>\n",
       "      <td>Sedans</td>\n",
       "      <td>14500</td>\n",
       "      <td>None</td>\n",
       "      <td>73,000 km</td>\n",
       "      <td>08/2016</td>\n",
       "      <td>66 kW</td>\n",
       "      <td>[, Used, , Diesel (Particulate Filter)]</td>\n",
       "      <td>1.0</td>\n",
       "      <td>NaT</td>\n",
       "      <td>0</td>\n",
       "      <td>NaN</td>\n",
       "      <td>Audi</td>\n",
       "      <td>A1</td>\n",
       "      <td>NaN</td>\n",
       "      <td>[\\n, 2016, \\n]</td>\n",
       "      <td>Brown</td>\n",
       "      <td>Metallic</td>\n",
       "      <td>NaN</td>\n",
       "      <td>NaN</td>\n",
       "      <td>[\\n3\\n]</td>\n",
       "      <td>[\\n4\\n]</td>\n",
       "      <td>NaN</td>\n",
       "      <td>[\\n, Automatic, \\n]</td>\n",
       "      <td>[\\n1,422 cc\\n]</td>\n",
       "      <td>3</td>\n",
       "      <td>NaN</td>\n",
       "      <td>[\\n, Diesel (Particulate Filter), \\n]</td>\n",
       "      <td>[[3.8 l/100 km (comb)], [4.3 l/100 km (city)], [3.5 l/100 km (country)]]</td>\n",
       "      <td>[\\n99 g CO2/km (comb)\\n]</td>\n",
       "      <td>[\\nEuro 6\\n]</td>\n",
       "      <td>Air suspension,Armrest,Auxiliary heating,Electrical side mirrors,Heads-up display,Hill Holder,Leather steering wheel,Light sensor,Lumbar support,Multi-function steering wheel,Navigation system,Power windows,Rain sensor,Seat heating,Split rear seats,Start-stop system</td>\n",
       "      <td>Bluetooth,CD player,Hands-free equipment,MP3,On-board computer,Radio,Sound system,USB</td>\n",
       "      <td>Alloy wheels,Sport seats,Voice Control</td>\n",
       "      <td>ABS,Alarm system,Central door lock with remote control,Driver drowsiness detection,Driver-side airbag,Electronic stability control,Emergency system,Head airbag,Immobilizer,Isofix,Passenger-side airbag,Power steering,Side airbag,Tire pressure monitoring system</td>\n",
       "      <td>[\\nAudi A1: , - 1e eigenaar , - Perfecte staat: schade/ongevalvrij , - Onderhoudsboekje Audi garage , - Full option!, - S-line opties, - Automaat, lederen bekleding, navi-pro, Xenon lampen, zetelverwarming, automatische airco,...\\n]</td>\n",
       "      <td>NaN</td>\n",
       "      <td>[\\n6\\n]</td>\n",
       "      <td>NaN</td>\n",
       "      <td>0</td>\n",
       "      <td>1</td>\n",
       "      <td>1</td>\n",
       "      <td>0</td>\n",
       "      <td>1</td>\n",
       "      <td>0</td>\n",
       "      <td>0</td>\n",
       "      <td>0</td>\n",
       "      <td>1</td>\n",
       "      <td>0</td>\n",
       "      <td>0</td>\n",
       "      <td>1</td>\n",
       "      <td>0</td>\n",
       "      <td>1</td>\n",
       "      <td>0</td>\n",
       "      <td>0</td>\n",
       "      <td>1</td>\n",
       "      <td>1</td>\n",
       "      <td>1</td>\n",
       "      <td>0</td>\n",
       "      <td>1</td>\n",
       "      <td>1</td>\n",
       "      <td>0</td>\n",
       "      <td>0</td>\n",
       "      <td>0</td>\n",
       "      <td>0</td>\n",
       "      <td>0</td>\n",
       "      <td>0</td>\n",
       "      <td>1</td>\n",
       "      <td>1</td>\n",
       "      <td>1</td>\n",
       "      <td>0</td>\n",
       "      <td>1</td>\n",
       "      <td>1</td>\n",
       "      <td>0</td>\n",
       "      <td>0</td>\n",
       "      <td>0</td>\n",
       "      <td>0</td>\n",
       "      <td>1</td>\n",
       "      <td>1</td>\n",
       "      <td>0</td>\n",
       "      <td>1</td>\n",
       "      <td>1</td>\n",
       "      <td>1</td>\n",
       "      <td>1</td>\n",
       "      <td>1</td>\n",
       "      <td>0</td>\n",
       "      <td>1</td>\n",
       "      <td>1</td>\n",
       "      <td>0</td>\n",
       "      <td>0</td>\n",
       "      <td>0</td>\n",
       "      <td>0</td>\n",
       "      <td>0</td>\n",
       "      <td>0</td>\n",
       "      <td>0</td>\n",
       "      <td>0</td>\n",
       "      <td>0</td>\n",
       "      <td>1</td>\n",
       "      <td>0</td>\n",
       "      <td>0</td>\n",
       "      <td>0</td>\n",
       "      <td>0</td>\n",
       "      <td>1</td>\n",
       "      <td>0</td>\n",
       "      <td>1</td>\n",
       "      <td>0</td>\n",
       "      <td>0</td>\n",
       "      <td>1</td>\n",
       "      <td>0</td>\n",
       "      <td>0</td>\n",
       "      <td>1</td>\n",
       "      <td>0</td>\n",
       "      <td>1</td>\n",
       "      <td>1</td>\n",
       "      <td>1</td>\n",
       "      <td>0</td>\n",
       "      <td>1</td>\n",
       "      <td>0</td>\n",
       "      <td>1</td>\n",
       "      <td>1</td>\n",
       "      <td>1</td>\n",
       "      <td>0</td>\n",
       "      <td>0</td>\n",
       "      <td>0</td>\n",
       "      <td>0</td>\n",
       "      <td>1</td>\n",
       "      <td>1</td>\n",
       "      <td>0</td>\n",
       "      <td>1</td>\n",
       "      <td>1</td>\n",
       "      <td>0</td>\n",
       "      <td>0</td>\n",
       "      <td>0</td>\n",
       "    </tr>\n",
       "    <tr>\n",
       "      <th>4</th>\n",
       "      <td>Audi A1</td>\n",
       "      <td>Sportback 1.4 TDI S-Tronic S-Line Ext. admired, Xe</td>\n",
       "      <td>Sedans</td>\n",
       "      <td>16790</td>\n",
       "      <td>None</td>\n",
       "      <td>16,200 km</td>\n",
       "      <td>05/2016</td>\n",
       "      <td>66 kW</td>\n",
       "      <td>[, Used, , Diesel (Particulate Filter)]</td>\n",
       "      <td>1.0</td>\n",
       "      <td>NaT</td>\n",
       "      <td>1</td>\n",
       "      <td>[\\n, \\n, \\nEuro 6\\n]</td>\n",
       "      <td>Audi</td>\n",
       "      <td>A1</td>\n",
       "      <td>[\\nC1626\\n]</td>\n",
       "      <td>[\\n, 2016, \\n]</td>\n",
       "      <td>Black</td>\n",
       "      <td>Metallic</td>\n",
       "      <td>[\\nMythosschwarz Metallic\\n]</td>\n",
       "      <td>[\\nCloth, Black\\n]</td>\n",
       "      <td>[\\n5\\n]</td>\n",
       "      <td>[\\n5\\n]</td>\n",
       "      <td>[\\n0588/BDF\\n]</td>\n",
       "      <td>[\\n, Automatic, \\n]</td>\n",
       "      <td>[\\n1,422 cc\\n]</td>\n",
       "      <td>3</td>\n",
       "      <td>[\\nfront\\n]</td>\n",
       "      <td>[\\n, Diesel (Particulate Filter), \\n]</td>\n",
       "      <td>[[4.1 l/100 km (comb)], [4.6 l/100 km (city)], [3.8 l/100 km (country)]]</td>\n",
       "      <td>[\\n109 g CO2/km (comb)\\n]</td>\n",
       "      <td>[\\nEuro 6\\n]</td>\n",
       "      <td>Air conditioning,Armrest,Automatic climate control,Electrical side mirrors,Hill Holder,Leather steering wheel,Light sensor,Multi-function steering wheel,Park Distance Control,Parking assist system sensors rear,Power windows,Rain sensor,Start-stop system</td>\n",
       "      <td>Bluetooth,CD player,Hands-free equipment,MP3,On-board computer,Radio,USB</td>\n",
       "      <td>Alloy wheels,Sport package,Sport suspension,Voice Control</td>\n",
       "      <td>ABS,Central door lock,Driver-side airbag,Electronic stability control,Fog lights,Immobilizer,Isofix,Passenger-side airbag,Power steering,Side airbag,Tire pressure monitoring system,Traction control,Xenon headlights</td>\n",
       "      <td>[\\n, Technik &amp; Sicherheit:, Xenon plus, Klimaautomatik, Einparkhilfe hinten, Scheinwerferreinigungsanlage, Nebelscheinwerfer, Zentralverriegelung mit Fernbedienung, Außenspiegel elek. einstellbar, Fensterheber elek, Start/Stop Anlage, 6 Airbag inkl. Kopfairbag, Euro 6, Multimedia:, Radio CD Concert, audi music interface, Handyvorbereitung (Bluetooth), Sprachsteuerung, USB Anschluss, Assistenzsysteme:, Lichtsensor, Regensensor, Berganfahrassistent, Reifendruckkontrolle, ESP inkl. ABS, Interie...</td>\n",
       "      <td>NaN</td>\n",
       "      <td>NaN</td>\n",
       "      <td>Germany</td>\n",
       "      <td>1</td>\n",
       "      <td>0</td>\n",
       "      <td>1</td>\n",
       "      <td>1</td>\n",
       "      <td>0</td>\n",
       "      <td>0</td>\n",
       "      <td>0</td>\n",
       "      <td>0</td>\n",
       "      <td>1</td>\n",
       "      <td>0</td>\n",
       "      <td>0</td>\n",
       "      <td>0</td>\n",
       "      <td>0</td>\n",
       "      <td>1</td>\n",
       "      <td>0</td>\n",
       "      <td>0</td>\n",
       "      <td>1</td>\n",
       "      <td>1</td>\n",
       "      <td>0</td>\n",
       "      <td>0</td>\n",
       "      <td>1</td>\n",
       "      <td>0</td>\n",
       "      <td>0</td>\n",
       "      <td>1</td>\n",
       "      <td>0</td>\n",
       "      <td>0</td>\n",
       "      <td>0</td>\n",
       "      <td>1</td>\n",
       "      <td>1</td>\n",
       "      <td>1</td>\n",
       "      <td>0</td>\n",
       "      <td>0</td>\n",
       "      <td>0</td>\n",
       "      <td>1</td>\n",
       "      <td>0</td>\n",
       "      <td>0</td>\n",
       "      <td>0</td>\n",
       "      <td>0</td>\n",
       "      <td>1</td>\n",
       "      <td>1</td>\n",
       "      <td>0</td>\n",
       "      <td>1</td>\n",
       "      <td>1</td>\n",
       "      <td>1</td>\n",
       "      <td>1</td>\n",
       "      <td>0</td>\n",
       "      <td>0</td>\n",
       "      <td>1</td>\n",
       "      <td>1</td>\n",
       "      <td>0</td>\n",
       "      <td>0</td>\n",
       "      <td>0</td>\n",
       "      <td>0</td>\n",
       "      <td>0</td>\n",
       "      <td>0</td>\n",
       "      <td>0</td>\n",
       "      <td>0</td>\n",
       "      <td>1</td>\n",
       "      <td>0</td>\n",
       "      <td>1</td>\n",
       "      <td>0</td>\n",
       "      <td>0</td>\n",
       "      <td>0</td>\n",
       "      <td>1</td>\n",
       "      <td>0</td>\n",
       "      <td>1</td>\n",
       "      <td>0</td>\n",
       "      <td>0</td>\n",
       "      <td>0</td>\n",
       "      <td>0</td>\n",
       "      <td>1</td>\n",
       "      <td>0</td>\n",
       "      <td>0</td>\n",
       "      <td>0</td>\n",
       "      <td>1</td>\n",
       "      <td>1</td>\n",
       "      <td>0</td>\n",
       "      <td>0</td>\n",
       "      <td>1</td>\n",
       "      <td>0</td>\n",
       "      <td>1</td>\n",
       "      <td>1</td>\n",
       "      <td>0</td>\n",
       "      <td>0</td>\n",
       "      <td>0</td>\n",
       "      <td>0</td>\n",
       "      <td>1</td>\n",
       "      <td>1</td>\n",
       "      <td>0</td>\n",
       "      <td>1</td>\n",
       "      <td>1</td>\n",
       "      <td>1</td>\n",
       "      <td>0</td>\n",
       "      <td>1</td>\n",
       "    </tr>\n",
       "  </tbody>\n",
       "</table>\n",
       "</div>"
      ],
      "text/plain": [
       "  make_model                                   short_description body_type  price               vat         km registration      hp                                     type  previous_owners next_inspection inspection_new                          warranty  make model     offer_number first_registration body_color paint_type           body_color_original          upholstery nr_of_doors nr_of_seats      model_code         gearing_type    displacement cylinders  drive_chain                                   fuel                                                               consumption               co2_emission emission_class                                                                                                                                                                                                                                                                                          comfort&convenience                                                                    entertainment&media                                                     extras                                                                                                                                                                                                                                                                       safety&security                                                                                                                                                                                                                                                                                                                                                                                                                                                                                                          description emission_label    gears country_version  cc_Air conditioning  cc_Air suspension  cc_Armrest  cc_Automatic climate control  \\\n",
       "0    Audi A1         Sportback 1.4 TDI S-tronic Xenon Navi Klima    Sedans  15770    VAT deductible  56,013 km      01/2016   66 kW  [, Used, , Diesel (Particulate Filter)]              2.0      2021-06-01              1           [\\n, \\n, \\n4 (Green)\\n]  Audi    A1  [\\nLR-062483\\n]     [\\n, 2016, \\n]      Black   Metallic           [\\nMythosschwarz\\n]  [\\nCloth, Black\\n]     [\\n5\\n]     [\\n5\\n]  [\\n0588/BDF\\n]  [\\n, Automatic, \\n]  [\\n1,422 cc\\n]         3  [\\nfront\\n]  [\\n, Diesel (Particulate Filter), \\n]  [[3.8 l/100 km (comb)], [4.3 l/100 km (city)], [3.5 l/100 km (country)]]   [\\n99 g CO2/km (comb)\\n]   [\\nEuro 6\\n]  Air conditioning,Armrest,Automatic climate control,Cruise control,Electrical side mirrors,Hill Holder,Leather steering wheel,Light sensor,Multi-function steering wheel,Navigation system,Park Distance Control,Parking assist system sensors rear,Power windows,Rain sensor,Seat heating,Start-stop system                                 Bluetooth,Hands-free equipment,On-board computer,Radio             Alloy wheels,Catalytic Converter,Voice Control                                         ABS,Central door lock,Daytime running lights,Driver-side airbag,Electronic stability control,Fog lights,Immobilizer,Isofix,Passenger-side airbag,Power steering,Side airbag,Tire pressure monitoring system,Traction control,Xenon headlights  [\\n, Sicherheit:,  , Deaktivierung für Beifahrer-Airbag,  , ESC mit elektronischer Quersperre,  , Tagfahrlicht,  , Reifendruck-Kontrollanzeige,  , Kopfairbag-System mit Seiten-Airbags vorn,  , Sicherheitslenksäule, Assistenzsysteme:,  , Berganfahrassistent, Komfort:,  , Scheinwerferreinigung,  , Xenon plus inklusive Scheinwerfer-Reinigungsanlage,  , Scheinwerfer-Reinigungsanlage,  , Einparkhilfe hinten,  , Licht-/Regensensor,  , Funkfernbedienung,  , Elektrische Luftzusatzheizung, Interieur:...            NaN      NaN             NaN                    1                  0           1                             1   \n",
       "1    Audi A1                                      1.8 TFSI sport    Sedans  14500  Price negotiable  80,000 km      03/2017  141 kW                     [, Used, , Gasoline]              1.0             NaT              0                               NaN  Audi    A1              NaN     [\\n, 2017, \\n]        Red        NaN                           NaN   [\\nCloth, Grey\\n]     [\\n3\\n]     [\\n4\\n]  [\\n0588/BCY\\n]  [\\n, Automatic, \\n]  [\\n1,798 cc\\n]         4  [\\nfront\\n]                     [\\n, Gasoline, \\n]  [[5.6 l/100 km (comb)], [7.1 l/100 km (city)], [4.7 l/100 km (country)]]  [\\n129 g CO2/km (comb)\\n]   [\\nEuro 6\\n]                                                                                                                               Air conditioning,Automatic climate control,Hill Holder,Leather steering wheel,Lumbar support,Parking assist system sensors rear,Power windows,Start-stop system,Tinted windows                    Bluetooth,Hands-free equipment,On-board computer,Radio,Sound system    Alloy wheels,Sport seats,Sport suspension,Voice Control  ABS,Central door lock,Central door lock with remote control,Daytime running lights,Driver-side airbag,Electronic stability control,Head airbag,Immobilizer,Isofix,Passenger-side airbag,Power steering,Side airbag,Tire pressure monitoring system,Traction control,Xenon headlights                                                                                                                                                                                                                                                                                                                                                                                                         [\\nLangstreckenfahrzeug daher die hohe Kilometerleistung. , Bremsen neu bei 62000 km. , Gut gepflegter A1\\n]      4 (Green)  [\\n7\\n]             NaN                    1                  0           0                             1   \n",
       "2    Audi A1  Sportback 1.6 TDI S tronic Einparkhilfe plus+music    Sedans  14640    VAT deductible  83,450 km      02/2016   85 kW  [, Used, , Diesel (Particulate Filter)]              1.0             NaT              0  [\\n, \\n, \\n99 g CO2/km (comb)\\n]  Audi    A1   [\\nAM-95365\\n]     [\\n, 2016, \\n]      Black   Metallic  [\\nmythosschwarz metallic\\n]  [\\nCloth, Black\\n]     [\\n4\\n]     [\\n4\\n]             NaN  [\\n, Automatic, \\n]  [\\n1,598 cc\\n]       NaN  [\\nfront\\n]  [\\n, Diesel (Particulate Filter), \\n]  [[3.8 l/100 km (comb)], [4.4 l/100 km (city)], [3.4 l/100 km (country)]]   [\\n99 g CO2/km (comb)\\n]   [\\nEuro 6\\n]                         Air conditioning,Cruise control,Electrical side mirrors,Hill Holder,Leather steering wheel,Multi-function steering wheel,Navigation system,Park Distance Control,Parking assist system sensors front,Parking assist system sensors rear,Power windows,Seat heating,Start-stop system                                                                  MP3,On-board computer                                 Alloy wheels,Voice Control                                                                     ABS,Central door lock,Daytime running lights,Driver-side airbag,Electronic stability control,Immobilizer,Isofix,Passenger-side airbag,Power steering,Side airbag,Tire pressure monitoring system,Traction control  [\\n, Fahrzeug-Nummer: AM-95365,  , Ehem. UPE 24.640 EUR,  , Komfort,  , Klimaanlage,  , Elektrische Fensterheber,  , Sitzheizung,  , Tempomat,  , Zentralverriegelung,  , Leder-Lenkrad,  , Elektrische Spiegel,  , Wärmedämmendes Glas,  , Anfahrassistent,  , Sicherheit,  , Window/Kopfairbags,  , ESP (el. Stabilitäts Programm),  , Elektronische Wegfahrsperre,  , Reifendruckkontrolle,  , Tagfahrlicht,  , Exterieur,  , Alufelgen 16 Zoll,  , Einparkhilfe vo + hi,  , Interieur,  , Stoff Zeitgeist,  ...      4 (Green)      NaN             NaN                    1                  0           0                             0   \n",
       "3    Audi A1                             1.4 TDi Design S tronic    Sedans  14500              None  73,000 km      08/2016   66 kW  [, Used, , Diesel (Particulate Filter)]              1.0             NaT              0                               NaN  Audi    A1              NaN     [\\n, 2016, \\n]      Brown   Metallic                           NaN                 NaN     [\\n3\\n]     [\\n4\\n]             NaN  [\\n, Automatic, \\n]  [\\n1,422 cc\\n]         3          NaN  [\\n, Diesel (Particulate Filter), \\n]  [[3.8 l/100 km (comb)], [4.3 l/100 km (city)], [3.5 l/100 km (country)]]   [\\n99 g CO2/km (comb)\\n]   [\\nEuro 6\\n]                                   Air suspension,Armrest,Auxiliary heating,Electrical side mirrors,Heads-up display,Hill Holder,Leather steering wheel,Light sensor,Lumbar support,Multi-function steering wheel,Navigation system,Power windows,Rain sensor,Seat heating,Split rear seats,Start-stop system  Bluetooth,CD player,Hands-free equipment,MP3,On-board computer,Radio,Sound system,USB                     Alloy wheels,Sport seats,Voice Control                   ABS,Alarm system,Central door lock with remote control,Driver drowsiness detection,Driver-side airbag,Electronic stability control,Emergency system,Head airbag,Immobilizer,Isofix,Passenger-side airbag,Power steering,Side airbag,Tire pressure monitoring system                                                                                                                                                                                                                                                                             [\\nAudi A1: , - 1e eigenaar , - Perfecte staat: schade/ongevalvrij , - Onderhoudsboekje Audi garage , - Full option!, - S-line opties, - Automaat, lederen bekleding, navi-pro, Xenon lampen, zetelverwarming, automatische airco,...\\n]            NaN  [\\n6\\n]             NaN                    0                  1           1                             0   \n",
       "4    Audi A1  Sportback 1.4 TDI S-Tronic S-Line Ext. admired, Xe    Sedans  16790              None  16,200 km      05/2016   66 kW  [, Used, , Diesel (Particulate Filter)]              1.0             NaT              1              [\\n, \\n, \\nEuro 6\\n]  Audi    A1      [\\nC1626\\n]     [\\n, 2016, \\n]      Black   Metallic  [\\nMythosschwarz Metallic\\n]  [\\nCloth, Black\\n]     [\\n5\\n]     [\\n5\\n]  [\\n0588/BDF\\n]  [\\n, Automatic, \\n]  [\\n1,422 cc\\n]         3  [\\nfront\\n]  [\\n, Diesel (Particulate Filter), \\n]  [[4.1 l/100 km (comb)], [4.6 l/100 km (city)], [3.8 l/100 km (country)]]  [\\n109 g CO2/km (comb)\\n]   [\\nEuro 6\\n]                                                Air conditioning,Armrest,Automatic climate control,Electrical side mirrors,Hill Holder,Leather steering wheel,Light sensor,Multi-function steering wheel,Park Distance Control,Parking assist system sensors rear,Power windows,Rain sensor,Start-stop system               Bluetooth,CD player,Hands-free equipment,MP3,On-board computer,Radio,USB  Alloy wheels,Sport package,Sport suspension,Voice Control                                                                ABS,Central door lock,Driver-side airbag,Electronic stability control,Fog lights,Immobilizer,Isofix,Passenger-side airbag,Power steering,Side airbag,Tire pressure monitoring system,Traction control,Xenon headlights  [\\n, Technik & Sicherheit:, Xenon plus, Klimaautomatik, Einparkhilfe hinten, Scheinwerferreinigungsanlage, Nebelscheinwerfer, Zentralverriegelung mit Fernbedienung, Außenspiegel elek. einstellbar, Fensterheber elek, Start/Stop Anlage, 6 Airbag inkl. Kopfairbag, Euro 6, Multimedia:, Radio CD Concert, audi music interface, Handyvorbereitung (Bluetooth), Sprachsteuerung, USB Anschluss, Assistenzsysteme:, Lichtsensor, Regensensor, Berganfahrassistent, Reifendruckkontrolle, ESP inkl. ABS, Interie...            NaN      NaN         Germany                    1                  0           1                             1   \n",
       "\n",
       "   cc_Auxiliary heating  cc_Cruise control  cc_Electric Starter  cc_Electric tailgate  cc_Electrical side mirrors  cc_Electrically adjustable seats  cc_Electrically heated windshield  cc_Heads-up display  cc_Heated steering wheel  cc_Hill Holder  cc_Keyless central door lock  cc_Leather seats  cc_Leather steering wheel  cc_Light sensor  cc_Lumbar support  cc_Massage seats  cc_Multi-function steering wheel  cc_Navigation system  cc_Panorama roof  cc_Park Distance Control  cc_Parking assist system camera  cc_Parking assist system self-steering  cc_Parking assist system sensors front  cc_Parking assist system sensors rear  cc_Power windows  cc_Rain sensor  cc_Seat heating  cc_Seat ventilation  cc_Split rear seats  cc_Start-stop system  cc_Sunroof  cc_Tinted windows  cc_Wind deflector  cc_Windshield  em_Bluetooth  em_CD player  em_Digital radio  em_Hands-free equipment  em_MP3  em_On-board computer  em_Radio  em_Sound system  em_Television  em_USB  ex_Alloy wheels  ex_Cab or rented Car  ex_Catalytic Converter  ex_Handicapped enabled  ex_Right hand drive  ex_Roof rack  ex_Shift paddles  ex_Ski bag  ex_Sliding door  ex_Sport package  ex_Sport seats  ex_Sport suspension  ex_Touch screen  ex_Trailer hitch  ex_Tuned car  ex_Voice Control  ex_Winter tyres  ss_ABS  ss_Adaptive Cruise Control  ss_Adaptive headlights  ss_Alarm system  ss_Blind spot monitor  ss_Central door lock  ss_Central door lock with remote control  ss_Daytime running lights  ss_Driver drowsiness detection  ss_Driver-side airbag  ss_Electronic stability control  ss_Emergency brake assistant  ss_Emergency system  ss_Fog lights  ss_Head airbag  ss_Immobilizer  ss_Isofix  ss_LED Daytime Running Lights  ss_LED Headlights  ss_Lane departure warning system  ss_Night view assist  ss_Passenger-side airbag  ss_Power steering  ss_Rear airbag  ss_Side airbag  ss_Tire pressure monitoring system  ss_Traction control  ss_Traffic sign recognition  ss_Xenon headlights  \n",
       "0                     0                  1                    0                     0                           1                                 0                                  0                    0                         0               1                             0                 0                          1                1                  0                 0                                 1                     1                 0                         1                                0                                       0                                       0                                      1                 1               1                1                    0                    0                     1           0                  0                  0              0             1             0                 0                        1       0                     1         1                0              0       0                1                     0                       1                       0                    0             0                 0           0                0                 0               0                    0                0                 0             0                 1                0       1                           0                       0                0                      0                     1                                         0                          1                               0                      1                                1                             0                    0              1               0               1          1                              0                  0                                 0                     0                         1                  1               0               1                                   1                    1                            0                    1  \n",
       "1                     0                  0                    0                     0                           0                                 0                                  0                    0                         0               1                             0                 0                          1                0                  1                 0                                 0                     0                 0                         0                                0                                       0                                       0                                      1                 1               0                0                    0                    0                     1           0                  1                  0              0             1             0                 0                        1       0                     1         1                1              0       0                1                     0                       0                       0                    0             0                 0           0                0                 0               1                    1                0                 0             0                 1                0       1                           0                       0                0                      0                     1                                         1                          1                               0                      1                                1                             0                    0              0               1               1          1                              0                  0                                 0                     0                         1                  1               0               1                                   1                    1                            0                    1  \n",
       "2                     0                  1                    0                     0                           1                                 0                                  0                    0                         0               1                             0                 0                          1                0                  0                 0                                 1                     1                 0                         1                                0                                       0                                       1                                      1                 1               0                1                    0                    0                     1           0                  0                  0              0             0             0                 0                        0       1                     1         0                0              0       0                1                     0                       0                       0                    0             0                 0           0                0                 0               0                    0                0                 0             0                 1                0       1                           0                       0                0                      0                     1                                         0                          1                               0                      1                                1                             0                    0              0               0               1          1                              0                  0                                 0                     0                         1                  1               0               1                                   1                    1                            0                    0  \n",
       "3                     1                  0                    0                     0                           1                                 0                                  0                    1                         0               1                             0                 0                          1                1                  1                 0                                 1                     1                 0                         0                                0                                       0                                       0                                      0                 1               1                1                    0                    1                     1           0                  0                  0              0             1             1                 0                        1       1                     1         1                1              0       1                1                     0                       0                       0                    0             0                 0           0                0                 0               1                    0                0                 0             0                 1                0       1                           0                       0                1                      0                     0                                         1                          0                               1                      1                                1                             0                    1              0               1               1          1                              0                  0                                 0                     0                         1                  1               0               1                                   1                    0                            0                    0  \n",
       "4                     0                  0                    0                     0                           1                                 0                                  0                    0                         0               1                             0                 0                          1                1                  0                 0                                 1                     0                 0                         1                                0                                       0                                       0                                      1                 1               1                0                    0                    0                     1           0                  0                  0              0             1             1                 0                        1       1                     1         1                0              0       1                1                     0                       0                       0                    0             0                 0           0                0                 1               0                    1                0                 0             0                 1                0       1                           0                       0                0                      0                     1                                         0                          0                               0                      1                                1                             0                    0              1               0               1          1                              0                  0                                 0                     0                         1                  1               0               1                                   1                    1                            0                    1  "
      ]
     },
     "execution_count": 132,
     "metadata": {},
     "output_type": "execute_result"
    }
   ],
   "source": [
    "df.head()"
   ]
  },
  {
   "cell_type": "code",
   "execution_count": 133,
   "metadata": {},
   "outputs": [
    {
     "data": {
      "text/plain": [
       "(15919, 134)"
      ]
     },
     "execution_count": 133,
     "metadata": {},
     "output_type": "execute_result"
    }
   ],
   "source": [
    "df.shape"
   ]
  },
  {
   "cell_type": "code",
   "execution_count": 134,
   "metadata": {},
   "outputs": [
    {
     "data": {
      "text/plain": [
       "0    [[3.8 l/100 km (comb)], [4.3 l/100 km (city)], [3.5 l/100 km (country)]]\n",
       "1    [[5.6 l/100 km (comb)], [7.1 l/100 km (city)], [4.7 l/100 km (country)]]\n",
       "2    [[3.8 l/100 km (comb)], [4.4 l/100 km (city)], [3.4 l/100 km (country)]]\n",
       "3    [[3.8 l/100 km (comb)], [4.3 l/100 km (city)], [3.5 l/100 km (country)]]\n",
       "4    [[4.1 l/100 km (comb)], [4.6 l/100 km (city)], [3.8 l/100 km (country)]]\n",
       "Name: consumption, dtype: object"
      ]
     },
     "execution_count": 134,
     "metadata": {},
     "output_type": "execute_result"
    }
   ],
   "source": [
    "df.consumption.head()"
   ]
  },
  {
   "cell_type": "code",
   "execution_count": 135,
   "metadata": {},
   "outputs": [
    {
     "data": {
      "text/plain": [
       "0.11973113889063383"
      ]
     },
     "execution_count": 135,
     "metadata": {},
     "output_type": "execute_result"
    }
   ],
   "source": [
    "df['consumption'].isnull().sum()/df.shape[0]"
   ]
  },
  {
   "cell_type": "code",
   "execution_count": 136,
   "metadata": {},
   "outputs": [
    {
     "ename": "TypeError",
     "evalue": "unhashable type: 'list'",
     "output_type": "error",
     "traceback": [
      "\u001b[1;31m---------------------------------------------------------------------------\u001b[0m",
      "\u001b[1;31mTypeError\u001b[0m                                 Traceback (most recent call last)",
      "\u001b[1;32mpandas\\_libs\\hashtable_class_helper.pxi\u001b[0m in \u001b[0;36mpandas._libs.hashtable.PyObjectHashTable.map_locations\u001b[1;34m()\u001b[0m\n",
      "\u001b[1;31mTypeError\u001b[0m: unhashable type: 'list'"
     ]
    },
    {
     "name": "stderr",
     "output_type": "stream",
     "text": [
      "Exception ignored in: 'pandas._libs.index.IndexEngine._call_map_locations'\n",
      "Traceback (most recent call last):\n",
      "  File \"pandas\\_libs\\hashtable_class_helper.pxi\", line 1709, in pandas._libs.hashtable.PyObjectHashTable.map_locations\n",
      "TypeError: unhashable type: 'list'\n"
     ]
    },
    {
     "data": {
      "text/plain": [
       "NaN                                                                                   1906\n",
       "[[3.9 l/100 km (comb)], [4.1 l/100 km (city)], [3.7 l/100 km (country)]]               304\n",
       "[[4.2 l/100 km (comb)], [5 l/100 km (city)], [3.7 l/100 km (country)]]                 276\n",
       "[[5.4 l/100 km (comb)], [6.8 l/100 km (city)], [4.5 l/100 km (country)]]               257\n",
       "[[3.8 l/100 km (comb)], [4.3 l/100 km (city)], [3.5 l/100 km (country)]]               253\n",
       "                                                                                      ... \n",
       "[[3.6 l/100 km (comb)], [], [4.4 l/100 km (country)]]                                    1\n",
       "[\\n, 4.8 l/100 km (comb), \\n, 5.6 l/100 km (city), \\n, 4.3 l/100 km (country), \\n]       1\n",
       "[[7.6 l/100 km (comb)], [], []]                                                          1\n",
       "[[5.6 l/100 km (comb)], [7.6 l/100 km (city)], [4.4 l/100 km (country)]]                 1\n",
       "[\\n, 4.7 l/100 km (comb), \\n, \\n, \\n]                                                    1\n",
       "Name: consumption, Length: 882, dtype: int64"
      ]
     },
     "execution_count": 136,
     "metadata": {},
     "output_type": "execute_result"
    }
   ],
   "source": [
    "df.consumption.value_counts(dropna = False)"
   ]
  },
  {
   "cell_type": "code",
   "execution_count": 137,
   "metadata": {
    "scrolled": true
   },
   "outputs": [
    {
     "data": {
      "text/plain": [
       "12929                                                                         NaN\n",
       "2603       [[4.9 l/100 km (comb)], [6 l/100 km (city)], [4.2 l/100 km (country)]]\n",
       "11864    [[5.7 l/100 km (comb)], [7.5 l/100 km (city)], [4.6 l/100 km (country)]]\n",
       "5954                                                                          NaN\n",
       "1491     [[4.4 l/100 km (comb)], [5.2 l/100 km (city)], [3.9 l/100 km (country)]]\n",
       "1721     [[3.7 l/100 km (comb)], [3.9 l/100 km (city)], [3.1 l/100 km (country)]]\n",
       "12607    [[6.1 l/100 km (comb)], [7.8 l/100 km (city)], [5.1 l/100 km (country)]]\n",
       "3219     [[3.8 l/100 km (comb)], [4.5 l/100 km (city)], [3.4 l/100 km (country)]]\n",
       "7085                                                                          NaN\n",
       "6293     [[3.7 l/100 km (comb)], [4.2 l/100 km (city)], [3.3 l/100 km (country)]]\n",
       "5870           [[4 l/100 km (comb)], [5 l/100 km (city)], [3 l/100 km (country)]]\n",
       "12182    [[5.4 l/100 km (comb)], [6.8 l/100 km (city)], [4.6 l/100 km (country)]]\n",
       "6053                                                                          NaN\n",
       "3173                                                                          NaN\n",
       "13692    [[3.3 l/100 km (comb)], [3.5 l/100 km (city)], [3.1 l/100 km (country)]]\n",
       "265      [[4.4 l/100 km (comb)], [5.2 l/100 km (city)], [3.9 l/100 km (country)]]\n",
       "4044     [[4.5 l/100 km (comb)], [5.5 l/100 km (city)], [3.9 l/100 km (country)]]\n",
       "2763     [[3.9 l/100 km (comb)], [4.4 l/100 km (city)], [3.6 l/100 km (country)]]\n",
       "4888     [[4.1 l/100 km (comb)], [4.6 l/100 km (city)], [3.8 l/100 km (country)]]\n",
       "2740     [[5.3 l/100 km (comb)], [6.7 l/100 km (city)], [4.4 l/100 km (country)]]\n",
       "3930     [[3.8 l/100 km (comb)], [4.3 l/100 km (city)], [3.5 l/100 km (country)]]\n",
       "1328                                                                          NaN\n",
       "12704    [[6.2 l/100 km (comb)], [7.7 l/100 km (city)], [5.3 l/100 km (country)]]\n",
       "302      [[3.5 l/100 km (comb)], [4.3 l/100 km (city)], [3.1 l/100 km (country)]]\n",
       "12702          [[6 l/100 km (comb)], [7 l/100 km (city)], [5 l/100 km (country)]]\n",
       "15011    [[4.7 l/100 km (comb)], [5.1 l/100 km (city)], [4.4 l/100 km (country)]]\n",
       "9663     [[4.8 l/100 km (comb)], [5.8 l/100 km (city)], [4.1 l/100 km (country)]]\n",
       "5405                                                                          NaN\n",
       "11635    [[4.3 l/100 km (comb)], [5.2 l/100 km (city)], [3.8 l/100 km (country)]]\n",
       "262      [[3.7 l/100 km (comb)], [4.3 l/100 km (city)], [3.4 l/100 km (country)]]\n",
       "2788     [[4.5 l/100 km (comb)], [5.3 l/100 km (city)], [4.1 l/100 km (country)]]\n",
       "10317                                                                         NaN\n",
       "11998    [[5.7 l/100 km (comb)], [7.5 l/100 km (city)], [4.6 l/100 km (country)]]\n",
       "1520     [[5.1 l/100 km (comb)], [6.2 l/100 km (city)], [4.4 l/100 km (country)]]\n",
       "826                                                                           NaN\n",
       "10877    [[3.8 l/100 km (comb)], [4.5 l/100 km (city)], [3.3 l/100 km (country)]]\n",
       "6030     [[4.4 l/100 km (comb)], [5.7 l/100 km (city)], [3.7 l/100 km (country)]]\n",
       "5199     [[5.2 l/100 km (comb)], [6.4 l/100 km (city)], [4.4 l/100 km (country)]]\n",
       "1086     [[4.4 l/100 km (comb)], [5.4 l/100 km (city)], [3.8 l/100 km (country)]]\n",
       "13245    [[5.9 l/100 km (comb)], [7.9 l/100 km (city)], [5.1 l/100 km (country)]]\n",
       "8112         [[6.1 l/100 km (comb)], [8 l/100 km (city)], [5 l/100 km (country)]]\n",
       "51         [[4.2 l/100 km (comb)], [5 l/100 km (city)], [3.7 l/100 km (country)]]\n",
       "4653       [[4 l/100 km (comb)], [4.5 l/100 km (city)], [3.7 l/100 km (country)]]\n",
       "15403    [[4.7 l/100 km (comb)], [5.1 l/100 km (city)], [4.4 l/100 km (country)]]\n",
       "5607                                                [[5 l/100 km (comb)], [], []]\n",
       "9386     [[5.4 l/100 km (comb)], [6.7 l/100 km (city)], [4.6 l/100 km (country)]]\n",
       "6865       [[3.6 l/100 km (comb)], [4 l/100 km (city)], [3.3 l/100 km (country)]]\n",
       "1003     [[3.7 l/100 km (comb)], [4.3 l/100 km (city)], [3.4 l/100 km (country)]]\n",
       "12150    [[5.8 l/100 km (comb)], [7.4 l/100 km (city)], [4.9 l/100 km (country)]]\n",
       "14039                                             [[5.4 l/100 km (comb)], [], []]\n",
       "13939    [[3.3 l/100 km (comb)], [3.5 l/100 km (city)], [3.1 l/100 km (country)]]\n",
       "5943     [[4.9 l/100 km (comb)], [6.2 l/100 km (city)], [4.2 l/100 km (country)]]\n",
       "3939                                                                          NaN\n",
       "1804           [[4 l/100 km (comb)], [5 l/100 km (city)], [3 l/100 km (country)]]\n",
       "6022     [[3.9 l/100 km (comb)], [4.7 l/100 km (city)], [3.5 l/100 km (country)]]\n",
       "Name: consumption, dtype: object"
      ]
     },
     "execution_count": 137,
     "metadata": {},
     "output_type": "execute_result"
    }
   ],
   "source": [
    "df.consumption.sample(55)"
   ]
  },
  {
   "cell_type": "code",
   "execution_count": 138,
   "metadata": {},
   "outputs": [
    {
     "ename": "TypeError",
     "evalue": "unhashable type: 'list'",
     "output_type": "error",
     "traceback": [
      "\u001b[1;31m---------------------------------------------------------------------------\u001b[0m",
      "\u001b[1;31mTypeError\u001b[0m                                 Traceback (most recent call last)",
      "\u001b[1;32mpandas\\_libs\\hashtable_class_helper.pxi\u001b[0m in \u001b[0;36mpandas._libs.hashtable.PyObjectHashTable.map_locations\u001b[1;34m()\u001b[0m\n",
      "\u001b[1;31mTypeError\u001b[0m: unhashable type: 'list'"
     ]
    },
    {
     "name": "stderr",
     "output_type": "stream",
     "text": [
      "Exception ignored in: 'pandas._libs.index.IndexEngine._call_map_locations'\n",
      "Traceback (most recent call last):\n",
      "  File \"pandas\\_libs\\hashtable_class_helper.pxi\", line 1709, in pandas._libs.hashtable.PyObjectHashTable.map_locations\n",
      "TypeError: unhashable type: 'list'\n"
     ]
    },
    {
     "data": {
      "text/plain": [
       "NaN                                                                                   1906\n",
       "[[3.9 l/100 km (comb)], [4.1 l/100 km (city)], [3.7 l/100 km (country)]]               304\n",
       "[[4.2 l/100 km (comb)], [5 l/100 km (city)], [3.7 l/100 km (country)]]                 276\n",
       "[[5.4 l/100 km (comb)], [6.8 l/100 km (city)], [4.5 l/100 km (country)]]               257\n",
       "[[3.8 l/100 km (comb)], [4.3 l/100 km (city)], [3.5 l/100 km (country)]]               253\n",
       "                                                                                      ... \n",
       "[[3.6 l/100 km (comb)], [], [4.4 l/100 km (country)]]                                    1\n",
       "[\\n, 4.8 l/100 km (comb), \\n, 5.6 l/100 km (city), \\n, 4.3 l/100 km (country), \\n]       1\n",
       "[[7.6 l/100 km (comb)], [], []]                                                          1\n",
       "[[5.6 l/100 km (comb)], [7.6 l/100 km (city)], [4.4 l/100 km (country)]]                 1\n",
       "[\\n, 4.7 l/100 km (comb), \\n, \\n, \\n]                                                    1\n",
       "Name: consumption, Length: 882, dtype: int64"
      ]
     },
     "execution_count": 138,
     "metadata": {},
     "output_type": "execute_result"
    }
   ],
   "source": [
    "df.consumption.value_counts(dropna = False)"
   ]
  },
  {
   "cell_type": "code",
   "execution_count": 139,
   "metadata": {},
   "outputs": [
    {
     "data": {
      "text/plain": [
       "array(['3.8', '5.6', '4.1', '3.5', '3.7', nan, '4', '4.9', '4.2', '4.5',\n",
       "       '4.4', '4.3', '3', '3.6', '3.4', '3.9', '5.1', '5.2', '4.6', '4.8',\n",
       "       '5.8', '4.7', '5', '1', '6', '5.9', '5.3', '5.5', '3.3', '3.2',\n",
       "       '6.6', '8.3', '6.5', '7.1', '8.1', '5.4', '6.4', '6.7', '6.2',\n",
       "       '7.3', '6.3', '5.7', '6.1', '6.8', '7.5', '7.4', '0', '7.8', '3.1',\n",
       "       '6.9', '7', '7.2', '8', '9.1', '8.6', '8.7', '7.9', '1.2', '7.6'],\n",
       "      dtype=object)"
      ]
     },
     "execution_count": 139,
     "metadata": {},
     "output_type": "execute_result"
    }
   ],
   "source": [
    "df.consumption.str[0].str[0].str.extract(\"(\\d.\\d|\\d)\")[0].unique()"
   ]
  },
  {
   "cell_type": "code",
   "execution_count": 140,
   "metadata": {},
   "outputs": [
    {
     "data": {
      "text/plain": [
       "array(['3.8', '5.6', '4.1', '3.5', '3.7', nan, '4 ', '4.9', '4.2', '4.5',\n",
       "       '4.4', '4.3', '3 ', '3.6', '3.4', '3.9', '5.1', '5.2', '4.6',\n",
       "       '4.8', '5.8', '4.7', '5 ', '43 ', '13.8', '6 ', '5.9', '51 ',\n",
       "       '5.3', '5.5', '10 ', '3.3', '3.2', '6.6', '8.3', '6.5', '7.1',\n",
       "       '8.1', '5.4', '40 ', '38 ', '6.4', '6.7', '6.2', '7.3', '6.3',\n",
       "       '5.7', '6.1', '6.8', '7.5', '7.4', '0 ', '7.8', '3.1', '6.9', '7 ',\n",
       "       '7.2', '8 ', '11 ', '9.1', '8.6', '8.7', '7.9', '55 ', '54 ',\n",
       "       '1.2', '32 ', '33 ', '50 ', '1 ', '46 ', '7.6'], dtype=object)"
      ]
     },
     "execution_count": 140,
     "metadata": {},
     "output_type": "execute_result"
    }
   ],
   "source": [
    "df.consumption.str[0].str[0].str.extract(\"(^\\d+.\\d*)\")[0].unique()"
   ]
  },
  {
   "cell_type": "code",
   "execution_count": 141,
   "metadata": {},
   "outputs": [],
   "source": [
    "df['consumption_comb'] = df.consumption.str[0].str[0].str.extract(\"(\\d.\\d|\\d)\")"
   ]
  },
  {
   "cell_type": "code",
   "execution_count": 142,
   "metadata": {
    "scrolled": true
   },
   "outputs": [
    {
     "data": {
      "text/plain": [
       "NaN    2883\n",
       "3.9     732\n",
       "4       716\n",
       "5.4     663\n",
       "5.1     630\n",
       "4.4     595\n",
       "3.8     585\n",
       "5.6     568\n",
       "4.7     555\n",
       "4.8     523\n",
       "5       520\n",
       "4.5     511\n",
       "5.2     429\n",
       "4.6     420\n",
       "4.2     408\n",
       "5.3     375\n",
       "3.7     369\n",
       "4.9     348\n",
       "5.5     342\n",
       "4.1     341\n",
       "5.9     308\n",
       "3.3     307\n",
       "5.7     302\n",
       "4.3     295\n",
       "3.5     288\n",
       "6       278\n",
       "3.6     194\n",
       "6.2     184\n",
       "5.8     142\n",
       "6.3     141\n",
       "6.1     135\n",
       "6.8     134\n",
       "6.6     119\n",
       "3.4     106\n",
       "3        73\n",
       "6.4      64\n",
       "7.4      62\n",
       "7.1      38\n",
       "1        37\n",
       "6.5      36\n",
       "6.7      33\n",
       "3.2      25\n",
       "6.9      21\n",
       "8.3      20\n",
       "7.6      14\n",
       "7         9\n",
       "3.1       7\n",
       "7.8       6\n",
       "7.2       6\n",
       "8         5\n",
       "8.6       3\n",
       "8.7       3\n",
       "0         2\n",
       "7.9       2\n",
       "8.1       2\n",
       "7.3       2\n",
       "7.5       1\n",
       "9.1       1\n",
       "1.2       1\n",
       "Name: consumption_comb, dtype: int64"
      ]
     },
     "execution_count": 142,
     "metadata": {},
     "output_type": "execute_result"
    }
   ],
   "source": [
    "df.consumption_comb.value_counts(dropna = False)"
   ]
  },
  {
   "cell_type": "code",
   "execution_count": 143,
   "metadata": {},
   "outputs": [
    {
     "ename": "TypeError",
     "evalue": "unhashable type: 'list'",
     "output_type": "error",
     "traceback": [
      "\u001b[1;31m---------------------------------------------------------------------------\u001b[0m",
      "\u001b[1;31mTypeError\u001b[0m                                 Traceback (most recent call last)",
      "\u001b[1;32mpandas\\_libs\\hashtable_class_helper.pxi\u001b[0m in \u001b[0;36mpandas._libs.hashtable.PyObjectHashTable.map_locations\u001b[1;34m()\u001b[0m\n",
      "\u001b[1;31mTypeError\u001b[0m: unhashable type: 'list'"
     ]
    },
    {
     "name": "stderr",
     "output_type": "stream",
     "text": [
      "Exception ignored in: 'pandas._libs.index.IndexEngine._call_map_locations'\n",
      "Traceback (most recent call last):\n",
      "  File \"pandas\\_libs\\hashtable_class_helper.pxi\", line 1709, in pandas._libs.hashtable.PyObjectHashTable.map_locations\n",
      "TypeError: unhashable type: 'list'\n"
     ]
    },
    {
     "data": {
      "text/plain": [
       "NaN                        1906\n",
       "[5 l/100 km (city)]         642\n",
       "[5.8 l/100 km (city)]       597\n",
       "[4.5 l/100 km (city)]       577\n",
       "[]                          516\n",
       "                           ... \n",
       "[10.4 l/100 km (city)]        1\n",
       "[10.5 kg/100 km (city)]       1\n",
       "[6.5 kg/100 km (city)]        1\n",
       "[9 l/100 km (city)]           1\n",
       "[16.1 l/100 km (city)]        1\n",
       "Name: consumption, Length: 130, dtype: int64"
      ]
     },
     "execution_count": 143,
     "metadata": {},
     "output_type": "execute_result"
    }
   ],
   "source": [
    "df.consumption.str[1].value_counts(dropna = False)"
   ]
  },
  {
   "cell_type": "code",
   "execution_count": 144,
   "metadata": {
    "scrolled": true
   },
   "outputs": [
    {
     "data": {
      "text/plain": [
       "NaN    15069\n",
       "5.4      107\n",
       "5.9       61\n",
       "6         53\n",
       "5.6       50\n",
       "4.7       47\n",
       "4.9       45\n",
       "6.1       40\n",
       "6.3       40\n",
       "5.7       40\n",
       "5.5       38\n",
       "6.2       32\n",
       "5         32\n",
       "6.6       29\n",
       "4.4       28\n",
       "5.1       27\n",
       "4.2       27\n",
       "5.2       25\n",
       "4.8       23\n",
       "5.8       22\n",
       "4.5       12\n",
       "4.3       12\n",
       "6.4       11\n",
       "6.7       10\n",
       "6.5        7\n",
       "6.9        6\n",
       "4.6        6\n",
       "5.3        5\n",
       "7.4        4\n",
       "1.6        3\n",
       "6.8        2\n",
       "8.6        1\n",
       "3.9        1\n",
       "4.1        1\n",
       "4          1\n",
       "7          1\n",
       "7.9        1\n",
       "Name: 0, dtype: int64"
      ]
     },
     "execution_count": 144,
     "metadata": {},
     "output_type": "execute_result"
    }
   ],
   "source": [
    "df.consumption.str[1].str.extract(\"(\\d.\\d|\\d)\")[0].value_counts(dropna = False)"
   ]
  },
  {
   "cell_type": "code",
   "execution_count": 145,
   "metadata": {},
   "outputs": [],
   "source": [
    "consumption1 = df.consumption.str[1].str.extract(\"(\\d.\\d|\\d)\")"
   ]
  },
  {
   "cell_type": "code",
   "execution_count": 146,
   "metadata": {
    "scrolled": true
   },
   "outputs": [],
   "source": [
    "df.consumption_comb.fillna(consumption1[0], inplace = True)"
   ]
  },
  {
   "cell_type": "code",
   "execution_count": 147,
   "metadata": {},
   "outputs": [
    {
     "ename": "TypeError",
     "evalue": "unhashable type: 'list'",
     "output_type": "error",
     "traceback": [
      "\u001b[1;31m---------------------------------------------------------------------------\u001b[0m",
      "\u001b[1;31mTypeError\u001b[0m                                 Traceback (most recent call last)",
      "\u001b[1;32mpandas\\_libs\\hashtable_class_helper.pxi\u001b[0m in \u001b[0;36mpandas._libs.hashtable.PyObjectHashTable.map_locations\u001b[1;34m()\u001b[0m\n",
      "\u001b[1;31mTypeError\u001b[0m: unhashable type: 'list'"
     ]
    },
    {
     "name": "stderr",
     "output_type": "stream",
     "text": [
      "Exception ignored in: 'pandas._libs.index.IndexEngine._call_map_locations'\n",
      "Traceback (most recent call last):\n",
      "  File \"pandas\\_libs\\hashtable_class_helper.pxi\", line 1709, in pandas._libs.hashtable.PyObjectHashTable.map_locations\n",
      "TypeError: unhashable type: 'list'\n"
     ]
    },
    {
     "data": {
      "text/plain": [
       "NaN                        1906\n",
       "[5 l/100 km (city)]         642\n",
       "[5.8 l/100 km (city)]       597\n",
       "[4.5 l/100 km (city)]       577\n",
       "[]                          516\n",
       "                           ... \n",
       "[4.4 kg/100 km (city)]        1\n",
       "[10.4 l/100 km (city)]        1\n",
       "[10.5 kg/100 km (city)]       1\n",
       "[9 l/100 km (city)]           1\n",
       "[6.8 kg/100 km (city)]        1\n",
       "Name: consumption, Length: 121, dtype: int64"
      ]
     },
     "execution_count": 147,
     "metadata": {},
     "output_type": "execute_result"
    }
   ],
   "source": [
    "df.consumption.str[-2].value_counts(dropna = False)"
   ]
  },
  {
   "cell_type": "code",
   "execution_count": 148,
   "metadata": {},
   "outputs": [
    {
     "data": {
      "text/plain": [
       "NaN                     2422\n",
       "5 l/100 km (city)        642\n",
       "5.8 l/100 km (city)      597\n",
       "4.5 l/100 km (city)      577\n",
       "4                        532\n",
       "                        ... \n",
       "19.9 l/100 km (city)       1\n",
       "6.5 kg/100 km (city)       1\n",
       "66 l/100 km (city)         1\n",
       "10.4 l/100 km (city)       1\n",
       "9.7 l/100 km (city)        1\n",
       "Name: consumption, Length: 99, dtype: int64"
      ]
     },
     "execution_count": 148,
     "metadata": {},
     "output_type": "execute_result"
    }
   ],
   "source": [
    "df.consumption.str[-2].str[0].value_counts(dropna = False)"
   ]
  },
  {
   "cell_type": "code",
   "execution_count": 149,
   "metadata": {},
   "outputs": [
    {
     "data": {
      "text/plain": [
       "array(['4.3 l/100 km (city)', '7.1 l/100 km (city)',\n",
       "       '4.4 l/100 km (city)', '4.6 l/100 km (city)',\n",
       "       '4.2 l/100 km (city)', nan, '6.2 l/100 km (city)',\n",
       "       '5 l/100 km (city)', '5.5 l/100 km (city)', '5.4 l/100 km (city)',\n",
       "       '3.8 l/100 km (city)', '5.2 l/100 km (city)', '3 l/100 km (city)',\n",
       "       '4 l/100 km (city)', '3.9 l/100 km (city)', '4.1 l/100 km (city)',\n",
       "       '3', '4.7 l/100 km (city)', '6.3 l/100 km (city)',\n",
       "       '6.7 l/100 km (city)', '5.6 l/100 km (city)',\n",
       "       '4.8 l/100 km (city)', '6.6 l/100 km (city)',\n",
       "       '4.5 l/100 km (city)', '5.8 l/100 km (city)', '4',\n",
       "       '7.4 l/100 km (city)', '6.1 l/100 km (city)',\n",
       "       '3.7 l/100 km (city)', '5.1 l/100 km (city)',\n",
       "       '19.9 l/100 km (city)', '6.4 l/100 km (city)',\n",
       "       '8.2 l/100 km (city)', '6 l/100 km (city)', '6.5 l/100 km (city)',\n",
       "       '5.9 l/100 km (city)', '8 l/100 km (city)', '62 l/100 km (city)',\n",
       "       '6.8 l/100 km (city)', '7.5 l/100 km (city)',\n",
       "       '3.5 l/100 km (city)', '5.3 l/100 km (city)',\n",
       "       '3.4 l/100 km (city)', '6.9 l/100 km (city)',\n",
       "       '5.7 l/100 km (city)', '6.5 kg/100 km (city)',\n",
       "       '7.3 l/100 km (city)', '4.3 kg/100 km (city)',\n",
       "       '4.9 l/100 km (city)', '3.6 l/100 km (city)',\n",
       "       '4.5 kg/100 km (city)', '11.3 l/100 km (city)',\n",
       "       '9 l/100 km (city)', '11.2 l/100 km (city)', '\\n',\n",
       "       '6.8 kg/100 km (city)', '45 l/100 km (city)', '43 l/100 km (city)',\n",
       "       '8.3 l/100 km (city)', '10.5 kg/100 km (city)',\n",
       "       '5.8 kg/100 km (city)', '0 l/100 km (city)', '7.2 l/100 km (city)',\n",
       "       '8.5 l/100 km (city)', '7.7 l/100 km (city)',\n",
       "       '9.9 l/100 km (city)', '5', '8.9 l/100 km (city)',\n",
       "       '7.8 l/100 km (city)', '8.4 l/100 km (city)', '7 l/100 km (city)',\n",
       "       '7.9 l/100 km (city)', '8.6 l/100 km (city)',\n",
       "       '8.7 l/100 km (city)', '10.4 l/100 km (city)',\n",
       "       '7.6 l/100 km (city)', '4.4 kg/100 km (city)',\n",
       "       '8.1 l/100 km (city)', '66 l/100 km (city)', '6',\n",
       "       '9.8 l/100 km (city)', '1 l/100 km (city)', '11 l/100 km (city)',\n",
       "       '16.1 l/100 km (city)', '11.5 l/100 km (city)',\n",
       "       '9.5 l/100 km (city)', '9.2 l/100 km (city)',\n",
       "       '9.6 l/100 km (city)', '9.4 l/100 km (city)',\n",
       "       '10.8 l/100 km (city)', '8.8 l/100 km (city)', '7',\n",
       "       '10.2 l/100 km (city)', '10.1 l/100 km (city)',\n",
       "       '3.3 l/100 km (city)', '64 l/100 km (city)', '10 l/100 km (city)',\n",
       "       '9.1 l/100 km (city)', '9.7 l/100 km (city)'], dtype=object)"
      ]
     },
     "execution_count": 149,
     "metadata": {},
     "output_type": "execute_result"
    }
   ],
   "source": [
    "df.consumption.str[-2].str[0].unique()"
   ]
  },
  {
   "cell_type": "code",
   "execution_count": 150,
   "metadata": {
    "scrolled": true
   },
   "outputs": [
    {
     "data": {
      "text/plain": [
       "NaN    2436\n",
       "5       858\n",
       "4       836\n",
       "5.8     600\n",
       "4.5     580\n",
       "       ... \n",
       "8.8       2\n",
       "3.6       2\n",
       "9.5       2\n",
       "9.7       1\n",
       "9         1\n",
       "Name: 0, Length: 70, dtype: int64"
      ]
     },
     "execution_count": 150,
     "metadata": {},
     "output_type": "execute_result"
    }
   ],
   "source": [
    "df.consumption.str[-2].str[0].str.extract(\"(\\d.\\d|\\d)\")[0].value_counts(dropna = False)"
   ]
  },
  {
   "cell_type": "code",
   "execution_count": 151,
   "metadata": {},
   "outputs": [],
   "source": [
    "consumption_city = df.consumption.str[-2].str[0].str.extract(\"(\\d.\\d|\\d)\")"
   ]
  },
  {
   "cell_type": "code",
   "execution_count": 152,
   "metadata": {},
   "outputs": [],
   "source": [
    "consumption_city = pd.to_numeric(consumption_city[0])"
   ]
  },
  {
   "cell_type": "code",
   "execution_count": 153,
   "metadata": {},
   "outputs": [],
   "source": [
    "consumption_country = df.consumption.str[-1].str[0].str.extract(\"(\\d.\\d|\\d)\")"
   ]
  },
  {
   "cell_type": "code",
   "execution_count": 154,
   "metadata": {
    "scrolled": true
   },
   "outputs": [
    {
     "data": {
      "text/plain": [
       "NaN    3212\n",
       "4.2    1101\n",
       "3.7    1059\n",
       "4.4     829\n",
       "4.5     789\n",
       "3.8     775\n",
       "3.9     759\n",
       "4.1     569\n",
       "4.7     562\n",
       "4       560\n",
       "3.5     525\n",
       "4.3     496\n",
       "3.6     486\n",
       "3.1     481\n",
       "3.3     456\n",
       "4.6     446\n",
       "4.9     410\n",
       "3.4     353\n",
       "4.8     289\n",
       "5.3     227\n",
       "5.1     215\n",
       "5.7     191\n",
       "5.4     190\n",
       "3.2     180\n",
       "3       146\n",
       "5.6     131\n",
       "5       106\n",
       "5.2      84\n",
       "6.3      49\n",
       "6        35\n",
       "1        34\n",
       "5.8      30\n",
       "5.5      30\n",
       "7.7      20\n",
       "6.6      19\n",
       "2.9      16\n",
       "6.4      15\n",
       "2.8       9\n",
       "0         9\n",
       "7.3       4\n",
       "6.5       4\n",
       "7.1       3\n",
       "5.9       2\n",
       "6.7       2\n",
       "7.8       2\n",
       "6.9       2\n",
       "7         2\n",
       "8         1\n",
       "8.6       1\n",
       "7.6       1\n",
       "6.1       1\n",
       "2         1\n",
       "Name: 0, dtype: int64"
      ]
     },
     "execution_count": 154,
     "metadata": {},
     "output_type": "execute_result"
    }
   ],
   "source": [
    "consumption_country[0].value_counts(dropna = False)"
   ]
  },
  {
   "cell_type": "code",
   "execution_count": 155,
   "metadata": {},
   "outputs": [],
   "source": [
    "consumption_country = pd.to_numeric(consumption_country[0])"
   ]
  },
  {
   "cell_type": "code",
   "execution_count": 156,
   "metadata": {},
   "outputs": [
    {
     "data": {
      "text/plain": [
       "0        3.5\n",
       "1        4.7\n",
       "2        3.4\n",
       "3        3.5\n",
       "4        3.8\n",
       "        ... \n",
       "15914    4.7\n",
       "15915    NaN\n",
       "15916    4.7\n",
       "15917    4.7\n",
       "15918    5.7\n",
       "Name: 0, Length: 15919, dtype: float64"
      ]
     },
     "execution_count": 156,
     "metadata": {},
     "output_type": "execute_result"
    }
   ],
   "source": [
    "consumption_country"
   ]
  },
  {
   "cell_type": "code",
   "execution_count": 157,
   "metadata": {},
   "outputs": [
    {
     "data": {
      "text/plain": [
       "0        4.3\n",
       "1        7.1\n",
       "2        4.4\n",
       "3        4.3\n",
       "4        4.6\n",
       "        ... \n",
       "15914    6.2\n",
       "15915    6.0\n",
       "15916    6.2\n",
       "15917    6.2\n",
       "15918    8.7\n",
       "Name: 0, Length: 15919, dtype: float64"
      ]
     },
     "execution_count": 157,
     "metadata": {},
     "output_type": "execute_result"
    }
   ],
   "source": [
    "consumption_city"
   ]
  },
  {
   "cell_type": "code",
   "execution_count": 158,
   "metadata": {},
   "outputs": [],
   "source": [
    "consumption2 = (consumption_country + consumption_city)/2"
   ]
  },
  {
   "cell_type": "code",
   "execution_count": 159,
   "metadata": {},
   "outputs": [
    {
     "data": {
      "text/plain": [
       "NaN     3283\n",
       "3.90     610\n",
       "5.65     498\n",
       "4.75     497\n",
       "4.10     439\n",
       "        ... \n",
       "7.70       1\n",
       "7.25       1\n",
       "7.45       1\n",
       "7.20       1\n",
       "7.35       1\n",
       "Name: 0, Length: 139, dtype: int64"
      ]
     },
     "execution_count": 159,
     "metadata": {},
     "output_type": "execute_result"
    }
   ],
   "source": [
    "consumption2.value_counts(dropna = False)"
   ]
  },
  {
   "cell_type": "code",
   "execution_count": 160,
   "metadata": {},
   "outputs": [
    {
     "data": {
      "text/plain": [
       "NaN     1925\n",
       "5.4      770\n",
       "3.9      733\n",
       "4        717\n",
       "5.1      657\n",
       "        ... \n",
       "9.1        1\n",
       "5.8        1\n",
       "4.5        1\n",
       "4.55       1\n",
       "1.2        1\n",
       "Name: consumption_comb, Length: 70, dtype: int64"
      ]
     },
     "execution_count": 160,
     "metadata": {},
     "output_type": "execute_result"
    }
   ],
   "source": [
    "df.consumption_comb.fillna(consumption2).value_counts(dropna = False)"
   ]
  },
  {
   "cell_type": "code",
   "execution_count": 161,
   "metadata": {},
   "outputs": [],
   "source": [
    "df.consumption_comb.fillna(consumption2, inplace = True)"
   ]
  },
  {
   "cell_type": "code",
   "execution_count": 162,
   "metadata": {},
   "outputs": [
    {
     "data": {
      "text/plain": [
       "NaN     1925\n",
       "5.4      770\n",
       "3.9      733\n",
       "4        717\n",
       "5.1      657\n",
       "        ... \n",
       "9.1        1\n",
       "5.8        1\n",
       "4.5        1\n",
       "4.55       1\n",
       "1.2        1\n",
       "Name: consumption_comb, Length: 70, dtype: int64"
      ]
     },
     "execution_count": 162,
     "metadata": {},
     "output_type": "execute_result"
    }
   ],
   "source": [
    "df.consumption_comb.value_counts(dropna = False)"
   ]
  },
  {
   "cell_type": "code",
   "execution_count": 163,
   "metadata": {},
   "outputs": [
    {
     "ename": "TypeError",
     "evalue": "unhashable type: 'list'",
     "output_type": "error",
     "traceback": [
      "\u001b[1;31m---------------------------------------------------------------------------\u001b[0m",
      "\u001b[1;31mTypeError\u001b[0m                                 Traceback (most recent call last)",
      "\u001b[1;32mpandas\\_libs\\hashtable_class_helper.pxi\u001b[0m in \u001b[0;36mpandas._libs.hashtable.PyObjectHashTable.map_locations\u001b[1;34m()\u001b[0m\n",
      "\u001b[1;31mTypeError\u001b[0m: unhashable type: 'list'"
     ]
    },
    {
     "name": "stderr",
     "output_type": "stream",
     "text": [
      "Exception ignored in: 'pandas._libs.index.IndexEngine._call_map_locations'\n",
      "Traceback (most recent call last):\n",
      "  File \"pandas\\_libs\\hashtable_class_helper.pxi\", line 1709, in pandas._libs.hashtable.PyObjectHashTable.map_locations\n",
      "TypeError: unhashable type: 'list'\n"
     ]
    },
    {
     "data": {
      "text/plain": [
       "[\\n, Manual, \\n]            8153\n",
       "[\\n, Automatic, \\n]         7297\n",
       "[\\n, Semi-automatic, \\n]     469\n",
       "Name: gearing_type, dtype: int64"
      ]
     },
     "execution_count": 163,
     "metadata": {},
     "output_type": "execute_result"
    }
   ],
   "source": [
    "df.gearing_type.value_counts(dropna = False)"
   ]
  },
  {
   "cell_type": "code",
   "execution_count": 164,
   "metadata": {},
   "outputs": [
    {
     "data": {
      "text/plain": [
       "Manual            8153\n",
       "Automatic         7297\n",
       "Semi-automatic     469\n",
       "Name: gearing_type, dtype: int64"
      ]
     },
     "execution_count": 164,
     "metadata": {},
     "output_type": "execute_result"
    }
   ],
   "source": [
    "df.gearing_type.str[1].value_counts(dropna = False)"
   ]
  },
  {
   "cell_type": "code",
   "execution_count": 165,
   "metadata": {},
   "outputs": [],
   "source": [
    "df.gearing_type = df.gearing_type.str[1]"
   ]
  },
  {
   "cell_type": "code",
   "execution_count": 166,
   "metadata": {},
   "outputs": [
    {
     "data": {
      "text/plain": [
       "Manual            8153\n",
       "Automatic         7297\n",
       "Semi-automatic     469\n",
       "Name: gearing_type, dtype: int64"
      ]
     },
     "execution_count": 166,
     "metadata": {},
     "output_type": "execute_result"
    }
   ],
   "source": [
    "df.gearing_type.value_counts(dropna = False)"
   ]
  },
  {
   "cell_type": "code",
   "execution_count": 167,
   "metadata": {},
   "outputs": [
    {
     "ename": "TypeError",
     "evalue": "unhashable type: 'list'",
     "output_type": "error",
     "traceback": [
      "\u001b[1;31m---------------------------------------------------------------------------\u001b[0m",
      "\u001b[1;31mTypeError\u001b[0m                                 Traceback (most recent call last)",
      "\u001b[1;32mpandas\\_libs\\hashtable_class_helper.pxi\u001b[0m in \u001b[0;36mpandas._libs.hashtable.PyObjectHashTable.map_locations\u001b[1;34m()\u001b[0m\n",
      "\u001b[1;31mTypeError\u001b[0m: unhashable type: 'list'"
     ]
    },
    {
     "name": "stderr",
     "output_type": "stream",
     "text": [
      "Exception ignored in: 'pandas._libs.index.IndexEngine._call_map_locations'\n",
      "Traceback (most recent call last):\n",
      "  File \"pandas\\_libs\\hashtable_class_helper.pxi\", line 1709, in pandas._libs.hashtable.PyObjectHashTable.map_locations\n",
      "TypeError: unhashable type: 'list'\n"
     ]
    },
    {
     "data": {
      "text/plain": [
       "[\\nfront\\n]    8886\n",
       "NaN            6858\n",
       "[\\n4WD\\n]       171\n",
       "[\\nrear\\n]        4\n",
       "Name: drive_chain, dtype: int64"
      ]
     },
     "execution_count": 167,
     "metadata": {},
     "output_type": "execute_result"
    }
   ],
   "source": [
    "df.drive_chain.value_counts(dropna = False)"
   ]
  },
  {
   "cell_type": "code",
   "execution_count": 168,
   "metadata": {},
   "outputs": [
    {
     "data": {
      "text/plain": [
       "front    8886\n",
       "NaN      6858\n",
       "4WD       171\n",
       "rear        4\n",
       "Name: drive_chain, dtype: int64"
      ]
     },
     "execution_count": 168,
     "metadata": {},
     "output_type": "execute_result"
    }
   ],
   "source": [
    "df.drive_chain.str[0].str.strip().str.strip('\\n').value_counts(dropna = False)"
   ]
  },
  {
   "cell_type": "code",
   "execution_count": 169,
   "metadata": {},
   "outputs": [],
   "source": [
    "df.drive_chain = df.drive_chain.str[0].str.strip().str.strip('\\n')"
   ]
  },
  {
   "cell_type": "code",
   "execution_count": 170,
   "metadata": {},
   "outputs": [
    {
     "data": {
      "text/plain": [
       "front    8886\n",
       "NaN      6858\n",
       "4WD       171\n",
       "rear        4\n",
       "Name: drive_chain, dtype: int64"
      ]
     },
     "execution_count": 170,
     "metadata": {},
     "output_type": "execute_result"
    }
   ],
   "source": [
    "df.drive_chain.value_counts(dropna = False)"
   ]
  },
  {
   "cell_type": "code",
   "execution_count": 171,
   "metadata": {},
   "outputs": [
    {
     "ename": "TypeError",
     "evalue": "unhashable type: 'list'",
     "output_type": "error",
     "traceback": [
      "\u001b[1;31m---------------------------------------------------------------------------\u001b[0m",
      "\u001b[1;31mTypeError\u001b[0m                                 Traceback (most recent call last)",
      "\u001b[1;32mpandas\\_libs\\hashtable_class_helper.pxi\u001b[0m in \u001b[0;36mpandas._libs.hashtable.PyObjectHashTable.map_locations\u001b[1;34m()\u001b[0m\n",
      "\u001b[1;31mTypeError\u001b[0m: unhashable type: 'list'"
     ]
    },
    {
     "name": "stderr",
     "output_type": "stream",
     "text": [
      "Exception ignored in: 'pandas._libs.index.IndexEngine._call_map_locations'\n",
      "Traceback (most recent call last):\n",
      "  File \"pandas\\_libs\\hashtable_class_helper.pxi\", line 1709, in pandas._libs.hashtable.PyObjectHashTable.map_locations\n",
      "TypeError: unhashable type: 'list'\n"
     ]
    },
    {
     "data": {
      "text/plain": [
       "NaN               10941\n",
       "[\\n0035/BCB\\n]      268\n",
       "[\\n0588/BNO\\n]      245\n",
       "[\\n0588/BDB\\n]      206\n",
       "[\\n0588/BHX\\n]      188\n",
       "                  ...  \n",
       "[\\n1844/AEN\\n]        1\n",
       "[\\n0588/AVR\\n]        1\n",
       "[\\n0035/AFF\\n]        1\n",
       "[\\n1844/AFM\\n]        1\n",
       "[\\n0035/AVN\\n]        1\n",
       "Name: model_code, Length: 233, dtype: int64"
      ]
     },
     "execution_count": 171,
     "metadata": {},
     "output_type": "execute_result"
    }
   ],
   "source": [
    "df.model_code.value_counts(dropna = False)"
   ]
  },
  {
   "cell_type": "code",
   "execution_count": 172,
   "metadata": {},
   "outputs": [
    {
     "data": {
      "text/plain": [
       "0.6872919153213142"
      ]
     },
     "execution_count": 172,
     "metadata": {},
     "output_type": "execute_result"
    }
   ],
   "source": [
    "df.model_code.isnull().sum()/df.shape[0]"
   ]
  },
  {
   "cell_type": "code",
   "execution_count": 173,
   "metadata": {},
   "outputs": [],
   "source": [
    "df.drop(columns='model_code', inplace = True)"
   ]
  },
  {
   "cell_type": "code",
   "execution_count": 174,
   "metadata": {},
   "outputs": [
    {
     "data": {
      "text/plain": [
       "0"
      ]
     },
     "execution_count": 174,
     "metadata": {},
     "output_type": "execute_result"
    }
   ],
   "source": [
    "df.body_color.str.contains(' ').sum()"
   ]
  },
  {
   "cell_type": "code",
   "execution_count": 175,
   "metadata": {},
   "outputs": [
    {
     "data": {
      "text/plain": [
       "0.037502355675607765"
      ]
     },
     "execution_count": 175,
     "metadata": {},
     "output_type": "execute_result"
    }
   ],
   "source": [
    "df.body_color.isnull().sum()/df.shape[0]"
   ]
  },
  {
   "cell_type": "code",
   "execution_count": 176,
   "metadata": {},
   "outputs": [
    {
     "data": {
      "text/plain": [
       "Black     3888\n",
       "Grey      3638\n",
       "White     3540\n",
       "Silver    1687\n",
       "Blue      1524\n",
       "Red        989\n",
       "Brown      299\n",
       "Green      163\n",
       "Beige      108\n",
       "Yellow      53\n",
       "Violet      18\n",
       "Bronze       7\n",
       "Orange       3\n",
       "Gold         2\n",
       "Name: body_color, dtype: int64"
      ]
     },
     "execution_count": 176,
     "metadata": {},
     "output_type": "execute_result"
    }
   ],
   "source": [
    "df.body_color.fillna(method='bfill').value_counts(dropna = False)"
   ]
  },
  {
   "cell_type": "code",
   "execution_count": 177,
   "metadata": {},
   "outputs": [],
   "source": [
    "df.body_color.fillna(method='bfill', inplace = True)"
   ]
  },
  {
   "cell_type": "code",
   "execution_count": 178,
   "metadata": {},
   "outputs": [
    {
     "ename": "TypeError",
     "evalue": "unhashable type: 'list'",
     "output_type": "error",
     "traceback": [
      "\u001b[1;31m---------------------------------------------------------------------------\u001b[0m",
      "\u001b[1;31mTypeError\u001b[0m                                 Traceback (most recent call last)",
      "\u001b[1;32mpandas\\_libs\\hashtable_class_helper.pxi\u001b[0m in \u001b[0;36mpandas._libs.hashtable.PyObjectHashTable.map_locations\u001b[1;34m()\u001b[0m\n",
      "\u001b[1;31mTypeError\u001b[0m: unhashable type: 'list'"
     ]
    },
    {
     "name": "stderr",
     "output_type": "stream",
     "text": [
      "Exception ignored in: 'pandas._libs.index.IndexEngine._call_map_locations'\n",
      "Traceback (most recent call last):\n",
      "  File \"pandas\\_libs\\hashtable_class_helper.pxi\", line 1709, in pandas._libs.hashtable.PyObjectHashTable.map_locations\n",
      "TypeError: unhashable type: 'list'\n"
     ]
    },
    {
     "data": {
      "text/plain": [
       "NaN                             3759\n",
       "[\\nOnyx Schwarz\\n]               338\n",
       "[\\nBianco\\n]                     282\n",
       "[\\nMythosschwarz Metallic\\n]     238\n",
       "[\\nBrillantschwarz\\n]            216\n",
       "                                ... \n",
       "[\\nBianca - Tetto Nero\\n]          1\n",
       "[\\ndezir rot\\n]                    1\n",
       "[\\nnero/tetto argento met\\n]       1\n",
       "[\\nPython Yellow Metallic\\n]       1\n",
       "[\\nkarbongrau\\n]                   1\n",
       "Name: body_color_original, Length: 1928, dtype: int64"
      ]
     },
     "execution_count": 178,
     "metadata": {},
     "output_type": "execute_result"
    }
   ],
   "source": [
    "df.body_color_original.value_counts(dropna = False)"
   ]
  },
  {
   "cell_type": "code",
   "execution_count": 179,
   "metadata": {},
   "outputs": [
    {
     "data": {
      "text/plain": [
       "0.23613292292229413"
      ]
     },
     "execution_count": 179,
     "metadata": {},
     "output_type": "execute_result"
    }
   ],
   "source": [
    "df.body_color_original.isnull().sum()/df.shape[0]"
   ]
  },
  {
   "cell_type": "code",
   "execution_count": 180,
   "metadata": {},
   "outputs": [],
   "source": [
    "df.drop(columns='body_color_original', inplace = True)"
   ]
  },
  {
   "cell_type": "code",
   "execution_count": 181,
   "metadata": {},
   "outputs": [
    {
     "ename": "TypeError",
     "evalue": "unhashable type: 'list'",
     "output_type": "error",
     "traceback": [
      "\u001b[1;31m---------------------------------------------------------------------------\u001b[0m",
      "\u001b[1;31mTypeError\u001b[0m                                 Traceback (most recent call last)",
      "\u001b[1;32mpandas\\_libs\\hashtable_class_helper.pxi\u001b[0m in \u001b[0;36mpandas._libs.hashtable.PyObjectHashTable.map_locations\u001b[1;34m()\u001b[0m\n",
      "\u001b[1;31mTypeError\u001b[0m: unhashable type: 'list'"
     ]
    },
    {
     "name": "stderr",
     "output_type": "stream",
     "text": [
      "Exception ignored in: 'pandas._libs.index.IndexEngine._call_map_locations'\n",
      "Traceback (most recent call last):\n",
      "  File \"pandas\\_libs\\hashtable_class_helper.pxi\", line 1709, in pandas._libs.hashtable.PyObjectHashTable.map_locations\n",
      "TypeError: unhashable type: 'list'\n"
     ]
    },
    {
     "data": {
      "text/plain": [
       "NaN                            1808\n",
       "[\\n120 g CO2/km (comb)\\n]       740\n",
       "[[], [], []]                    628\n",
       "[\\n99 g CO2/km (comb)\\n]        545\n",
       "[\\n97 g CO2/km (comb)\\n]        537\n",
       "                               ... \n",
       "[\\n193 g CO2/km (comb)\\n]         1\n",
       "[\\n171 g CO2/km (comb)\\n]         1\n",
       "[\\n990 g CO2/km (comb)\\n]         1\n",
       "[\\n1,060 g CO2/km (comb)\\n]       1\n",
       "[\\n183 g CO2/km (comb)\\n]         1\n",
       "Name: co2_emission, Length: 124, dtype: int64"
      ]
     },
     "execution_count": 181,
     "metadata": {},
     "output_type": "execute_result"
    }
   ],
   "source": [
    "df.co2_emission.value_counts(dropna = False)"
   ]
  },
  {
   "cell_type": "code",
   "execution_count": 182,
   "metadata": {},
   "outputs": [
    {
     "data": {
      "text/plain": [
       "0.11357497330234312"
      ]
     },
     "execution_count": 182,
     "metadata": {},
     "output_type": "execute_result"
    }
   ],
   "source": [
    "df.co2_emission.isnull().sum()/df.shape[0]"
   ]
  },
  {
   "cell_type": "code",
   "execution_count": 183,
   "metadata": {},
   "outputs": [],
   "source": [
    "pattern = '(\\d\\d\\d\\d\\d|\\d\\d\\d\\d|\\d\\d\\d|\\d\\d|\\d)'"
   ]
  },
  {
   "cell_type": "code",
   "execution_count": 184,
   "metadata": {},
   "outputs": [],
   "source": [
    "df['co2_emission_new'] = df.co2_emission.str[0].str.strip('\\n').str.replace(',','').str.extract(pattern)"
   ]
  },
  {
   "cell_type": "code",
   "execution_count": 185,
   "metadata": {},
   "outputs": [
    {
     "data": {
      "text/plain": [
       "NaN      2436\n",
       "120       740\n",
       "99        545\n",
       "97        537\n",
       "104       501\n",
       "         ... \n",
       "165         1\n",
       "12324       1\n",
       "51          1\n",
       "14457       1\n",
       "45          1\n",
       "Name: co2_emission_new, Length: 123, dtype: int64"
      ]
     },
     "execution_count": 185,
     "metadata": {},
     "output_type": "execute_result"
    }
   ],
   "source": [
    "df.co2_emission_new.value_counts(dropna = False)"
   ]
  },
  {
   "cell_type": "code",
   "execution_count": 186,
   "metadata": {},
   "outputs": [
    {
     "data": {
      "text/plain": [
       "array(['99', '129', '109', '92', '98', '97', nan, '105', '112', '103',\n",
       "       '102', '95', '104', '91', '94', '117', '123', '106', '108', '121',\n",
       "       '107', '101', '113', '137', '100', '116', '114', '118', '331',\n",
       "       '115', '119', '90', '136', '134', '110', '111', '120', '89', '142',\n",
       "       '126', '122', '128', '127', '138', '130', '125', '85', '124',\n",
       "       '152', '88', '189', '194', '149', '153', '188', '36', '1060', '96',\n",
       "       '990', '146', '135', '158', '12087', '141', '172', '154', '150',\n",
       "       '167', '174', '93', '133', '131', '145', '147', '156', '87', '5',\n",
       "       '148', '139', '151', '144', '168', '160', '170', '80', '132',\n",
       "       '155', '14', '159', '0', '143', '140', '82', '12324', '84', '165',\n",
       "       '51', '157', '169', '166', '253', '164', '175', '190', '161',\n",
       "       '239', '197', '184', '14457', '199', '13983', '187', '181', '186',\n",
       "       '177', '180', '162', '45', '171', '183', '1', '191', '193'],\n",
       "      dtype=object)"
      ]
     },
     "execution_count": 186,
     "metadata": {},
     "output_type": "execute_result"
    }
   ],
   "source": [
    "df.co2_emission_new.unique()"
   ]
  },
  {
   "cell_type": "code",
   "execution_count": 187,
   "metadata": {},
   "outputs": [
    {
     "data": {
      "text/plain": [
       "116.0"
      ]
     },
     "execution_count": 187,
     "metadata": {},
     "output_type": "execute_result"
    }
   ],
   "source": [
    "df.co2_emission_new.median()"
   ]
  },
  {
   "cell_type": "code",
   "execution_count": 188,
   "metadata": {},
   "outputs": [],
   "source": [
    "df.co2_emission_new.fillna(df.co2_emission_new.median(), inplace = True)"
   ]
  },
  {
   "cell_type": "code",
   "execution_count": 189,
   "metadata": {},
   "outputs": [
    {
     "data": {
      "text/plain": [
       "116.0    2436\n",
       "120       740\n",
       "99        545\n",
       "97        537\n",
       "104       501\n",
       "         ... \n",
       "181         1\n",
       "14          1\n",
       "331         1\n",
       "45          1\n",
       "171         1\n",
       "Name: co2_emission_new, Length: 123, dtype: int64"
      ]
     },
     "execution_count": 189,
     "metadata": {},
     "output_type": "execute_result"
    }
   ],
   "source": [
    "df.co2_emission_new.value_counts(dropna = False)"
   ]
  },
  {
   "cell_type": "code",
   "execution_count": 190,
   "metadata": {},
   "outputs": [
    {
     "data": {
      "text/plain": [
       "0.0311577360386959"
      ]
     },
     "execution_count": 190,
     "metadata": {},
     "output_type": "execute_result"
    }
   ],
   "source": [
    "df.displacement.isnull().sum()/df.shape[0]"
   ]
  },
  {
   "cell_type": "code",
   "execution_count": 191,
   "metadata": {},
   "outputs": [
    {
     "ename": "TypeError",
     "evalue": "unhashable type: 'list'",
     "output_type": "error",
     "traceback": [
      "\u001b[1;31m---------------------------------------------------------------------------\u001b[0m",
      "\u001b[1;31mTypeError\u001b[0m                                 Traceback (most recent call last)",
      "\u001b[1;32mpandas\\_libs\\hashtable_class_helper.pxi\u001b[0m in \u001b[0;36mpandas._libs.hashtable.PyObjectHashTable.map_locations\u001b[1;34m()\u001b[0m\n",
      "\u001b[1;31mTypeError\u001b[0m: unhashable type: 'list'"
     ]
    },
    {
     "name": "stderr",
     "output_type": "stream",
     "text": [
      "Exception ignored in: 'pandas._libs.index.IndexEngine._call_map_locations'\n",
      "Traceback (most recent call last):\n",
      "  File \"pandas\\_libs\\hashtable_class_helper.pxi\", line 1709, in pandas._libs.hashtable.PyObjectHashTable.map_locations\n",
      "TypeError: unhashable type: 'list'\n"
     ]
    },
    {
     "data": {
      "text/plain": [
       "[\\n1,598 cc\\n]     4761\n",
       "[\\n999 cc\\n]       2438\n",
       "[\\n1,398 cc\\n]     1314\n",
       "[\\n1,399 cc\\n]      749\n",
       "[\\n1,229 cc\\n]      677\n",
       "                   ... \n",
       "[\\n1,800 cc\\n]        1\n",
       "[\\n140 cc\\n]          1\n",
       "[\\n15,898 cc\\n]       1\n",
       "[\\n1,686 cc\\n]        1\n",
       "[\\n1,368 cc\\n]        1\n",
       "Name: displacement, Length: 78, dtype: int64"
      ]
     },
     "execution_count": 191,
     "metadata": {},
     "output_type": "execute_result"
    }
   ],
   "source": [
    "df.displacement.value_counts(dropna = False)"
   ]
  },
  {
   "cell_type": "code",
   "execution_count": 192,
   "metadata": {},
   "outputs": [],
   "source": [
    "df['displacement_cc'] = df.displacement.str[0].str.strip('\\n').str.replace('cc', '').str.replace(',','').str.strip()"
   ]
  },
  {
   "cell_type": "code",
   "execution_count": 193,
   "metadata": {},
   "outputs": [],
   "source": [
    "df.displacement_cc = pd.to_numeric(df.displacement_cc)"
   ]
  },
  {
   "cell_type": "code",
   "execution_count": 194,
   "metadata": {},
   "outputs": [
    {
     "data": {
      "text/plain": [
       "0        1422.0\n",
       "1        1798.0\n",
       "2        1598.0\n",
       "3        1422.0\n",
       "4        1422.0\n",
       "          ...  \n",
       "15914    1997.0\n",
       "15915    1798.0\n",
       "15916    1997.0\n",
       "15917    1997.0\n",
       "15918    1798.0\n",
       "Name: displacement_cc, Length: 15919, dtype: float64"
      ]
     },
     "execution_count": 194,
     "metadata": {},
     "output_type": "execute_result"
    }
   ],
   "source": [
    "df.displacement_cc"
   ]
  },
  {
   "cell_type": "code",
   "execution_count": 195,
   "metadata": {},
   "outputs": [
    {
     "ename": "TypeError",
     "evalue": "unhashable type: 'list'",
     "output_type": "error",
     "traceback": [
      "\u001b[1;31m---------------------------------------------------------------------------\u001b[0m",
      "\u001b[1;31mTypeError\u001b[0m                                 Traceback (most recent call last)",
      "\u001b[1;32mpandas\\_libs\\hashtable_class_helper.pxi\u001b[0m in \u001b[0;36mpandas._libs.hashtable.PyObjectHashTable.map_locations\u001b[1;34m()\u001b[0m\n",
      "\u001b[1;31mTypeError\u001b[0m: unhashable type: 'list'"
     ]
    },
    {
     "name": "stderr",
     "output_type": "stream",
     "text": [
      "Exception ignored in: 'pandas._libs.index.IndexEngine._call_map_locations'\n",
      "Traceback (most recent call last):\n",
      "  File \"pandas\\_libs\\hashtable_class_helper.pxi\", line 1709, in pandas._libs.hashtable.PyObjectHashTable.map_locations\n",
      "TypeError: unhashable type: 'list'\n"
     ]
    },
    {
     "data": {
      "text/plain": [
       "[\\nEuro 6\\n]          10139\n",
       "NaN                    3021\n",
       "[\\nEuro 6d-TEMP\\n]     1845\n",
       "[[], [], []]            607\n",
       "[\\nEuro 6c\\n]           127\n",
       "[\\nEuro 5\\n]             78\n",
       "[\\nEuro 6d\\n]            62\n",
       "[\\nEuro 4\\n]             40\n",
       "Name: emission_class, dtype: int64"
      ]
     },
     "execution_count": 195,
     "metadata": {},
     "output_type": "execute_result"
    }
   ],
   "source": [
    "df.emission_class.value_counts(dropna = False)"
   ]
  },
  {
   "cell_type": "code",
   "execution_count": 196,
   "metadata": {},
   "outputs": [
    {
     "data": {
      "text/plain": [
       "Euro 6          10139\n",
       "NaN              3628\n",
       "Euro 6d-TEMP     1845\n",
       "Euro 6c           127\n",
       "Euro 5             78\n",
       "Euro 6d            62\n",
       "Euro 4             40\n",
       "Name: emission_class, dtype: int64"
      ]
     },
     "execution_count": 196,
     "metadata": {},
     "output_type": "execute_result"
    }
   ],
   "source": [
    "df.emission_class.str[0].str.strip('\\n').value_counts(dropna = False)"
   ]
  },
  {
   "cell_type": "code",
   "execution_count": 197,
   "metadata": {},
   "outputs": [],
   "source": [
    "df['emission_class_new'] = df.emission_class.str[0].str.strip('\\n')"
   ]
  },
  {
   "cell_type": "code",
   "execution_count": 198,
   "metadata": {},
   "outputs": [],
   "source": [
    "df.replace({'emission_class_new': {'Euro 6d-TEMP': 'Euro 6', 'Euro 6c': 'Euro 6', 'Euro 6d': 'Euro 6'}}, regex = True, inplace = True)"
   ]
  },
  {
   "cell_type": "code",
   "execution_count": 199,
   "metadata": {},
   "outputs": [
    {
     "data": {
      "text/plain": [
       "Euro 6    12173\n",
       "NaN        3628\n",
       "Euro 5       78\n",
       "Euro 4       40\n",
       "Name: emission_class_new, dtype: int64"
      ]
     },
     "execution_count": 199,
     "metadata": {},
     "output_type": "execute_result"
    }
   ],
   "source": [
    "df.emission_class_new.value_counts(dropna = False)"
   ]
  },
  {
   "cell_type": "code",
   "execution_count": 200,
   "metadata": {},
   "outputs": [],
   "source": [
    "df[\"first_registration\"] = df[\"first_registration\"].apply(model_extractor)"
   ]
  },
  {
   "cell_type": "code",
   "execution_count": 201,
   "metadata": {},
   "outputs": [
    {
     "data": {
      "text/plain": [
       "0.10032037188265594"
      ]
     },
     "execution_count": 201,
     "metadata": {},
     "output_type": "execute_result"
    }
   ],
   "source": [
    "df.first_registration.isnull().sum()/df.shape[0]"
   ]
  },
  {
   "cell_type": "code",
   "execution_count": 202,
   "metadata": {},
   "outputs": [],
   "source": [
    "df.first_registration = pd.to_numeric(df.first_registration)"
   ]
  },
  {
   "cell_type": "code",
   "execution_count": 203,
   "metadata": {},
   "outputs": [
    {
     "data": {
      "text/plain": [
       "0        2016.0\n",
       "1        2017.0\n",
       "2        2016.0\n",
       "3        2016.0\n",
       "4        2016.0\n",
       "          ...  \n",
       "15914       NaN\n",
       "15915    2019.0\n",
       "15916    2019.0\n",
       "15917    2019.0\n",
       "15918    2019.0\n",
       "Name: first_registration, Length: 15919, dtype: float64"
      ]
     },
     "execution_count": 203,
     "metadata": {},
     "output_type": "execute_result"
    }
   ],
   "source": [
    "df.first_registration"
   ]
  },
  {
   "cell_type": "code",
   "execution_count": 204,
   "metadata": {},
   "outputs": [],
   "source": [
    "df['register_age'] = 2020 - df.first_registration"
   ]
  },
  {
   "cell_type": "code",
   "execution_count": 205,
   "metadata": {},
   "outputs": [
    {
     "data": {
      "text/plain": [
       "2.0    4522\n",
       "4.0    3674\n",
       "3.0    3273\n",
       "1.0    2853\n",
       "NaN    1597\n",
       "Name: register_age, dtype: int64"
      ]
     },
     "execution_count": 205,
     "metadata": {},
     "output_type": "execute_result"
    }
   ],
   "source": [
    "df.register_age.value_counts(dropna = False)"
   ]
  },
  {
   "cell_type": "code",
   "execution_count": 206,
   "metadata": {},
   "outputs": [
    {
     "data": {
      "text/plain": [
       "0.0"
      ]
     },
     "execution_count": 206,
     "metadata": {},
     "output_type": "execute_result"
    }
   ],
   "source": [
    "df.fuel.isnull().sum()/df.shape[0]"
   ]
  },
  {
   "cell_type": "code",
   "execution_count": 207,
   "metadata": {},
   "outputs": [
    {
     "ename": "TypeError",
     "evalue": "unhashable type: 'list'",
     "output_type": "error",
     "traceback": [
      "\u001b[1;31m---------------------------------------------------------------------------\u001b[0m",
      "\u001b[1;31mTypeError\u001b[0m                                 Traceback (most recent call last)",
      "\u001b[1;32mpandas\\_libs\\hashtable_class_helper.pxi\u001b[0m in \u001b[0;36mpandas._libs.hashtable.PyObjectHashTable.map_locations\u001b[1;34m()\u001b[0m\n",
      "\u001b[1;31mTypeError\u001b[0m: unhashable type: 'list'"
     ]
    },
    {
     "name": "stderr",
     "output_type": "stream",
     "text": [
      "Exception ignored in: 'pandas._libs.index.IndexEngine._call_map_locations'\n",
      "Traceback (most recent call last):\n",
      "  File \"pandas\\_libs\\hashtable_class_helper.pxi\", line 1709, in pandas._libs.hashtable.PyObjectHashTable.map_locations\n",
      "TypeError: unhashable type: 'list'\n"
     ]
    },
    {
     "data": {
      "text/plain": [
       "[\\n, Diesel (Particulate Filter), \\n]                                                                                  4315\n",
       "[\\n, Super 95, \\n]                                                                                                     3338\n",
       "[\\n, Gasoline, \\n]                                                                                                     3175\n",
       "[\\n, Diesel, \\n]                                                                                                       2984\n",
       "[\\n, Super 95 / Regular/Benzine 91, \\n]                                                                                 424\n",
       "                                                                                                                       ... \n",
       "[\\n, Super Plus 98 / Super E10 95, \\n]                                                                                    1\n",
       "[\\n, Regular/Benzine 91 / Super 95 / Regular/Benzine E10 91 / Super E10 95 / Super Plus 98 / Super Plus E10 98, \\n]       1\n",
       "[\\n, Super 95 / Regular/Benzine 91 / Super Plus 98 / Regular/Benzine E10 91 / Super Plus E10 98 / Super E10 95, \\n]       1\n",
       "[\\n, Super 95 / Regular/Benzine 91 / Super E10 95 / Super Plus E10 98 / Super Plus 98, \\n]                                1\n",
       "[\\n, Domestic gas H, \\n]                                                                                                  1\n",
       "Name: fuel, Length: 77, dtype: int64"
      ]
     },
     "execution_count": 207,
     "metadata": {},
     "output_type": "execute_result"
    }
   ],
   "source": [
    "df.fuel.value_counts(dropna = False)"
   ]
  },
  {
   "cell_type": "code",
   "execution_count": 208,
   "metadata": {},
   "outputs": [
    {
     "data": {
      "text/plain": [
       "Diesel (Particulate Filter)                                                                                  4315\n",
       "Super 95                                                                                                     3338\n",
       "Gasoline                                                                                                     3175\n",
       "Diesel                                                                                                       2984\n",
       "Super 95 / Regular/Benzine 91                                                                                 424\n",
       "                                                                                                             ... \n",
       "Regular/Benzine 91 / Super 95 / Regular/Benzine E10 91                                                          1\n",
       "Regular/Benzine 91 / Super 95 / Super E10 95 / Regular/Benzine E10 91                                           1\n",
       "Regular/Benzine 91 / Super 95 / Super Plus E10 98 / Super E10 95 / Regular/Benzine E10 91 / Super Plus 98       1\n",
       "Regular/Benzine E10 91 / Regular/Benzine 91 / Super 95 / Super Plus 98 / Super E10 95 / Super Plus E10 98       1\n",
       "Regular/Benzine E10 91 / Super E10 95 / Super Plus E10 98 / Super Plus 98 / Super 95 / Regular/Benzine 91       1\n",
       "Name: fuel, Length: 77, dtype: int64"
      ]
     },
     "execution_count": 208,
     "metadata": {},
     "output_type": "execute_result"
    }
   ],
   "source": [
    "df.fuel.str[1].value_counts(dropna = False)"
   ]
  },
  {
   "cell_type": "code",
   "execution_count": 209,
   "metadata": {},
   "outputs": [],
   "source": [
    "df['fuel_new'] = df.fuel.str[1]"
   ]
  },
  {
   "cell_type": "code",
   "execution_count": 210,
   "metadata": {},
   "outputs": [],
   "source": [
    "diesel_bool = df['fuel_new'].str.contains('diesel', case = False, regex = True)"
   ]
  },
  {
   "cell_type": "code",
   "execution_count": 211,
   "metadata": {},
   "outputs": [],
   "source": [
    "lpg_bool = df['fuel_new'].str.contains('lpg|cng|bio|domestic|electric', case = False, regex = True)"
   ]
  },
  {
   "cell_type": "code",
   "execution_count": 212,
   "metadata": {},
   "outputs": [],
   "source": [
    "df.loc[diesel_bool, 'fuel_new'] = 'Diesel'"
   ]
  },
  {
   "cell_type": "code",
   "execution_count": 213,
   "metadata": {},
   "outputs": [],
   "source": [
    "df.loc[lpg_bool, 'fuel_new'] = 'LPG/CNG'"
   ]
  },
  {
   "cell_type": "code",
   "execution_count": 214,
   "metadata": {},
   "outputs": [
    {
     "data": {
      "text/plain": [
       "1                                             Gasoline\n",
       "9                                             Gasoline\n",
       "11                                            Super 95\n",
       "12                                  Regular/Benzine 91\n",
       "13                                            Gasoline\n",
       "                             ...                      \n",
       "15908                                         Gasoline\n",
       "15910                           Regular/Benzine E10 91\n",
       "15913                                         Super 95\n",
       "15915    Super 95 / Super Plus 98 (Particulate Filter)\n",
       "15918                                         Super 95\n",
       "Name: fuel_new, Length: 8550, dtype: object"
      ]
     },
     "execution_count": 214,
     "metadata": {},
     "output_type": "execute_result"
    }
   ],
   "source": [
    "df.fuel_new.loc[lambda x: x!= 'Diesel'][lambda x: x!= 'LPG/CNG']"
   ]
  },
  {
   "cell_type": "code",
   "execution_count": 215,
   "metadata": {},
   "outputs": [],
   "source": [
    "benz = list(df.fuel_new.loc[lambda x: x!= 'Diesel'][lambda x: x!= 'LPG/CNG'].index)"
   ]
  },
  {
   "cell_type": "code",
   "execution_count": 216,
   "metadata": {},
   "outputs": [],
   "source": [
    "df.fuel_new.iloc[benz] = \"Benzine\""
   ]
  },
  {
   "cell_type": "code",
   "execution_count": 217,
   "metadata": {},
   "outputs": [
    {
     "data": {
      "text/plain": [
       "Benzine    8550\n",
       "Diesel     7299\n",
       "LPG/CNG      70\n",
       "Name: fuel_new, dtype: int64"
      ]
     },
     "execution_count": 217,
     "metadata": {},
     "output_type": "execute_result"
    }
   ],
   "source": [
    "df.fuel_new.value_counts(dropna = False)"
   ]
  },
  {
   "cell_type": "code",
   "execution_count": 218,
   "metadata": {},
   "outputs": [
    {
     "ename": "TypeError",
     "evalue": "unhashable type: 'list'",
     "output_type": "error",
     "traceback": [
      "\u001b[1;31m---------------------------------------------------------------------------\u001b[0m",
      "\u001b[1;31mTypeError\u001b[0m                                 Traceback (most recent call last)",
      "\u001b[1;32mpandas\\_libs\\hashtable_class_helper.pxi\u001b[0m in \u001b[0;36mpandas._libs.hashtable.PyObjectHashTable.map_locations\u001b[1;34m()\u001b[0m\n",
      "\u001b[1;31mTypeError\u001b[0m: unhashable type: 'list'"
     ]
    },
    {
     "name": "stderr",
     "output_type": "stream",
     "text": [
      "Exception ignored in: 'pandas._libs.index.IndexEngine._call_map_locations'\n",
      "Traceback (most recent call last):\n",
      "  File \"pandas\\_libs\\hashtable_class_helper.pxi\", line 1709, in pandas._libs.hashtable.PyObjectHashTable.map_locations\n",
      "TypeError: unhashable type: 'list'\n"
     ]
    },
    {
     "data": {
      "text/plain": [
       "[\\n6\\n]     5822\n",
       "NaN         4712\n",
       "[\\n5\\n]     3239\n",
       "[\\n7\\n]     1908\n",
       "[\\n8\\n]      224\n",
       "[\\n9\\n]        6\n",
       "[\\n4\\n]        2\n",
       "[\\n3\\n]        2\n",
       "[\\n1\\n]        2\n",
       "[\\n50\\n]       1\n",
       "[\\n2\\n]        1\n",
       "Name: gears, dtype: int64"
      ]
     },
     "execution_count": 218,
     "metadata": {},
     "output_type": "execute_result"
    }
   ],
   "source": [
    "df.gears.value_counts(dropna = False)"
   ]
  },
  {
   "cell_type": "code",
   "execution_count": 219,
   "metadata": {},
   "outputs": [
    {
     "data": {
      "text/plain": [
       "6      5822\n",
       "NaN    4712\n",
       "5      3239\n",
       "7      1908\n",
       "8       224\n",
       "9         6\n",
       "1         2\n",
       "4         2\n",
       "3         2\n",
       "50        1\n",
       "2         1\n",
       "Name: gears, dtype: int64"
      ]
     },
     "execution_count": 219,
     "metadata": {},
     "output_type": "execute_result"
    }
   ],
   "source": [
    "df['gears'].str[0].str.strip('\\n').value_counts(dropna = False)"
   ]
  },
  {
   "cell_type": "code",
   "execution_count": 220,
   "metadata": {},
   "outputs": [],
   "source": [
    "df['gears'] = df['gears'].str[0].str.strip('\\n')"
   ]
  },
  {
   "cell_type": "code",
   "execution_count": 221,
   "metadata": {
    "scrolled": true
   },
   "outputs": [
    {
     "data": {
      "text/html": [
       "<div>\n",
       "<style scoped>\n",
       "    .dataframe tbody tr th:only-of-type {\n",
       "        vertical-align: middle;\n",
       "    }\n",
       "\n",
       "    .dataframe tbody tr th {\n",
       "        vertical-align: top;\n",
       "    }\n",
       "\n",
       "    .dataframe thead th {\n",
       "        text-align: right;\n",
       "    }\n",
       "</style>\n",
       "<table border=\"1\" class=\"dataframe\">\n",
       "  <thead>\n",
       "    <tr style=\"text-align: right;\">\n",
       "      <th></th>\n",
       "      <th>make_model</th>\n",
       "      <th>short_description</th>\n",
       "      <th>body_type</th>\n",
       "      <th>price</th>\n",
       "      <th>vat</th>\n",
       "      <th>km</th>\n",
       "      <th>registration</th>\n",
       "      <th>hp</th>\n",
       "      <th>type</th>\n",
       "      <th>previous_owners</th>\n",
       "      <th>next_inspection</th>\n",
       "      <th>inspection_new</th>\n",
       "      <th>warranty</th>\n",
       "      <th>make</th>\n",
       "      <th>model</th>\n",
       "      <th>offer_number</th>\n",
       "      <th>first_registration</th>\n",
       "      <th>body_color</th>\n",
       "      <th>paint_type</th>\n",
       "      <th>upholstery</th>\n",
       "      <th>nr_of_doors</th>\n",
       "      <th>nr_of_seats</th>\n",
       "      <th>gearing_type</th>\n",
       "      <th>displacement</th>\n",
       "      <th>cylinders</th>\n",
       "      <th>drive_chain</th>\n",
       "      <th>fuel</th>\n",
       "      <th>consumption</th>\n",
       "      <th>co2_emission</th>\n",
       "      <th>emission_class</th>\n",
       "      <th>comfort&amp;convenience</th>\n",
       "      <th>entertainment&amp;media</th>\n",
       "      <th>extras</th>\n",
       "      <th>safety&amp;security</th>\n",
       "      <th>description</th>\n",
       "      <th>emission_label</th>\n",
       "      <th>gears</th>\n",
       "      <th>country_version</th>\n",
       "      <th>cc_Air conditioning</th>\n",
       "      <th>cc_Air suspension</th>\n",
       "      <th>cc_Armrest</th>\n",
       "      <th>cc_Automatic climate control</th>\n",
       "      <th>cc_Auxiliary heating</th>\n",
       "      <th>cc_Cruise control</th>\n",
       "      <th>cc_Electric Starter</th>\n",
       "      <th>cc_Electric tailgate</th>\n",
       "      <th>cc_Electrical side mirrors</th>\n",
       "      <th>cc_Electrically adjustable seats</th>\n",
       "      <th>cc_Electrically heated windshield</th>\n",
       "      <th>cc_Heads-up display</th>\n",
       "      <th>cc_Heated steering wheel</th>\n",
       "      <th>cc_Hill Holder</th>\n",
       "      <th>cc_Keyless central door lock</th>\n",
       "      <th>cc_Leather seats</th>\n",
       "      <th>cc_Leather steering wheel</th>\n",
       "      <th>cc_Light sensor</th>\n",
       "      <th>cc_Lumbar support</th>\n",
       "      <th>cc_Massage seats</th>\n",
       "      <th>cc_Multi-function steering wheel</th>\n",
       "      <th>cc_Navigation system</th>\n",
       "      <th>cc_Panorama roof</th>\n",
       "      <th>cc_Park Distance Control</th>\n",
       "      <th>cc_Parking assist system camera</th>\n",
       "      <th>cc_Parking assist system self-steering</th>\n",
       "      <th>cc_Parking assist system sensors front</th>\n",
       "      <th>cc_Parking assist system sensors rear</th>\n",
       "      <th>cc_Power windows</th>\n",
       "      <th>cc_Rain sensor</th>\n",
       "      <th>cc_Seat heating</th>\n",
       "      <th>cc_Seat ventilation</th>\n",
       "      <th>cc_Split rear seats</th>\n",
       "      <th>cc_Start-stop system</th>\n",
       "      <th>cc_Sunroof</th>\n",
       "      <th>cc_Tinted windows</th>\n",
       "      <th>cc_Wind deflector</th>\n",
       "      <th>cc_Windshield</th>\n",
       "      <th>em_Bluetooth</th>\n",
       "      <th>em_CD player</th>\n",
       "      <th>em_Digital radio</th>\n",
       "      <th>em_Hands-free equipment</th>\n",
       "      <th>em_MP3</th>\n",
       "      <th>em_On-board computer</th>\n",
       "      <th>em_Radio</th>\n",
       "      <th>em_Sound system</th>\n",
       "      <th>em_Television</th>\n",
       "      <th>em_USB</th>\n",
       "      <th>ex_Alloy wheels</th>\n",
       "      <th>ex_Cab or rented Car</th>\n",
       "      <th>ex_Catalytic Converter</th>\n",
       "      <th>ex_Handicapped enabled</th>\n",
       "      <th>ex_Right hand drive</th>\n",
       "      <th>ex_Roof rack</th>\n",
       "      <th>ex_Shift paddles</th>\n",
       "      <th>ex_Ski bag</th>\n",
       "      <th>ex_Sliding door</th>\n",
       "      <th>ex_Sport package</th>\n",
       "      <th>ex_Sport seats</th>\n",
       "      <th>ex_Sport suspension</th>\n",
       "      <th>ex_Touch screen</th>\n",
       "      <th>ex_Trailer hitch</th>\n",
       "      <th>ex_Tuned car</th>\n",
       "      <th>ex_Voice Control</th>\n",
       "      <th>ex_Winter tyres</th>\n",
       "      <th>ss_ABS</th>\n",
       "      <th>ss_Adaptive Cruise Control</th>\n",
       "      <th>ss_Adaptive headlights</th>\n",
       "      <th>ss_Alarm system</th>\n",
       "      <th>ss_Blind spot monitor</th>\n",
       "      <th>ss_Central door lock</th>\n",
       "      <th>ss_Central door lock with remote control</th>\n",
       "      <th>ss_Daytime running lights</th>\n",
       "      <th>ss_Driver drowsiness detection</th>\n",
       "      <th>ss_Driver-side airbag</th>\n",
       "      <th>ss_Electronic stability control</th>\n",
       "      <th>ss_Emergency brake assistant</th>\n",
       "      <th>ss_Emergency system</th>\n",
       "      <th>ss_Fog lights</th>\n",
       "      <th>ss_Head airbag</th>\n",
       "      <th>ss_Immobilizer</th>\n",
       "      <th>ss_Isofix</th>\n",
       "      <th>ss_LED Daytime Running Lights</th>\n",
       "      <th>ss_LED Headlights</th>\n",
       "      <th>ss_Lane departure warning system</th>\n",
       "      <th>ss_Night view assist</th>\n",
       "      <th>ss_Passenger-side airbag</th>\n",
       "      <th>ss_Power steering</th>\n",
       "      <th>ss_Rear airbag</th>\n",
       "      <th>ss_Side airbag</th>\n",
       "      <th>ss_Tire pressure monitoring system</th>\n",
       "      <th>ss_Traction control</th>\n",
       "      <th>ss_Traffic sign recognition</th>\n",
       "      <th>ss_Xenon headlights</th>\n",
       "      <th>consumption_comb</th>\n",
       "      <th>co2_emission_new</th>\n",
       "      <th>displacement_cc</th>\n",
       "      <th>emission_class_new</th>\n",
       "      <th>register_age</th>\n",
       "      <th>fuel_new</th>\n",
       "    </tr>\n",
       "  </thead>\n",
       "  <tbody>\n",
       "    <tr>\n",
       "      <th>14495</th>\n",
       "      <td>Renault Clio</td>\n",
       "      <td>LIMITED 2018 TCe 75 Klima/LED</td>\n",
       "      <td>Sedans</td>\n",
       "      <td>10798</td>\n",
       "      <td>VAT deductible</td>\n",
       "      <td>10 km</td>\n",
       "      <td>01/2019</td>\n",
       "      <td>56 kW</td>\n",
       "      <td>[, Pre-registered, , Super 95]</td>\n",
       "      <td>1.0</td>\n",
       "      <td>NaT</td>\n",
       "      <td>0</td>\n",
       "      <td>NaN</td>\n",
       "      <td>Renault</td>\n",
       "      <td>Clio</td>\n",
       "      <td>[\\nKL_503764\\n]</td>\n",
       "      <td>2019.0</td>\n",
       "      <td>Black</td>\n",
       "      <td>Metallic</td>\n",
       "      <td>[\\nCloth\\n]</td>\n",
       "      <td>[\\n5\\n]</td>\n",
       "      <td>[\\n5\\n]</td>\n",
       "      <td>Manual</td>\n",
       "      <td>[\\n898 cc\\n]</td>\n",
       "      <td>NaN</td>\n",
       "      <td>NaN</td>\n",
       "      <td>[\\n, Super 95, \\n]</td>\n",
       "      <td>[[5.2 l/100 km (comb)], [6.5 l/100 km (city)], [4.4 l/100 km (country)]]</td>\n",
       "      <td>[\\n118 g CO2/km (comb)\\n]</td>\n",
       "      <td>[\\nEuro 6\\n]</td>\n",
       "      <td>Air conditioning,Cruise control,Electrical side mirrors,Leather steering wheel,Power windows,Start-stop system</td>\n",
       "      <td>USB</td>\n",
       "      <td>Alloy wheels</td>\n",
       "      <td>ABS,Central door lock,Daytime running lights,Driver-side airbag,Electronic stability control,Isofix,LED Daytime Running Lights,Passenger-side airbag,Side airbag,Tire pressure monitoring system,Traction control</td>\n",
       "      <td>[\\n, Sicherheit Airbags:,  , Beifahrerairbag,  , Fahrerairbag,  , Kopfairbags vorne,  , Seitenairbag,  , Sicherheit:,  , ABS,  , Antriebsschlupfregelung (ASR),  , elektr. Stabilitätsprogramm (ESP),  , Geschwindigkeitsbegrenzungsanlage,  , ISOFIX Kindersitzhalterung,  , Kopfstützen im Fonds,  , LED-Tagfahrlicht,  , Reifendruckkontrolle,  , Sommerreifen,  , Tagfahrlicht,  , Traktionskontrolle,  , Komfort:,  , Außenspiegel beheizbar,  , Außenspiegel elektr.,  , Elektr. Fensterheber,  , Fahrersi...</td>\n",
       "      <td>4 (Green)</td>\n",
       "      <td>50</td>\n",
       "      <td>Germany</td>\n",
       "      <td>1</td>\n",
       "      <td>0</td>\n",
       "      <td>0</td>\n",
       "      <td>0</td>\n",
       "      <td>0</td>\n",
       "      <td>1</td>\n",
       "      <td>0</td>\n",
       "      <td>0</td>\n",
       "      <td>1</td>\n",
       "      <td>0</td>\n",
       "      <td>0</td>\n",
       "      <td>0</td>\n",
       "      <td>0</td>\n",
       "      <td>0</td>\n",
       "      <td>0</td>\n",
       "      <td>0</td>\n",
       "      <td>1</td>\n",
       "      <td>0</td>\n",
       "      <td>0</td>\n",
       "      <td>0</td>\n",
       "      <td>0</td>\n",
       "      <td>0</td>\n",
       "      <td>0</td>\n",
       "      <td>0</td>\n",
       "      <td>0</td>\n",
       "      <td>0</td>\n",
       "      <td>0</td>\n",
       "      <td>0</td>\n",
       "      <td>1</td>\n",
       "      <td>0</td>\n",
       "      <td>0</td>\n",
       "      <td>0</td>\n",
       "      <td>0</td>\n",
       "      <td>1</td>\n",
       "      <td>0</td>\n",
       "      <td>0</td>\n",
       "      <td>0</td>\n",
       "      <td>0</td>\n",
       "      <td>0</td>\n",
       "      <td>0</td>\n",
       "      <td>0</td>\n",
       "      <td>0</td>\n",
       "      <td>0</td>\n",
       "      <td>0</td>\n",
       "      <td>0</td>\n",
       "      <td>0</td>\n",
       "      <td>0</td>\n",
       "      <td>1</td>\n",
       "      <td>1</td>\n",
       "      <td>0</td>\n",
       "      <td>0</td>\n",
       "      <td>0</td>\n",
       "      <td>0</td>\n",
       "      <td>0</td>\n",
       "      <td>0</td>\n",
       "      <td>0</td>\n",
       "      <td>0</td>\n",
       "      <td>0</td>\n",
       "      <td>0</td>\n",
       "      <td>0</td>\n",
       "      <td>0</td>\n",
       "      <td>0</td>\n",
       "      <td>0</td>\n",
       "      <td>0</td>\n",
       "      <td>0</td>\n",
       "      <td>1</td>\n",
       "      <td>0</td>\n",
       "      <td>0</td>\n",
       "      <td>0</td>\n",
       "      <td>0</td>\n",
       "      <td>1</td>\n",
       "      <td>0</td>\n",
       "      <td>1</td>\n",
       "      <td>0</td>\n",
       "      <td>1</td>\n",
       "      <td>1</td>\n",
       "      <td>0</td>\n",
       "      <td>0</td>\n",
       "      <td>0</td>\n",
       "      <td>0</td>\n",
       "      <td>0</td>\n",
       "      <td>1</td>\n",
       "      <td>1</td>\n",
       "      <td>0</td>\n",
       "      <td>0</td>\n",
       "      <td>0</td>\n",
       "      <td>1</td>\n",
       "      <td>0</td>\n",
       "      <td>0</td>\n",
       "      <td>1</td>\n",
       "      <td>1</td>\n",
       "      <td>1</td>\n",
       "      <td>0</td>\n",
       "      <td>0</td>\n",
       "      <td>5.2</td>\n",
       "      <td>118</td>\n",
       "      <td>898.0</td>\n",
       "      <td>Euro 6</td>\n",
       "      <td>1.0</td>\n",
       "      <td>Benzine</td>\n",
       "    </tr>\n",
       "  </tbody>\n",
       "</table>\n",
       "</div>"
      ],
      "text/plain": [
       "         make_model              short_description body_type  price             vat     km registration     hp                            type  previous_owners next_inspection inspection_new warranty     make model     offer_number  first_registration body_color paint_type   upholstery nr_of_doors nr_of_seats gearing_type  displacement cylinders drive_chain                fuel                                                               consumption               co2_emission emission_class                                                                                             comfort&convenience entertainment&media        extras                                                                                                                                                                                                    safety&security                                                                                                                                                                                                                                                                                                                                                                                                                                                                                                          description emission_label gears country_version  cc_Air conditioning  cc_Air suspension  cc_Armrest  cc_Automatic climate control  cc_Auxiliary heating  cc_Cruise control  cc_Electric Starter  cc_Electric tailgate  cc_Electrical side mirrors  cc_Electrically adjustable seats  cc_Electrically heated windshield  cc_Heads-up display  cc_Heated steering wheel  cc_Hill Holder  cc_Keyless central door lock  cc_Leather seats  cc_Leather steering wheel  cc_Light sensor  cc_Lumbar support  cc_Massage seats  cc_Multi-function steering wheel  cc_Navigation system  cc_Panorama roof  cc_Park Distance Control  cc_Parking assist system camera  \\\n",
       "14495  Renault Clio  LIMITED 2018 TCe 75 Klima/LED    Sedans  10798  VAT deductible  10 km      01/2019  56 kW  [, Pre-registered, , Super 95]              1.0             NaT              0      NaN  Renault  Clio  [\\nKL_503764\\n]              2019.0      Black   Metallic  [\\nCloth\\n]     [\\n5\\n]     [\\n5\\n]       Manual  [\\n898 cc\\n]       NaN         NaN  [\\n, Super 95, \\n]  [[5.2 l/100 km (comb)], [6.5 l/100 km (city)], [4.4 l/100 km (country)]]  [\\n118 g CO2/km (comb)\\n]   [\\nEuro 6\\n]  Air conditioning,Cruise control,Electrical side mirrors,Leather steering wheel,Power windows,Start-stop system                 USB  Alloy wheels  ABS,Central door lock,Daytime running lights,Driver-side airbag,Electronic stability control,Isofix,LED Daytime Running Lights,Passenger-side airbag,Side airbag,Tire pressure monitoring system,Traction control  [\\n, Sicherheit Airbags:,  , Beifahrerairbag,  , Fahrerairbag,  , Kopfairbags vorne,  , Seitenairbag,  , Sicherheit:,  , ABS,  , Antriebsschlupfregelung (ASR),  , elektr. Stabilitätsprogramm (ESP),  , Geschwindigkeitsbegrenzungsanlage,  , ISOFIX Kindersitzhalterung,  , Kopfstützen im Fonds,  , LED-Tagfahrlicht,  , Reifendruckkontrolle,  , Sommerreifen,  , Tagfahrlicht,  , Traktionskontrolle,  , Komfort:,  , Außenspiegel beheizbar,  , Außenspiegel elektr.,  , Elektr. Fensterheber,  , Fahrersi...      4 (Green)    50         Germany                    1                  0           0                             0                     0                  1                    0                     0                           1                                 0                                  0                    0                         0               0                             0                 0                          1                0                  0                 0                                 0                     0                 0                         0                                0   \n",
       "\n",
       "       cc_Parking assist system self-steering  cc_Parking assist system sensors front  cc_Parking assist system sensors rear  cc_Power windows  cc_Rain sensor  cc_Seat heating  cc_Seat ventilation  cc_Split rear seats  cc_Start-stop system  cc_Sunroof  cc_Tinted windows  cc_Wind deflector  cc_Windshield  em_Bluetooth  em_CD player  em_Digital radio  em_Hands-free equipment  em_MP3  em_On-board computer  em_Radio  em_Sound system  em_Television  em_USB  ex_Alloy wheels  ex_Cab or rented Car  ex_Catalytic Converter  ex_Handicapped enabled  ex_Right hand drive  ex_Roof rack  ex_Shift paddles  ex_Ski bag  ex_Sliding door  ex_Sport package  ex_Sport seats  ex_Sport suspension  ex_Touch screen  ex_Trailer hitch  ex_Tuned car  ex_Voice Control  ex_Winter tyres  ss_ABS  ss_Adaptive Cruise Control  ss_Adaptive headlights  ss_Alarm system  ss_Blind spot monitor  ss_Central door lock  ss_Central door lock with remote control  ss_Daytime running lights  ss_Driver drowsiness detection  ss_Driver-side airbag  ss_Electronic stability control  ss_Emergency brake assistant  ss_Emergency system  ss_Fog lights  ss_Head airbag  ss_Immobilizer  ss_Isofix  ss_LED Daytime Running Lights  ss_LED Headlights  ss_Lane departure warning system  ss_Night view assist  ss_Passenger-side airbag  ss_Power steering  ss_Rear airbag  ss_Side airbag  ss_Tire pressure monitoring system  ss_Traction control  ss_Traffic sign recognition  ss_Xenon headlights consumption_comb co2_emission_new  displacement_cc emission_class_new  register_age fuel_new  \n",
       "14495                                       0                                       0                                      0                 1               0                0                    0                    0                     1           0                  0                  0              0             0             0                 0                        0       0                     0         0                0              0       1                1                     0                       0                       0                    0             0                 0           0                0                 0               0                    0                0                 0             0                 0                0       1                           0                       0                0                      0                     1                                         0                          1                               0                      1                                1                             0                    0              0               0               0          1                              1                  0                                 0                     0                         1                  0               0               1                                   1                    1                            0                    0              5.2              118            898.0             Euro 6           1.0  Benzine  "
      ]
     },
     "execution_count": 221,
     "metadata": {},
     "output_type": "execute_result"
    }
   ],
   "source": [
    "df[df['gears']=='50']"
   ]
  },
  {
   "cell_type": "code",
   "execution_count": 222,
   "metadata": {},
   "outputs": [],
   "source": [
    "df.gears.iloc[14495] = '5'"
   ]
  },
  {
   "cell_type": "code",
   "execution_count": 223,
   "metadata": {},
   "outputs": [
    {
     "data": {
      "text/plain": [
       "'5'"
      ]
     },
     "execution_count": 223,
     "metadata": {},
     "output_type": "execute_result"
    }
   ],
   "source": [
    "df.gears.iloc[14495]"
   ]
  },
  {
   "cell_type": "code",
   "execution_count": 224,
   "metadata": {},
   "outputs": [
    {
     "data": {
      "text/plain": [
       "6      5822\n",
       "NaN    4712\n",
       "5      3240\n",
       "7      1908\n",
       "8       224\n",
       "9         6\n",
       "1         2\n",
       "4         2\n",
       "3         2\n",
       "2         1\n",
       "Name: gears, dtype: int64"
      ]
     },
     "execution_count": 224,
     "metadata": {},
     "output_type": "execute_result"
    }
   ],
   "source": [
    "df.gears.value_counts(dropna = False)"
   ]
  },
  {
   "cell_type": "code",
   "execution_count": 225,
   "metadata": {},
   "outputs": [
    {
     "data": {
      "text/plain": [
       "Opel       7343\n",
       "Audi       5712\n",
       "Renault    2864\n",
       "Name: make, dtype: int64"
      ]
     },
     "execution_count": 225,
     "metadata": {},
     "output_type": "execute_result"
    }
   ],
   "source": [
    "df.make.value_counts(dropna = False)"
   ]
  },
  {
   "cell_type": "code",
   "execution_count": 226,
   "metadata": {},
   "outputs": [
    {
     "data": {
      "text/plain": [
       "A3          3097\n",
       "A1          2614\n",
       "Insignia    2598\n",
       "Astra       2526\n",
       "Corsa       2219\n",
       "Clio        1839\n",
       "Espace       991\n",
       "Duster        34\n",
       "A2             1\n",
       "Name: model, dtype: int64"
      ]
     },
     "execution_count": 226,
     "metadata": {},
     "output_type": "execute_result"
    }
   ],
   "source": [
    "df.model.value_counts(dropna = False)"
   ]
  },
  {
   "cell_type": "code",
   "execution_count": 227,
   "metadata": {},
   "outputs": [
    {
     "data": {
      "text/plain": [
       "0.013317419435894215"
      ]
     },
     "execution_count": 227,
     "metadata": {},
     "output_type": "execute_result"
    }
   ],
   "source": [
    "df['nr_of_doors'].isnull().sum()/df.shape[0]"
   ]
  },
  {
   "cell_type": "code",
   "execution_count": 228,
   "metadata": {},
   "outputs": [
    {
     "ename": "TypeError",
     "evalue": "unhashable type: 'list'",
     "output_type": "error",
     "traceback": [
      "\u001b[1;31m---------------------------------------------------------------------------\u001b[0m",
      "\u001b[1;31mTypeError\u001b[0m                                 Traceback (most recent call last)",
      "\u001b[1;32mpandas\\_libs\\hashtable_class_helper.pxi\u001b[0m in \u001b[0;36mpandas._libs.hashtable.PyObjectHashTable.map_locations\u001b[1;34m()\u001b[0m\n",
      "\u001b[1;31mTypeError\u001b[0m: unhashable type: 'list'"
     ]
    },
    {
     "name": "stderr",
     "output_type": "stream",
     "text": [
      "Exception ignored in: 'pandas._libs.index.IndexEngine._call_map_locations'\n",
      "Traceback (most recent call last):\n",
      "  File \"pandas\\_libs\\hashtable_class_helper.pxi\", line 1709, in pandas._libs.hashtable.PyObjectHashTable.map_locations\n",
      "TypeError: unhashable type: 'list'\n"
     ]
    },
    {
     "data": {
      "text/plain": [
       "[\\n5\\n]    11575\n",
       "[\\n4\\n]     3079\n",
       "[\\n3\\n]      832\n",
       "[\\n2\\n]      219\n",
       "NaN          212\n",
       "[\\n7\\n]        1\n",
       "[\\n1\\n]        1\n",
       "Name: nr_of_doors, dtype: int64"
      ]
     },
     "execution_count": 228,
     "metadata": {},
     "output_type": "execute_result"
    }
   ],
   "source": [
    "df['nr_of_doors'].value_counts(dropna = False)"
   ]
  },
  {
   "cell_type": "code",
   "execution_count": 229,
   "metadata": {},
   "outputs": [
    {
     "data": {
      "text/plain": [
       "5      11575\n",
       "4       3079\n",
       "3        832\n",
       "2        219\n",
       "NaN      212\n",
       "7          1\n",
       "1          1\n",
       "Name: nr_of_doors, dtype: int64"
      ]
     },
     "execution_count": 229,
     "metadata": {},
     "output_type": "execute_result"
    }
   ],
   "source": [
    "df['nr_of_doors'].str[0].str.strip('\\n').value_counts(dropna = False)"
   ]
  },
  {
   "cell_type": "code",
   "execution_count": 230,
   "metadata": {},
   "outputs": [],
   "source": [
    "df['nr_of_doors'] = df['nr_of_doors'].str[0].str.strip('\\n')"
   ]
  },
  {
   "cell_type": "code",
   "execution_count": 231,
   "metadata": {},
   "outputs": [
    {
     "ename": "TypeError",
     "evalue": "unhashable type: 'list'",
     "output_type": "error",
     "traceback": [
      "\u001b[1;31m---------------------------------------------------------------------------\u001b[0m",
      "\u001b[1;31mTypeError\u001b[0m                                 Traceback (most recent call last)",
      "\u001b[1;32mpandas\\_libs\\hashtable_class_helper.pxi\u001b[0m in \u001b[0;36mpandas._libs.hashtable.PyObjectHashTable.map_locations\u001b[1;34m()\u001b[0m\n",
      "\u001b[1;31mTypeError\u001b[0m: unhashable type: 'list'"
     ]
    },
    {
     "name": "stderr",
     "output_type": "stream",
     "text": [
      "Exception ignored in: 'pandas._libs.index.IndexEngine._call_map_locations'\n",
      "Traceback (most recent call last):\n",
      "  File \"pandas\\_libs\\hashtable_class_helper.pxi\", line 1709, in pandas._libs.hashtable.PyObjectHashTable.map_locations\n",
      "TypeError: unhashable type: 'list'\n"
     ]
    },
    {
     "data": {
      "text/plain": [
       "[\\n5\\n]    13336\n",
       "[\\n4\\n]     1125\n",
       "NaN          977\n",
       "[\\n7\\n]      362\n",
       "[\\n2\\n]      116\n",
       "[\\n6\\n]        2\n",
       "[\\n3\\n]        1\n",
       "Name: nr_of_seats, dtype: int64"
      ]
     },
     "execution_count": 231,
     "metadata": {},
     "output_type": "execute_result"
    }
   ],
   "source": [
    "df['nr_of_seats'].value_counts(dropna = False)"
   ]
  },
  {
   "cell_type": "code",
   "execution_count": 232,
   "metadata": {},
   "outputs": [
    {
     "data": {
      "text/plain": [
       "5      13336\n",
       "4       1125\n",
       "NaN      977\n",
       "7        362\n",
       "2        116\n",
       "6          2\n",
       "3          1\n",
       "Name: nr_of_seats, dtype: int64"
      ]
     },
     "execution_count": 232,
     "metadata": {},
     "output_type": "execute_result"
    }
   ],
   "source": [
    "df['nr_of_seats'].str[0].str.strip('\\n').value_counts(dropna = False)"
   ]
  },
  {
   "cell_type": "code",
   "execution_count": 233,
   "metadata": {},
   "outputs": [],
   "source": [
    "df['nr_of_seats'] = df['nr_of_seats'].str[0].str.strip('\\n')"
   ]
  },
  {
   "cell_type": "code",
   "execution_count": 234,
   "metadata": {},
   "outputs": [],
   "source": [
    "df.drop(columns = 'offer_number', inplace = True)"
   ]
  },
  {
   "cell_type": "code",
   "execution_count": 235,
   "metadata": {},
   "outputs": [
    {
     "ename": "TypeError",
     "evalue": "unhashable type: 'list'",
     "output_type": "error",
     "traceback": [
      "\u001b[1;31m---------------------------------------------------------------------------\u001b[0m",
      "\u001b[1;31mTypeError\u001b[0m                                 Traceback (most recent call last)",
      "\u001b[1;32mpandas\\_libs\\hashtable_class_helper.pxi\u001b[0m in \u001b[0;36mpandas._libs.hashtable.PyObjectHashTable.map_locations\u001b[1;34m()\u001b[0m\n",
      "\u001b[1;31mTypeError\u001b[0m: unhashable type: 'list'"
     ]
    },
    {
     "name": "stderr",
     "output_type": "stream",
     "text": [
      "Exception ignored in: 'pandas._libs.index.IndexEngine._call_map_locations'\n",
      "Traceback (most recent call last):\n",
      "  File \"pandas\\_libs\\hashtable_class_helper.pxi\", line 1709, in pandas._libs.hashtable.PyObjectHashTable.map_locations\n",
      "TypeError: unhashable type: 'list'\n"
     ]
    },
    {
     "data": {
      "text/plain": [
       "[, Used, , Diesel (Particulate Filter)]                                                                                  3475\n",
       "[, Used, , Diesel]                                                                                                       2516\n",
       "[, Used, , Gasoline]                                                                                                     2367\n",
       "[, Used, , Super 95]                                                                                                     1818\n",
       "[, Pre-registered, , Super 95]                                                                                            500\n",
       "                                                                                                                         ... \n",
       "[, Used, , Regular/Benzine E10 91 / Super E10 95 / Super Plus E10 98 / Super Plus 98 / Super 95 / Regular/Benzine 91]       1\n",
       "[, Used, , Regular/Benzine E10 91 / Regular/Benzine 91 / Super 95 / Super Plus 98 / Super E10 95 / Super Plus E10 98]       1\n",
       "[, Employee's car, , Regular/Benzine 91 / Super 95 / Super E10 95]                                                          1\n",
       "[, Pre-registered, , Biogas]                                                                                                1\n",
       "[, Used, , Regular/Benzine 91 / Super 95 / Super Plus 98]                                                                   1\n",
       "Name: type, Length: 170, dtype: int64"
      ]
     },
     "execution_count": 235,
     "metadata": {},
     "output_type": "execute_result"
    }
   ],
   "source": [
    "df.type.value_counts(dropna = False)"
   ]
  },
  {
   "cell_type": "code",
   "execution_count": 236,
   "metadata": {},
   "outputs": [
    {
     "data": {
      "text/plain": [
       "0.012563603241409635"
      ]
     },
     "execution_count": 236,
     "metadata": {},
     "output_type": "execute_result"
    }
   ],
   "source": [
    "df.type.isnull().sum()/df.shape[0]*100"
   ]
  },
  {
   "cell_type": "code",
   "execution_count": 237,
   "metadata": {},
   "outputs": [
    {
     "data": {
      "text/plain": [
       "Used              11096\n",
       "New                1650\n",
       "Pre-registered     1364\n",
       "Employee's car     1011\n",
       "Demonstration       796\n",
       "NaN                   2\n",
       "Name: type, dtype: int64"
      ]
     },
     "execution_count": 237,
     "metadata": {},
     "output_type": "execute_result"
    }
   ],
   "source": [
    "df.type.str[1].value_counts(dropna = False)"
   ]
  },
  {
   "cell_type": "code",
   "execution_count": 238,
   "metadata": {},
   "outputs": [],
   "source": [
    "df['type'] = df.type.str[1]"
   ]
  },
  {
   "cell_type": "code",
   "execution_count": 239,
   "metadata": {
    "scrolled": true
   },
   "outputs": [
    {
     "ename": "TypeError",
     "evalue": "unhashable type: 'list'",
     "output_type": "error",
     "traceback": [
      "\u001b[1;31m---------------------------------------------------------------------------\u001b[0m",
      "\u001b[1;31mTypeError\u001b[0m                                 Traceback (most recent call last)",
      "\u001b[1;32mpandas\\_libs\\hashtable_class_helper.pxi\u001b[0m in \u001b[0;36mpandas._libs.hashtable.PyObjectHashTable.map_locations\u001b[1;34m()\u001b[0m\n",
      "\u001b[1;31mTypeError\u001b[0m: unhashable type: 'list'"
     ]
    },
    {
     "name": "stderr",
     "output_type": "stream",
     "text": [
      "Exception ignored in: 'pandas._libs.index.IndexEngine._call_map_locations'\n",
      "Traceback (most recent call last):\n",
      "  File \"pandas\\_libs\\hashtable_class_helper.pxi\", line 1709, in pandas._libs.hashtable.PyObjectHashTable.map_locations\n",
      "TypeError: unhashable type: 'list'\n"
     ]
    },
    {
     "data": {
      "text/plain": [
       "[\\nCloth, Black\\n]           5821\n",
       "NaN                          3720\n",
       "[\\nPart leather, Black\\n]    1121\n",
       "[\\nCloth\\n]                  1005\n",
       "[\\nCloth, Grey\\n]             891\n",
       "[\\nCloth, Other\\n]            639\n",
       "[\\nFull leather, Black\\n]     575\n",
       "[\\nBlack\\n]                   491\n",
       "[\\nGrey\\n]                    273\n",
       "[\\nOther, Other\\n]            182\n",
       "[\\nPart leather\\n]            140\n",
       "[\\nFull leather\\n]            139\n",
       "[\\nFull leather, Brown\\n]     116\n",
       "[\\nPart leather, Grey\\n]      116\n",
       "[\\nOther, Black\\n]            110\n",
       "[\\nFull leather, Other\\n]      72\n",
       "[\\nFull leather, Grey\\n]       67\n",
       "[\\nPart leather, Other\\n]      65\n",
       "[\\nOther\\n]                    56\n",
       "[\\nPart leather, Brown\\n]      50\n",
       "[\\nalcantara, Black\\n]         47\n",
       "[\\nVelour, Black\\n]            36\n",
       "[\\nFull leather, Beige\\n]      36\n",
       "[\\nCloth, Brown\\n]             28\n",
       "[\\nVelour\\n]                   16\n",
       "[\\nOther, Grey\\n]              15\n",
       "[\\nCloth, Beige\\n]             13\n",
       "[\\nCloth, Blue\\n]              12\n",
       "[\\nBrown\\n]                    12\n",
       "[\\nVelour, Grey\\n]              8\n",
       "[\\nCloth, White\\n]              8\n",
       "[\\nalcantara, Grey\\n]           6\n",
       "[\\nCloth, Red\\n]                5\n",
       "[\\nOther, Yellow\\n]             4\n",
       "[\\nBeige\\n]                     3\n",
       "[\\nPart leather, Red\\n]         3\n",
       "[\\nPart leather, Beige\\n]       2\n",
       "[\\nFull leather, Blue\\n]        2\n",
       "[\\nalcantara\\n]                 2\n",
       "[\\nWhite\\n]                     2\n",
       "[\\nPart leather, White\\n]       2\n",
       "[\\nalcantara, Other\\n]          2\n",
       "[\\nBlue\\n]                      2\n",
       "[\\nOther, Brown\\n]              1\n",
       "[\\nFull leather, Red\\n]         1\n",
       "[\\nFull leather, White\\n]       1\n",
       "[\\nCloth, Orange\\n]             1\n",
       "Name: upholstery, dtype: int64"
      ]
     },
     "execution_count": 239,
     "metadata": {},
     "output_type": "execute_result"
    }
   ],
   "source": [
    "df.upholstery.value_counts(dropna = False)"
   ]
  },
  {
   "cell_type": "code",
   "execution_count": 240,
   "metadata": {
    "scrolled": true
   },
   "outputs": [
    {
     "data": {
      "text/plain": [
       "Cloth, Black           5821\n",
       "NaN                    3720\n",
       "Part leather, Black    1121\n",
       "Cloth                  1005\n",
       "Cloth, Grey             891\n",
       "Cloth, Other            639\n",
       "Full leather, Black     575\n",
       "Black                   491\n",
       "Grey                    273\n",
       "Other, Other            182\n",
       "Part leather            140\n",
       "Full leather            139\n",
       "Full leather, Brown     116\n",
       "Part leather, Grey      116\n",
       "Other, Black            110\n",
       "Full leather, Other      72\n",
       "Full leather, Grey       67\n",
       "Part leather, Other      65\n",
       "Other                    56\n",
       "Part leather, Brown      50\n",
       "alcantara, Black         47\n",
       "Velour, Black            36\n",
       "Full leather, Beige      36\n",
       "Cloth, Brown             28\n",
       "Velour                   16\n",
       "Other, Grey              15\n",
       "Cloth, Beige             13\n",
       "Cloth, Blue              12\n",
       "Brown                    12\n",
       "Cloth, White              8\n",
       "Velour, Grey              8\n",
       "alcantara, Grey           6\n",
       "Cloth, Red                5\n",
       "Other, Yellow             4\n",
       "Beige                     3\n",
       "Part leather, Red         3\n",
       "Blue                      2\n",
       "Part leather, White       2\n",
       "Full leather, Blue        2\n",
       "White                     2\n",
       "alcantara                 2\n",
       "Part leather, Beige       2\n",
       "alcantara, Other          2\n",
       "Other, Brown              1\n",
       "Full leather, White       1\n",
       "Full leather, Red         1\n",
       "Cloth, Orange             1\n",
       "Name: upholstery, dtype: int64"
      ]
     },
     "execution_count": 240,
     "metadata": {},
     "output_type": "execute_result"
    }
   ],
   "source": [
    "df.upholstery.str[0].str.strip('\\n').value_counts(dropna = False)"
   ]
  },
  {
   "cell_type": "code",
   "execution_count": 241,
   "metadata": {},
   "outputs": [],
   "source": [
    "df['upholstery'] = df.upholstery.str[0].str.strip('\\n')"
   ]
  },
  {
   "cell_type": "code",
   "execution_count": 242,
   "metadata": {},
   "outputs": [
    {
     "ename": "TypeError",
     "evalue": "unhashable type: 'list'",
     "output_type": "error",
     "traceback": [
      "\u001b[1;31m---------------------------------------------------------------------------\u001b[0m",
      "\u001b[1;31mTypeError\u001b[0m                                 Traceback (most recent call last)",
      "\u001b[1;32mpandas\\_libs\\hashtable_class_helper.pxi\u001b[0m in \u001b[0;36mpandas._libs.hashtable.PyObjectHashTable.map_locations\u001b[1;34m()\u001b[0m\n",
      "\u001b[1;31mTypeError\u001b[0m: unhashable type: 'list'"
     ]
    },
    {
     "name": "stderr",
     "output_type": "stream",
     "text": [
      "Exception ignored in: 'pandas._libs.index.IndexEngine._call_map_locations'\n",
      "Traceback (most recent call last):\n",
      "  File \"pandas\\_libs\\hashtable_class_helper.pxi\", line 1709, in pandas._libs.hashtable.PyObjectHashTable.map_locations\n",
      "TypeError: unhashable type: 'list'\n"
     ]
    },
    {
     "data": {
      "text/plain": [
       "NaN                                         5420\n",
       "[\\n, \\n, \\nEuro 6\\n]                        1868\n",
       "\\n12 months\\n                               1177\n",
       "\\n                                           979\n",
       "\\n24 months\\n                                566\n",
       "                                            ... \n",
       "[\\n, \\n, \\n155 g CO2/km (comb)\\n]              1\n",
       "[\\n60 months\\n, \\n98 g CO2/km (comb)\\n]        1\n",
       "[\\n20 months\\n, \\n139 g CO2/km (comb)\\n]       1\n",
       "[\\n10 months\\n, \\n104 g CO2/km (comb)\\n]       1\n",
       "[, , , Diesel]                                 1\n",
       "Name: warranty, Length: 516, dtype: int64"
      ]
     },
     "execution_count": 242,
     "metadata": {},
     "output_type": "execute_result"
    }
   ],
   "source": [
    "df.warranty.value_counts(dropna = False)"
   ]
  },
  {
   "cell_type": "code",
   "execution_count": 243,
   "metadata": {},
   "outputs": [
    {
     "data": {
      "text/plain": [
       "340                                           NaN\n",
       "3345                                          NaN\n",
       "13276                               \\n12 months\\n\n",
       "1540                         [\\n, \\n, \\nEuro 6\\n]\n",
       "12183                        [\\n, \\n, \\nEuro 6\\n]\n",
       "9338                                          NaN\n",
       "11144                                         NaN\n",
       "6182                                          NaN\n",
       "1881                         [\\n, \\n, \\nEuro 6\\n]\n",
       "4929                         [\\n, \\n, \\nEuro 6\\n]\n",
       "2076                                \\n48 months\\n\n",
       "10605                [\\n, \\n, \\n1 (No sticker)\\n]\n",
       "2366                   [\\n, \\n, \\nEuro 6d-TEMP\\n]\n",
       "2419                                          NaN\n",
       "6651                                          NaN\n",
       "14377           [\\n, \\n, \\n120 g CO2/km (comb)\\n]\n",
       "5783     [\\n12 months\\n, \\n128 g CO2/km (comb)\\n]\n",
       "9049                                \\n12 months\\n\n",
       "13691                                         NaN\n",
       "7359                                \\n12 months\\n\n",
       "436                          [\\n, \\n, \\nEuro 6\\n]\n",
       "9336     [\\n12 months\\n, \\n140 g CO2/km (comb)\\n]\n",
       "11177                               \\n12 months\\n\n",
       "15009                               \\n12 months\\n\n",
       "12494           [\\n, \\n, \\n187 g CO2/km (comb)\\n]\n",
       "2835                         [\\n, \\n, \\nEuro 6\\n]\n",
       "14661                                         NaN\n",
       "15276                               \\n12 months\\n\n",
       "14632                                          \\n\n",
       "13210    [\\n24 months\\n, \\n109 g CO2/km (comb)\\n]\n",
       "1867                                     [\\n, \\n]\n",
       "12864                                         NaN\n",
       "1455                                \\n24 months\\n\n",
       "4831            [\\n, \\n, \\n117 g CO2/km (comb)\\n]\n",
       "10838                                         NaN\n",
       "6894                         [\\n, \\n, \\nEuro 6\\n]\n",
       "12263                                         NaN\n",
       "13453                                         NaN\n",
       "6672                         [\\n, \\n, \\nEuro 6\\n]\n",
       "8773                                     [\\n, \\n]\n",
       "13277                               \\n12 months\\n\n",
       "5168                                           \\n\n",
       "6341                                          NaN\n",
       "1079                                          NaN\n",
       "13281                               \\n12 months\\n\n",
       "7295            [\\n, \\n, \\n104 g CO2/km (comb)\\n]\n",
       "4411                                \\n12 months\\n\n",
       "12535           [\\n, \\n, \\n156 g CO2/km (comb)\\n]\n",
       "4714                  [\\n12 months\\n, \\nEuro 6\\n]\n",
       "14332                               \\n48 months\\n\n",
       "Name: warranty, dtype: object"
      ]
     },
     "execution_count": 243,
     "metadata": {},
     "output_type": "execute_result"
    }
   ],
   "source": [
    "df.warranty.sample(50)"
   ]
  },
  {
   "cell_type": "code",
   "execution_count": 244,
   "metadata": {},
   "outputs": [],
   "source": [
    "warranty_list = [\"\".join(item).strip() if type(item) == list else item for item in df['warranty']]"
   ]
  },
  {
   "cell_type": "code",
   "execution_count": 245,
   "metadata": {},
   "outputs": [],
   "source": [
    "df['warranty_month'] = pd.DataFrame(warranty_list)"
   ]
  },
  {
   "cell_type": "code",
   "execution_count": 246,
   "metadata": {
    "scrolled": true
   },
   "outputs": [
    {
     "data": {
      "text/plain": [
       "3470                                  NaN\n",
       "13718                                 NaN\n",
       "14806                                 NaN\n",
       "3297                                  NaN\n",
       "13368                              Euro 6\n",
       "9539                        \\n12 months\\n\n",
       "6308                                  NaN\n",
       "9783                               Euro 6\n",
       "13323                                 NaN\n",
       "12950                                 NaN\n",
       "6503      12 months\\n\\n93 g CO2/km (comb)\n",
       "4081                  12 months\\n\\nEuro 6\n",
       "14492                                 NaN\n",
       "1952                                  NaN\n",
       "8953                                  NaN\n",
       "9367                                  NaN\n",
       "12091                              Euro 6\n",
       "1247                                  NaN\n",
       "496                             4 (Green)\n",
       "11802                                    \n",
       "778                                   NaN\n",
       "14067                                  \\n\n",
       "8434                                  NaN\n",
       "1859                        \\n24 months\\n\n",
       "558                                   NaN\n",
       "3529                                  NaN\n",
       "12838                       \\n24 months\\n\n",
       "3821                        \\n12 months\\n\n",
       "9516     12 months\\n\\n124 g CO2/km (comb)\n",
       "11847                              Euro 6\n",
       "1684                        \\n24 months\\n\n",
       "7724                                   \\n\n",
       "8356                               Euro 6\n",
       "11674                              Euro 6\n",
       "3232                                  NaN\n",
       "11825                              Euro 6\n",
       "8601                                  NaN\n",
       "9966               60 months\\n\\n4 (Green)\n",
       "14161                                 NaN\n",
       "3437                                  NaN\n",
       "7663     24 months\\n\\n125 g CO2/km (comb)\n",
       "15296                       \\n12 months\\n\n",
       "6321      12 months\\n\\n99 g CO2/km (comb)\n",
       "8698                        \\n12 months\\n\n",
       "10094                                 NaN\n",
       "12233                              Euro 6\n",
       "4708                        \\n24 months\\n\n",
       "10180                 124 g CO2/km (comb)\n",
       "11569                 139 g CO2/km (comb)\n",
       "1723                                  NaN\n",
       "Name: warranty_month, dtype: object"
      ]
     },
     "execution_count": 246,
     "metadata": {},
     "output_type": "execute_result"
    }
   ],
   "source": [
    "df.warranty_month.sample(50)"
   ]
  },
  {
   "cell_type": "code",
   "execution_count": 247,
   "metadata": {},
   "outputs": [
    {
     "data": {
      "text/plain": [
       "NaN          11066\n",
       "12 months     2594\n",
       "24 months     1118\n",
       "60 months      401\n",
       "36 months      279\n",
       "48 months      149\n",
       "6 months       125\n",
       "72 months       59\n",
       "3 months        33\n",
       "23 months       11\n",
       "18 months       10\n",
       "20 months        7\n",
       "25 months        6\n",
       "2 months         5\n",
       "50 months        4\n",
       "26 months        4\n",
       "16 months        4\n",
       "4 months         3\n",
       "19 months        3\n",
       "13 months        3\n",
       "1 months         3\n",
       "34 months        3\n",
       "14 months        2\n",
       "21 months        2\n",
       "28 months        2\n",
       "22 months        2\n",
       "11 months        2\n",
       "46 months        2\n",
       "45 months        2\n",
       "9 months         2\n",
       "17 months        2\n",
       "10 months        1\n",
       "7 months         1\n",
       "8 months         1\n",
       "15 months        1\n",
       "65 months        1\n",
       "49 months        1\n",
       "56 months        1\n",
       "40 months        1\n",
       "47 months        1\n",
       "30 months        1\n",
       "33 months        1\n",
       "Name: 0, dtype: int64"
      ]
     },
     "execution_count": 247,
     "metadata": {},
     "output_type": "execute_result"
    }
   ],
   "source": [
    "df.warranty_month.str.extract('(\\d\\d months|\\d months)')[0].value_counts(dropna = False)"
   ]
  },
  {
   "cell_type": "code",
   "execution_count": 248,
   "metadata": {},
   "outputs": [
    {
     "data": {
      "text/plain": [
       "69.51441673471952"
      ]
     },
     "execution_count": 248,
     "metadata": {},
     "output_type": "execute_result"
    }
   ],
   "source": [
    "df.warranty_month.str.extract('(\\d\\d months|\\d months)')[0].isnull().sum()/df.shape[0]*100"
   ]
  },
  {
   "cell_type": "code",
   "execution_count": 249,
   "metadata": {},
   "outputs": [],
   "source": [
    "df.drop(columns = ['warranty', 'warranty_month'], inplace = True)"
   ]
  },
  {
   "cell_type": "code",
   "execution_count": 250,
   "metadata": {},
   "outputs": [],
   "source": [
    "df.drop(columns = 'description', inplace = True)"
   ]
  },
  {
   "cell_type": "code",
   "execution_count": 251,
   "metadata": {},
   "outputs": [
    {
     "data": {
      "text/plain": [
       "85 kW     2542\n",
       "66 kW     2122\n",
       "81 kW     1402\n",
       "100 kW    1308\n",
       "110 kW    1112\n",
       "          ... \n",
       "132 kW       1\n",
       "163 kW       1\n",
       "195 kW       1\n",
       "75 kW        1\n",
       "239 kW       1\n",
       "Name: hp, Length: 81, dtype: int64"
      ]
     },
     "execution_count": 251,
     "metadata": {},
     "output_type": "execute_result"
    }
   ],
   "source": [
    "df.hp.value_counts(dropna = False)"
   ]
  },
  {
   "cell_type": "code",
   "execution_count": 252,
   "metadata": {},
   "outputs": [
    {
     "data": {
      "text/plain": [
       "0.0"
      ]
     },
     "execution_count": 252,
     "metadata": {},
     "output_type": "execute_result"
    }
   ],
   "source": [
    "df.hp.isnull().sum()/df.shape[0]*100"
   ]
  },
  {
   "cell_type": "code",
   "execution_count": 253,
   "metadata": {},
   "outputs": [
    {
     "data": {
      "text/plain": [
       "array(['66 kW', '141 kW', '85 kW', '70 kW', '92 kW', '112 kW', '60 kW',\n",
       "       '71 kW', '67 kW', '110 kW', '93 kW', '147 kW', '86 kW', '140 kW',\n",
       "       '87 kW', '- kW', '81 kW', '82 kW', '135 kW', '132 kW', '100 kW',\n",
       "       '96 kW', '162 kW', '150 kW', '294 kW', '228 kW', '270 kW',\n",
       "       '137 kW', '9 kW', '133 kW', '77 kW', '101 kW', '78 kW', '103 kW',\n",
       "       '1 kW', '74 kW', '118 kW', '84 kW', '88 kW', '80 kW', '76 kW',\n",
       "       '149 kW', '44 kW', '51 kW', '55 kW', '52 kW', '63 kW', '40 kW',\n",
       "       '65 kW', '75 kW', '125 kW', '120 kW', '184 kW', '239 kW', '121 kW',\n",
       "       '143 kW', '191 kW', '89 kW', '195 kW', '127 kW', '122 kW',\n",
       "       '154 kW', '155 kW', '104 kW', '123 kW', '146 kW', '90 kW', '53 kW',\n",
       "       '54 kW', '56 kW', '164 kW', '4 kW', '163 kW', '57 kW', '119 kW',\n",
       "       '165 kW', '117 kW', '115 kW', '98 kW', '168 kW', '167 kW'],\n",
       "      dtype=object)"
      ]
     },
     "execution_count": 253,
     "metadata": {},
     "output_type": "execute_result"
    }
   ],
   "source": [
    "df.hp.unique()"
   ]
  },
  {
   "cell_type": "code",
   "execution_count": 254,
   "metadata": {},
   "outputs": [],
   "source": [
    "df.replace({'hp' : {' kW' : '', '-' : '0'}}, regex = True, inplace = True)"
   ]
  },
  {
   "cell_type": "code",
   "execution_count": 255,
   "metadata": {},
   "outputs": [
    {
     "data": {
      "text/plain": [
       "array(['66', '141', '85', '70', '92', '112', '60', '71', '67', '110',\n",
       "       '93', '147', '86', '140', '87', '0', '81', '82', '135', '132',\n",
       "       '100', '96', '162', '150', '294', '228', '270', '137', '9', '133',\n",
       "       '77', '101', '78', '103', '1', '74', '118', '84', '88', '80', '76',\n",
       "       '149', '44', '51', '55', '52', '63', '40', '65', '75', '125',\n",
       "       '120', '184', '239', '121', '143', '191', '89', '195', '127',\n",
       "       '122', '154', '155', '104', '123', '146', '90', '53', '54', '56',\n",
       "       '164', '4', '163', '57', '119', '165', '117', '115', '98', '168',\n",
       "       '167'], dtype=object)"
      ]
     },
     "execution_count": 255,
     "metadata": {},
     "output_type": "execute_result"
    }
   ],
   "source": [
    "df.hp.unique()"
   ]
  },
  {
   "cell_type": "code",
   "execution_count": 256,
   "metadata": {},
   "outputs": [],
   "source": [
    "df['hp_kw'] = pd.to_numeric(df.hp)"
   ]
  },
  {
   "cell_type": "code",
   "execution_count": 257,
   "metadata": {},
   "outputs": [
    {
     "data": {
      "text/plain": [
       "85     2542\n",
       "66     2122\n",
       "81     1402\n",
       "100    1308\n",
       "110    1112\n",
       "       ... \n",
       "163       1\n",
       "123       1\n",
       "115       1\n",
       "75        1\n",
       "239       1\n",
       "Name: hp_kw, Length: 81, dtype: int64"
      ]
     },
     "execution_count": 257,
     "metadata": {},
     "output_type": "execute_result"
    }
   ],
   "source": [
    "df.hp_kw.value_counts(dropna = False)"
   ]
  },
  {
   "cell_type": "code",
   "execution_count": 258,
   "metadata": {},
   "outputs": [
    {
     "data": {
      "text/plain": [
       "0"
      ]
     },
     "execution_count": 258,
     "metadata": {},
     "output_type": "execute_result"
    }
   ],
   "source": [
    "df.km.isnull().sum()"
   ]
  },
  {
   "cell_type": "code",
   "execution_count": 259,
   "metadata": {},
   "outputs": [
    {
     "data": {
      "text/plain": [
       "10 km        1045\n",
       "- km         1024\n",
       "1 km          367\n",
       "5 km          170\n",
       "50 km         148\n",
       "             ... \n",
       "58,962 km       1\n",
       "24,278 km       1\n",
       "79,575 km       1\n",
       "8,270 km        1\n",
       "79,548 km       1\n",
       "Name: km, Length: 6690, dtype: int64"
      ]
     },
     "execution_count": 259,
     "metadata": {},
     "output_type": "execute_result"
    }
   ],
   "source": [
    "df.km.value_counts(dropna = False)"
   ]
  },
  {
   "cell_type": "code",
   "execution_count": 260,
   "metadata": {},
   "outputs": [
    {
     "data": {
      "text/plain": [
       "NaN    838\n",
       "1.0    147\n",
       "2.0     38\n",
       "3.0      1\n",
       "Name: register_age, dtype: int64"
      ]
     },
     "execution_count": 260,
     "metadata": {},
     "output_type": "execute_result"
    }
   ],
   "source": [
    "df[df['km'] == '- km']['register_age'].value_counts(dropna = False)"
   ]
  },
  {
   "cell_type": "code",
   "execution_count": 261,
   "metadata": {},
   "outputs": [
    {
     "data": {
      "text/plain": [
       "New               849\n",
       "Pre-registered    118\n",
       "Demonstration      33\n",
       "Used               15\n",
       "Employee's car      8\n",
       "NaN                 1\n",
       "Name: type, dtype: int64"
      ]
     },
     "execution_count": 261,
     "metadata": {},
     "output_type": "execute_result"
    }
   ],
   "source": [
    "df[df['km'] == '- km']['type'].value_counts(dropna = False)"
   ]
  },
  {
   "cell_type": "code",
   "execution_count": 262,
   "metadata": {},
   "outputs": [],
   "source": [
    "df.replace({'km' : {' km' : '', ',' : '', '-' : np.nan}}, regex = True, inplace = True)"
   ]
  },
  {
   "cell_type": "code",
   "execution_count": 263,
   "metadata": {},
   "outputs": [],
   "source": [
    "df['km'] = pd.to_numeric(df.km)"
   ]
  },
  {
   "cell_type": "code",
   "execution_count": 264,
   "metadata": {},
   "outputs": [
    {
     "data": {
      "text/plain": [
       "10.0       1045\n",
       "NaN        1024\n",
       "1.0         367\n",
       "5.0         170\n",
       "50.0        148\n",
       "           ... \n",
       "8329.0        1\n",
       "267.0         1\n",
       "1060.0        1\n",
       "73652.0       1\n",
       "49320.0       1\n",
       "Name: km, Length: 6690, dtype: int64"
      ]
     },
     "execution_count": 264,
     "metadata": {},
     "output_type": "execute_result"
    }
   ],
   "source": [
    "df['km'].value_counts(dropna = False)"
   ]
  },
  {
   "cell_type": "code",
   "execution_count": 265,
   "metadata": {},
   "outputs": [
    {
     "data": {
      "text/plain": [
       "0"
      ]
     },
     "execution_count": 265,
     "metadata": {},
     "output_type": "execute_result"
    }
   ],
   "source": [
    "df.make_model.isnull().sum()"
   ]
  },
  {
   "cell_type": "code",
   "execution_count": 266,
   "metadata": {},
   "outputs": [
    {
     "data": {
      "text/plain": [
       "Audi A3           3097\n",
       "Audi A1           2614\n",
       "Opel Insignia     2598\n",
       "Opel Astra        2526\n",
       "Opel Corsa        2219\n",
       "Renault Clio      1839\n",
       "Renault Espace     991\n",
       "Renault Duster      34\n",
       "Audi A2              1\n",
       "Name: make_model, dtype: int64"
      ]
     },
     "execution_count": 266,
     "metadata": {},
     "output_type": "execute_result"
    }
   ],
   "source": [
    "df.make_model.value_counts(dropna = False)"
   ]
  },
  {
   "cell_type": "code",
   "execution_count": 267,
   "metadata": {},
   "outputs": [],
   "source": [
    "df.drop(columns = ['make', 'model'], inplace = True)"
   ]
  },
  {
   "cell_type": "code",
   "execution_count": 268,
   "metadata": {},
   "outputs": [
    {
     "data": {
      "text/plain": [
       "0"
      ]
     },
     "execution_count": 268,
     "metadata": {},
     "output_type": "execute_result"
    }
   ],
   "source": [
    "df.registration.isnull().sum()"
   ]
  },
  {
   "cell_type": "code",
   "execution_count": 269,
   "metadata": {
    "scrolled": true
   },
   "outputs": [
    {
     "data": {
      "text/plain": [
       "-/-        1597\n",
       "03/2018     695\n",
       "02/2019     585\n",
       "05/2018     572\n",
       "03/2019     543\n",
       "04/2018     541\n",
       "01/2019     541\n",
       "02/2018     539\n",
       "03/2016     536\n",
       "04/2016     532\n",
       "06/2018     532\n",
       "01/2018     511\n",
       "04/2019     506\n",
       "02/2016     472\n",
       "03/2017     471\n",
       "05/2016     459\n",
       "06/2016     452\n",
       "05/2019     440\n",
       "06/2017     409\n",
       "05/2017     404\n",
       "07/2018     396\n",
       "04/2017     380\n",
       "01/2016     376\n",
       "02/2017     368\n",
       "01/2017     306\n",
       "08/2018     285\n",
       "06/2019     224\n",
       "07/2017     215\n",
       "11/2017     180\n",
       "07/2016     176\n",
       "10/2016     160\n",
       "10/2017     154\n",
       "09/2017     149\n",
       "11/2016     142\n",
       "09/2018     141\n",
       "09/2016     141\n",
       "12/2016     134\n",
       "12/2017     123\n",
       "08/2017     114\n",
       "11/2018     110\n",
       "12/2018     103\n",
       "10/2018      97\n",
       "08/2016      94\n",
       "07/2019       6\n",
       "09/2019       5\n",
       "12/2019       1\n",
       "08/2019       1\n",
       "11/2019       1\n",
       "Name: registration, dtype: int64"
      ]
     },
     "execution_count": 269,
     "metadata": {},
     "output_type": "execute_result"
    }
   ],
   "source": [
    "df.registration.value_counts(dropna = False)"
   ]
  },
  {
   "cell_type": "code",
   "execution_count": 270,
   "metadata": {},
   "outputs": [],
   "source": [
    "df.drop(columns = 'registration', inplace = True)"
   ]
  },
  {
   "cell_type": "code",
   "execution_count": 271,
   "metadata": {},
   "outputs": [
    {
     "data": {
      "text/plain": [
       "46"
      ]
     },
     "execution_count": 271,
     "metadata": {},
     "output_type": "execute_result"
    }
   ],
   "source": [
    "df.short_description.isnull().sum()"
   ]
  },
  {
   "cell_type": "code",
   "execution_count": 272,
   "metadata": {},
   "outputs": [
    {
     "data": {
      "text/plain": [
       "0           Sportback 1.4 TDI S-tronic Xenon Navi Klima\n",
       "1                                        1.8 TFSI sport\n",
       "2    Sportback 1.6 TDI S tronic Einparkhilfe plus+music\n",
       "3                               1.4 TDi Design S tronic\n",
       "4    Sportback 1.4 TDI S-Tronic S-Line Ext. admired, Xe\n",
       "Name: short_description, dtype: object"
      ]
     },
     "execution_count": 272,
     "metadata": {},
     "output_type": "execute_result"
    }
   ],
   "source": [
    "df.short_description.head()"
   ]
  },
  {
   "cell_type": "code",
   "execution_count": 273,
   "metadata": {},
   "outputs": [],
   "source": [
    "df.drop(columns = 'short_description', inplace = True)"
   ]
  },
  {
   "cell_type": "code",
   "execution_count": 274,
   "metadata": {},
   "outputs": [
    {
     "data": {
      "text/plain": [
       "4513"
      ]
     },
     "execution_count": 274,
     "metadata": {},
     "output_type": "execute_result"
    }
   ],
   "source": [
    "df.vat.isnull().sum()"
   ]
  },
  {
   "cell_type": "code",
   "execution_count": 275,
   "metadata": {},
   "outputs": [
    {
     "data": {
      "text/plain": [
       "VAT deductible      10980\n",
       "NaN                  4513\n",
       "Price negotiable      426\n",
       "Name: vat, dtype: int64"
      ]
     },
     "execution_count": 275,
     "metadata": {},
     "output_type": "execute_result"
    }
   ],
   "source": [
    "df.vat.value_counts(dropna = False)"
   ]
  },
  {
   "cell_type": "code",
   "execution_count": 276,
   "metadata": {},
   "outputs": [
    {
     "data": {
      "text/plain": [
       "0"
      ]
     },
     "execution_count": 276,
     "metadata": {},
     "output_type": "execute_result"
    }
   ],
   "source": [
    "df.price.isnull().sum()"
   ]
  },
  {
   "cell_type": "code",
   "execution_count": 277,
   "metadata": {},
   "outputs": [
    {
     "data": {
      "text/plain": [
       "14990    154\n",
       "15990    151\n",
       "10990    139\n",
       "15900    106\n",
       "17990    102\n",
       "        ... \n",
       "48490      1\n",
       "36180      1\n",
       "40745      1\n",
       "9545       1\n",
       "34815      1\n",
       "Name: price, Length: 2956, dtype: int64"
      ]
     },
     "execution_count": 277,
     "metadata": {},
     "output_type": "execute_result"
    }
   ],
   "source": [
    "df.price.value_counts(dropna = False)"
   ]
  },
  {
   "cell_type": "code",
   "execution_count": 278,
   "metadata": {},
   "outputs": [
    {
     "data": {
      "text/plain": [
       "8594        13\n",
       "8828       120\n",
       "6066       255\n",
       "8829       331\n",
       "8827      4950\n",
       "         ...  \n",
       "15828    64332\n",
       "3587     64900\n",
       "3649     67600\n",
       "15826    68320\n",
       "3648     74600\n",
       "Name: price, Length: 15919, dtype: int64"
      ]
     },
     "execution_count": 278,
     "metadata": {},
     "output_type": "execute_result"
    }
   ],
   "source": [
    "df.price.sort_values()"
   ]
  },
  {
   "cell_type": "code",
   "execution_count": 279,
   "metadata": {},
   "outputs": [],
   "source": [
    "current_clmns =  list(df.columns)"
   ]
  },
  {
   "cell_type": "code",
   "execution_count": 280,
   "metadata": {},
   "outputs": [],
   "source": [
    "df.drop(columns = 'displacement', inplace = True)"
   ]
  },
  {
   "cell_type": "code",
   "execution_count": 281,
   "metadata": {},
   "outputs": [],
   "source": [
    "df.drop(columns = 'fuel', inplace = True)"
   ]
  },
  {
   "cell_type": "code",
   "execution_count": 282,
   "metadata": {},
   "outputs": [],
   "source": [
    "df.drop(columns = 'consumption', inplace = True)"
   ]
  },
  {
   "cell_type": "code",
   "execution_count": 283,
   "metadata": {},
   "outputs": [],
   "source": [
    "df.drop(columns = 'co2_emission', inplace = True)"
   ]
  },
  {
   "cell_type": "code",
   "execution_count": 284,
   "metadata": {},
   "outputs": [],
   "source": [
    "df.drop(columns = 'emission_class', inplace = True)"
   ]
  },
  {
   "cell_type": "code",
   "execution_count": 285,
   "metadata": {},
   "outputs": [],
   "source": [
    "df.drop(columns = 'comfort&convenience', inplace = True)"
   ]
  },
  {
   "cell_type": "code",
   "execution_count": 286,
   "metadata": {},
   "outputs": [],
   "source": [
    "df.drop(columns = 'entertainment&media', inplace = True)"
   ]
  },
  {
   "cell_type": "code",
   "execution_count": 287,
   "metadata": {},
   "outputs": [],
   "source": [
    "df.drop(columns = 'extras', inplace = True)"
   ]
  },
  {
   "cell_type": "code",
   "execution_count": 288,
   "metadata": {},
   "outputs": [],
   "source": [
    "df.drop(columns = 'safety&security', inplace = True)"
   ]
  },
  {
   "cell_type": "code",
   "execution_count": 289,
   "metadata": {},
   "outputs": [],
   "source": [
    "df.drop(columns = 'hp', inplace = True)"
   ]
  },
  {
   "cell_type": "code",
   "execution_count": 290,
   "metadata": {},
   "outputs": [],
   "source": [
    "df.drop(columns = 'first_registration', inplace = True)"
   ]
  },
  {
   "cell_type": "code",
   "execution_count": 291,
   "metadata": {},
   "outputs": [
    {
     "data": {
      "text/plain": [
       "Sedans           7925\n",
       "Station wagon    3563\n",
       "Compact          3155\n",
       "Van               809\n",
       "Other             290\n",
       "Transporter        88\n",
       "Off-Road           56\n",
       "Coupe              25\n",
       "Convertible         8\n",
       "Name: body_type, dtype: int64"
      ]
     },
     "execution_count": 291,
     "metadata": {},
     "output_type": "execute_result"
    }
   ],
   "source": [
    "df.body_type.value_counts(dropna = False)"
   ]
  },
  {
   "cell_type": "code",
   "execution_count": 292,
   "metadata": {},
   "outputs": [],
   "source": [
    "df.body_type[df.body_type == \"Other\"] = np.nan"
   ]
  },
  {
   "cell_type": "code",
   "execution_count": 293,
   "metadata": {},
   "outputs": [],
   "source": [
    "fill_most(df, 'make_model', 'body_type')"
   ]
  },
  {
   "cell_type": "code",
   "execution_count": 294,
   "metadata": {},
   "outputs": [
    {
     "data": {
      "text/plain": [
       "<AxesSubplot:>"
      ]
     },
     "execution_count": 294,
     "metadata": {},
     "output_type": "execute_result"
    },
    {
     "data": {
      "image/png": "[encoded data removed]",
      "text/plain": [
       "<Figure size 432x288 with 1 Axes>"
      ]
     },
     "metadata": {
      "needs_background": "light"
     },
     "output_type": "display_data"
    }
   ],
   "source": [
    "df.body_type.value_counts(dropna = False).plot(kind = 'bar')"
   ]
  },
  {
   "cell_type": "code",
   "execution_count": 295,
   "metadata": {},
   "outputs": [
    {
     "data": {
      "text/plain": [
       "4      8105\n",
       "NaN    5680\n",
       "3      2104\n",
       "5        22\n",
       "6         3\n",
       "8         2\n",
       "2         2\n",
       "1         1\n",
       "Name: cylinders, dtype: int64"
      ]
     },
     "execution_count": 295,
     "metadata": {},
     "output_type": "execute_result"
    }
   ],
   "source": [
    "df.cylinders.value_counts(dropna = False)"
   ]
  },
  {
   "cell_type": "code",
   "execution_count": 296,
   "metadata": {},
   "outputs": [],
   "source": [
    "df.drop(columns = 'cylinders', inplace = True)"
   ]
  },
  {
   "cell_type": "code",
   "execution_count": 297,
   "metadata": {},
   "outputs": [
    {
     "data": {
      "text/plain": [
       "6      5822\n",
       "NaN    4712\n",
       "5      3240\n",
       "7      1908\n",
       "8       224\n",
       "9         6\n",
       "1         2\n",
       "4         2\n",
       "3         2\n",
       "2         1\n",
       "Name: gears, dtype: int64"
      ]
     },
     "execution_count": 297,
     "metadata": {},
     "output_type": "execute_result"
    }
   ],
   "source": [
    "df.gears.value_counts(dropna = False)"
   ]
  },
  {
   "cell_type": "code",
   "execution_count": 298,
   "metadata": {},
   "outputs": [],
   "source": [
    "df['gears'] = pd.to_numeric(df['gears'])"
   ]
  },
  {
   "cell_type": "code",
   "execution_count": 299,
   "metadata": {},
   "outputs": [],
   "source": [
    "df['gears'] = df['gears'].fillna(df.groupby('make_model')['gears'].transform('median'))"
   ]
  },
  {
   "cell_type": "code",
   "execution_count": 300,
   "metadata": {},
   "outputs": [
    {
     "data": {
      "text/plain": [
       "6.0    9361\n",
       "5.0    4412\n",
       "7.0    1908\n",
       "8.0     224\n",
       "9.0       6\n",
       "4.0       2\n",
       "3.0       2\n",
       "1.0       2\n",
       "2.0       1\n",
       "NaN       1\n",
       "Name: gears, dtype: int64"
      ]
     },
     "execution_count": 300,
     "metadata": {},
     "output_type": "execute_result"
    }
   ],
   "source": [
    "df.gears.value_counts(dropna = False)"
   ]
  },
  {
   "cell_type": "code",
   "execution_count": 301,
   "metadata": {},
   "outputs": [
    {
     "data": {
      "text/plain": [
       "make_model\n",
       "Audi A1           6.0\n",
       "Audi A2           NaN\n",
       "Audi A3           6.0\n",
       "Opel Astra        6.0\n",
       "Opel Corsa        5.0\n",
       "Opel Insignia     6.0\n",
       "Renault Clio      5.0\n",
       "Renault Duster    6.0\n",
       "Renault Espace    6.0\n",
       "Name: gears, dtype: float64"
      ]
     },
     "execution_count": 301,
     "metadata": {},
     "output_type": "execute_result"
    }
   ],
   "source": [
    "df.groupby('make_model')['gears'].median()"
   ]
  },
  {
   "cell_type": "code",
   "execution_count": 302,
   "metadata": {},
   "outputs": [],
   "source": [
    "df.gears.fillna(5, inplace = True)"
   ]
  },
  {
   "cell_type": "code",
   "execution_count": 303,
   "metadata": {},
   "outputs": [
    {
     "data": {
      "text/plain": [
       "6.0    9361\n",
       "5.0    4413\n",
       "7.0    1908\n",
       "8.0     224\n",
       "9.0       6\n",
       "4.0       2\n",
       "3.0       2\n",
       "1.0       2\n",
       "2.0       1\n",
       "Name: gears, dtype: int64"
      ]
     },
     "execution_count": 303,
     "metadata": {},
     "output_type": "execute_result"
    }
   ],
   "source": [
    "df.gears.value_counts(dropna = False)"
   ]
  },
  {
   "cell_type": "code",
   "execution_count": 304,
   "metadata": {},
   "outputs": [
    {
     "data": {
      "text/html": [
       "<div>\n",
       "<style scoped>\n",
       "    .dataframe tbody tr th:only-of-type {\n",
       "        vertical-align: middle;\n",
       "    }\n",
       "\n",
       "    .dataframe tbody tr th {\n",
       "        vertical-align: top;\n",
       "    }\n",
       "\n",
       "    .dataframe thead th {\n",
       "        text-align: right;\n",
       "    }\n",
       "</style>\n",
       "<table border=\"1\" class=\"dataframe\">\n",
       "  <thead>\n",
       "    <tr style=\"text-align: right;\">\n",
       "      <th></th>\n",
       "      <th>make_model</th>\n",
       "      <th>body_type</th>\n",
       "      <th>price</th>\n",
       "      <th>vat</th>\n",
       "      <th>km</th>\n",
       "      <th>type</th>\n",
       "      <th>previous_owners</th>\n",
       "      <th>next_inspection</th>\n",
       "      <th>inspection_new</th>\n",
       "      <th>body_color</th>\n",
       "      <th>paint_type</th>\n",
       "      <th>upholstery</th>\n",
       "      <th>nr_of_doors</th>\n",
       "      <th>nr_of_seats</th>\n",
       "      <th>gearing_type</th>\n",
       "      <th>drive_chain</th>\n",
       "      <th>emission_label</th>\n",
       "      <th>gears</th>\n",
       "      <th>country_version</th>\n",
       "      <th>cc_Air conditioning</th>\n",
       "      <th>cc_Air suspension</th>\n",
       "      <th>cc_Armrest</th>\n",
       "      <th>cc_Automatic climate control</th>\n",
       "      <th>cc_Auxiliary heating</th>\n",
       "      <th>cc_Cruise control</th>\n",
       "      <th>cc_Electric Starter</th>\n",
       "      <th>cc_Electric tailgate</th>\n",
       "      <th>cc_Electrical side mirrors</th>\n",
       "      <th>cc_Electrically adjustable seats</th>\n",
       "      <th>cc_Electrically heated windshield</th>\n",
       "      <th>cc_Heads-up display</th>\n",
       "      <th>cc_Heated steering wheel</th>\n",
       "      <th>cc_Hill Holder</th>\n",
       "      <th>cc_Keyless central door lock</th>\n",
       "      <th>cc_Leather seats</th>\n",
       "      <th>cc_Leather steering wheel</th>\n",
       "      <th>cc_Light sensor</th>\n",
       "      <th>cc_Lumbar support</th>\n",
       "      <th>cc_Massage seats</th>\n",
       "      <th>cc_Multi-function steering wheel</th>\n",
       "      <th>cc_Navigation system</th>\n",
       "      <th>cc_Panorama roof</th>\n",
       "      <th>cc_Park Distance Control</th>\n",
       "      <th>cc_Parking assist system camera</th>\n",
       "      <th>cc_Parking assist system self-steering</th>\n",
       "      <th>cc_Parking assist system sensors front</th>\n",
       "      <th>cc_Parking assist system sensors rear</th>\n",
       "      <th>cc_Power windows</th>\n",
       "      <th>cc_Rain sensor</th>\n",
       "      <th>cc_Seat heating</th>\n",
       "      <th>cc_Seat ventilation</th>\n",
       "      <th>cc_Split rear seats</th>\n",
       "      <th>cc_Start-stop system</th>\n",
       "      <th>cc_Sunroof</th>\n",
       "      <th>cc_Tinted windows</th>\n",
       "      <th>cc_Wind deflector</th>\n",
       "      <th>cc_Windshield</th>\n",
       "      <th>em_Bluetooth</th>\n",
       "      <th>em_CD player</th>\n",
       "      <th>em_Digital radio</th>\n",
       "      <th>em_Hands-free equipment</th>\n",
       "      <th>em_MP3</th>\n",
       "      <th>em_On-board computer</th>\n",
       "      <th>em_Radio</th>\n",
       "      <th>em_Sound system</th>\n",
       "      <th>em_Television</th>\n",
       "      <th>em_USB</th>\n",
       "      <th>ex_Alloy wheels</th>\n",
       "      <th>ex_Cab or rented Car</th>\n",
       "      <th>ex_Catalytic Converter</th>\n",
       "      <th>ex_Handicapped enabled</th>\n",
       "      <th>ex_Right hand drive</th>\n",
       "      <th>ex_Roof rack</th>\n",
       "      <th>ex_Shift paddles</th>\n",
       "      <th>ex_Ski bag</th>\n",
       "      <th>ex_Sliding door</th>\n",
       "      <th>ex_Sport package</th>\n",
       "      <th>ex_Sport seats</th>\n",
       "      <th>ex_Sport suspension</th>\n",
       "      <th>ex_Touch screen</th>\n",
       "      <th>ex_Trailer hitch</th>\n",
       "      <th>ex_Tuned car</th>\n",
       "      <th>ex_Voice Control</th>\n",
       "      <th>ex_Winter tyres</th>\n",
       "      <th>ss_ABS</th>\n",
       "      <th>ss_Adaptive Cruise Control</th>\n",
       "      <th>ss_Adaptive headlights</th>\n",
       "      <th>ss_Alarm system</th>\n",
       "      <th>ss_Blind spot monitor</th>\n",
       "      <th>ss_Central door lock</th>\n",
       "      <th>ss_Central door lock with remote control</th>\n",
       "      <th>ss_Daytime running lights</th>\n",
       "      <th>ss_Driver drowsiness detection</th>\n",
       "      <th>ss_Driver-side airbag</th>\n",
       "      <th>ss_Electronic stability control</th>\n",
       "      <th>ss_Emergency brake assistant</th>\n",
       "      <th>ss_Emergency system</th>\n",
       "      <th>ss_Fog lights</th>\n",
       "      <th>ss_Head airbag</th>\n",
       "      <th>ss_Immobilizer</th>\n",
       "      <th>ss_Isofix</th>\n",
       "      <th>ss_LED Daytime Running Lights</th>\n",
       "      <th>ss_LED Headlights</th>\n",
       "      <th>ss_Lane departure warning system</th>\n",
       "      <th>ss_Night view assist</th>\n",
       "      <th>ss_Passenger-side airbag</th>\n",
       "      <th>ss_Power steering</th>\n",
       "      <th>ss_Rear airbag</th>\n",
       "      <th>ss_Side airbag</th>\n",
       "      <th>ss_Tire pressure monitoring system</th>\n",
       "      <th>ss_Traction control</th>\n",
       "      <th>ss_Traffic sign recognition</th>\n",
       "      <th>ss_Xenon headlights</th>\n",
       "      <th>consumption_comb</th>\n",
       "      <th>co2_emission_new</th>\n",
       "      <th>displacement_cc</th>\n",
       "      <th>emission_class_new</th>\n",
       "      <th>register_age</th>\n",
       "      <th>fuel_new</th>\n",
       "      <th>hp_kw</th>\n",
       "    </tr>\n",
       "  </thead>\n",
       "  <tbody>\n",
       "    <tr>\n",
       "      <th>15822</th>\n",
       "      <td>Renault Espace</td>\n",
       "      <td>Van</td>\n",
       "      <td>50950</td>\n",
       "      <td>VAT deductible</td>\n",
       "      <td>11.0</td>\n",
       "      <td>New</td>\n",
       "      <td>1.0</td>\n",
       "      <td>NaT</td>\n",
       "      <td>0</td>\n",
       "      <td>Grey</td>\n",
       "      <td>Metallic</td>\n",
       "      <td>Cloth</td>\n",
       "      <td>5</td>\n",
       "      <td>NaN</td>\n",
       "      <td>Automatic</td>\n",
       "      <td>NaN</td>\n",
       "      <td>NaN</td>\n",
       "      <td>4.0</td>\n",
       "      <td>Netherlands</td>\n",
       "      <td>1</td>\n",
       "      <td>0</td>\n",
       "      <td>1</td>\n",
       "      <td>1</td>\n",
       "      <td>0</td>\n",
       "      <td>1</td>\n",
       "      <td>0</td>\n",
       "      <td>1</td>\n",
       "      <td>1</td>\n",
       "      <td>0</td>\n",
       "      <td>0</td>\n",
       "      <td>0</td>\n",
       "      <td>0</td>\n",
       "      <td>1</td>\n",
       "      <td>1</td>\n",
       "      <td>0</td>\n",
       "      <td>1</td>\n",
       "      <td>1</td>\n",
       "      <td>0</td>\n",
       "      <td>0</td>\n",
       "      <td>1</td>\n",
       "      <td>1</td>\n",
       "      <td>1</td>\n",
       "      <td>1</td>\n",
       "      <td>1</td>\n",
       "      <td>1</td>\n",
       "      <td>1</td>\n",
       "      <td>1</td>\n",
       "      <td>1</td>\n",
       "      <td>1</td>\n",
       "      <td>1</td>\n",
       "      <td>0</td>\n",
       "      <td>0</td>\n",
       "      <td>0</td>\n",
       "      <td>0</td>\n",
       "      <td>0</td>\n",
       "      <td>0</td>\n",
       "      <td>0</td>\n",
       "      <td>0</td>\n",
       "      <td>0</td>\n",
       "      <td>1</td>\n",
       "      <td>0</td>\n",
       "      <td>0</td>\n",
       "      <td>0</td>\n",
       "      <td>1</td>\n",
       "      <td>0</td>\n",
       "      <td>0</td>\n",
       "      <td>0</td>\n",
       "      <td>1</td>\n",
       "      <td>0</td>\n",
       "      <td>0</td>\n",
       "      <td>0</td>\n",
       "      <td>0</td>\n",
       "      <td>0</td>\n",
       "      <td>0</td>\n",
       "      <td>0</td>\n",
       "      <td>0</td>\n",
       "      <td>0</td>\n",
       "      <td>0</td>\n",
       "      <td>0</td>\n",
       "      <td>0</td>\n",
       "      <td>0</td>\n",
       "      <td>0</td>\n",
       "      <td>1</td>\n",
       "      <td>0</td>\n",
       "      <td>1</td>\n",
       "      <td>0</td>\n",
       "      <td>0</td>\n",
       "      <td>0</td>\n",
       "      <td>0</td>\n",
       "      <td>0</td>\n",
       "      <td>0</td>\n",
       "      <td>1</td>\n",
       "      <td>0</td>\n",
       "      <td>1</td>\n",
       "      <td>1</td>\n",
       "      <td>0</td>\n",
       "      <td>0</td>\n",
       "      <td>0</td>\n",
       "      <td>0</td>\n",
       "      <td>1</td>\n",
       "      <td>0</td>\n",
       "      <td>1</td>\n",
       "      <td>1</td>\n",
       "      <td>1</td>\n",
       "      <td>0</td>\n",
       "      <td>1</td>\n",
       "      <td>0</td>\n",
       "      <td>0</td>\n",
       "      <td>1</td>\n",
       "      <td>1</td>\n",
       "      <td>1</td>\n",
       "      <td>1</td>\n",
       "      <td>0</td>\n",
       "      <td>7.6</td>\n",
       "      <td>116</td>\n",
       "      <td>1798.0</td>\n",
       "      <td>NaN</td>\n",
       "      <td>1.0</td>\n",
       "      <td>Benzine</td>\n",
       "      <td>165</td>\n",
       "    </tr>\n",
       "    <tr>\n",
       "      <th>15823</th>\n",
       "      <td>Renault Espace</td>\n",
       "      <td>Van</td>\n",
       "      <td>50950</td>\n",
       "      <td>VAT deductible</td>\n",
       "      <td>11.0</td>\n",
       "      <td>New</td>\n",
       "      <td>1.0</td>\n",
       "      <td>NaT</td>\n",
       "      <td>0</td>\n",
       "      <td>Grey</td>\n",
       "      <td>Metallic</td>\n",
       "      <td>Cloth</td>\n",
       "      <td>5</td>\n",
       "      <td>NaN</td>\n",
       "      <td>Automatic</td>\n",
       "      <td>NaN</td>\n",
       "      <td>NaN</td>\n",
       "      <td>4.0</td>\n",
       "      <td>Netherlands</td>\n",
       "      <td>1</td>\n",
       "      <td>0</td>\n",
       "      <td>1</td>\n",
       "      <td>1</td>\n",
       "      <td>0</td>\n",
       "      <td>1</td>\n",
       "      <td>0</td>\n",
       "      <td>1</td>\n",
       "      <td>1</td>\n",
       "      <td>0</td>\n",
       "      <td>0</td>\n",
       "      <td>0</td>\n",
       "      <td>0</td>\n",
       "      <td>1</td>\n",
       "      <td>1</td>\n",
       "      <td>0</td>\n",
       "      <td>1</td>\n",
       "      <td>1</td>\n",
       "      <td>0</td>\n",
       "      <td>0</td>\n",
       "      <td>1</td>\n",
       "      <td>1</td>\n",
       "      <td>1</td>\n",
       "      <td>1</td>\n",
       "      <td>1</td>\n",
       "      <td>1</td>\n",
       "      <td>1</td>\n",
       "      <td>1</td>\n",
       "      <td>1</td>\n",
       "      <td>1</td>\n",
       "      <td>1</td>\n",
       "      <td>0</td>\n",
       "      <td>0</td>\n",
       "      <td>0</td>\n",
       "      <td>0</td>\n",
       "      <td>0</td>\n",
       "      <td>0</td>\n",
       "      <td>0</td>\n",
       "      <td>0</td>\n",
       "      <td>0</td>\n",
       "      <td>1</td>\n",
       "      <td>0</td>\n",
       "      <td>0</td>\n",
       "      <td>0</td>\n",
       "      <td>1</td>\n",
       "      <td>0</td>\n",
       "      <td>0</td>\n",
       "      <td>0</td>\n",
       "      <td>1</td>\n",
       "      <td>0</td>\n",
       "      <td>0</td>\n",
       "      <td>0</td>\n",
       "      <td>0</td>\n",
       "      <td>0</td>\n",
       "      <td>0</td>\n",
       "      <td>0</td>\n",
       "      <td>0</td>\n",
       "      <td>0</td>\n",
       "      <td>0</td>\n",
       "      <td>0</td>\n",
       "      <td>0</td>\n",
       "      <td>0</td>\n",
       "      <td>0</td>\n",
       "      <td>1</td>\n",
       "      <td>0</td>\n",
       "      <td>1</td>\n",
       "      <td>0</td>\n",
       "      <td>0</td>\n",
       "      <td>0</td>\n",
       "      <td>0</td>\n",
       "      <td>0</td>\n",
       "      <td>0</td>\n",
       "      <td>1</td>\n",
       "      <td>0</td>\n",
       "      <td>1</td>\n",
       "      <td>1</td>\n",
       "      <td>0</td>\n",
       "      <td>0</td>\n",
       "      <td>0</td>\n",
       "      <td>0</td>\n",
       "      <td>1</td>\n",
       "      <td>0</td>\n",
       "      <td>1</td>\n",
       "      <td>1</td>\n",
       "      <td>1</td>\n",
       "      <td>0</td>\n",
       "      <td>1</td>\n",
       "      <td>0</td>\n",
       "      <td>0</td>\n",
       "      <td>1</td>\n",
       "      <td>1</td>\n",
       "      <td>1</td>\n",
       "      <td>1</td>\n",
       "      <td>0</td>\n",
       "      <td>7.6</td>\n",
       "      <td>116</td>\n",
       "      <td>1798.0</td>\n",
       "      <td>NaN</td>\n",
       "      <td>1.0</td>\n",
       "      <td>Benzine</td>\n",
       "      <td>165</td>\n",
       "    </tr>\n",
       "  </tbody>\n",
       "</table>\n",
       "</div>"
      ],
      "text/plain": [
       "           make_model body_type  price             vat    km type  previous_owners next_inspection inspection_new body_color paint_type upholstery nr_of_doors nr_of_seats gearing_type drive_chain emission_label  gears country_version  cc_Air conditioning  cc_Air suspension  cc_Armrest  cc_Automatic climate control  cc_Auxiliary heating  cc_Cruise control  cc_Electric Starter  cc_Electric tailgate  cc_Electrical side mirrors  cc_Electrically adjustable seats  cc_Electrically heated windshield  cc_Heads-up display  cc_Heated steering wheel  cc_Hill Holder  cc_Keyless central door lock  cc_Leather seats  cc_Leather steering wheel  cc_Light sensor  cc_Lumbar support  cc_Massage seats  cc_Multi-function steering wheel  cc_Navigation system  cc_Panorama roof  cc_Park Distance Control  cc_Parking assist system camera  cc_Parking assist system self-steering  cc_Parking assist system sensors front  cc_Parking assist system sensors rear  cc_Power windows  cc_Rain sensor  cc_Seat heating  cc_Seat ventilation  cc_Split rear seats  cc_Start-stop system  cc_Sunroof  cc_Tinted windows  cc_Wind deflector  cc_Windshield  em_Bluetooth  em_CD player  em_Digital radio  em_Hands-free equipment  em_MP3  em_On-board computer  em_Radio  em_Sound system  em_Television  em_USB  ex_Alloy wheels  ex_Cab or rented Car  ex_Catalytic Converter  ex_Handicapped enabled  ex_Right hand drive  ex_Roof rack  ex_Shift paddles  ex_Ski bag  ex_Sliding door  ex_Sport package  ex_Sport seats  ex_Sport suspension  ex_Touch screen  ex_Trailer hitch  ex_Tuned car  ex_Voice Control  ex_Winter tyres  ss_ABS  ss_Adaptive Cruise Control  ss_Adaptive headlights  ss_Alarm system  ss_Blind spot monitor  ss_Central door lock  ss_Central door lock with remote control  ss_Daytime running lights  ss_Driver drowsiness detection  ss_Driver-side airbag  ss_Electronic stability control  ss_Emergency brake assistant  ss_Emergency system  ss_Fog lights  ss_Head airbag  ss_Immobilizer  ss_Isofix  \\\n",
       "15822  Renault Espace       Van  50950  VAT deductible  11.0  New              1.0             NaT              0       Grey   Metallic      Cloth           5         NaN    Automatic         NaN            NaN    4.0     Netherlands                    1                  0           1                             1                     0                  1                    0                     1                           1                                 0                                  0                    0                         0               1                             1                 0                          1                1                  0                 0                                 1                     1                 1                         1                                1                                       1                                       1                                      1                 1               1                1                    0                    0                     0           0                  0                  0              0             0             0                 1                        0       0                     0         1                0              0       0                1                     0                       0                       0                    0             0                 0           0                0                 0               0                    0                0                 0             0                 1                0       1                           0                       0                0                      0                     0                                         0                          1                               0                      1                                1                             0                    0              0               0               1          0   \n",
       "15823  Renault Espace       Van  50950  VAT deductible  11.0  New              1.0             NaT              0       Grey   Metallic      Cloth           5         NaN    Automatic         NaN            NaN    4.0     Netherlands                    1                  0           1                             1                     0                  1                    0                     1                           1                                 0                                  0                    0                         0               1                             1                 0                          1                1                  0                 0                                 1                     1                 1                         1                                1                                       1                                       1                                      1                 1               1                1                    0                    0                     0           0                  0                  0              0             0             0                 1                        0       0                     0         1                0              0       0                1                     0                       0                       0                    0             0                 0           0                0                 0               0                    0                0                 0             0                 1                0       1                           0                       0                0                      0                     0                                         0                          1                               0                      1                                1                             0                    0              0               0               1          0   \n",
       "\n",
       "       ss_LED Daytime Running Lights  ss_LED Headlights  ss_Lane departure warning system  ss_Night view assist  ss_Passenger-side airbag  ss_Power steering  ss_Rear airbag  ss_Side airbag  ss_Tire pressure monitoring system  ss_Traction control  ss_Traffic sign recognition  ss_Xenon headlights consumption_comb co2_emission_new  displacement_cc emission_class_new  register_age fuel_new  hp_kw  \n",
       "15822                              1                  1                                 1                     0                         1                  0               0               1                                   1                    1                            1                    0              7.6              116           1798.0                NaN           1.0  Benzine    165  \n",
       "15823                              1                  1                                 1                     0                         1                  0               0               1                                   1                    1                            1                    0              7.6              116           1798.0                NaN           1.0  Benzine    165  "
      ]
     },
     "execution_count": 304,
     "metadata": {},
     "output_type": "execute_result"
    }
   ],
   "source": [
    "df[df['gears'] == 4]"
   ]
  },
  {
   "cell_type": "code",
   "execution_count": 305,
   "metadata": {},
   "outputs": [],
   "source": [
    "df.gears.iloc[15822] = 7\n",
    "df.gears.iloc[15823] = 7"
   ]
  },
  {
   "cell_type": "code",
   "execution_count": 306,
   "metadata": {},
   "outputs": [
    {
     "data": {
      "text/plain": [
       "6.0    9361\n",
       "5.0    4413\n",
       "7.0    1910\n",
       "8.0     224\n",
       "9.0       6\n",
       "3.0       2\n",
       "1.0       2\n",
       "2.0       1\n",
       "Name: gears, dtype: int64"
      ]
     },
     "execution_count": 306,
     "metadata": {},
     "output_type": "execute_result"
    }
   ],
   "source": [
    "df.gears.value_counts(dropna = False)"
   ]
  },
  {
   "cell_type": "code",
   "execution_count": 307,
   "metadata": {},
   "outputs": [
    {
     "data": {
      "text/html": [
       "<div>\n",
       "<style scoped>\n",
       "    .dataframe tbody tr th:only-of-type {\n",
       "        vertical-align: middle;\n",
       "    }\n",
       "\n",
       "    .dataframe tbody tr th {\n",
       "        vertical-align: top;\n",
       "    }\n",
       "\n",
       "    .dataframe thead th {\n",
       "        text-align: right;\n",
       "    }\n",
       "</style>\n",
       "<table border=\"1\" class=\"dataframe\">\n",
       "  <thead>\n",
       "    <tr style=\"text-align: right;\">\n",
       "      <th></th>\n",
       "      <th>make_model</th>\n",
       "      <th>body_type</th>\n",
       "      <th>price</th>\n",
       "      <th>vat</th>\n",
       "      <th>km</th>\n",
       "      <th>type</th>\n",
       "      <th>previous_owners</th>\n",
       "      <th>next_inspection</th>\n",
       "      <th>inspection_new</th>\n",
       "      <th>body_color</th>\n",
       "      <th>paint_type</th>\n",
       "      <th>upholstery</th>\n",
       "      <th>nr_of_doors</th>\n",
       "      <th>nr_of_seats</th>\n",
       "      <th>gearing_type</th>\n",
       "      <th>drive_chain</th>\n",
       "      <th>emission_label</th>\n",
       "      <th>gears</th>\n",
       "      <th>country_version</th>\n",
       "      <th>cc_Air conditioning</th>\n",
       "      <th>cc_Air suspension</th>\n",
       "      <th>cc_Armrest</th>\n",
       "      <th>cc_Automatic climate control</th>\n",
       "      <th>cc_Auxiliary heating</th>\n",
       "      <th>cc_Cruise control</th>\n",
       "      <th>cc_Electric Starter</th>\n",
       "      <th>cc_Electric tailgate</th>\n",
       "      <th>cc_Electrical side mirrors</th>\n",
       "      <th>cc_Electrically adjustable seats</th>\n",
       "      <th>cc_Electrically heated windshield</th>\n",
       "      <th>cc_Heads-up display</th>\n",
       "      <th>cc_Heated steering wheel</th>\n",
       "      <th>cc_Hill Holder</th>\n",
       "      <th>cc_Keyless central door lock</th>\n",
       "      <th>cc_Leather seats</th>\n",
       "      <th>cc_Leather steering wheel</th>\n",
       "      <th>cc_Light sensor</th>\n",
       "      <th>cc_Lumbar support</th>\n",
       "      <th>cc_Massage seats</th>\n",
       "      <th>cc_Multi-function steering wheel</th>\n",
       "      <th>cc_Navigation system</th>\n",
       "      <th>cc_Panorama roof</th>\n",
       "      <th>cc_Park Distance Control</th>\n",
       "      <th>cc_Parking assist system camera</th>\n",
       "      <th>cc_Parking assist system self-steering</th>\n",
       "      <th>cc_Parking assist system sensors front</th>\n",
       "      <th>cc_Parking assist system sensors rear</th>\n",
       "      <th>cc_Power windows</th>\n",
       "      <th>cc_Rain sensor</th>\n",
       "      <th>cc_Seat heating</th>\n",
       "      <th>cc_Seat ventilation</th>\n",
       "      <th>cc_Split rear seats</th>\n",
       "      <th>cc_Start-stop system</th>\n",
       "      <th>cc_Sunroof</th>\n",
       "      <th>cc_Tinted windows</th>\n",
       "      <th>cc_Wind deflector</th>\n",
       "      <th>cc_Windshield</th>\n",
       "      <th>em_Bluetooth</th>\n",
       "      <th>em_CD player</th>\n",
       "      <th>em_Digital radio</th>\n",
       "      <th>em_Hands-free equipment</th>\n",
       "      <th>em_MP3</th>\n",
       "      <th>em_On-board computer</th>\n",
       "      <th>em_Radio</th>\n",
       "      <th>em_Sound system</th>\n",
       "      <th>em_Television</th>\n",
       "      <th>em_USB</th>\n",
       "      <th>ex_Alloy wheels</th>\n",
       "      <th>ex_Cab or rented Car</th>\n",
       "      <th>ex_Catalytic Converter</th>\n",
       "      <th>ex_Handicapped enabled</th>\n",
       "      <th>ex_Right hand drive</th>\n",
       "      <th>ex_Roof rack</th>\n",
       "      <th>ex_Shift paddles</th>\n",
       "      <th>ex_Ski bag</th>\n",
       "      <th>ex_Sliding door</th>\n",
       "      <th>ex_Sport package</th>\n",
       "      <th>ex_Sport seats</th>\n",
       "      <th>ex_Sport suspension</th>\n",
       "      <th>ex_Touch screen</th>\n",
       "      <th>ex_Trailer hitch</th>\n",
       "      <th>ex_Tuned car</th>\n",
       "      <th>ex_Voice Control</th>\n",
       "      <th>ex_Winter tyres</th>\n",
       "      <th>ss_ABS</th>\n",
       "      <th>ss_Adaptive Cruise Control</th>\n",
       "      <th>ss_Adaptive headlights</th>\n",
       "      <th>ss_Alarm system</th>\n",
       "      <th>ss_Blind spot monitor</th>\n",
       "      <th>ss_Central door lock</th>\n",
       "      <th>ss_Central door lock with remote control</th>\n",
       "      <th>ss_Daytime running lights</th>\n",
       "      <th>ss_Driver drowsiness detection</th>\n",
       "      <th>ss_Driver-side airbag</th>\n",
       "      <th>ss_Electronic stability control</th>\n",
       "      <th>ss_Emergency brake assistant</th>\n",
       "      <th>ss_Emergency system</th>\n",
       "      <th>ss_Fog lights</th>\n",
       "      <th>ss_Head airbag</th>\n",
       "      <th>ss_Immobilizer</th>\n",
       "      <th>ss_Isofix</th>\n",
       "      <th>ss_LED Daytime Running Lights</th>\n",
       "      <th>ss_LED Headlights</th>\n",
       "      <th>ss_Lane departure warning system</th>\n",
       "      <th>ss_Night view assist</th>\n",
       "      <th>ss_Passenger-side airbag</th>\n",
       "      <th>ss_Power steering</th>\n",
       "      <th>ss_Rear airbag</th>\n",
       "      <th>ss_Side airbag</th>\n",
       "      <th>ss_Tire pressure monitoring system</th>\n",
       "      <th>ss_Traction control</th>\n",
       "      <th>ss_Traffic sign recognition</th>\n",
       "      <th>ss_Xenon headlights</th>\n",
       "      <th>consumption_comb</th>\n",
       "      <th>co2_emission_new</th>\n",
       "      <th>displacement_cc</th>\n",
       "      <th>emission_class_new</th>\n",
       "      <th>register_age</th>\n",
       "      <th>fuel_new</th>\n",
       "      <th>hp_kw</th>\n",
       "    </tr>\n",
       "  </thead>\n",
       "  <tbody>\n",
       "    <tr>\n",
       "      <th>15817</th>\n",
       "      <td>Renault Espace</td>\n",
       "      <td>Van</td>\n",
       "      <td>54204</td>\n",
       "      <td>VAT deductible</td>\n",
       "      <td>11.0</td>\n",
       "      <td>New</td>\n",
       "      <td>1.0</td>\n",
       "      <td>NaT</td>\n",
       "      <td>0</td>\n",
       "      <td>White</td>\n",
       "      <td>Metallic</td>\n",
       "      <td>Part leather</td>\n",
       "      <td>5</td>\n",
       "      <td>NaN</td>\n",
       "      <td>Automatic</td>\n",
       "      <td>NaN</td>\n",
       "      <td>NaN</td>\n",
       "      <td>3.0</td>\n",
       "      <td>Netherlands</td>\n",
       "      <td>1</td>\n",
       "      <td>0</td>\n",
       "      <td>1</td>\n",
       "      <td>1</td>\n",
       "      <td>0</td>\n",
       "      <td>1</td>\n",
       "      <td>0</td>\n",
       "      <td>1</td>\n",
       "      <td>1</td>\n",
       "      <td>1</td>\n",
       "      <td>1</td>\n",
       "      <td>1</td>\n",
       "      <td>1</td>\n",
       "      <td>1</td>\n",
       "      <td>1</td>\n",
       "      <td>0</td>\n",
       "      <td>1</td>\n",
       "      <td>1</td>\n",
       "      <td>0</td>\n",
       "      <td>0</td>\n",
       "      <td>1</td>\n",
       "      <td>1</td>\n",
       "      <td>0</td>\n",
       "      <td>1</td>\n",
       "      <td>1</td>\n",
       "      <td>1</td>\n",
       "      <td>1</td>\n",
       "      <td>1</td>\n",
       "      <td>1</td>\n",
       "      <td>1</td>\n",
       "      <td>1</td>\n",
       "      <td>1</td>\n",
       "      <td>0</td>\n",
       "      <td>0</td>\n",
       "      <td>0</td>\n",
       "      <td>0</td>\n",
       "      <td>0</td>\n",
       "      <td>0</td>\n",
       "      <td>0</td>\n",
       "      <td>0</td>\n",
       "      <td>1</td>\n",
       "      <td>0</td>\n",
       "      <td>0</td>\n",
       "      <td>0</td>\n",
       "      <td>1</td>\n",
       "      <td>0</td>\n",
       "      <td>0</td>\n",
       "      <td>0</td>\n",
       "      <td>1</td>\n",
       "      <td>0</td>\n",
       "      <td>0</td>\n",
       "      <td>0</td>\n",
       "      <td>0</td>\n",
       "      <td>0</td>\n",
       "      <td>0</td>\n",
       "      <td>0</td>\n",
       "      <td>0</td>\n",
       "      <td>0</td>\n",
       "      <td>0</td>\n",
       "      <td>0</td>\n",
       "      <td>0</td>\n",
       "      <td>0</td>\n",
       "      <td>0</td>\n",
       "      <td>1</td>\n",
       "      <td>0</td>\n",
       "      <td>1</td>\n",
       "      <td>0</td>\n",
       "      <td>0</td>\n",
       "      <td>0</td>\n",
       "      <td>0</td>\n",
       "      <td>0</td>\n",
       "      <td>0</td>\n",
       "      <td>1</td>\n",
       "      <td>0</td>\n",
       "      <td>1</td>\n",
       "      <td>1</td>\n",
       "      <td>0</td>\n",
       "      <td>0</td>\n",
       "      <td>0</td>\n",
       "      <td>0</td>\n",
       "      <td>1</td>\n",
       "      <td>0</td>\n",
       "      <td>1</td>\n",
       "      <td>1</td>\n",
       "      <td>1</td>\n",
       "      <td>0</td>\n",
       "      <td>1</td>\n",
       "      <td>0</td>\n",
       "      <td>0</td>\n",
       "      <td>1</td>\n",
       "      <td>1</td>\n",
       "      <td>1</td>\n",
       "      <td>1</td>\n",
       "      <td>0</td>\n",
       "      <td>5.4</td>\n",
       "      <td>116</td>\n",
       "      <td>1997.0</td>\n",
       "      <td>NaN</td>\n",
       "      <td>1.0</td>\n",
       "      <td>Diesel</td>\n",
       "      <td>146</td>\n",
       "    </tr>\n",
       "    <tr>\n",
       "      <th>15845</th>\n",
       "      <td>Renault Espace</td>\n",
       "      <td>Van</td>\n",
       "      <td>46660</td>\n",
       "      <td>VAT deductible</td>\n",
       "      <td>11.0</td>\n",
       "      <td>New</td>\n",
       "      <td>1.0</td>\n",
       "      <td>NaT</td>\n",
       "      <td>0</td>\n",
       "      <td>White</td>\n",
       "      <td>NaN</td>\n",
       "      <td>Part leather</td>\n",
       "      <td>5</td>\n",
       "      <td>NaN</td>\n",
       "      <td>Automatic</td>\n",
       "      <td>NaN</td>\n",
       "      <td>NaN</td>\n",
       "      <td>3.0</td>\n",
       "      <td>Netherlands</td>\n",
       "      <td>1</td>\n",
       "      <td>0</td>\n",
       "      <td>1</td>\n",
       "      <td>1</td>\n",
       "      <td>0</td>\n",
       "      <td>1</td>\n",
       "      <td>0</td>\n",
       "      <td>0</td>\n",
       "      <td>1</td>\n",
       "      <td>0</td>\n",
       "      <td>0</td>\n",
       "      <td>0</td>\n",
       "      <td>0</td>\n",
       "      <td>1</td>\n",
       "      <td>1</td>\n",
       "      <td>0</td>\n",
       "      <td>1</td>\n",
       "      <td>1</td>\n",
       "      <td>0</td>\n",
       "      <td>0</td>\n",
       "      <td>1</td>\n",
       "      <td>1</td>\n",
       "      <td>0</td>\n",
       "      <td>1</td>\n",
       "      <td>0</td>\n",
       "      <td>0</td>\n",
       "      <td>1</td>\n",
       "      <td>1</td>\n",
       "      <td>1</td>\n",
       "      <td>1</td>\n",
       "      <td>0</td>\n",
       "      <td>0</td>\n",
       "      <td>0</td>\n",
       "      <td>0</td>\n",
       "      <td>0</td>\n",
       "      <td>0</td>\n",
       "      <td>0</td>\n",
       "      <td>0</td>\n",
       "      <td>0</td>\n",
       "      <td>0</td>\n",
       "      <td>1</td>\n",
       "      <td>0</td>\n",
       "      <td>0</td>\n",
       "      <td>0</td>\n",
       "      <td>1</td>\n",
       "      <td>0</td>\n",
       "      <td>0</td>\n",
       "      <td>0</td>\n",
       "      <td>1</td>\n",
       "      <td>0</td>\n",
       "      <td>0</td>\n",
       "      <td>0</td>\n",
       "      <td>0</td>\n",
       "      <td>0</td>\n",
       "      <td>0</td>\n",
       "      <td>0</td>\n",
       "      <td>0</td>\n",
       "      <td>0</td>\n",
       "      <td>0</td>\n",
       "      <td>0</td>\n",
       "      <td>0</td>\n",
       "      <td>0</td>\n",
       "      <td>0</td>\n",
       "      <td>1</td>\n",
       "      <td>0</td>\n",
       "      <td>1</td>\n",
       "      <td>0</td>\n",
       "      <td>0</td>\n",
       "      <td>0</td>\n",
       "      <td>0</td>\n",
       "      <td>0</td>\n",
       "      <td>0</td>\n",
       "      <td>1</td>\n",
       "      <td>0</td>\n",
       "      <td>1</td>\n",
       "      <td>1</td>\n",
       "      <td>0</td>\n",
       "      <td>0</td>\n",
       "      <td>0</td>\n",
       "      <td>0</td>\n",
       "      <td>1</td>\n",
       "      <td>0</td>\n",
       "      <td>1</td>\n",
       "      <td>1</td>\n",
       "      <td>1</td>\n",
       "      <td>0</td>\n",
       "      <td>1</td>\n",
       "      <td>0</td>\n",
       "      <td>0</td>\n",
       "      <td>1</td>\n",
       "      <td>1</td>\n",
       "      <td>1</td>\n",
       "      <td>1</td>\n",
       "      <td>0</td>\n",
       "      <td>5.1</td>\n",
       "      <td>116</td>\n",
       "      <td>1997.0</td>\n",
       "      <td>NaN</td>\n",
       "      <td>1.0</td>\n",
       "      <td>Diesel</td>\n",
       "      <td>118</td>\n",
       "    </tr>\n",
       "  </tbody>\n",
       "</table>\n",
       "</div>"
      ],
      "text/plain": [
       "           make_model body_type  price             vat    km type  previous_owners next_inspection inspection_new body_color paint_type    upholstery nr_of_doors nr_of_seats gearing_type drive_chain emission_label  gears country_version  cc_Air conditioning  cc_Air suspension  cc_Armrest  cc_Automatic climate control  cc_Auxiliary heating  cc_Cruise control  cc_Electric Starter  cc_Electric tailgate  cc_Electrical side mirrors  cc_Electrically adjustable seats  cc_Electrically heated windshield  cc_Heads-up display  cc_Heated steering wheel  cc_Hill Holder  cc_Keyless central door lock  cc_Leather seats  cc_Leather steering wheel  cc_Light sensor  cc_Lumbar support  cc_Massage seats  cc_Multi-function steering wheel  cc_Navigation system  cc_Panorama roof  cc_Park Distance Control  cc_Parking assist system camera  cc_Parking assist system self-steering  cc_Parking assist system sensors front  cc_Parking assist system sensors rear  cc_Power windows  cc_Rain sensor  cc_Seat heating  cc_Seat ventilation  cc_Split rear seats  cc_Start-stop system  cc_Sunroof  cc_Tinted windows  cc_Wind deflector  cc_Windshield  em_Bluetooth  em_CD player  em_Digital radio  em_Hands-free equipment  em_MP3  em_On-board computer  em_Radio  em_Sound system  em_Television  em_USB  ex_Alloy wheels  ex_Cab or rented Car  ex_Catalytic Converter  ex_Handicapped enabled  ex_Right hand drive  ex_Roof rack  ex_Shift paddles  ex_Ski bag  ex_Sliding door  ex_Sport package  ex_Sport seats  ex_Sport suspension  ex_Touch screen  ex_Trailer hitch  ex_Tuned car  ex_Voice Control  ex_Winter tyres  ss_ABS  ss_Adaptive Cruise Control  ss_Adaptive headlights  ss_Alarm system  ss_Blind spot monitor  ss_Central door lock  ss_Central door lock with remote control  ss_Daytime running lights  ss_Driver drowsiness detection  ss_Driver-side airbag  ss_Electronic stability control  ss_Emergency brake assistant  ss_Emergency system  ss_Fog lights  ss_Head airbag  ss_Immobilizer  ss_Isofix  \\\n",
       "15817  Renault Espace       Van  54204  VAT deductible  11.0  New              1.0             NaT              0      White   Metallic  Part leather           5         NaN    Automatic         NaN            NaN    3.0     Netherlands                    1                  0           1                             1                     0                  1                    0                     1                           1                                 1                                  1                    1                         1               1                             1                 0                          1                1                  0                 0                                 1                     1                 0                         1                                1                                       1                                       1                                      1                 1               1                1                    1                    0                     0           0                  0                  0              0             0             0                 1                        0       0                     0         1                0              0       0                1                     0                       0                       0                    0             0                 0           0                0                 0               0                    0                0                 0             0                 1                0       1                           0                       0                0                      0                     0                                         0                          1                               0                      1                                1                             0                    0              0               0               1          0   \n",
       "15845  Renault Espace       Van  46660  VAT deductible  11.0  New              1.0             NaT              0      White        NaN  Part leather           5         NaN    Automatic         NaN            NaN    3.0     Netherlands                    1                  0           1                             1                     0                  1                    0                     0                           1                                 0                                  0                    0                         0               1                             1                 0                          1                1                  0                 0                                 1                     1                 0                         1                                0                                       0                                       1                                      1                 1               1                0                    0                    0                     0           0                  0                  0              0             0             0                 1                        0       0                     0         1                0              0       0                1                     0                       0                       0                    0             0                 0           0                0                 0               0                    0                0                 0             0                 1                0       1                           0                       0                0                      0                     0                                         0                          1                               0                      1                                1                             0                    0              0               0               1          0   \n",
       "\n",
       "       ss_LED Daytime Running Lights  ss_LED Headlights  ss_Lane departure warning system  ss_Night view assist  ss_Passenger-side airbag  ss_Power steering  ss_Rear airbag  ss_Side airbag  ss_Tire pressure monitoring system  ss_Traction control  ss_Traffic sign recognition  ss_Xenon headlights consumption_comb co2_emission_new  displacement_cc emission_class_new  register_age fuel_new  hp_kw  \n",
       "15817                              1                  1                                 1                     0                         1                  0               0               1                                   1                    1                            1                    0              5.4              116           1997.0                NaN           1.0   Diesel    146  \n",
       "15845                              1                  1                                 1                     0                         1                  0               0               1                                   1                    1                            1                    0              5.1              116           1997.0                NaN           1.0   Diesel    118  "
      ]
     },
     "execution_count": 307,
     "metadata": {},
     "output_type": "execute_result"
    }
   ],
   "source": [
    "df[df['gears'] == 3]"
   ]
  },
  {
   "cell_type": "code",
   "execution_count": 308,
   "metadata": {},
   "outputs": [],
   "source": [
    "df.gears.iloc[15817] = 7\n",
    "df.gears.iloc[15845] = 7"
   ]
  },
  {
   "cell_type": "code",
   "execution_count": 309,
   "metadata": {},
   "outputs": [
    {
     "data": {
      "text/html": [
       "<div>\n",
       "<style scoped>\n",
       "    .dataframe tbody tr th:only-of-type {\n",
       "        vertical-align: middle;\n",
       "    }\n",
       "\n",
       "    .dataframe tbody tr th {\n",
       "        vertical-align: top;\n",
       "    }\n",
       "\n",
       "    .dataframe thead th {\n",
       "        text-align: right;\n",
       "    }\n",
       "</style>\n",
       "<table border=\"1\" class=\"dataframe\">\n",
       "  <thead>\n",
       "    <tr style=\"text-align: right;\">\n",
       "      <th></th>\n",
       "      <th>make_model</th>\n",
       "      <th>body_type</th>\n",
       "      <th>price</th>\n",
       "      <th>vat</th>\n",
       "      <th>km</th>\n",
       "      <th>type</th>\n",
       "      <th>previous_owners</th>\n",
       "      <th>next_inspection</th>\n",
       "      <th>inspection_new</th>\n",
       "      <th>body_color</th>\n",
       "      <th>paint_type</th>\n",
       "      <th>upholstery</th>\n",
       "      <th>nr_of_doors</th>\n",
       "      <th>nr_of_seats</th>\n",
       "      <th>gearing_type</th>\n",
       "      <th>drive_chain</th>\n",
       "      <th>emission_label</th>\n",
       "      <th>gears</th>\n",
       "      <th>country_version</th>\n",
       "      <th>cc_Air conditioning</th>\n",
       "      <th>cc_Air suspension</th>\n",
       "      <th>cc_Armrest</th>\n",
       "      <th>cc_Automatic climate control</th>\n",
       "      <th>cc_Auxiliary heating</th>\n",
       "      <th>cc_Cruise control</th>\n",
       "      <th>cc_Electric Starter</th>\n",
       "      <th>cc_Electric tailgate</th>\n",
       "      <th>cc_Electrical side mirrors</th>\n",
       "      <th>cc_Electrically adjustable seats</th>\n",
       "      <th>cc_Electrically heated windshield</th>\n",
       "      <th>cc_Heads-up display</th>\n",
       "      <th>cc_Heated steering wheel</th>\n",
       "      <th>cc_Hill Holder</th>\n",
       "      <th>cc_Keyless central door lock</th>\n",
       "      <th>cc_Leather seats</th>\n",
       "      <th>cc_Leather steering wheel</th>\n",
       "      <th>cc_Light sensor</th>\n",
       "      <th>cc_Lumbar support</th>\n",
       "      <th>cc_Massage seats</th>\n",
       "      <th>cc_Multi-function steering wheel</th>\n",
       "      <th>cc_Navigation system</th>\n",
       "      <th>cc_Panorama roof</th>\n",
       "      <th>cc_Park Distance Control</th>\n",
       "      <th>cc_Parking assist system camera</th>\n",
       "      <th>cc_Parking assist system self-steering</th>\n",
       "      <th>cc_Parking assist system sensors front</th>\n",
       "      <th>cc_Parking assist system sensors rear</th>\n",
       "      <th>cc_Power windows</th>\n",
       "      <th>cc_Rain sensor</th>\n",
       "      <th>cc_Seat heating</th>\n",
       "      <th>cc_Seat ventilation</th>\n",
       "      <th>cc_Split rear seats</th>\n",
       "      <th>cc_Start-stop system</th>\n",
       "      <th>cc_Sunroof</th>\n",
       "      <th>cc_Tinted windows</th>\n",
       "      <th>cc_Wind deflector</th>\n",
       "      <th>cc_Windshield</th>\n",
       "      <th>em_Bluetooth</th>\n",
       "      <th>em_CD player</th>\n",
       "      <th>em_Digital radio</th>\n",
       "      <th>em_Hands-free equipment</th>\n",
       "      <th>em_MP3</th>\n",
       "      <th>em_On-board computer</th>\n",
       "      <th>em_Radio</th>\n",
       "      <th>em_Sound system</th>\n",
       "      <th>em_Television</th>\n",
       "      <th>em_USB</th>\n",
       "      <th>ex_Alloy wheels</th>\n",
       "      <th>ex_Cab or rented Car</th>\n",
       "      <th>ex_Catalytic Converter</th>\n",
       "      <th>ex_Handicapped enabled</th>\n",
       "      <th>ex_Right hand drive</th>\n",
       "      <th>ex_Roof rack</th>\n",
       "      <th>ex_Shift paddles</th>\n",
       "      <th>ex_Ski bag</th>\n",
       "      <th>ex_Sliding door</th>\n",
       "      <th>ex_Sport package</th>\n",
       "      <th>ex_Sport seats</th>\n",
       "      <th>ex_Sport suspension</th>\n",
       "      <th>ex_Touch screen</th>\n",
       "      <th>ex_Trailer hitch</th>\n",
       "      <th>ex_Tuned car</th>\n",
       "      <th>ex_Voice Control</th>\n",
       "      <th>ex_Winter tyres</th>\n",
       "      <th>ss_ABS</th>\n",
       "      <th>ss_Adaptive Cruise Control</th>\n",
       "      <th>ss_Adaptive headlights</th>\n",
       "      <th>ss_Alarm system</th>\n",
       "      <th>ss_Blind spot monitor</th>\n",
       "      <th>ss_Central door lock</th>\n",
       "      <th>ss_Central door lock with remote control</th>\n",
       "      <th>ss_Daytime running lights</th>\n",
       "      <th>ss_Driver drowsiness detection</th>\n",
       "      <th>ss_Driver-side airbag</th>\n",
       "      <th>ss_Electronic stability control</th>\n",
       "      <th>ss_Emergency brake assistant</th>\n",
       "      <th>ss_Emergency system</th>\n",
       "      <th>ss_Fog lights</th>\n",
       "      <th>ss_Head airbag</th>\n",
       "      <th>ss_Immobilizer</th>\n",
       "      <th>ss_Isofix</th>\n",
       "      <th>ss_LED Daytime Running Lights</th>\n",
       "      <th>ss_LED Headlights</th>\n",
       "      <th>ss_Lane departure warning system</th>\n",
       "      <th>ss_Night view assist</th>\n",
       "      <th>ss_Passenger-side airbag</th>\n",
       "      <th>ss_Power steering</th>\n",
       "      <th>ss_Rear airbag</th>\n",
       "      <th>ss_Side airbag</th>\n",
       "      <th>ss_Tire pressure monitoring system</th>\n",
       "      <th>ss_Traction control</th>\n",
       "      <th>ss_Traffic sign recognition</th>\n",
       "      <th>ss_Xenon headlights</th>\n",
       "      <th>consumption_comb</th>\n",
       "      <th>co2_emission_new</th>\n",
       "      <th>displacement_cc</th>\n",
       "      <th>emission_class_new</th>\n",
       "      <th>register_age</th>\n",
       "      <th>fuel_new</th>\n",
       "      <th>hp_kw</th>\n",
       "    </tr>\n",
       "  </thead>\n",
       "  <tbody>\n",
       "    <tr>\n",
       "      <th>8921</th>\n",
       "      <td>Opel Corsa</td>\n",
       "      <td>Compact</td>\n",
       "      <td>11000</td>\n",
       "      <td>VAT deductible</td>\n",
       "      <td>24000.0</td>\n",
       "      <td>Used</td>\n",
       "      <td>1.0</td>\n",
       "      <td>NaT</td>\n",
       "      <td>0</td>\n",
       "      <td>Blue</td>\n",
       "      <td>Metallic</td>\n",
       "      <td>Cloth, Black</td>\n",
       "      <td>5</td>\n",
       "      <td>5</td>\n",
       "      <td>Semi-automatic</td>\n",
       "      <td>front</td>\n",
       "      <td>NaN</td>\n",
       "      <td>1.0</td>\n",
       "      <td>Belgium</td>\n",
       "      <td>1</td>\n",
       "      <td>0</td>\n",
       "      <td>0</td>\n",
       "      <td>0</td>\n",
       "      <td>0</td>\n",
       "      <td>0</td>\n",
       "      <td>0</td>\n",
       "      <td>0</td>\n",
       "      <td>0</td>\n",
       "      <td>0</td>\n",
       "      <td>0</td>\n",
       "      <td>0</td>\n",
       "      <td>0</td>\n",
       "      <td>0</td>\n",
       "      <td>0</td>\n",
       "      <td>0</td>\n",
       "      <td>0</td>\n",
       "      <td>1</td>\n",
       "      <td>0</td>\n",
       "      <td>0</td>\n",
       "      <td>1</td>\n",
       "      <td>1</td>\n",
       "      <td>0</td>\n",
       "      <td>0</td>\n",
       "      <td>0</td>\n",
       "      <td>0</td>\n",
       "      <td>0</td>\n",
       "      <td>0</td>\n",
       "      <td>1</td>\n",
       "      <td>1</td>\n",
       "      <td>0</td>\n",
       "      <td>0</td>\n",
       "      <td>0</td>\n",
       "      <td>0</td>\n",
       "      <td>0</td>\n",
       "      <td>0</td>\n",
       "      <td>0</td>\n",
       "      <td>0</td>\n",
       "      <td>1</td>\n",
       "      <td>0</td>\n",
       "      <td>0</td>\n",
       "      <td>0</td>\n",
       "      <td>0</td>\n",
       "      <td>1</td>\n",
       "      <td>1</td>\n",
       "      <td>0</td>\n",
       "      <td>0</td>\n",
       "      <td>1</td>\n",
       "      <td>1</td>\n",
       "      <td>0</td>\n",
       "      <td>0</td>\n",
       "      <td>0</td>\n",
       "      <td>0</td>\n",
       "      <td>0</td>\n",
       "      <td>0</td>\n",
       "      <td>0</td>\n",
       "      <td>0</td>\n",
       "      <td>0</td>\n",
       "      <td>0</td>\n",
       "      <td>0</td>\n",
       "      <td>1</td>\n",
       "      <td>0</td>\n",
       "      <td>0</td>\n",
       "      <td>0</td>\n",
       "      <td>0</td>\n",
       "      <td>1</td>\n",
       "      <td>0</td>\n",
       "      <td>0</td>\n",
       "      <td>0</td>\n",
       "      <td>0</td>\n",
       "      <td>1</td>\n",
       "      <td>1</td>\n",
       "      <td>0</td>\n",
       "      <td>0</td>\n",
       "      <td>1</td>\n",
       "      <td>0</td>\n",
       "      <td>0</td>\n",
       "      <td>0</td>\n",
       "      <td>1</td>\n",
       "      <td>0</td>\n",
       "      <td>0</td>\n",
       "      <td>0</td>\n",
       "      <td>0</td>\n",
       "      <td>0</td>\n",
       "      <td>0</td>\n",
       "      <td>0</td>\n",
       "      <td>1</td>\n",
       "      <td>1</td>\n",
       "      <td>0</td>\n",
       "      <td>0</td>\n",
       "      <td>1</td>\n",
       "      <td>0</td>\n",
       "      <td>0</td>\n",
       "      <td>0</td>\n",
       "      <td>4.8</td>\n",
       "      <td>112</td>\n",
       "      <td>1398.0</td>\n",
       "      <td>Euro 6</td>\n",
       "      <td>2.0</td>\n",
       "      <td>Benzine</td>\n",
       "      <td>66</td>\n",
       "    </tr>\n",
       "    <tr>\n",
       "      <th>14375</th>\n",
       "      <td>Renault Clio</td>\n",
       "      <td>Compact</td>\n",
       "      <td>23990</td>\n",
       "      <td>None</td>\n",
       "      <td>10.0</td>\n",
       "      <td>Demonstration</td>\n",
       "      <td>1.0</td>\n",
       "      <td>NaT</td>\n",
       "      <td>0</td>\n",
       "      <td>White</td>\n",
       "      <td>NaN</td>\n",
       "      <td>NaN</td>\n",
       "      <td>4</td>\n",
       "      <td>NaN</td>\n",
       "      <td>Automatic</td>\n",
       "      <td>NaN</td>\n",
       "      <td>NaN</td>\n",
       "      <td>1.0</td>\n",
       "      <td>Austria</td>\n",
       "      <td>1</td>\n",
       "      <td>0</td>\n",
       "      <td>0</td>\n",
       "      <td>1</td>\n",
       "      <td>0</td>\n",
       "      <td>1</td>\n",
       "      <td>0</td>\n",
       "      <td>0</td>\n",
       "      <td>0</td>\n",
       "      <td>0</td>\n",
       "      <td>0</td>\n",
       "      <td>0</td>\n",
       "      <td>0</td>\n",
       "      <td>0</td>\n",
       "      <td>0</td>\n",
       "      <td>0</td>\n",
       "      <td>0</td>\n",
       "      <td>0</td>\n",
       "      <td>0</td>\n",
       "      <td>0</td>\n",
       "      <td>1</td>\n",
       "      <td>1</td>\n",
       "      <td>0</td>\n",
       "      <td>0</td>\n",
       "      <td>0</td>\n",
       "      <td>0</td>\n",
       "      <td>0</td>\n",
       "      <td>0</td>\n",
       "      <td>1</td>\n",
       "      <td>1</td>\n",
       "      <td>1</td>\n",
       "      <td>0</td>\n",
       "      <td>0</td>\n",
       "      <td>1</td>\n",
       "      <td>0</td>\n",
       "      <td>0</td>\n",
       "      <td>0</td>\n",
       "      <td>0</td>\n",
       "      <td>1</td>\n",
       "      <td>0</td>\n",
       "      <td>0</td>\n",
       "      <td>1</td>\n",
       "      <td>0</td>\n",
       "      <td>1</td>\n",
       "      <td>0</td>\n",
       "      <td>0</td>\n",
       "      <td>0</td>\n",
       "      <td>0</td>\n",
       "      <td>1</td>\n",
       "      <td>0</td>\n",
       "      <td>0</td>\n",
       "      <td>0</td>\n",
       "      <td>0</td>\n",
       "      <td>0</td>\n",
       "      <td>0</td>\n",
       "      <td>0</td>\n",
       "      <td>0</td>\n",
       "      <td>1</td>\n",
       "      <td>1</td>\n",
       "      <td>1</td>\n",
       "      <td>0</td>\n",
       "      <td>0</td>\n",
       "      <td>0</td>\n",
       "      <td>0</td>\n",
       "      <td>0</td>\n",
       "      <td>1</td>\n",
       "      <td>0</td>\n",
       "      <td>0</td>\n",
       "      <td>0</td>\n",
       "      <td>0</td>\n",
       "      <td>1</td>\n",
       "      <td>0</td>\n",
       "      <td>1</td>\n",
       "      <td>0</td>\n",
       "      <td>1</td>\n",
       "      <td>1</td>\n",
       "      <td>1</td>\n",
       "      <td>0</td>\n",
       "      <td>0</td>\n",
       "      <td>0</td>\n",
       "      <td>0</td>\n",
       "      <td>0</td>\n",
       "      <td>0</td>\n",
       "      <td>1</td>\n",
       "      <td>0</td>\n",
       "      <td>0</td>\n",
       "      <td>0</td>\n",
       "      <td>0</td>\n",
       "      <td>0</td>\n",
       "      <td>1</td>\n",
       "      <td>1</td>\n",
       "      <td>1</td>\n",
       "      <td>0</td>\n",
       "      <td>0</td>\n",
       "      <td>NaN</td>\n",
       "      <td>116</td>\n",
       "      <td>1618.0</td>\n",
       "      <td>NaN</td>\n",
       "      <td>2.0</td>\n",
       "      <td>Benzine</td>\n",
       "      <td>147</td>\n",
       "    </tr>\n",
       "  </tbody>\n",
       "</table>\n",
       "</div>"
      ],
      "text/plain": [
       "         make_model body_type  price             vat       km           type  previous_owners next_inspection inspection_new body_color paint_type    upholstery nr_of_doors nr_of_seats    gearing_type drive_chain emission_label  gears country_version  cc_Air conditioning  cc_Air suspension  cc_Armrest  cc_Automatic climate control  cc_Auxiliary heating  cc_Cruise control  cc_Electric Starter  cc_Electric tailgate  cc_Electrical side mirrors  cc_Electrically adjustable seats  cc_Electrically heated windshield  cc_Heads-up display  cc_Heated steering wheel  cc_Hill Holder  cc_Keyless central door lock  cc_Leather seats  cc_Leather steering wheel  cc_Light sensor  cc_Lumbar support  cc_Massage seats  cc_Multi-function steering wheel  cc_Navigation system  cc_Panorama roof  cc_Park Distance Control  cc_Parking assist system camera  cc_Parking assist system self-steering  cc_Parking assist system sensors front  cc_Parking assist system sensors rear  cc_Power windows  cc_Rain sensor  cc_Seat heating  cc_Seat ventilation  cc_Split rear seats  cc_Start-stop system  cc_Sunroof  cc_Tinted windows  cc_Wind deflector  cc_Windshield  em_Bluetooth  em_CD player  em_Digital radio  em_Hands-free equipment  em_MP3  em_On-board computer  em_Radio  em_Sound system  em_Television  em_USB  ex_Alloy wheels  ex_Cab or rented Car  ex_Catalytic Converter  ex_Handicapped enabled  ex_Right hand drive  ex_Roof rack  ex_Shift paddles  ex_Ski bag  ex_Sliding door  ex_Sport package  ex_Sport seats  ex_Sport suspension  ex_Touch screen  ex_Trailer hitch  ex_Tuned car  ex_Voice Control  ex_Winter tyres  ss_ABS  ss_Adaptive Cruise Control  ss_Adaptive headlights  ss_Alarm system  ss_Blind spot monitor  ss_Central door lock  ss_Central door lock with remote control  ss_Daytime running lights  ss_Driver drowsiness detection  ss_Driver-side airbag  ss_Electronic stability control  ss_Emergency brake assistant  ss_Emergency system  ss_Fog lights  ss_Head airbag  ss_Immobilizer  ss_Isofix  \\\n",
       "8921     Opel Corsa   Compact  11000  VAT deductible  24000.0           Used              1.0             NaT              0       Blue   Metallic  Cloth, Black           5           5  Semi-automatic       front            NaN    1.0         Belgium                    1                  0           0                             0                     0                  0                    0                     0                           0                                 0                                  0                    0                         0               0                             0                 0                          0                1                  0                 0                                 1                     1                 0                         0                                0                                       0                                       0                                      0                 1               1                0                    0                    0                     0           0                  0                  0              0             1             0                 0                        0       0                     1         1                0              0       1                1                     0                       0                       0                    0             0                 0           0                0                 0               0                    0                1                 0             0                 0                0       1                           0                       0                0                      0                     1                                         1                          0                               0                      1                                0                             0                    0              1               0               0          0   \n",
       "14375  Renault Clio   Compact  23990            None     10.0  Demonstration              1.0             NaT              0      White        NaN           NaN           4         NaN       Automatic         NaN            NaN    1.0         Austria                    1                  0           0                             1                     0                  1                    0                     0                           0                                 0                                  0                    0                         0               0                             0                 0                          0                0                  0                 0                                 1                     1                 0                         0                                0                                       0                                       0                                      0                 1               1                1                    0                    0                     1           0                  0                  0              0             1             0                 0                        1       0                     1         0                0              0       0                1                     0                       0                       0                    0             0                 0           0                0                 1               1                    1                0                 0             0                 0                0       1                           0                       0                0                      0                     1                                         0                          1                               0                      1                                1                             1                    0              0               0               0          0   \n",
       "\n",
       "       ss_LED Daytime Running Lights  ss_LED Headlights  ss_Lane departure warning system  ss_Night view assist  ss_Passenger-side airbag  ss_Power steering  ss_Rear airbag  ss_Side airbag  ss_Tire pressure monitoring system  ss_Traction control  ss_Traffic sign recognition  ss_Xenon headlights consumption_comb co2_emission_new  displacement_cc emission_class_new  register_age fuel_new  hp_kw  \n",
       "8921                               0                  0                                 0                     0                         1                  1               0               0                                   1                    0                            0                    0              4.8              112           1398.0             Euro 6           2.0  Benzine     66  \n",
       "14375                              0                  1                                 0                     0                         0                  0               0               1                                   1                    1                            0                    0              NaN              116           1618.0                NaN           2.0  Benzine    147  "
      ]
     },
     "execution_count": 309,
     "metadata": {},
     "output_type": "execute_result"
    }
   ],
   "source": [
    "df[df['gears'] == 1]"
   ]
  },
  {
   "cell_type": "code",
   "execution_count": 310,
   "metadata": {},
   "outputs": [],
   "source": [
    "df.gears.iloc[8921] = 5\n",
    "df.gears.iloc[14375] = 6"
   ]
  },
  {
   "cell_type": "code",
   "execution_count": 311,
   "metadata": {},
   "outputs": [
    {
     "data": {
      "text/html": [
       "<div>\n",
       "<style scoped>\n",
       "    .dataframe tbody tr th:only-of-type {\n",
       "        vertical-align: middle;\n",
       "    }\n",
       "\n",
       "    .dataframe tbody tr th {\n",
       "        vertical-align: top;\n",
       "    }\n",
       "\n",
       "    .dataframe thead th {\n",
       "        text-align: right;\n",
       "    }\n",
       "</style>\n",
       "<table border=\"1\" class=\"dataframe\">\n",
       "  <thead>\n",
       "    <tr style=\"text-align: right;\">\n",
       "      <th></th>\n",
       "      <th>make_model</th>\n",
       "      <th>body_type</th>\n",
       "      <th>price</th>\n",
       "      <th>vat</th>\n",
       "      <th>km</th>\n",
       "      <th>type</th>\n",
       "      <th>previous_owners</th>\n",
       "      <th>next_inspection</th>\n",
       "      <th>inspection_new</th>\n",
       "      <th>body_color</th>\n",
       "      <th>paint_type</th>\n",
       "      <th>upholstery</th>\n",
       "      <th>nr_of_doors</th>\n",
       "      <th>nr_of_seats</th>\n",
       "      <th>gearing_type</th>\n",
       "      <th>drive_chain</th>\n",
       "      <th>emission_label</th>\n",
       "      <th>gears</th>\n",
       "      <th>country_version</th>\n",
       "      <th>cc_Air conditioning</th>\n",
       "      <th>cc_Air suspension</th>\n",
       "      <th>cc_Armrest</th>\n",
       "      <th>cc_Automatic climate control</th>\n",
       "      <th>cc_Auxiliary heating</th>\n",
       "      <th>cc_Cruise control</th>\n",
       "      <th>cc_Electric Starter</th>\n",
       "      <th>cc_Electric tailgate</th>\n",
       "      <th>cc_Electrical side mirrors</th>\n",
       "      <th>cc_Electrically adjustable seats</th>\n",
       "      <th>cc_Electrically heated windshield</th>\n",
       "      <th>cc_Heads-up display</th>\n",
       "      <th>cc_Heated steering wheel</th>\n",
       "      <th>cc_Hill Holder</th>\n",
       "      <th>cc_Keyless central door lock</th>\n",
       "      <th>cc_Leather seats</th>\n",
       "      <th>cc_Leather steering wheel</th>\n",
       "      <th>cc_Light sensor</th>\n",
       "      <th>cc_Lumbar support</th>\n",
       "      <th>cc_Massage seats</th>\n",
       "      <th>cc_Multi-function steering wheel</th>\n",
       "      <th>cc_Navigation system</th>\n",
       "      <th>cc_Panorama roof</th>\n",
       "      <th>cc_Park Distance Control</th>\n",
       "      <th>cc_Parking assist system camera</th>\n",
       "      <th>cc_Parking assist system self-steering</th>\n",
       "      <th>cc_Parking assist system sensors front</th>\n",
       "      <th>cc_Parking assist system sensors rear</th>\n",
       "      <th>cc_Power windows</th>\n",
       "      <th>cc_Rain sensor</th>\n",
       "      <th>cc_Seat heating</th>\n",
       "      <th>cc_Seat ventilation</th>\n",
       "      <th>cc_Split rear seats</th>\n",
       "      <th>cc_Start-stop system</th>\n",
       "      <th>cc_Sunroof</th>\n",
       "      <th>cc_Tinted windows</th>\n",
       "      <th>cc_Wind deflector</th>\n",
       "      <th>cc_Windshield</th>\n",
       "      <th>em_Bluetooth</th>\n",
       "      <th>em_CD player</th>\n",
       "      <th>em_Digital radio</th>\n",
       "      <th>em_Hands-free equipment</th>\n",
       "      <th>em_MP3</th>\n",
       "      <th>em_On-board computer</th>\n",
       "      <th>em_Radio</th>\n",
       "      <th>em_Sound system</th>\n",
       "      <th>em_Television</th>\n",
       "      <th>em_USB</th>\n",
       "      <th>ex_Alloy wheels</th>\n",
       "      <th>ex_Cab or rented Car</th>\n",
       "      <th>ex_Catalytic Converter</th>\n",
       "      <th>ex_Handicapped enabled</th>\n",
       "      <th>ex_Right hand drive</th>\n",
       "      <th>ex_Roof rack</th>\n",
       "      <th>ex_Shift paddles</th>\n",
       "      <th>ex_Ski bag</th>\n",
       "      <th>ex_Sliding door</th>\n",
       "      <th>ex_Sport package</th>\n",
       "      <th>ex_Sport seats</th>\n",
       "      <th>ex_Sport suspension</th>\n",
       "      <th>ex_Touch screen</th>\n",
       "      <th>ex_Trailer hitch</th>\n",
       "      <th>ex_Tuned car</th>\n",
       "      <th>ex_Voice Control</th>\n",
       "      <th>ex_Winter tyres</th>\n",
       "      <th>ss_ABS</th>\n",
       "      <th>ss_Adaptive Cruise Control</th>\n",
       "      <th>ss_Adaptive headlights</th>\n",
       "      <th>ss_Alarm system</th>\n",
       "      <th>ss_Blind spot monitor</th>\n",
       "      <th>ss_Central door lock</th>\n",
       "      <th>ss_Central door lock with remote control</th>\n",
       "      <th>ss_Daytime running lights</th>\n",
       "      <th>ss_Driver drowsiness detection</th>\n",
       "      <th>ss_Driver-side airbag</th>\n",
       "      <th>ss_Electronic stability control</th>\n",
       "      <th>ss_Emergency brake assistant</th>\n",
       "      <th>ss_Emergency system</th>\n",
       "      <th>ss_Fog lights</th>\n",
       "      <th>ss_Head airbag</th>\n",
       "      <th>ss_Immobilizer</th>\n",
       "      <th>ss_Isofix</th>\n",
       "      <th>ss_LED Daytime Running Lights</th>\n",
       "      <th>ss_LED Headlights</th>\n",
       "      <th>ss_Lane departure warning system</th>\n",
       "      <th>ss_Night view assist</th>\n",
       "      <th>ss_Passenger-side airbag</th>\n",
       "      <th>ss_Power steering</th>\n",
       "      <th>ss_Rear airbag</th>\n",
       "      <th>ss_Side airbag</th>\n",
       "      <th>ss_Tire pressure monitoring system</th>\n",
       "      <th>ss_Traction control</th>\n",
       "      <th>ss_Traffic sign recognition</th>\n",
       "      <th>ss_Xenon headlights</th>\n",
       "      <th>consumption_comb</th>\n",
       "      <th>co2_emission_new</th>\n",
       "      <th>displacement_cc</th>\n",
       "      <th>emission_class_new</th>\n",
       "      <th>register_age</th>\n",
       "      <th>fuel_new</th>\n",
       "      <th>hp_kw</th>\n",
       "    </tr>\n",
       "  </thead>\n",
       "  <tbody>\n",
       "    <tr>\n",
       "      <th>9812</th>\n",
       "      <td>Opel Corsa</td>\n",
       "      <td>Sedans</td>\n",
       "      <td>9880</td>\n",
       "      <td>VAT deductible</td>\n",
       "      <td>19247.0</td>\n",
       "      <td>Used</td>\n",
       "      <td>1.0</td>\n",
       "      <td>NaT</td>\n",
       "      <td>0</td>\n",
       "      <td>Grey</td>\n",
       "      <td>Metallic</td>\n",
       "      <td>Cloth, Black</td>\n",
       "      <td>5</td>\n",
       "      <td>NaN</td>\n",
       "      <td>Manual</td>\n",
       "      <td>NaN</td>\n",
       "      <td>NaN</td>\n",
       "      <td>2.0</td>\n",
       "      <td>NaN</td>\n",
       "      <td>1</td>\n",
       "      <td>0</td>\n",
       "      <td>0</td>\n",
       "      <td>0</td>\n",
       "      <td>0</td>\n",
       "      <td>0</td>\n",
       "      <td>0</td>\n",
       "      <td>0</td>\n",
       "      <td>0</td>\n",
       "      <td>0</td>\n",
       "      <td>0</td>\n",
       "      <td>0</td>\n",
       "      <td>0</td>\n",
       "      <td>0</td>\n",
       "      <td>0</td>\n",
       "      <td>0</td>\n",
       "      <td>0</td>\n",
       "      <td>1</td>\n",
       "      <td>0</td>\n",
       "      <td>0</td>\n",
       "      <td>0</td>\n",
       "      <td>1</td>\n",
       "      <td>0</td>\n",
       "      <td>0</td>\n",
       "      <td>0</td>\n",
       "      <td>0</td>\n",
       "      <td>0</td>\n",
       "      <td>0</td>\n",
       "      <td>1</td>\n",
       "      <td>1</td>\n",
       "      <td>0</td>\n",
       "      <td>0</td>\n",
       "      <td>0</td>\n",
       "      <td>0</td>\n",
       "      <td>0</td>\n",
       "      <td>0</td>\n",
       "      <td>0</td>\n",
       "      <td>0</td>\n",
       "      <td>1</td>\n",
       "      <td>0</td>\n",
       "      <td>0</td>\n",
       "      <td>0</td>\n",
       "      <td>0</td>\n",
       "      <td>1</td>\n",
       "      <td>0</td>\n",
       "      <td>0</td>\n",
       "      <td>0</td>\n",
       "      <td>0</td>\n",
       "      <td>1</td>\n",
       "      <td>0</td>\n",
       "      <td>0</td>\n",
       "      <td>0</td>\n",
       "      <td>0</td>\n",
       "      <td>0</td>\n",
       "      <td>0</td>\n",
       "      <td>0</td>\n",
       "      <td>0</td>\n",
       "      <td>0</td>\n",
       "      <td>0</td>\n",
       "      <td>0</td>\n",
       "      <td>0</td>\n",
       "      <td>0</td>\n",
       "      <td>0</td>\n",
       "      <td>0</td>\n",
       "      <td>0</td>\n",
       "      <td>1</td>\n",
       "      <td>0</td>\n",
       "      <td>0</td>\n",
       "      <td>0</td>\n",
       "      <td>0</td>\n",
       "      <td>1</td>\n",
       "      <td>0</td>\n",
       "      <td>0</td>\n",
       "      <td>0</td>\n",
       "      <td>1</td>\n",
       "      <td>0</td>\n",
       "      <td>0</td>\n",
       "      <td>0</td>\n",
       "      <td>1</td>\n",
       "      <td>0</td>\n",
       "      <td>0</td>\n",
       "      <td>0</td>\n",
       "      <td>0</td>\n",
       "      <td>0</td>\n",
       "      <td>0</td>\n",
       "      <td>0</td>\n",
       "      <td>1</td>\n",
       "      <td>1</td>\n",
       "      <td>0</td>\n",
       "      <td>0</td>\n",
       "      <td>0</td>\n",
       "      <td>1</td>\n",
       "      <td>0</td>\n",
       "      <td>0</td>\n",
       "      <td>NaN</td>\n",
       "      <td>116</td>\n",
       "      <td>1229.0</td>\n",
       "      <td>Euro 6</td>\n",
       "      <td>2.0</td>\n",
       "      <td>Benzine</td>\n",
       "      <td>51</td>\n",
       "    </tr>\n",
       "  </tbody>\n",
       "</table>\n",
       "</div>"
      ],
      "text/plain": [
       "      make_model body_type  price             vat       km  type  previous_owners next_inspection inspection_new body_color paint_type    upholstery nr_of_doors nr_of_seats gearing_type drive_chain emission_label  gears country_version  cc_Air conditioning  cc_Air suspension  cc_Armrest  cc_Automatic climate control  cc_Auxiliary heating  cc_Cruise control  cc_Electric Starter  cc_Electric tailgate  cc_Electrical side mirrors  cc_Electrically adjustable seats  cc_Electrically heated windshield  cc_Heads-up display  cc_Heated steering wheel  cc_Hill Holder  cc_Keyless central door lock  cc_Leather seats  cc_Leather steering wheel  cc_Light sensor  cc_Lumbar support  cc_Massage seats  cc_Multi-function steering wheel  cc_Navigation system  cc_Panorama roof  cc_Park Distance Control  cc_Parking assist system camera  cc_Parking assist system self-steering  cc_Parking assist system sensors front  cc_Parking assist system sensors rear  cc_Power windows  cc_Rain sensor  cc_Seat heating  cc_Seat ventilation  cc_Split rear seats  cc_Start-stop system  cc_Sunroof  cc_Tinted windows  cc_Wind deflector  cc_Windshield  em_Bluetooth  em_CD player  em_Digital radio  em_Hands-free equipment  em_MP3  em_On-board computer  em_Radio  em_Sound system  em_Television  em_USB  ex_Alloy wheels  ex_Cab or rented Car  ex_Catalytic Converter  ex_Handicapped enabled  ex_Right hand drive  ex_Roof rack  ex_Shift paddles  ex_Ski bag  ex_Sliding door  ex_Sport package  ex_Sport seats  ex_Sport suspension  ex_Touch screen  ex_Trailer hitch  ex_Tuned car  ex_Voice Control  ex_Winter tyres  ss_ABS  ss_Adaptive Cruise Control  ss_Adaptive headlights  ss_Alarm system  ss_Blind spot monitor  ss_Central door lock  ss_Central door lock with remote control  ss_Daytime running lights  ss_Driver drowsiness detection  ss_Driver-side airbag  ss_Electronic stability control  ss_Emergency brake assistant  ss_Emergency system  ss_Fog lights  ss_Head airbag  ss_Immobilizer  ss_Isofix  \\\n",
       "9812  Opel Corsa    Sedans   9880  VAT deductible  19247.0  Used              1.0             NaT              0       Grey   Metallic  Cloth, Black           5         NaN       Manual         NaN            NaN    2.0             NaN                    1                  0           0                             0                     0                  0                    0                     0                           0                                 0                                  0                    0                         0               0                             0                 0                          0                1                  0                 0                                 0                     1                 0                         0                                0                                       0                                       0                                      0                 1               1                0                    0                    0                     0           0                  0                  0              0             1             0                 0                        0       0                     1         0                0              0       0                1                     0                       0                       0                    0             0                 0           0                0                 0               0                    0                0                 0             0                 0                0       1                           0                       0                0                      0                     1                                         0                          0                               0                      1                                0                             0                    0              1               0               0          0   \n",
       "\n",
       "      ss_LED Daytime Running Lights  ss_LED Headlights  ss_Lane departure warning system  ss_Night view assist  ss_Passenger-side airbag  ss_Power steering  ss_Rear airbag  ss_Side airbag  ss_Tire pressure monitoring system  ss_Traction control  ss_Traffic sign recognition  ss_Xenon headlights consumption_comb co2_emission_new  displacement_cc emission_class_new  register_age fuel_new  hp_kw  \n",
       "9812                              0                  0                                 0                     0                         1                  1               0               0                                   0                    1                            0                    0              NaN              116           1229.0             Euro 6           2.0  Benzine     51  "
      ]
     },
     "execution_count": 311,
     "metadata": {},
     "output_type": "execute_result"
    }
   ],
   "source": [
    "df[df['gears'] == 2]"
   ]
  },
  {
   "cell_type": "code",
   "execution_count": 312,
   "metadata": {},
   "outputs": [],
   "source": [
    "df.gears.iloc[9812] = 5"
   ]
  },
  {
   "cell_type": "code",
   "execution_count": 313,
   "metadata": {},
   "outputs": [
    {
     "data": {
      "text/html": [
       "<div>\n",
       "<style scoped>\n",
       "    .dataframe tbody tr th:only-of-type {\n",
       "        vertical-align: middle;\n",
       "    }\n",
       "\n",
       "    .dataframe tbody tr th {\n",
       "        vertical-align: top;\n",
       "    }\n",
       "\n",
       "    .dataframe thead th {\n",
       "        text-align: right;\n",
       "    }\n",
       "</style>\n",
       "<table border=\"1\" class=\"dataframe\">\n",
       "  <thead>\n",
       "    <tr style=\"text-align: right;\">\n",
       "      <th></th>\n",
       "      <th>make_model</th>\n",
       "      <th>body_type</th>\n",
       "      <th>price</th>\n",
       "      <th>vat</th>\n",
       "      <th>km</th>\n",
       "      <th>type</th>\n",
       "      <th>previous_owners</th>\n",
       "      <th>next_inspection</th>\n",
       "      <th>inspection_new</th>\n",
       "      <th>body_color</th>\n",
       "      <th>paint_type</th>\n",
       "      <th>upholstery</th>\n",
       "      <th>nr_of_doors</th>\n",
       "      <th>nr_of_seats</th>\n",
       "      <th>gearing_type</th>\n",
       "      <th>drive_chain</th>\n",
       "      <th>emission_label</th>\n",
       "      <th>gears</th>\n",
       "      <th>country_version</th>\n",
       "      <th>cc_Air conditioning</th>\n",
       "      <th>cc_Air suspension</th>\n",
       "      <th>cc_Armrest</th>\n",
       "      <th>cc_Automatic climate control</th>\n",
       "      <th>cc_Auxiliary heating</th>\n",
       "      <th>cc_Cruise control</th>\n",
       "      <th>cc_Electric Starter</th>\n",
       "      <th>cc_Electric tailgate</th>\n",
       "      <th>cc_Electrical side mirrors</th>\n",
       "      <th>cc_Electrically adjustable seats</th>\n",
       "      <th>cc_Electrically heated windshield</th>\n",
       "      <th>cc_Heads-up display</th>\n",
       "      <th>cc_Heated steering wheel</th>\n",
       "      <th>cc_Hill Holder</th>\n",
       "      <th>cc_Keyless central door lock</th>\n",
       "      <th>cc_Leather seats</th>\n",
       "      <th>cc_Leather steering wheel</th>\n",
       "      <th>cc_Light sensor</th>\n",
       "      <th>cc_Lumbar support</th>\n",
       "      <th>cc_Massage seats</th>\n",
       "      <th>cc_Multi-function steering wheel</th>\n",
       "      <th>cc_Navigation system</th>\n",
       "      <th>cc_Panorama roof</th>\n",
       "      <th>cc_Park Distance Control</th>\n",
       "      <th>cc_Parking assist system camera</th>\n",
       "      <th>cc_Parking assist system self-steering</th>\n",
       "      <th>cc_Parking assist system sensors front</th>\n",
       "      <th>cc_Parking assist system sensors rear</th>\n",
       "      <th>cc_Power windows</th>\n",
       "      <th>cc_Rain sensor</th>\n",
       "      <th>cc_Seat heating</th>\n",
       "      <th>cc_Seat ventilation</th>\n",
       "      <th>cc_Split rear seats</th>\n",
       "      <th>cc_Start-stop system</th>\n",
       "      <th>cc_Sunroof</th>\n",
       "      <th>cc_Tinted windows</th>\n",
       "      <th>cc_Wind deflector</th>\n",
       "      <th>cc_Windshield</th>\n",
       "      <th>em_Bluetooth</th>\n",
       "      <th>em_CD player</th>\n",
       "      <th>em_Digital radio</th>\n",
       "      <th>em_Hands-free equipment</th>\n",
       "      <th>em_MP3</th>\n",
       "      <th>em_On-board computer</th>\n",
       "      <th>em_Radio</th>\n",
       "      <th>em_Sound system</th>\n",
       "      <th>em_Television</th>\n",
       "      <th>em_USB</th>\n",
       "      <th>ex_Alloy wheels</th>\n",
       "      <th>ex_Cab or rented Car</th>\n",
       "      <th>ex_Catalytic Converter</th>\n",
       "      <th>ex_Handicapped enabled</th>\n",
       "      <th>ex_Right hand drive</th>\n",
       "      <th>ex_Roof rack</th>\n",
       "      <th>ex_Shift paddles</th>\n",
       "      <th>ex_Ski bag</th>\n",
       "      <th>ex_Sliding door</th>\n",
       "      <th>ex_Sport package</th>\n",
       "      <th>ex_Sport seats</th>\n",
       "      <th>ex_Sport suspension</th>\n",
       "      <th>ex_Touch screen</th>\n",
       "      <th>ex_Trailer hitch</th>\n",
       "      <th>ex_Tuned car</th>\n",
       "      <th>ex_Voice Control</th>\n",
       "      <th>ex_Winter tyres</th>\n",
       "      <th>ss_ABS</th>\n",
       "      <th>ss_Adaptive Cruise Control</th>\n",
       "      <th>ss_Adaptive headlights</th>\n",
       "      <th>ss_Alarm system</th>\n",
       "      <th>ss_Blind spot monitor</th>\n",
       "      <th>ss_Central door lock</th>\n",
       "      <th>ss_Central door lock with remote control</th>\n",
       "      <th>ss_Daytime running lights</th>\n",
       "      <th>ss_Driver drowsiness detection</th>\n",
       "      <th>ss_Driver-side airbag</th>\n",
       "      <th>ss_Electronic stability control</th>\n",
       "      <th>ss_Emergency brake assistant</th>\n",
       "      <th>ss_Emergency system</th>\n",
       "      <th>ss_Fog lights</th>\n",
       "      <th>ss_Head airbag</th>\n",
       "      <th>ss_Immobilizer</th>\n",
       "      <th>ss_Isofix</th>\n",
       "      <th>ss_LED Daytime Running Lights</th>\n",
       "      <th>ss_LED Headlights</th>\n",
       "      <th>ss_Lane departure warning system</th>\n",
       "      <th>ss_Night view assist</th>\n",
       "      <th>ss_Passenger-side airbag</th>\n",
       "      <th>ss_Power steering</th>\n",
       "      <th>ss_Rear airbag</th>\n",
       "      <th>ss_Side airbag</th>\n",
       "      <th>ss_Tire pressure monitoring system</th>\n",
       "      <th>ss_Traction control</th>\n",
       "      <th>ss_Traffic sign recognition</th>\n",
       "      <th>ss_Xenon headlights</th>\n",
       "      <th>consumption_comb</th>\n",
       "      <th>co2_emission_new</th>\n",
       "      <th>displacement_cc</th>\n",
       "      <th>emission_class_new</th>\n",
       "      <th>register_age</th>\n",
       "      <th>fuel_new</th>\n",
       "      <th>hp_kw</th>\n",
       "    </tr>\n",
       "  </thead>\n",
       "  <tbody>\n",
       "    <tr>\n",
       "      <th>15812</th>\n",
       "      <td>Renault Espace</td>\n",
       "      <td>Van</td>\n",
       "      <td>54982</td>\n",
       "      <td>VAT deductible</td>\n",
       "      <td>11.0</td>\n",
       "      <td>New</td>\n",
       "      <td>1.0</td>\n",
       "      <td>NaT</td>\n",
       "      <td>0</td>\n",
       "      <td>White</td>\n",
       "      <td>Metallic</td>\n",
       "      <td>Part leather</td>\n",
       "      <td>5</td>\n",
       "      <td>NaN</td>\n",
       "      <td>Automatic</td>\n",
       "      <td>NaN</td>\n",
       "      <td>NaN</td>\n",
       "      <td>9.0</td>\n",
       "      <td>Netherlands</td>\n",
       "      <td>1</td>\n",
       "      <td>0</td>\n",
       "      <td>1</td>\n",
       "      <td>1</td>\n",
       "      <td>0</td>\n",
       "      <td>1</td>\n",
       "      <td>0</td>\n",
       "      <td>1</td>\n",
       "      <td>1</td>\n",
       "      <td>1</td>\n",
       "      <td>1</td>\n",
       "      <td>1</td>\n",
       "      <td>1</td>\n",
       "      <td>1</td>\n",
       "      <td>1</td>\n",
       "      <td>0</td>\n",
       "      <td>1</td>\n",
       "      <td>1</td>\n",
       "      <td>0</td>\n",
       "      <td>0</td>\n",
       "      <td>1</td>\n",
       "      <td>1</td>\n",
       "      <td>0</td>\n",
       "      <td>1</td>\n",
       "      <td>1</td>\n",
       "      <td>1</td>\n",
       "      <td>1</td>\n",
       "      <td>1</td>\n",
       "      <td>1</td>\n",
       "      <td>1</td>\n",
       "      <td>1</td>\n",
       "      <td>1</td>\n",
       "      <td>0</td>\n",
       "      <td>0</td>\n",
       "      <td>0</td>\n",
       "      <td>0</td>\n",
       "      <td>0</td>\n",
       "      <td>0</td>\n",
       "      <td>0</td>\n",
       "      <td>0</td>\n",
       "      <td>1</td>\n",
       "      <td>0</td>\n",
       "      <td>0</td>\n",
       "      <td>0</td>\n",
       "      <td>1</td>\n",
       "      <td>0</td>\n",
       "      <td>0</td>\n",
       "      <td>0</td>\n",
       "      <td>1</td>\n",
       "      <td>0</td>\n",
       "      <td>0</td>\n",
       "      <td>0</td>\n",
       "      <td>0</td>\n",
       "      <td>0</td>\n",
       "      <td>0</td>\n",
       "      <td>0</td>\n",
       "      <td>0</td>\n",
       "      <td>0</td>\n",
       "      <td>0</td>\n",
       "      <td>0</td>\n",
       "      <td>0</td>\n",
       "      <td>0</td>\n",
       "      <td>0</td>\n",
       "      <td>1</td>\n",
       "      <td>0</td>\n",
       "      <td>1</td>\n",
       "      <td>0</td>\n",
       "      <td>0</td>\n",
       "      <td>0</td>\n",
       "      <td>0</td>\n",
       "      <td>0</td>\n",
       "      <td>0</td>\n",
       "      <td>1</td>\n",
       "      <td>0</td>\n",
       "      <td>1</td>\n",
       "      <td>1</td>\n",
       "      <td>0</td>\n",
       "      <td>0</td>\n",
       "      <td>0</td>\n",
       "      <td>0</td>\n",
       "      <td>1</td>\n",
       "      <td>0</td>\n",
       "      <td>1</td>\n",
       "      <td>1</td>\n",
       "      <td>1</td>\n",
       "      <td>0</td>\n",
       "      <td>1</td>\n",
       "      <td>0</td>\n",
       "      <td>0</td>\n",
       "      <td>1</td>\n",
       "      <td>1</td>\n",
       "      <td>1</td>\n",
       "      <td>1</td>\n",
       "      <td>0</td>\n",
       "      <td>7.6</td>\n",
       "      <td>116</td>\n",
       "      <td>1798.0</td>\n",
       "      <td>NaN</td>\n",
       "      <td>1.0</td>\n",
       "      <td>Benzine</td>\n",
       "      <td>165</td>\n",
       "    </tr>\n",
       "    <tr>\n",
       "      <th>15814</th>\n",
       "      <td>Renault Espace</td>\n",
       "      <td>Van</td>\n",
       "      <td>54982</td>\n",
       "      <td>VAT deductible</td>\n",
       "      <td>11.0</td>\n",
       "      <td>New</td>\n",
       "      <td>1.0</td>\n",
       "      <td>NaT</td>\n",
       "      <td>0</td>\n",
       "      <td>White</td>\n",
       "      <td>Metallic</td>\n",
       "      <td>Part leather</td>\n",
       "      <td>5</td>\n",
       "      <td>NaN</td>\n",
       "      <td>Automatic</td>\n",
       "      <td>NaN</td>\n",
       "      <td>NaN</td>\n",
       "      <td>9.0</td>\n",
       "      <td>Netherlands</td>\n",
       "      <td>1</td>\n",
       "      <td>0</td>\n",
       "      <td>1</td>\n",
       "      <td>1</td>\n",
       "      <td>0</td>\n",
       "      <td>1</td>\n",
       "      <td>0</td>\n",
       "      <td>1</td>\n",
       "      <td>1</td>\n",
       "      <td>1</td>\n",
       "      <td>1</td>\n",
       "      <td>1</td>\n",
       "      <td>1</td>\n",
       "      <td>1</td>\n",
       "      <td>1</td>\n",
       "      <td>0</td>\n",
       "      <td>1</td>\n",
       "      <td>1</td>\n",
       "      <td>0</td>\n",
       "      <td>0</td>\n",
       "      <td>1</td>\n",
       "      <td>1</td>\n",
       "      <td>0</td>\n",
       "      <td>1</td>\n",
       "      <td>1</td>\n",
       "      <td>1</td>\n",
       "      <td>1</td>\n",
       "      <td>1</td>\n",
       "      <td>1</td>\n",
       "      <td>1</td>\n",
       "      <td>1</td>\n",
       "      <td>1</td>\n",
       "      <td>0</td>\n",
       "      <td>0</td>\n",
       "      <td>0</td>\n",
       "      <td>0</td>\n",
       "      <td>0</td>\n",
       "      <td>0</td>\n",
       "      <td>0</td>\n",
       "      <td>0</td>\n",
       "      <td>1</td>\n",
       "      <td>0</td>\n",
       "      <td>0</td>\n",
       "      <td>0</td>\n",
       "      <td>1</td>\n",
       "      <td>0</td>\n",
       "      <td>0</td>\n",
       "      <td>0</td>\n",
       "      <td>1</td>\n",
       "      <td>0</td>\n",
       "      <td>0</td>\n",
       "      <td>0</td>\n",
       "      <td>0</td>\n",
       "      <td>0</td>\n",
       "      <td>0</td>\n",
       "      <td>0</td>\n",
       "      <td>0</td>\n",
       "      <td>0</td>\n",
       "      <td>0</td>\n",
       "      <td>0</td>\n",
       "      <td>0</td>\n",
       "      <td>0</td>\n",
       "      <td>0</td>\n",
       "      <td>1</td>\n",
       "      <td>0</td>\n",
       "      <td>1</td>\n",
       "      <td>0</td>\n",
       "      <td>0</td>\n",
       "      <td>0</td>\n",
       "      <td>0</td>\n",
       "      <td>0</td>\n",
       "      <td>0</td>\n",
       "      <td>1</td>\n",
       "      <td>0</td>\n",
       "      <td>1</td>\n",
       "      <td>1</td>\n",
       "      <td>0</td>\n",
       "      <td>0</td>\n",
       "      <td>0</td>\n",
       "      <td>0</td>\n",
       "      <td>1</td>\n",
       "      <td>0</td>\n",
       "      <td>1</td>\n",
       "      <td>1</td>\n",
       "      <td>1</td>\n",
       "      <td>0</td>\n",
       "      <td>1</td>\n",
       "      <td>0</td>\n",
       "      <td>0</td>\n",
       "      <td>1</td>\n",
       "      <td>1</td>\n",
       "      <td>1</td>\n",
       "      <td>1</td>\n",
       "      <td>0</td>\n",
       "      <td>7.6</td>\n",
       "      <td>116</td>\n",
       "      <td>1798.0</td>\n",
       "      <td>NaN</td>\n",
       "      <td>1.0</td>\n",
       "      <td>Benzine</td>\n",
       "      <td>165</td>\n",
       "    </tr>\n",
       "    <tr>\n",
       "      <th>15824</th>\n",
       "      <td>Renault Espace</td>\n",
       "      <td>Van</td>\n",
       "      <td>52711</td>\n",
       "      <td>VAT deductible</td>\n",
       "      <td>11.0</td>\n",
       "      <td>New</td>\n",
       "      <td>1.0</td>\n",
       "      <td>NaT</td>\n",
       "      <td>0</td>\n",
       "      <td>Grey</td>\n",
       "      <td>Metallic</td>\n",
       "      <td>Part leather</td>\n",
       "      <td>5</td>\n",
       "      <td>NaN</td>\n",
       "      <td>Automatic</td>\n",
       "      <td>NaN</td>\n",
       "      <td>NaN</td>\n",
       "      <td>9.0</td>\n",
       "      <td>Netherlands</td>\n",
       "      <td>1</td>\n",
       "      <td>0</td>\n",
       "      <td>1</td>\n",
       "      <td>1</td>\n",
       "      <td>0</td>\n",
       "      <td>1</td>\n",
       "      <td>0</td>\n",
       "      <td>1</td>\n",
       "      <td>1</td>\n",
       "      <td>1</td>\n",
       "      <td>1</td>\n",
       "      <td>1</td>\n",
       "      <td>1</td>\n",
       "      <td>1</td>\n",
       "      <td>1</td>\n",
       "      <td>0</td>\n",
       "      <td>1</td>\n",
       "      <td>1</td>\n",
       "      <td>0</td>\n",
       "      <td>0</td>\n",
       "      <td>1</td>\n",
       "      <td>1</td>\n",
       "      <td>0</td>\n",
       "      <td>1</td>\n",
       "      <td>1</td>\n",
       "      <td>1</td>\n",
       "      <td>1</td>\n",
       "      <td>1</td>\n",
       "      <td>1</td>\n",
       "      <td>1</td>\n",
       "      <td>1</td>\n",
       "      <td>1</td>\n",
       "      <td>0</td>\n",
       "      <td>0</td>\n",
       "      <td>0</td>\n",
       "      <td>0</td>\n",
       "      <td>0</td>\n",
       "      <td>0</td>\n",
       "      <td>0</td>\n",
       "      <td>0</td>\n",
       "      <td>1</td>\n",
       "      <td>0</td>\n",
       "      <td>0</td>\n",
       "      <td>0</td>\n",
       "      <td>1</td>\n",
       "      <td>0</td>\n",
       "      <td>0</td>\n",
       "      <td>0</td>\n",
       "      <td>1</td>\n",
       "      <td>0</td>\n",
       "      <td>0</td>\n",
       "      <td>0</td>\n",
       "      <td>0</td>\n",
       "      <td>0</td>\n",
       "      <td>0</td>\n",
       "      <td>0</td>\n",
       "      <td>0</td>\n",
       "      <td>0</td>\n",
       "      <td>0</td>\n",
       "      <td>0</td>\n",
       "      <td>0</td>\n",
       "      <td>0</td>\n",
       "      <td>0</td>\n",
       "      <td>1</td>\n",
       "      <td>0</td>\n",
       "      <td>1</td>\n",
       "      <td>0</td>\n",
       "      <td>0</td>\n",
       "      <td>0</td>\n",
       "      <td>0</td>\n",
       "      <td>0</td>\n",
       "      <td>0</td>\n",
       "      <td>1</td>\n",
       "      <td>0</td>\n",
       "      <td>1</td>\n",
       "      <td>1</td>\n",
       "      <td>0</td>\n",
       "      <td>0</td>\n",
       "      <td>0</td>\n",
       "      <td>0</td>\n",
       "      <td>1</td>\n",
       "      <td>0</td>\n",
       "      <td>1</td>\n",
       "      <td>1</td>\n",
       "      <td>1</td>\n",
       "      <td>0</td>\n",
       "      <td>1</td>\n",
       "      <td>0</td>\n",
       "      <td>0</td>\n",
       "      <td>1</td>\n",
       "      <td>1</td>\n",
       "      <td>1</td>\n",
       "      <td>1</td>\n",
       "      <td>0</td>\n",
       "      <td>7.4</td>\n",
       "      <td>116</td>\n",
       "      <td>1798.0</td>\n",
       "      <td>NaN</td>\n",
       "      <td>1.0</td>\n",
       "      <td>Benzine</td>\n",
       "      <td>165</td>\n",
       "    </tr>\n",
       "    <tr>\n",
       "      <th>15827</th>\n",
       "      <td>Renault Espace</td>\n",
       "      <td>Van</td>\n",
       "      <td>52711</td>\n",
       "      <td>VAT deductible</td>\n",
       "      <td>11.0</td>\n",
       "      <td>New</td>\n",
       "      <td>1.0</td>\n",
       "      <td>NaT</td>\n",
       "      <td>0</td>\n",
       "      <td>Grey</td>\n",
       "      <td>Metallic</td>\n",
       "      <td>Part leather</td>\n",
       "      <td>5</td>\n",
       "      <td>NaN</td>\n",
       "      <td>Automatic</td>\n",
       "      <td>NaN</td>\n",
       "      <td>NaN</td>\n",
       "      <td>9.0</td>\n",
       "      <td>Netherlands</td>\n",
       "      <td>1</td>\n",
       "      <td>0</td>\n",
       "      <td>1</td>\n",
       "      <td>1</td>\n",
       "      <td>0</td>\n",
       "      <td>1</td>\n",
       "      <td>0</td>\n",
       "      <td>1</td>\n",
       "      <td>1</td>\n",
       "      <td>1</td>\n",
       "      <td>1</td>\n",
       "      <td>1</td>\n",
       "      <td>1</td>\n",
       "      <td>1</td>\n",
       "      <td>1</td>\n",
       "      <td>0</td>\n",
       "      <td>1</td>\n",
       "      <td>1</td>\n",
       "      <td>0</td>\n",
       "      <td>0</td>\n",
       "      <td>1</td>\n",
       "      <td>1</td>\n",
       "      <td>0</td>\n",
       "      <td>1</td>\n",
       "      <td>1</td>\n",
       "      <td>1</td>\n",
       "      <td>1</td>\n",
       "      <td>1</td>\n",
       "      <td>1</td>\n",
       "      <td>1</td>\n",
       "      <td>1</td>\n",
       "      <td>1</td>\n",
       "      <td>0</td>\n",
       "      <td>0</td>\n",
       "      <td>0</td>\n",
       "      <td>0</td>\n",
       "      <td>0</td>\n",
       "      <td>0</td>\n",
       "      <td>0</td>\n",
       "      <td>0</td>\n",
       "      <td>1</td>\n",
       "      <td>0</td>\n",
       "      <td>0</td>\n",
       "      <td>0</td>\n",
       "      <td>1</td>\n",
       "      <td>0</td>\n",
       "      <td>0</td>\n",
       "      <td>0</td>\n",
       "      <td>1</td>\n",
       "      <td>0</td>\n",
       "      <td>0</td>\n",
       "      <td>0</td>\n",
       "      <td>0</td>\n",
       "      <td>0</td>\n",
       "      <td>0</td>\n",
       "      <td>0</td>\n",
       "      <td>0</td>\n",
       "      <td>0</td>\n",
       "      <td>0</td>\n",
       "      <td>0</td>\n",
       "      <td>0</td>\n",
       "      <td>0</td>\n",
       "      <td>0</td>\n",
       "      <td>1</td>\n",
       "      <td>0</td>\n",
       "      <td>1</td>\n",
       "      <td>0</td>\n",
       "      <td>0</td>\n",
       "      <td>0</td>\n",
       "      <td>0</td>\n",
       "      <td>0</td>\n",
       "      <td>0</td>\n",
       "      <td>1</td>\n",
       "      <td>0</td>\n",
       "      <td>1</td>\n",
       "      <td>1</td>\n",
       "      <td>0</td>\n",
       "      <td>0</td>\n",
       "      <td>0</td>\n",
       "      <td>0</td>\n",
       "      <td>1</td>\n",
       "      <td>0</td>\n",
       "      <td>1</td>\n",
       "      <td>1</td>\n",
       "      <td>1</td>\n",
       "      <td>0</td>\n",
       "      <td>1</td>\n",
       "      <td>0</td>\n",
       "      <td>0</td>\n",
       "      <td>1</td>\n",
       "      <td>1</td>\n",
       "      <td>1</td>\n",
       "      <td>1</td>\n",
       "      <td>0</td>\n",
       "      <td>7.4</td>\n",
       "      <td>116</td>\n",
       "      <td>1798.0</td>\n",
       "      <td>NaN</td>\n",
       "      <td>1.0</td>\n",
       "      <td>Benzine</td>\n",
       "      <td>165</td>\n",
       "    </tr>\n",
       "    <tr>\n",
       "      <th>15869</th>\n",
       "      <td>Renault Espace</td>\n",
       "      <td>Van</td>\n",
       "      <td>49100</td>\n",
       "      <td>VAT deductible</td>\n",
       "      <td>11.0</td>\n",
       "      <td>New</td>\n",
       "      <td>1.0</td>\n",
       "      <td>NaT</td>\n",
       "      <td>0</td>\n",
       "      <td>White</td>\n",
       "      <td>NaN</td>\n",
       "      <td>Part leather</td>\n",
       "      <td>5</td>\n",
       "      <td>NaN</td>\n",
       "      <td>Automatic</td>\n",
       "      <td>NaN</td>\n",
       "      <td>NaN</td>\n",
       "      <td>9.0</td>\n",
       "      <td>Netherlands</td>\n",
       "      <td>1</td>\n",
       "      <td>0</td>\n",
       "      <td>1</td>\n",
       "      <td>1</td>\n",
       "      <td>0</td>\n",
       "      <td>1</td>\n",
       "      <td>0</td>\n",
       "      <td>0</td>\n",
       "      <td>1</td>\n",
       "      <td>0</td>\n",
       "      <td>0</td>\n",
       "      <td>0</td>\n",
       "      <td>0</td>\n",
       "      <td>1</td>\n",
       "      <td>1</td>\n",
       "      <td>0</td>\n",
       "      <td>1</td>\n",
       "      <td>1</td>\n",
       "      <td>0</td>\n",
       "      <td>0</td>\n",
       "      <td>1</td>\n",
       "      <td>1</td>\n",
       "      <td>0</td>\n",
       "      <td>1</td>\n",
       "      <td>0</td>\n",
       "      <td>0</td>\n",
       "      <td>1</td>\n",
       "      <td>1</td>\n",
       "      <td>1</td>\n",
       "      <td>1</td>\n",
       "      <td>0</td>\n",
       "      <td>0</td>\n",
       "      <td>0</td>\n",
       "      <td>0</td>\n",
       "      <td>0</td>\n",
       "      <td>0</td>\n",
       "      <td>0</td>\n",
       "      <td>0</td>\n",
       "      <td>0</td>\n",
       "      <td>0</td>\n",
       "      <td>1</td>\n",
       "      <td>0</td>\n",
       "      <td>0</td>\n",
       "      <td>0</td>\n",
       "      <td>1</td>\n",
       "      <td>0</td>\n",
       "      <td>0</td>\n",
       "      <td>0</td>\n",
       "      <td>1</td>\n",
       "      <td>0</td>\n",
       "      <td>0</td>\n",
       "      <td>0</td>\n",
       "      <td>0</td>\n",
       "      <td>0</td>\n",
       "      <td>0</td>\n",
       "      <td>0</td>\n",
       "      <td>0</td>\n",
       "      <td>0</td>\n",
       "      <td>0</td>\n",
       "      <td>0</td>\n",
       "      <td>0</td>\n",
       "      <td>0</td>\n",
       "      <td>0</td>\n",
       "      <td>1</td>\n",
       "      <td>0</td>\n",
       "      <td>1</td>\n",
       "      <td>0</td>\n",
       "      <td>0</td>\n",
       "      <td>0</td>\n",
       "      <td>0</td>\n",
       "      <td>0</td>\n",
       "      <td>0</td>\n",
       "      <td>1</td>\n",
       "      <td>0</td>\n",
       "      <td>1</td>\n",
       "      <td>1</td>\n",
       "      <td>0</td>\n",
       "      <td>0</td>\n",
       "      <td>0</td>\n",
       "      <td>0</td>\n",
       "      <td>1</td>\n",
       "      <td>0</td>\n",
       "      <td>1</td>\n",
       "      <td>1</td>\n",
       "      <td>1</td>\n",
       "      <td>0</td>\n",
       "      <td>1</td>\n",
       "      <td>0</td>\n",
       "      <td>0</td>\n",
       "      <td>1</td>\n",
       "      <td>1</td>\n",
       "      <td>1</td>\n",
       "      <td>1</td>\n",
       "      <td>0</td>\n",
       "      <td>5.3</td>\n",
       "      <td>116</td>\n",
       "      <td>1997.0</td>\n",
       "      <td>NaN</td>\n",
       "      <td>1.0</td>\n",
       "      <td>Diesel</td>\n",
       "      <td>146</td>\n",
       "    </tr>\n",
       "    <tr>\n",
       "      <th>15876</th>\n",
       "      <td>Renault Espace</td>\n",
       "      <td>Van</td>\n",
       "      <td>48765</td>\n",
       "      <td>VAT deductible</td>\n",
       "      <td>11.0</td>\n",
       "      <td>New</td>\n",
       "      <td>1.0</td>\n",
       "      <td>NaT</td>\n",
       "      <td>0</td>\n",
       "      <td>White</td>\n",
       "      <td>NaN</td>\n",
       "      <td>Part leather</td>\n",
       "      <td>5</td>\n",
       "      <td>NaN</td>\n",
       "      <td>Automatic</td>\n",
       "      <td>NaN</td>\n",
       "      <td>NaN</td>\n",
       "      <td>9.0</td>\n",
       "      <td>Netherlands</td>\n",
       "      <td>1</td>\n",
       "      <td>0</td>\n",
       "      <td>1</td>\n",
       "      <td>1</td>\n",
       "      <td>0</td>\n",
       "      <td>1</td>\n",
       "      <td>0</td>\n",
       "      <td>0</td>\n",
       "      <td>1</td>\n",
       "      <td>0</td>\n",
       "      <td>0</td>\n",
       "      <td>0</td>\n",
       "      <td>0</td>\n",
       "      <td>1</td>\n",
       "      <td>1</td>\n",
       "      <td>0</td>\n",
       "      <td>1</td>\n",
       "      <td>1</td>\n",
       "      <td>0</td>\n",
       "      <td>0</td>\n",
       "      <td>1</td>\n",
       "      <td>1</td>\n",
       "      <td>0</td>\n",
       "      <td>1</td>\n",
       "      <td>0</td>\n",
       "      <td>0</td>\n",
       "      <td>1</td>\n",
       "      <td>1</td>\n",
       "      <td>1</td>\n",
       "      <td>1</td>\n",
       "      <td>0</td>\n",
       "      <td>0</td>\n",
       "      <td>0</td>\n",
       "      <td>0</td>\n",
       "      <td>0</td>\n",
       "      <td>0</td>\n",
       "      <td>0</td>\n",
       "      <td>0</td>\n",
       "      <td>0</td>\n",
       "      <td>0</td>\n",
       "      <td>1</td>\n",
       "      <td>0</td>\n",
       "      <td>0</td>\n",
       "      <td>0</td>\n",
       "      <td>1</td>\n",
       "      <td>0</td>\n",
       "      <td>0</td>\n",
       "      <td>0</td>\n",
       "      <td>1</td>\n",
       "      <td>0</td>\n",
       "      <td>0</td>\n",
       "      <td>0</td>\n",
       "      <td>0</td>\n",
       "      <td>0</td>\n",
       "      <td>0</td>\n",
       "      <td>0</td>\n",
       "      <td>0</td>\n",
       "      <td>0</td>\n",
       "      <td>0</td>\n",
       "      <td>0</td>\n",
       "      <td>0</td>\n",
       "      <td>0</td>\n",
       "      <td>0</td>\n",
       "      <td>1</td>\n",
       "      <td>0</td>\n",
       "      <td>1</td>\n",
       "      <td>0</td>\n",
       "      <td>0</td>\n",
       "      <td>0</td>\n",
       "      <td>0</td>\n",
       "      <td>0</td>\n",
       "      <td>0</td>\n",
       "      <td>1</td>\n",
       "      <td>0</td>\n",
       "      <td>1</td>\n",
       "      <td>1</td>\n",
       "      <td>0</td>\n",
       "      <td>0</td>\n",
       "      <td>0</td>\n",
       "      <td>0</td>\n",
       "      <td>1</td>\n",
       "      <td>0</td>\n",
       "      <td>1</td>\n",
       "      <td>1</td>\n",
       "      <td>1</td>\n",
       "      <td>0</td>\n",
       "      <td>1</td>\n",
       "      <td>0</td>\n",
       "      <td>0</td>\n",
       "      <td>1</td>\n",
       "      <td>1</td>\n",
       "      <td>1</td>\n",
       "      <td>1</td>\n",
       "      <td>0</td>\n",
       "      <td>7.4</td>\n",
       "      <td>116</td>\n",
       "      <td>1798.0</td>\n",
       "      <td>NaN</td>\n",
       "      <td>1.0</td>\n",
       "      <td>Benzine</td>\n",
       "      <td>165</td>\n",
       "    </tr>\n",
       "  </tbody>\n",
       "</table>\n",
       "</div>"
      ],
      "text/plain": [
       "           make_model body_type  price             vat    km type  previous_owners next_inspection inspection_new body_color paint_type    upholstery nr_of_doors nr_of_seats gearing_type drive_chain emission_label  gears country_version  cc_Air conditioning  cc_Air suspension  cc_Armrest  cc_Automatic climate control  cc_Auxiliary heating  cc_Cruise control  cc_Electric Starter  cc_Electric tailgate  cc_Electrical side mirrors  cc_Electrically adjustable seats  cc_Electrically heated windshield  cc_Heads-up display  cc_Heated steering wheel  cc_Hill Holder  cc_Keyless central door lock  cc_Leather seats  cc_Leather steering wheel  cc_Light sensor  cc_Lumbar support  cc_Massage seats  cc_Multi-function steering wheel  cc_Navigation system  cc_Panorama roof  cc_Park Distance Control  cc_Parking assist system camera  cc_Parking assist system self-steering  cc_Parking assist system sensors front  cc_Parking assist system sensors rear  cc_Power windows  cc_Rain sensor  cc_Seat heating  cc_Seat ventilation  cc_Split rear seats  cc_Start-stop system  cc_Sunroof  cc_Tinted windows  cc_Wind deflector  cc_Windshield  em_Bluetooth  em_CD player  em_Digital radio  em_Hands-free equipment  em_MP3  em_On-board computer  em_Radio  em_Sound system  em_Television  em_USB  ex_Alloy wheels  ex_Cab or rented Car  ex_Catalytic Converter  ex_Handicapped enabled  ex_Right hand drive  ex_Roof rack  ex_Shift paddles  ex_Ski bag  ex_Sliding door  ex_Sport package  ex_Sport seats  ex_Sport suspension  ex_Touch screen  ex_Trailer hitch  ex_Tuned car  ex_Voice Control  ex_Winter tyres  ss_ABS  ss_Adaptive Cruise Control  ss_Adaptive headlights  ss_Alarm system  ss_Blind spot monitor  ss_Central door lock  ss_Central door lock with remote control  ss_Daytime running lights  ss_Driver drowsiness detection  ss_Driver-side airbag  ss_Electronic stability control  ss_Emergency brake assistant  ss_Emergency system  ss_Fog lights  ss_Head airbag  ss_Immobilizer  ss_Isofix  \\\n",
       "15812  Renault Espace       Van  54982  VAT deductible  11.0  New              1.0             NaT              0      White   Metallic  Part leather           5         NaN    Automatic         NaN            NaN    9.0     Netherlands                    1                  0           1                             1                     0                  1                    0                     1                           1                                 1                                  1                    1                         1               1                             1                 0                          1                1                  0                 0                                 1                     1                 0                         1                                1                                       1                                       1                                      1                 1               1                1                    1                    0                     0           0                  0                  0              0             0             0                 1                        0       0                     0         1                0              0       0                1                     0                       0                       0                    0             0                 0           0                0                 0               0                    0                0                 0             0                 1                0       1                           0                       0                0                      0                     0                                         0                          1                               0                      1                                1                             0                    0              0               0               1          0   \n",
       "15814  Renault Espace       Van  54982  VAT deductible  11.0  New              1.0             NaT              0      White   Metallic  Part leather           5         NaN    Automatic         NaN            NaN    9.0     Netherlands                    1                  0           1                             1                     0                  1                    0                     1                           1                                 1                                  1                    1                         1               1                             1                 0                          1                1                  0                 0                                 1                     1                 0                         1                                1                                       1                                       1                                      1                 1               1                1                    1                    0                     0           0                  0                  0              0             0             0                 1                        0       0                     0         1                0              0       0                1                     0                       0                       0                    0             0                 0           0                0                 0               0                    0                0                 0             0                 1                0       1                           0                       0                0                      0                     0                                         0                          1                               0                      1                                1                             0                    0              0               0               1          0   \n",
       "15824  Renault Espace       Van  52711  VAT deductible  11.0  New              1.0             NaT              0       Grey   Metallic  Part leather           5         NaN    Automatic         NaN            NaN    9.0     Netherlands                    1                  0           1                             1                     0                  1                    0                     1                           1                                 1                                  1                    1                         1               1                             1                 0                          1                1                  0                 0                                 1                     1                 0                         1                                1                                       1                                       1                                      1                 1               1                1                    1                    0                     0           0                  0                  0              0             0             0                 1                        0       0                     0         1                0              0       0                1                     0                       0                       0                    0             0                 0           0                0                 0               0                    0                0                 0             0                 1                0       1                           0                       0                0                      0                     0                                         0                          1                               0                      1                                1                             0                    0              0               0               1          0   \n",
       "15827  Renault Espace       Van  52711  VAT deductible  11.0  New              1.0             NaT              0       Grey   Metallic  Part leather           5         NaN    Automatic         NaN            NaN    9.0     Netherlands                    1                  0           1                             1                     0                  1                    0                     1                           1                                 1                                  1                    1                         1               1                             1                 0                          1                1                  0                 0                                 1                     1                 0                         1                                1                                       1                                       1                                      1                 1               1                1                    1                    0                     0           0                  0                  0              0             0             0                 1                        0       0                     0         1                0              0       0                1                     0                       0                       0                    0             0                 0           0                0                 0               0                    0                0                 0             0                 1                0       1                           0                       0                0                      0                     0                                         0                          1                               0                      1                                1                             0                    0              0               0               1          0   \n",
       "15869  Renault Espace       Van  49100  VAT deductible  11.0  New              1.0             NaT              0      White        NaN  Part leather           5         NaN    Automatic         NaN            NaN    9.0     Netherlands                    1                  0           1                             1                     0                  1                    0                     0                           1                                 0                                  0                    0                         0               1                             1                 0                          1                1                  0                 0                                 1                     1                 0                         1                                0                                       0                                       1                                      1                 1               1                0                    0                    0                     0           0                  0                  0              0             0             0                 1                        0       0                     0         1                0              0       0                1                     0                       0                       0                    0             0                 0           0                0                 0               0                    0                0                 0             0                 1                0       1                           0                       0                0                      0                     0                                         0                          1                               0                      1                                1                             0                    0              0               0               1          0   \n",
       "15876  Renault Espace       Van  48765  VAT deductible  11.0  New              1.0             NaT              0      White        NaN  Part leather           5         NaN    Automatic         NaN            NaN    9.0     Netherlands                    1                  0           1                             1                     0                  1                    0                     0                           1                                 0                                  0                    0                         0               1                             1                 0                          1                1                  0                 0                                 1                     1                 0                         1                                0                                       0                                       1                                      1                 1               1                0                    0                    0                     0           0                  0                  0              0             0             0                 1                        0       0                     0         1                0              0       0                1                     0                       0                       0                    0             0                 0           0                0                 0               0                    0                0                 0             0                 1                0       1                           0                       0                0                      0                     0                                         0                          1                               0                      1                                1                             0                    0              0               0               1          0   \n",
       "\n",
       "       ss_LED Daytime Running Lights  ss_LED Headlights  ss_Lane departure warning system  ss_Night view assist  ss_Passenger-side airbag  ss_Power steering  ss_Rear airbag  ss_Side airbag  ss_Tire pressure monitoring system  ss_Traction control  ss_Traffic sign recognition  ss_Xenon headlights consumption_comb co2_emission_new  displacement_cc emission_class_new  register_age fuel_new  hp_kw  \n",
       "15812                              1                  1                                 1                     0                         1                  0               0               1                                   1                    1                            1                    0              7.6              116           1798.0                NaN           1.0  Benzine    165  \n",
       "15814                              1                  1                                 1                     0                         1                  0               0               1                                   1                    1                            1                    0              7.6              116           1798.0                NaN           1.0  Benzine    165  \n",
       "15824                              1                  1                                 1                     0                         1                  0               0               1                                   1                    1                            1                    0              7.4              116           1798.0                NaN           1.0  Benzine    165  \n",
       "15827                              1                  1                                 1                     0                         1                  0               0               1                                   1                    1                            1                    0              7.4              116           1798.0                NaN           1.0  Benzine    165  \n",
       "15869                              1                  1                                 1                     0                         1                  0               0               1                                   1                    1                            1                    0              5.3              116           1997.0                NaN           1.0   Diesel    146  \n",
       "15876                              1                  1                                 1                     0                         1                  0               0               1                                   1                    1                            1                    0              7.4              116           1798.0                NaN           1.0  Benzine    165  "
      ]
     },
     "execution_count": 313,
     "metadata": {},
     "output_type": "execute_result"
    }
   ],
   "source": [
    "df[df['gears'] == 9]"
   ]
  },
  {
   "cell_type": "code",
   "execution_count": 314,
   "metadata": {},
   "outputs": [],
   "source": [
    "idx_lst = list(df[df['gears'] == 9].index)"
   ]
  },
  {
   "cell_type": "code",
   "execution_count": 315,
   "metadata": {},
   "outputs": [
    {
     "data": {
      "text/plain": [
       "[15812, 15814, 15824, 15827, 15869, 15876]"
      ]
     },
     "execution_count": 315,
     "metadata": {},
     "output_type": "execute_result"
    }
   ],
   "source": [
    "idx_lst"
   ]
  },
  {
   "cell_type": "code",
   "execution_count": 316,
   "metadata": {},
   "outputs": [],
   "source": [
    "for i in idx_lst:\n",
    "    df.gears.iloc[i] = 7"
   ]
  },
  {
   "cell_type": "code",
   "execution_count": 317,
   "metadata": {},
   "outputs": [
    {
     "data": {
      "text/plain": [
       "<AxesSubplot:>"
      ]
     },
     "execution_count": 317,
     "metadata": {},
     "output_type": "execute_result"
    },
    {
     "data": {
      "image/png": "[encoded data removed]",
      "text/plain": [
       "<Figure size 432x288 with 1 Axes>"
      ]
     },
     "metadata": {
      "needs_background": "light"
     },
     "output_type": "display_data"
    }
   ],
   "source": [
    "df.gears.value_counts(dropna = False).plot(kind = 'bar')"
   ]
  },
  {
   "cell_type": "code",
   "execution_count": 318,
   "metadata": {},
   "outputs": [
    {
     "data": {
      "text/plain": [
       "Used              11096\n",
       "New                1650\n",
       "Pre-registered     1364\n",
       "Employee's car     1011\n",
       "Demonstration       796\n",
       "NaN                   2\n",
       "Name: type, dtype: int64"
      ]
     },
     "execution_count": 318,
     "metadata": {},
     "output_type": "execute_result"
    }
   ],
   "source": [
    "df.type.value_counts(dropna = False)"
   ]
  },
  {
   "cell_type": "code",
   "execution_count": 319,
   "metadata": {},
   "outputs": [
    {
     "data": {
      "text/html": [
       "<div>\n",
       "<style scoped>\n",
       "    .dataframe tbody tr th:only-of-type {\n",
       "        vertical-align: middle;\n",
       "    }\n",
       "\n",
       "    .dataframe tbody tr th {\n",
       "        vertical-align: top;\n",
       "    }\n",
       "\n",
       "    .dataframe thead th {\n",
       "        text-align: right;\n",
       "    }\n",
       "</style>\n",
       "<table border=\"1\" class=\"dataframe\">\n",
       "  <thead>\n",
       "    <tr style=\"text-align: right;\">\n",
       "      <th></th>\n",
       "      <th>make_model</th>\n",
       "      <th>body_type</th>\n",
       "      <th>price</th>\n",
       "      <th>vat</th>\n",
       "      <th>km</th>\n",
       "      <th>type</th>\n",
       "      <th>previous_owners</th>\n",
       "      <th>next_inspection</th>\n",
       "      <th>inspection_new</th>\n",
       "      <th>body_color</th>\n",
       "      <th>paint_type</th>\n",
       "      <th>upholstery</th>\n",
       "      <th>nr_of_doors</th>\n",
       "      <th>nr_of_seats</th>\n",
       "      <th>gearing_type</th>\n",
       "      <th>drive_chain</th>\n",
       "      <th>emission_label</th>\n",
       "      <th>gears</th>\n",
       "      <th>country_version</th>\n",
       "      <th>cc_Air conditioning</th>\n",
       "      <th>cc_Air suspension</th>\n",
       "      <th>cc_Armrest</th>\n",
       "      <th>cc_Automatic climate control</th>\n",
       "      <th>cc_Auxiliary heating</th>\n",
       "      <th>cc_Cruise control</th>\n",
       "      <th>cc_Electric Starter</th>\n",
       "      <th>cc_Electric tailgate</th>\n",
       "      <th>cc_Electrical side mirrors</th>\n",
       "      <th>cc_Electrically adjustable seats</th>\n",
       "      <th>cc_Electrically heated windshield</th>\n",
       "      <th>cc_Heads-up display</th>\n",
       "      <th>cc_Heated steering wheel</th>\n",
       "      <th>cc_Hill Holder</th>\n",
       "      <th>cc_Keyless central door lock</th>\n",
       "      <th>cc_Leather seats</th>\n",
       "      <th>cc_Leather steering wheel</th>\n",
       "      <th>cc_Light sensor</th>\n",
       "      <th>cc_Lumbar support</th>\n",
       "      <th>cc_Massage seats</th>\n",
       "      <th>cc_Multi-function steering wheel</th>\n",
       "      <th>cc_Navigation system</th>\n",
       "      <th>cc_Panorama roof</th>\n",
       "      <th>cc_Park Distance Control</th>\n",
       "      <th>cc_Parking assist system camera</th>\n",
       "      <th>cc_Parking assist system self-steering</th>\n",
       "      <th>cc_Parking assist system sensors front</th>\n",
       "      <th>cc_Parking assist system sensors rear</th>\n",
       "      <th>cc_Power windows</th>\n",
       "      <th>cc_Rain sensor</th>\n",
       "      <th>cc_Seat heating</th>\n",
       "      <th>cc_Seat ventilation</th>\n",
       "      <th>cc_Split rear seats</th>\n",
       "      <th>cc_Start-stop system</th>\n",
       "      <th>cc_Sunroof</th>\n",
       "      <th>cc_Tinted windows</th>\n",
       "      <th>cc_Wind deflector</th>\n",
       "      <th>cc_Windshield</th>\n",
       "      <th>em_Bluetooth</th>\n",
       "      <th>em_CD player</th>\n",
       "      <th>em_Digital radio</th>\n",
       "      <th>em_Hands-free equipment</th>\n",
       "      <th>em_MP3</th>\n",
       "      <th>em_On-board computer</th>\n",
       "      <th>em_Radio</th>\n",
       "      <th>em_Sound system</th>\n",
       "      <th>em_Television</th>\n",
       "      <th>em_USB</th>\n",
       "      <th>ex_Alloy wheels</th>\n",
       "      <th>ex_Cab or rented Car</th>\n",
       "      <th>ex_Catalytic Converter</th>\n",
       "      <th>ex_Handicapped enabled</th>\n",
       "      <th>ex_Right hand drive</th>\n",
       "      <th>ex_Roof rack</th>\n",
       "      <th>ex_Shift paddles</th>\n",
       "      <th>ex_Ski bag</th>\n",
       "      <th>ex_Sliding door</th>\n",
       "      <th>ex_Sport package</th>\n",
       "      <th>ex_Sport seats</th>\n",
       "      <th>ex_Sport suspension</th>\n",
       "      <th>ex_Touch screen</th>\n",
       "      <th>ex_Trailer hitch</th>\n",
       "      <th>ex_Tuned car</th>\n",
       "      <th>ex_Voice Control</th>\n",
       "      <th>ex_Winter tyres</th>\n",
       "      <th>ss_ABS</th>\n",
       "      <th>ss_Adaptive Cruise Control</th>\n",
       "      <th>ss_Adaptive headlights</th>\n",
       "      <th>ss_Alarm system</th>\n",
       "      <th>ss_Blind spot monitor</th>\n",
       "      <th>ss_Central door lock</th>\n",
       "      <th>ss_Central door lock with remote control</th>\n",
       "      <th>ss_Daytime running lights</th>\n",
       "      <th>ss_Driver drowsiness detection</th>\n",
       "      <th>ss_Driver-side airbag</th>\n",
       "      <th>ss_Electronic stability control</th>\n",
       "      <th>ss_Emergency brake assistant</th>\n",
       "      <th>ss_Emergency system</th>\n",
       "      <th>ss_Fog lights</th>\n",
       "      <th>ss_Head airbag</th>\n",
       "      <th>ss_Immobilizer</th>\n",
       "      <th>ss_Isofix</th>\n",
       "      <th>ss_LED Daytime Running Lights</th>\n",
       "      <th>ss_LED Headlights</th>\n",
       "      <th>ss_Lane departure warning system</th>\n",
       "      <th>ss_Night view assist</th>\n",
       "      <th>ss_Passenger-side airbag</th>\n",
       "      <th>ss_Power steering</th>\n",
       "      <th>ss_Rear airbag</th>\n",
       "      <th>ss_Side airbag</th>\n",
       "      <th>ss_Tire pressure monitoring system</th>\n",
       "      <th>ss_Traction control</th>\n",
       "      <th>ss_Traffic sign recognition</th>\n",
       "      <th>ss_Xenon headlights</th>\n",
       "      <th>consumption_comb</th>\n",
       "      <th>co2_emission_new</th>\n",
       "      <th>displacement_cc</th>\n",
       "      <th>emission_class_new</th>\n",
       "      <th>register_age</th>\n",
       "      <th>fuel_new</th>\n",
       "      <th>hp_kw</th>\n",
       "    </tr>\n",
       "  </thead>\n",
       "  <tbody>\n",
       "    <tr>\n",
       "      <th>2765</th>\n",
       "      <td>Audi A3</td>\n",
       "      <td>Sedans</td>\n",
       "      <td>17900</td>\n",
       "      <td>None</td>\n",
       "      <td>115137.0</td>\n",
       "      <td>NaN</td>\n",
       "      <td>2.0</td>\n",
       "      <td>NaT</td>\n",
       "      <td>0</td>\n",
       "      <td>White</td>\n",
       "      <td>NaN</td>\n",
       "      <td>Cloth, Other</td>\n",
       "      <td>5</td>\n",
       "      <td>5</td>\n",
       "      <td>Automatic</td>\n",
       "      <td>front</td>\n",
       "      <td>1 (No sticker)</td>\n",
       "      <td>6.0</td>\n",
       "      <td>NaN</td>\n",
       "      <td>1</td>\n",
       "      <td>0</td>\n",
       "      <td>0</td>\n",
       "      <td>0</td>\n",
       "      <td>0</td>\n",
       "      <td>0</td>\n",
       "      <td>0</td>\n",
       "      <td>0</td>\n",
       "      <td>0</td>\n",
       "      <td>0</td>\n",
       "      <td>0</td>\n",
       "      <td>0</td>\n",
       "      <td>0</td>\n",
       "      <td>0</td>\n",
       "      <td>0</td>\n",
       "      <td>0</td>\n",
       "      <td>0</td>\n",
       "      <td>0</td>\n",
       "      <td>0</td>\n",
       "      <td>0</td>\n",
       "      <td>0</td>\n",
       "      <td>0</td>\n",
       "      <td>0</td>\n",
       "      <td>0</td>\n",
       "      <td>0</td>\n",
       "      <td>0</td>\n",
       "      <td>0</td>\n",
       "      <td>0</td>\n",
       "      <td>0</td>\n",
       "      <td>0</td>\n",
       "      <td>0</td>\n",
       "      <td>0</td>\n",
       "      <td>0</td>\n",
       "      <td>0</td>\n",
       "      <td>0</td>\n",
       "      <td>0</td>\n",
       "      <td>0</td>\n",
       "      <td>0</td>\n",
       "      <td>1</td>\n",
       "      <td>0</td>\n",
       "      <td>0</td>\n",
       "      <td>1</td>\n",
       "      <td>0</td>\n",
       "      <td>0</td>\n",
       "      <td>0</td>\n",
       "      <td>0</td>\n",
       "      <td>0</td>\n",
       "      <td>0</td>\n",
       "      <td>1</td>\n",
       "      <td>0</td>\n",
       "      <td>0</td>\n",
       "      <td>0</td>\n",
       "      <td>0</td>\n",
       "      <td>0</td>\n",
       "      <td>0</td>\n",
       "      <td>0</td>\n",
       "      <td>0</td>\n",
       "      <td>0</td>\n",
       "      <td>1</td>\n",
       "      <td>1</td>\n",
       "      <td>0</td>\n",
       "      <td>0</td>\n",
       "      <td>0</td>\n",
       "      <td>0</td>\n",
       "      <td>0</td>\n",
       "      <td>1</td>\n",
       "      <td>0</td>\n",
       "      <td>0</td>\n",
       "      <td>0</td>\n",
       "      <td>0</td>\n",
       "      <td>1</td>\n",
       "      <td>0</td>\n",
       "      <td>0</td>\n",
       "      <td>0</td>\n",
       "      <td>1</td>\n",
       "      <td>0</td>\n",
       "      <td>0</td>\n",
       "      <td>0</td>\n",
       "      <td>0</td>\n",
       "      <td>0</td>\n",
       "      <td>0</td>\n",
       "      <td>1</td>\n",
       "      <td>0</td>\n",
       "      <td>0</td>\n",
       "      <td>0</td>\n",
       "      <td>0</td>\n",
       "      <td>1</td>\n",
       "      <td>1</td>\n",
       "      <td>0</td>\n",
       "      <td>1</td>\n",
       "      <td>0</td>\n",
       "      <td>1</td>\n",
       "      <td>0</td>\n",
       "      <td>1</td>\n",
       "      <td>4.5</td>\n",
       "      <td>118</td>\n",
       "      <td>1968.0</td>\n",
       "      <td>Euro 6</td>\n",
       "      <td>4.0</td>\n",
       "      <td>Diesel</td>\n",
       "      <td>110</td>\n",
       "    </tr>\n",
       "    <tr>\n",
       "      <th>5237</th>\n",
       "      <td>Audi A3</td>\n",
       "      <td>Sedans</td>\n",
       "      <td>25400</td>\n",
       "      <td>None</td>\n",
       "      <td>NaN</td>\n",
       "      <td>NaN</td>\n",
       "      <td>1.0</td>\n",
       "      <td>NaT</td>\n",
       "      <td>0</td>\n",
       "      <td>Grey</td>\n",
       "      <td>NaN</td>\n",
       "      <td>Cloth, Other</td>\n",
       "      <td>5</td>\n",
       "      <td>5</td>\n",
       "      <td>Automatic</td>\n",
       "      <td>front</td>\n",
       "      <td>1 (No sticker)</td>\n",
       "      <td>7.0</td>\n",
       "      <td>NaN</td>\n",
       "      <td>1</td>\n",
       "      <td>0</td>\n",
       "      <td>0</td>\n",
       "      <td>0</td>\n",
       "      <td>0</td>\n",
       "      <td>0</td>\n",
       "      <td>0</td>\n",
       "      <td>0</td>\n",
       "      <td>0</td>\n",
       "      <td>0</td>\n",
       "      <td>0</td>\n",
       "      <td>0</td>\n",
       "      <td>0</td>\n",
       "      <td>0</td>\n",
       "      <td>0</td>\n",
       "      <td>0</td>\n",
       "      <td>0</td>\n",
       "      <td>0</td>\n",
       "      <td>0</td>\n",
       "      <td>0</td>\n",
       "      <td>0</td>\n",
       "      <td>0</td>\n",
       "      <td>0</td>\n",
       "      <td>0</td>\n",
       "      <td>0</td>\n",
       "      <td>0</td>\n",
       "      <td>0</td>\n",
       "      <td>0</td>\n",
       "      <td>0</td>\n",
       "      <td>0</td>\n",
       "      <td>0</td>\n",
       "      <td>0</td>\n",
       "      <td>0</td>\n",
       "      <td>0</td>\n",
       "      <td>0</td>\n",
       "      <td>0</td>\n",
       "      <td>0</td>\n",
       "      <td>0</td>\n",
       "      <td>1</td>\n",
       "      <td>0</td>\n",
       "      <td>0</td>\n",
       "      <td>1</td>\n",
       "      <td>0</td>\n",
       "      <td>0</td>\n",
       "      <td>0</td>\n",
       "      <td>0</td>\n",
       "      <td>0</td>\n",
       "      <td>0</td>\n",
       "      <td>1</td>\n",
       "      <td>0</td>\n",
       "      <td>0</td>\n",
       "      <td>0</td>\n",
       "      <td>0</td>\n",
       "      <td>0</td>\n",
       "      <td>0</td>\n",
       "      <td>0</td>\n",
       "      <td>0</td>\n",
       "      <td>0</td>\n",
       "      <td>0</td>\n",
       "      <td>0</td>\n",
       "      <td>0</td>\n",
       "      <td>0</td>\n",
       "      <td>0</td>\n",
       "      <td>0</td>\n",
       "      <td>0</td>\n",
       "      <td>1</td>\n",
       "      <td>0</td>\n",
       "      <td>0</td>\n",
       "      <td>0</td>\n",
       "      <td>0</td>\n",
       "      <td>1</td>\n",
       "      <td>0</td>\n",
       "      <td>0</td>\n",
       "      <td>0</td>\n",
       "      <td>1</td>\n",
       "      <td>0</td>\n",
       "      <td>0</td>\n",
       "      <td>0</td>\n",
       "      <td>0</td>\n",
       "      <td>0</td>\n",
       "      <td>0</td>\n",
       "      <td>1</td>\n",
       "      <td>0</td>\n",
       "      <td>0</td>\n",
       "      <td>0</td>\n",
       "      <td>0</td>\n",
       "      <td>1</td>\n",
       "      <td>1</td>\n",
       "      <td>0</td>\n",
       "      <td>1</td>\n",
       "      <td>0</td>\n",
       "      <td>1</td>\n",
       "      <td>0</td>\n",
       "      <td>1</td>\n",
       "      <td>3.9</td>\n",
       "      <td>103</td>\n",
       "      <td>1598.0</td>\n",
       "      <td>Euro 6</td>\n",
       "      <td>NaN</td>\n",
       "      <td>Diesel</td>\n",
       "      <td>85</td>\n",
       "    </tr>\n",
       "  </tbody>\n",
       "</table>\n",
       "</div>"
      ],
      "text/plain": [
       "     make_model body_type  price   vat        km type  previous_owners next_inspection inspection_new body_color paint_type    upholstery nr_of_doors nr_of_seats gearing_type drive_chain  emission_label  gears country_version  cc_Air conditioning  cc_Air suspension  cc_Armrest  cc_Automatic climate control  cc_Auxiliary heating  cc_Cruise control  cc_Electric Starter  cc_Electric tailgate  cc_Electrical side mirrors  cc_Electrically adjustable seats  cc_Electrically heated windshield  cc_Heads-up display  cc_Heated steering wheel  cc_Hill Holder  cc_Keyless central door lock  cc_Leather seats  cc_Leather steering wheel  cc_Light sensor  cc_Lumbar support  cc_Massage seats  cc_Multi-function steering wheel  cc_Navigation system  cc_Panorama roof  cc_Park Distance Control  cc_Parking assist system camera  cc_Parking assist system self-steering  cc_Parking assist system sensors front  cc_Parking assist system sensors rear  cc_Power windows  cc_Rain sensor  cc_Seat heating  cc_Seat ventilation  cc_Split rear seats  cc_Start-stop system  cc_Sunroof  cc_Tinted windows  cc_Wind deflector  cc_Windshield  em_Bluetooth  em_CD player  em_Digital radio  em_Hands-free equipment  em_MP3  em_On-board computer  em_Radio  em_Sound system  em_Television  em_USB  ex_Alloy wheels  ex_Cab or rented Car  ex_Catalytic Converter  ex_Handicapped enabled  ex_Right hand drive  ex_Roof rack  ex_Shift paddles  ex_Ski bag  ex_Sliding door  ex_Sport package  ex_Sport seats  ex_Sport suspension  ex_Touch screen  ex_Trailer hitch  ex_Tuned car  ex_Voice Control  ex_Winter tyres  ss_ABS  ss_Adaptive Cruise Control  ss_Adaptive headlights  ss_Alarm system  ss_Blind spot monitor  ss_Central door lock  ss_Central door lock with remote control  ss_Daytime running lights  ss_Driver drowsiness detection  ss_Driver-side airbag  ss_Electronic stability control  ss_Emergency brake assistant  ss_Emergency system  ss_Fog lights  ss_Head airbag  ss_Immobilizer  ss_Isofix  ss_LED Daytime Running Lights  \\\n",
       "2765    Audi A3    Sedans  17900  None  115137.0  NaN              2.0             NaT              0      White        NaN  Cloth, Other           5           5    Automatic       front  1 (No sticker)    6.0             NaN                    1                  0           0                             0                     0                  0                    0                     0                           0                                 0                                  0                    0                         0               0                             0                 0                          0                0                  0                 0                                 0                     0                 0                         0                                0                                       0                                       0                                      0                 0               0                0                    0                    0                     0           0                  0                  0              0             1             0                 0                        1       0                     0         0                0              0       0                1                     0                       0                       0                    0             0                 0           0                0                 0               1                    1                0                 0             0                 0                0       1                           0                       0                0                      0                     1                                         0                          0                               0                      1                                0                             0                    0              0               0               0          1                              0   \n",
       "5237    Audi A3    Sedans  25400  None       NaN  NaN              1.0             NaT              0       Grey        NaN  Cloth, Other           5           5    Automatic       front  1 (No sticker)    7.0             NaN                    1                  0           0                             0                     0                  0                    0                     0                           0                                 0                                  0                    0                         0               0                             0                 0                          0                0                  0                 0                                 0                     0                 0                         0                                0                                       0                                       0                                      0                 0               0                0                    0                    0                     0           0                  0                  0              0             1             0                 0                        1       0                     0         0                0              0       0                1                     0                       0                       0                    0             0                 0           0                0                 0               0                    0                0                 0             0                 0                0       1                           0                       0                0                      0                     1                                         0                          0                               0                      1                                0                             0                    0              0               0               0          1                              0   \n",
       "\n",
       "      ss_LED Headlights  ss_Lane departure warning system  ss_Night view assist  ss_Passenger-side airbag  ss_Power steering  ss_Rear airbag  ss_Side airbag  ss_Tire pressure monitoring system  ss_Traction control  ss_Traffic sign recognition  ss_Xenon headlights consumption_comb co2_emission_new  displacement_cc emission_class_new  register_age fuel_new  hp_kw  \n",
       "2765                  0                                 0                     0                         1                  1               0               1                                   0                    1                            0                    1              4.5              118           1968.0             Euro 6           4.0   Diesel    110  \n",
       "5237                  0                                 0                     0                         1                  1               0               1                                   0                    1                            0                    1              3.9              103           1598.0             Euro 6           NaN   Diesel     85  "
      ]
     },
     "execution_count": 319,
     "metadata": {},
     "output_type": "execute_result"
    }
   ],
   "source": [
    "df[df['type'].isnull()]"
   ]
  },
  {
   "cell_type": "code",
   "execution_count": 320,
   "metadata": {},
   "outputs": [],
   "source": [
    "df.type.fillna('Used', inplace = True)"
   ]
  },
  {
   "cell_type": "code",
   "execution_count": 321,
   "metadata": {},
   "outputs": [
    {
     "data": {
      "text/plain": [
       "<AxesSubplot:>"
      ]
     },
     "execution_count": 321,
     "metadata": {},
     "output_type": "execute_result"
    },
    {
     "data": {
      "image/png": "[encoded data removed]",
      "text/plain": [
       "<Figure size 432x288 with 1 Axes>"
      ]
     },
     "metadata": {
      "needs_background": "light"
     },
     "output_type": "display_data"
    }
   ],
   "source": [
    "df.type.value_counts(dropna = False).plot(kind='bar')"
   ]
  },
  {
   "cell_type": "code",
   "execution_count": 322,
   "metadata": {},
   "outputs": [
    {
     "data": {
      "text/plain": [
       "Cloth, Black           5821\n",
       "NaN                    3720\n",
       "Part leather, Black    1121\n",
       "Cloth                  1005\n",
       "Cloth, Grey             891\n",
       "Cloth, Other            639\n",
       "Full leather, Black     575\n",
       "Black                   491\n",
       "Grey                    273\n",
       "Other, Other            182\n",
       "Part leather            140\n",
       "Full leather            139\n",
       "Full leather, Brown     116\n",
       "Part leather, Grey      116\n",
       "Other, Black            110\n",
       "Full leather, Other      72\n",
       "Full leather, Grey       67\n",
       "Part leather, Other      65\n",
       "Other                    56\n",
       "Part leather, Brown      50\n",
       "alcantara, Black         47\n",
       "Velour, Black            36\n",
       "Full leather, Beige      36\n",
       "Cloth, Brown             28\n",
       "Velour                   16\n",
       "Other, Grey              15\n",
       "Cloth, Beige             13\n",
       "Cloth, Blue              12\n",
       "Brown                    12\n",
       "Cloth, White              8\n",
       "Velour, Grey              8\n",
       "alcantara, Grey           6\n",
       "Cloth, Red                5\n",
       "Other, Yellow             4\n",
       "Beige                     3\n",
       "Part leather, Red         3\n",
       "Blue                      2\n",
       "Part leather, White       2\n",
       "Full leather, Blue        2\n",
       "White                     2\n",
       "alcantara                 2\n",
       "Part leather, Beige       2\n",
       "alcantara, Other          2\n",
       "Other, Brown              1\n",
       "Full leather, White       1\n",
       "Full leather, Red         1\n",
       "Cloth, Orange             1\n",
       "Name: upholstery, dtype: int64"
      ]
     },
     "execution_count": 322,
     "metadata": {},
     "output_type": "execute_result"
    }
   ],
   "source": [
    "df.upholstery.value_counts(dropna = False)"
   ]
  },
  {
   "cell_type": "code",
   "execution_count": 323,
   "metadata": {},
   "outputs": [
    {
     "data": {
      "text/plain": [
       "False    9634\n",
       "NaN      3720\n",
       "True     2565\n",
       "Name: upholstery, dtype: int64"
      ]
     },
     "execution_count": 323,
     "metadata": {},
     "output_type": "execute_result"
    }
   ],
   "source": [
    "df.upholstery.str.contains('leather|alcantara', case = False, regex = True).value_counts(dropna = False)"
   ]
  },
  {
   "cell_type": "code",
   "execution_count": 324,
   "metadata": {},
   "outputs": [
    {
     "data": {
      "text/plain": [
       "12199"
      ]
     },
     "execution_count": 324,
     "metadata": {},
     "output_type": "execute_result"
    }
   ],
   "source": [
    "df.upholstery.str.contains('leather|alcantara', case = False, regex = True).value_counts().sum()"
   ]
  },
  {
   "cell_type": "code",
   "execution_count": 325,
   "metadata": {},
   "outputs": [],
   "source": [
    "df.upholstery.fillna(\"Cloth\", limit = 1000, inplace = True)\n",
    "df.upholstery.fillna(\"Leather\", limit = 410, inplace = True)\n",
    "df.upholstery.fillna(\"Cloth\", limit = 1000, inplace = True)\n",
    "df.upholstery.fillna(\"Leather\", limit = 410, inplace = True)\n",
    "df.upholstery.fillna(\"Cloth\", limit = 900, inplace = True)"
   ]
  },
  {
   "cell_type": "code",
   "execution_count": 326,
   "metadata": {},
   "outputs": [],
   "source": [
    "upholstery_bool_list = df['upholstery'].str.contains('leather|alcantara', case = False, regex = True)"
   ]
  },
  {
   "cell_type": "code",
   "execution_count": 327,
   "metadata": {},
   "outputs": [],
   "source": [
    "df.loc[upholstery_bool_list, 'upholstery'] = 'Part/Full Leather'"
   ]
  },
  {
   "cell_type": "code",
   "execution_count": 328,
   "metadata": {},
   "outputs": [],
   "source": [
    "df.upholstery.loc[lambda x : x!= 'Part/Full Leather'] = 'Cloth'"
   ]
  },
  {
   "cell_type": "code",
   "execution_count": 329,
   "metadata": {},
   "outputs": [
    {
     "data": {
      "text/plain": [
       "<AxesSubplot:>"
      ]
     },
     "execution_count": 329,
     "metadata": {},
     "output_type": "execute_result"
    },
    {
     "data": {
      "image/png": "[encoded data removed]",
      "text/plain": [
       "<Figure size 432x288 with 1 Axes>"
      ]
     },
     "metadata": {
      "needs_background": "light"
     },
     "output_type": "display_data"
    }
   ],
   "source": [
    "df.upholstery.value_counts(dropna = False).plot(kind = 'bar')"
   ]
  },
  {
   "cell_type": "code",
   "execution_count": 330,
   "metadata": {},
   "outputs": [
    {
     "data": {
      "text/plain": [
       "2.0    4522\n",
       "4.0    3674\n",
       "3.0    3273\n",
       "1.0    2853\n",
       "NaN    1597\n",
       "Name: register_age, dtype: int64"
      ]
     },
     "execution_count": 330,
     "metadata": {},
     "output_type": "execute_result"
    }
   ],
   "source": [
    "df.register_age.value_counts(dropna = False)"
   ]
  },
  {
   "cell_type": "code",
   "execution_count": 331,
   "metadata": {
    "scrolled": true
   },
   "outputs": [
    {
     "data": {
      "text/plain": [
       "NaN        838\n",
       "10.0       369\n",
       "1.0        146\n",
       "5.0         58\n",
       "20.0        32\n",
       "15.0        21\n",
       "0.0         19\n",
       "11.0        12\n",
       "8.0         11\n",
       "50.0        10\n",
       "12.0         8\n",
       "100.0        8\n",
       "7.0          7\n",
       "9.0          4\n",
       "3.0          4\n",
       "4.0          3\n",
       "30.0         3\n",
       "25.0         3\n",
       "250.0        3\n",
       "3000.0       2\n",
       "39962.0      2\n",
       "2.0          2\n",
       "22627.0      2\n",
       "60.0         1\n",
       "6.0          1\n",
       "784.0        1\n",
       "196.0        1\n",
       "40.0         1\n",
       "6100.0       1\n",
       "85000.0      1\n",
       "281.0        1\n",
       "11200.0      1\n",
       "11000.0      1\n",
       "19500.0      1\n",
       "325.0        1\n",
       "5000.0       1\n",
       "81800.0      1\n",
       "68485.0      1\n",
       "99.0         1\n",
       "77.0         1\n",
       "500.0        1\n",
       "150.0        1\n",
       "142.0        1\n",
       "20768.0      1\n",
       "89982.0      1\n",
       "89692.0      1\n",
       "32084.0      1\n",
       "497.0        1\n",
       "141.0        1\n",
       "4500.0       1\n",
       "3500.0       1\n",
       "34164.0      1\n",
       "4307.0       1\n",
       "Name: km, dtype: int64"
      ]
     },
     "execution_count": 331,
     "metadata": {},
     "output_type": "execute_result"
    }
   ],
   "source": [
    "df[df.register_age.isnull()]['km'].value_counts(dropna = False)"
   ]
  },
  {
   "cell_type": "code",
   "execution_count": 332,
   "metadata": {},
   "outputs": [
    {
     "data": {
      "text/plain": [
       "934.4967061923584"
      ]
     },
     "execution_count": 332,
     "metadata": {},
     "output_type": "execute_result"
    }
   ],
   "source": [
    "df[df.register_age.isnull()]['km'].mean()"
   ]
  },
  {
   "cell_type": "code",
   "execution_count": 333,
   "metadata": {},
   "outputs": [
    {
     "data": {
      "text/plain": [
       "10.0"
      ]
     },
     "execution_count": 333,
     "metadata": {},
     "output_type": "execute_result"
    }
   ],
   "source": [
    "df[df.register_age.isnull()]['km'].median()"
   ]
  },
  {
   "cell_type": "code",
   "execution_count": 334,
   "metadata": {},
   "outputs": [],
   "source": [
    "df.register_age.fillna(0, inplace = True)"
   ]
  },
  {
   "cell_type": "code",
   "execution_count": 335,
   "metadata": {},
   "outputs": [
    {
     "data": {
      "text/plain": [
       "<AxesSubplot:>"
      ]
     },
     "execution_count": 335,
     "metadata": {},
     "output_type": "execute_result"
    },
    {
     "data": {
      "image/png": "[encoded data removed]",
      "text/plain": [
       "<Figure size 432x288 with 1 Axes>"
      ]
     },
     "metadata": {
      "needs_background": "light"
     },
     "output_type": "display_data"
    }
   ],
   "source": [
    "df.register_age.value_counts(dropna = False).plot(kind = 'bar')"
   ]
  },
  {
   "cell_type": "code",
   "execution_count": 336,
   "metadata": {},
   "outputs": [
    {
     "data": {
      "text/plain": [
       "10.0       1045\n",
       "NaN        1024\n",
       "1.0         367\n",
       "5.0         170\n",
       "50.0        148\n",
       "           ... \n",
       "8329.0        1\n",
       "267.0         1\n",
       "1060.0        1\n",
       "73652.0       1\n",
       "49320.0       1\n",
       "Name: km, Length: 6690, dtype: int64"
      ]
     },
     "execution_count": 336,
     "metadata": {},
     "output_type": "execute_result"
    }
   ],
   "source": [
    "df.km.value_counts(dropna = False)"
   ]
  },
  {
   "cell_type": "code",
   "execution_count": 337,
   "metadata": {},
   "outputs": [
    {
     "data": {
      "text/plain": [
       "0        77442.520958\n",
       "1        41754.940709\n",
       "2        77442.520958\n",
       "3        77442.520958\n",
       "4        77442.520958\n",
       "             ...     \n",
       "15914      934.496706\n",
       "15915     2085.355137\n",
       "15916     2085.355137\n",
       "15917     2085.355137\n",
       "15918     2085.355137\n",
       "Name: km, Length: 15919, dtype: float64"
      ]
     },
     "execution_count": 337,
     "metadata": {},
     "output_type": "execute_result"
    }
   ],
   "source": [
    "df.groupby('register_age')['km'].transform('mean')"
   ]
  },
  {
   "cell_type": "code",
   "execution_count": 338,
   "metadata": {},
   "outputs": [],
   "source": [
    "df['km'] = df['km'].fillna(df.groupby('register_age')['km'].transform('mean'))"
   ]
  },
  {
   "cell_type": "code",
   "execution_count": 341,
   "metadata": {},
   "outputs": [
    {
     "name": "stderr",
     "output_type": "stream",
     "text": [
      "C:\\Users\\calis\\anaconda3\\lib\\site-packages\\pandas\\core\\series.py:726: RuntimeWarning: divide by zero encountered in log\n",
      "  result = getattr(ufunc, method)(*inputs, **kwargs)\n"
     ]
    },
    {
     "data": {
      "image/png": "[encoded data removed]",
      "text/plain": [
       "<Figure size 1080x720 with 4 Axes>"
      ]
     },
     "metadata": {
      "needs_background": "light"
     },
     "output_type": "display_data"
    }
   ],
   "source": [
    "plt.figure(figsize = (15, 10))\n",
    "plt.subplot(1,4,1)\n",
    "plt.hist(df.km, bins = 50)\n",
    "\n",
    "plt.subplot(1,4,2)\n",
    "plt.boxplot(df.km)\n",
    "\n",
    "plt.subplot(1,4,3)\n",
    "plt.boxplot(df.km, whis = 2.5)\n",
    "\n",
    "plt.subplot(1,4,4)\n",
    "plt.boxplot(np.log(df.km), whis = 2.5)\n",
    "\n",
    "plt.show()"
   ]
  },
  {
   "cell_type": "code",
   "execution_count": 343,
   "metadata": {},
   "outputs": [
    {
     "data": {
      "text/plain": [
       "9279     317000.0\n",
       "3003     291800.0\n",
       "5712     260000.0\n",
       "6224     248000.0\n",
       "15277    240000.0\n",
       "Name: km, dtype: float64"
      ]
     },
     "execution_count": 343,
     "metadata": {},
     "output_type": "execute_result"
    }
   ],
   "source": [
    "df.km.sort_values(ascending = False).head()"
   ]
  },
  {
   "cell_type": "code",
   "execution_count": 344,
   "metadata": {},
   "outputs": [
    {
     "data": {
      "text/plain": [
       "VAT deductible      10980\n",
       "NaN                  4513\n",
       "Price negotiable      426\n",
       "Name: vat, dtype: int64"
      ]
     },
     "execution_count": 344,
     "metadata": {},
     "output_type": "execute_result"
    }
   ],
   "source": [
    "df.vat.value_counts(dropna = False)"
   ]
  },
  {
   "cell_type": "code",
   "execution_count": 345,
   "metadata": {},
   "outputs": [],
   "source": [
    "df.vat.fillna(method = 'ffill', inplace = True)"
   ]
  },
  {
   "cell_type": "code",
   "execution_count": 346,
   "metadata": {},
   "outputs": [
    {
     "data": {
      "text/plain": [
       "<AxesSubplot:>"
      ]
     },
     "execution_count": 346,
     "metadata": {},
     "output_type": "execute_result"
    },
    {
     "data": {
      "image/png": "[encoded data removed]",
      "text/plain": [
       "<Figure size 432x288 with 1 Axes>"
      ]
     },
     "metadata": {
      "needs_background": "light"
     },
     "output_type": "display_data"
    }
   ],
   "source": [
    "df.vat.value_counts(dropna = False).plot(kind = 'bar')"
   ]
  },
  {
   "cell_type": "code",
   "execution_count": null,
   "metadata": {},
   "outputs": [],
   "source": []
  }
 ],
 "metadata": {
  "kernelspec": {
   "display_name": "Python [conda env:root] *",
   "language": "python",
   "name": "conda-root-py"
  },
  "language_info": {
   "codemirror_mode": {
    "name": "ipython",
    "version": 3
   },
   "file_extension": ".py",
   "mimetype": "text/x-python",
   "name": "python",
   "nbconvert_exporter": "python",
   "pygments_lexer": "ipython3",
   "version": "3.7.7"
  }
 },
 "nbformat": 4,
 "nbformat_minor": 4
}
